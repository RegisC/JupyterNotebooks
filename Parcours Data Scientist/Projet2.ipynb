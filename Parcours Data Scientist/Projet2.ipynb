{
 "cells": [
  {
   "cell_type": "markdown",
   "metadata": {},
   "source": [
    "# Analyse de données nutritionnelles\n",
    "Important : le fichier \"fr.openfoodfacts.org.products.csv\" doit se trouver dans le répertoire courant."
   ]
  },
  {
   "cell_type": "code",
   "execution_count": 1,
   "metadata": {},
   "outputs": [],
   "source": [
    "import numpy as np\n",
    "import pandas as pd"
   ]
  },
  {
   "cell_type": "markdown",
   "metadata": {},
   "source": [
    "## Exploration et nettoyage"
   ]
  },
  {
   "cell_type": "code",
   "execution_count": 3,
   "metadata": {},
   "outputs": [
    {
     "name": "stdout",
     "output_type": "stream",
     "text": [
      "Loaded dataframe of size (320772, 162)\n"
     ]
    }
   ],
   "source": [
    "data = pd.read_csv('fr.openfoodfacts.org.products.csv', delimiter='\\t')\n",
    "print(f\"Loaded dataframe of size {data.shape}\")"
   ]
  },
  {
   "cell_type": "markdown",
   "metadata": {},
   "source": [
    "### Suppression des colonnes inutiles"
   ]
  },
  {
   "cell_type": "code",
   "execution_count": 4,
   "metadata": {},
   "outputs": [
    {
     "name": "stdout",
     "output_type": "stream",
     "text": [
      "url contains 23 missing values.\n",
      "creator contains 2 missing values.\n",
      "created_t contains 3 missing values.\n",
      "created_datetime contains 9 missing values.\n",
      "last_modified_t contains 0 missing values.\n",
      "last_modified_datetime contains 0 missing values.\n",
      "generic_name contains 267977 missing values.\n",
      "origins contains 298582 missing values.\n",
      "origins_tags contains 298619 missing values.\n",
      "stores contains 269050 missing values.\n",
      "10 columns deleted.\n"
     ]
    }
   ],
   "source": [
    "# Pour plus de clarté et une utilisation moindre de mémoire, \n",
    "# nous effaçons les colonnes ne contenant pas d'informations \n",
    "# de nutrition ou d'identification des produits\n",
    "columns_to_delete = ['url', \n",
    "                     # données d'audit\n",
    "                     'creator', 'created_t', 'created_datetime', 'last_modified_t', 'last_modified_datetime',\n",
    "                     # colonnes trop lacunaire pour être utiles\n",
    "                     'generic_name', 'origins', 'origins_tags', 'stores']\n",
    "\n",
    "count = 0\n",
    "for col in columns_to_delete:\n",
    "    if col in data.columns:\n",
    "        print(f\"{col} contains {data[col].isna().sum()} missing values.\")\n",
    "        del data[col]\n",
    "        count = count + 1\n",
    "print(f\"{count} columns deleted.\")"
   ]
  },
  {
   "cell_type": "code",
   "execution_count": null,
   "metadata": {},
   "outputs": [],
   "source": [
    "print(data.columns)\n",
    "print(data.head())\n",
    "print(data.iloc[0, 1])"
   ]
  },
  {
   "cell_type": "markdown",
   "metadata": {},
   "source": [
    "## Analyse statistique multivariée"
   ]
  },
  {
   "cell_type": "markdown",
   "metadata": {},
   "source": [
    "## Introduction de données synthétiques (\"feature engineering\")"
   ]
  }
 ],
 "metadata": {
  "kernelspec": {
   "display_name": "Python 3",
   "language": "python",
   "name": "python3"
  },
  "language_info": {
   "codemirror_mode": {
    "name": "ipython",
    "version": 3
   },
   "file_extension": ".py",
   "mimetype": "text/x-python",
   "name": "python",
   "nbconvert_exporter": "python",
   "pygments_lexer": "ipython3",
   "version": "3.6.6"
  }
 },
 "nbformat": 4,
 "nbformat_minor": 2
}
