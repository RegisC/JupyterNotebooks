{
 "cells": [
  {
   "cell_type": "markdown",
   "metadata": {},
   "source": [
    "# Projet 4 - prédiction du retard d'avions\n",
    "# Deuxième partie : modélisation\n",
    "\n",
    "Les fichiers de données doivent se trouver dans le répertoire courant."
   ]
  },
  {
   "cell_type": "markdown",
   "metadata": {},
   "source": [
    "## I. Initialisation (toujours calculer cette section)"
   ]
  },
  {
   "cell_type": "markdown",
   "metadata": {},
   "source": [
    "### Chargement des modules"
   ]
  },
  {
   "cell_type": "code",
   "execution_count": 1,
   "metadata": {
    "ExecuteTime": {
     "end_time": "2019-07-06T21:35:04.703294Z",
     "start_time": "2019-07-06T21:34:39.340989Z"
    },
    "scrolled": true
   },
   "outputs": [
    {
     "name": "stdout",
     "output_type": "stream",
     "text": [
      "Version de matplotlib : 3.0.3\n",
      "Version de pandas : 0.24.2\n",
      "Version de Python : 3.7.3 (default, Mar 27 2019, 17:13:21) [MSC v.1915 64 bit (AMD64)]\n",
      "Version de scikit-learn : 0.20.3\n"
     ]
    }
   ],
   "source": [
    "import math\n",
    "import matplotlib\n",
    "import matplotlib.pyplot as plt\n",
    "import numpy as np\n",
    "import pandas as pd\n",
    "import pickle\n",
    "import scipy\n",
    "import seaborn as sns\n",
    "import sklearn as sk\n",
    "import sklearn.dummy\n",
    "import sklearn.ensemble\n",
    "import sklearn.externals.joblib\n",
    "import sklearn.linear_model\n",
    "import sklearn.metrics\n",
    "import sklearn.model_selection\n",
    "import sklearn.neighbors\n",
    "import sklearn.preprocessing\n",
    "import sklearn.svm\n",
    "import sys\n",
    "import time\n",
    "import warnings\n",
    "\n",
    "FIG_SIZE = (12, 4)\n",
    "\n",
    "# Valeur d'initialisation du générateur de nombres aléatoires\n",
    "SEED = 1911\n",
    "\n",
    "# Nom du fichier source, créé par le notebook de nettoyage\n",
    "INPUT_FILE = 'flights.csv'\n",
    "\n",
    "# Fichier dans lequel le modèle retenu sera sauvergardé\n",
    "MODEL_FILENAME = 'regression_model.sav'\n",
    "\n",
    "# Effacer le cache utilisé pour certaines fonctions lentes\n",
    "CLEAR_CACHE = False\n",
    "\n",
    "# Désactiver les modèles lents\n",
    "DISABLE_GRIDSEARCH_GBR = True\n",
    "DISABLE_GBR = False\n",
    "DISABLE_LINEAR_SVM = True\n",
    "DISABLE_GAUSSIAN_SVM = True\n",
    "\n",
    "print(f\"Version de matplotlib : {matplotlib.__version__}\")\n",
    "print(f\"Version de pandas : {pd.__version__}\")\n",
    "print(f\"Version de Python : {sys.version}\")\n",
    "print(f\"Version de scikit-learn : {sk.__version__}\")"
   ]
  },
  {
   "cell_type": "markdown",
   "metadata": {},
   "source": [
    "### Initialisation du cache"
   ]
  },
  {
   "cell_type": "code",
   "execution_count": 2,
   "metadata": {
    "ExecuteTime": {
     "end_time": "2019-07-06T21:35:04.718887Z",
     "start_time": "2019-07-06T21:35:04.703294Z"
    }
   },
   "outputs": [
    {
     "name": "stdout",
     "output_type": "stream",
     "text": [
      "Résultats des calibrations en cache préservés.\n"
     ]
    }
   ],
   "source": [
    "memory = sklearn.externals.joblib.Memory(location='./cache', verbose=0)\n",
    "if CLEAR_CACHE:\n",
    "    memory.clear(warn=False)\n",
    "    print(\"Résultats des calibrations en cache effacés.\")\n",
    "else:\n",
    "    print(\"Résultats des calibrations en cache préservés.\")"
   ]
  },
  {
   "cell_type": "markdown",
   "metadata": {},
   "source": [
    "### Chargement des données"
   ]
  },
  {
   "cell_type": "code",
   "execution_count": 3,
   "metadata": {
    "ExecuteTime": {
     "end_time": "2019-07-06T21:35:41.972734Z",
     "start_time": "2019-07-06T21:35:04.718887Z"
    }
   },
   "outputs": [
    {
     "name": "stdout",
     "output_type": "stream",
     "text": [
      "Taille des données : (5556197, 18)\n"
     ]
    }
   ],
   "source": [
    "df = pd.read_csv(INPUT_FILE, sep='\\t')\n",
    "first_col = df.columns[0]\n",
    "# Suppression de la colonne d'index\n",
    "df.drop(columns=first_col, axis=0, inplace=True) \n",
    "# Conversion des dates\n",
    "df['FL_DATE'] = pd.to_datetime(df['FL_DATE'],\n",
    "                               format='%Y-%m-%d',\n",
    "                               errors='coerce')\n",
    "print(f\"Taille des données : {df.shape}\")"
   ]
  },
  {
   "cell_type": "code",
   "execution_count": 4,
   "metadata": {
    "ExecuteTime": {
     "end_time": "2019-07-06T21:35:41.988358Z",
     "start_time": "2019-07-06T21:35:41.972734Z"
    },
    "scrolled": false
   },
   "outputs": [
    {
     "name": "stdout",
     "output_type": "stream",
     "text": [
      "<class 'pandas.core.frame.DataFrame'>\n",
      "RangeIndex: 5556197 entries, 0 to 5556196\n",
      "Data columns (total 18 columns):\n",
      "MONTH               int64\n",
      "DAY_OF_WEEK         int64\n",
      "FL_DATE             datetime64[ns]\n",
      "UNIQUE_CARRIER      object\n",
      "ORIGIN              object\n",
      "DEST                object\n",
      "CRS_DEP_TIME        int64\n",
      "DEP_DELAY           int64\n",
      "CRS_ARR_TIME        int64\n",
      "ARR_DELAY           int64\n",
      "CRS_ELAPSED_TIME    int64\n",
      "CRS_ARR_HOUR        int64\n",
      "CRS_DEP_HOUR        int64\n",
      "Z                   float64\n",
      "NEXT_HOL            int64\n",
      "PREV_HOL            int64\n",
      "CARRIER_DELAY       float64\n",
      "ORIGIN_DELAY        float64\n",
      "dtypes: datetime64[ns](1), float64(3), int64(11), object(3)\n",
      "memory usage: 763.0+ MB\n"
     ]
    }
   ],
   "source": [
    "df.info()"
   ]
  },
  {
   "cell_type": "code",
   "execution_count": 5,
   "metadata": {
    "ExecuteTime": {
     "end_time": "2019-07-06T21:35:42.691432Z",
     "start_time": "2019-07-06T21:35:41.988358Z"
    },
    "scrolled": true
   },
   "outputs": [
    {
     "data": {
      "text/html": [
       "<div>\n",
       "<style scoped>\n",
       "    .dataframe tbody tr th:only-of-type {\n",
       "        vertical-align: middle;\n",
       "    }\n",
       "\n",
       "    .dataframe tbody tr th {\n",
       "        vertical-align: top;\n",
       "    }\n",
       "\n",
       "    .dataframe thead th {\n",
       "        text-align: right;\n",
       "    }\n",
       "</style>\n",
       "<table border=\"1\" class=\"dataframe\">\n",
       "  <thead>\n",
       "    <tr style=\"text-align: right;\">\n",
       "      <th></th>\n",
       "      <th>MONTH</th>\n",
       "      <th>DAY_OF_WEEK</th>\n",
       "      <th>FL_DATE</th>\n",
       "      <th>UNIQUE_CARRIER</th>\n",
       "      <th>ORIGIN</th>\n",
       "      <th>DEST</th>\n",
       "      <th>CRS_DEP_TIME</th>\n",
       "      <th>DEP_DELAY</th>\n",
       "      <th>CRS_ARR_TIME</th>\n",
       "      <th>ARR_DELAY</th>\n",
       "      <th>CRS_ELAPSED_TIME</th>\n",
       "      <th>CRS_ARR_HOUR</th>\n",
       "      <th>CRS_DEP_HOUR</th>\n",
       "      <th>Z</th>\n",
       "      <th>NEXT_HOL</th>\n",
       "      <th>PREV_HOL</th>\n",
       "      <th>CARRIER_DELAY</th>\n",
       "      <th>ORIGIN_DELAY</th>\n",
       "    </tr>\n",
       "  </thead>\n",
       "  <tbody>\n",
       "    <tr>\n",
       "      <th>0</th>\n",
       "      <td>1</td>\n",
       "      <td>3</td>\n",
       "      <td>2016-01-06</td>\n",
       "      <td>AA</td>\n",
       "      <td>DFW</td>\n",
       "      <td>DTW</td>\n",
       "      <td>1100</td>\n",
       "      <td>-3</td>\n",
       "      <td>1438</td>\n",
       "      <td>-6</td>\n",
       "      <td>158</td>\n",
       "      <td>14</td>\n",
       "      <td>11</td>\n",
       "      <td>-0.227477</td>\n",
       "      <td>12</td>\n",
       "      <td>5</td>\n",
       "      <td>3.451372</td>\n",
       "      <td>6.416853</td>\n",
       "    </tr>\n",
       "    <tr>\n",
       "      <th>1</th>\n",
       "      <td>1</td>\n",
       "      <td>4</td>\n",
       "      <td>2016-01-07</td>\n",
       "      <td>AA</td>\n",
       "      <td>DFW</td>\n",
       "      <td>DTW</td>\n",
       "      <td>1100</td>\n",
       "      <td>-4</td>\n",
       "      <td>1438</td>\n",
       "      <td>-12</td>\n",
       "      <td>158</td>\n",
       "      <td>14</td>\n",
       "      <td>11</td>\n",
       "      <td>-0.370599</td>\n",
       "      <td>11</td>\n",
       "      <td>6</td>\n",
       "      <td>3.451372</td>\n",
       "      <td>6.416853</td>\n",
       "    </tr>\n",
       "    <tr>\n",
       "      <th>2</th>\n",
       "      <td>1</td>\n",
       "      <td>5</td>\n",
       "      <td>2016-01-08</td>\n",
       "      <td>AA</td>\n",
       "      <td>DFW</td>\n",
       "      <td>DTW</td>\n",
       "      <td>1100</td>\n",
       "      <td>-5</td>\n",
       "      <td>1438</td>\n",
       "      <td>7</td>\n",
       "      <td>158</td>\n",
       "      <td>14</td>\n",
       "      <td>11</td>\n",
       "      <td>0.082619</td>\n",
       "      <td>10</td>\n",
       "      <td>7</td>\n",
       "      <td>3.451372</td>\n",
       "      <td>6.416853</td>\n",
       "    </tr>\n",
       "    <tr>\n",
       "      <th>3</th>\n",
       "      <td>1</td>\n",
       "      <td>6</td>\n",
       "      <td>2016-01-09</td>\n",
       "      <td>AA</td>\n",
       "      <td>DFW</td>\n",
       "      <td>DTW</td>\n",
       "      <td>1100</td>\n",
       "      <td>2</td>\n",
       "      <td>1438</td>\n",
       "      <td>-5</td>\n",
       "      <td>158</td>\n",
       "      <td>14</td>\n",
       "      <td>11</td>\n",
       "      <td>-0.203624</td>\n",
       "      <td>9</td>\n",
       "      <td>8</td>\n",
       "      <td>3.451372</td>\n",
       "      <td>6.416853</td>\n",
       "    </tr>\n",
       "    <tr>\n",
       "      <th>4</th>\n",
       "      <td>1</td>\n",
       "      <td>7</td>\n",
       "      <td>2016-01-10</td>\n",
       "      <td>AA</td>\n",
       "      <td>DFW</td>\n",
       "      <td>DTW</td>\n",
       "      <td>1100</td>\n",
       "      <td>100</td>\n",
       "      <td>1438</td>\n",
       "      <td>113</td>\n",
       "      <td>158</td>\n",
       "      <td>14</td>\n",
       "      <td>11</td>\n",
       "      <td>2.611097</td>\n",
       "      <td>8</td>\n",
       "      <td>9</td>\n",
       "      <td>3.451372</td>\n",
       "      <td>6.416853</td>\n",
       "    </tr>\n",
       "  </tbody>\n",
       "</table>\n",
       "</div>"
      ],
      "text/plain": [
       "   MONTH  DAY_OF_WEEK    FL_DATE UNIQUE_CARRIER ORIGIN DEST  CRS_DEP_TIME  \\\n",
       "0      1            3 2016-01-06             AA    DFW  DTW          1100   \n",
       "1      1            4 2016-01-07             AA    DFW  DTW          1100   \n",
       "2      1            5 2016-01-08             AA    DFW  DTW          1100   \n",
       "3      1            6 2016-01-09             AA    DFW  DTW          1100   \n",
       "4      1            7 2016-01-10             AA    DFW  DTW          1100   \n",
       "\n",
       "   DEP_DELAY  CRS_ARR_TIME  ARR_DELAY  CRS_ELAPSED_TIME  CRS_ARR_HOUR  \\\n",
       "0         -3          1438         -6               158            14   \n",
       "1         -4          1438        -12               158            14   \n",
       "2         -5          1438          7               158            14   \n",
       "3          2          1438         -5               158            14   \n",
       "4        100          1438        113               158            14   \n",
       "\n",
       "   CRS_DEP_HOUR         Z  NEXT_HOL  PREV_HOL  CARRIER_DELAY  ORIGIN_DELAY  \n",
       "0            11 -0.227477        12         5       3.451372      6.416853  \n",
       "1            11 -0.370599        11         6       3.451372      6.416853  \n",
       "2            11  0.082619        10         7       3.451372      6.416853  \n",
       "3            11 -0.203624         9         8       3.451372      6.416853  \n",
       "4            11  2.611097         8         9       3.451372      6.416853  "
      ]
     },
     "execution_count": 5,
     "metadata": {},
     "output_type": "execute_result"
    }
   ],
   "source": [
    "df.head()"
   ]
  },
  {
   "cell_type": "markdown",
   "metadata": {},
   "source": [
    "### Réduction de l'occupation de mémoire"
   ]
  },
  {
   "cell_type": "code",
   "execution_count": 6,
   "metadata": {
    "ExecuteTime": {
     "end_time": "2019-07-06T21:35:43.253889Z",
     "start_time": "2019-07-06T21:35:42.691432Z"
    }
   },
   "outputs": [
    {
     "name": "stdout",
     "output_type": "stream",
     "text": [
      "<class 'pandas.core.frame.DataFrame'>\n",
      "RangeIndex: 5556197 entries, 0 to 5556196\n",
      "Data columns (total 18 columns):\n",
      "MONTH               int8\n",
      "DAY_OF_WEEK         int8\n",
      "FL_DATE             datetime64[ns]\n",
      "UNIQUE_CARRIER      object\n",
      "ORIGIN              object\n",
      "DEST                object\n",
      "CRS_DEP_TIME        int16\n",
      "DEP_DELAY           int16\n",
      "CRS_ARR_TIME        int16\n",
      "ARR_DELAY           int16\n",
      "CRS_ELAPSED_TIME    int16\n",
      "CRS_ARR_HOUR        int8\n",
      "CRS_DEP_HOUR        int8\n",
      "Z                   float32\n",
      "NEXT_HOL            int8\n",
      "PREV_HOL            int8\n",
      "CARRIER_DELAY       float32\n",
      "ORIGIN_DELAY        float32\n",
      "dtypes: datetime64[ns](1), float32(3), int16(5), int8(6), object(3)\n",
      "memory usage: 317.9+ MB\n"
     ]
    }
   ],
   "source": [
    "type_map = {\n",
    "    'MONTH': np.int8,\n",
    "    'DAY_OF_WEEK': np.int8,\n",
    "    'CRS_DEP_TIME': np.int16,\n",
    "    'CRS_ARR_TIME': np.int16,\n",
    "    'ARR_DELAY': np.int16,\n",
    "    'DEP_DELAY': np.int16,\n",
    "    'CRS_ELAPSED_TIME': np.int16,\n",
    "    'CRS_ARR_HOUR': np.int8,\n",
    "    'CRS_DEP_HOUR': np.int8, \n",
    "    'NEXT_HOL': np.int8,\n",
    "    'PREV_HOL': np.int8,\n",
    "    'CARRIER_DELAY': np.float32,\n",
    "    'ORIGIN_DELAY': np.float32,\n",
    "    'Z': np.float32\n",
    "}\n",
    "df = df.astype(dtype=type_map)\n",
    "df.info()"
   ]
  },
  {
   "cell_type": "markdown",
   "metadata": {},
   "source": [
    "### Conversion de la variable catégorielles `UNIQUE_CARRIER` en variables binaires\n",
    "Important : créer autant d'attributs que de catégories introduirait une colinéarité parfaite (somme des indicateurs par construction égale à 1) qui rendrait la réalisation d'une régression linéaire ordinaire impossible. On omet donc volontairement 1 indicateur."
   ]
  },
  {
   "cell_type": "code",
   "execution_count": 7,
   "metadata": {
    "ExecuteTime": {
     "end_time": "2019-07-06T21:35:43.941624Z",
     "start_time": "2019-07-06T21:35:43.253889Z"
    },
    "scrolled": true
   },
   "outputs": [
    {
     "name": "stdout",
     "output_type": "stream",
     "text": [
      "Nouvelle taille des données : (5556197, 29)\n"
     ]
    },
    {
     "data": {
      "text/html": [
       "<div>\n",
       "<style scoped>\n",
       "    .dataframe tbody tr th:only-of-type {\n",
       "        vertical-align: middle;\n",
       "    }\n",
       "\n",
       "    .dataframe tbody tr th {\n",
       "        vertical-align: top;\n",
       "    }\n",
       "\n",
       "    .dataframe thead th {\n",
       "        text-align: right;\n",
       "    }\n",
       "</style>\n",
       "<table border=\"1\" class=\"dataframe\">\n",
       "  <thead>\n",
       "    <tr style=\"text-align: right;\">\n",
       "      <th></th>\n",
       "      <th>MONTH</th>\n",
       "      <th>DAY_OF_WEEK</th>\n",
       "      <th>FL_DATE</th>\n",
       "      <th>UNIQUE_CARRIER</th>\n",
       "      <th>ORIGIN</th>\n",
       "      <th>DEST</th>\n",
       "      <th>CRS_DEP_TIME</th>\n",
       "      <th>DEP_DELAY</th>\n",
       "      <th>CRS_ARR_TIME</th>\n",
       "      <th>ARR_DELAY</th>\n",
       "      <th>...</th>\n",
       "      <th>car_B6</th>\n",
       "      <th>car_DL</th>\n",
       "      <th>car_EV</th>\n",
       "      <th>car_F9</th>\n",
       "      <th>car_HA</th>\n",
       "      <th>car_NK</th>\n",
       "      <th>car_OO</th>\n",
       "      <th>car_UA</th>\n",
       "      <th>car_VX</th>\n",
       "      <th>car_WN</th>\n",
       "    </tr>\n",
       "  </thead>\n",
       "  <tbody>\n",
       "    <tr>\n",
       "      <th>0</th>\n",
       "      <td>1</td>\n",
       "      <td>3</td>\n",
       "      <td>2016-01-06</td>\n",
       "      <td>AA</td>\n",
       "      <td>DFW</td>\n",
       "      <td>DTW</td>\n",
       "      <td>1100</td>\n",
       "      <td>-3</td>\n",
       "      <td>1438</td>\n",
       "      <td>-6</td>\n",
       "      <td>...</td>\n",
       "      <td>0</td>\n",
       "      <td>0</td>\n",
       "      <td>0</td>\n",
       "      <td>0</td>\n",
       "      <td>0</td>\n",
       "      <td>0</td>\n",
       "      <td>0</td>\n",
       "      <td>0</td>\n",
       "      <td>0</td>\n",
       "      <td>0</td>\n",
       "    </tr>\n",
       "    <tr>\n",
       "      <th>1</th>\n",
       "      <td>1</td>\n",
       "      <td>4</td>\n",
       "      <td>2016-01-07</td>\n",
       "      <td>AA</td>\n",
       "      <td>DFW</td>\n",
       "      <td>DTW</td>\n",
       "      <td>1100</td>\n",
       "      <td>-4</td>\n",
       "      <td>1438</td>\n",
       "      <td>-12</td>\n",
       "      <td>...</td>\n",
       "      <td>0</td>\n",
       "      <td>0</td>\n",
       "      <td>0</td>\n",
       "      <td>0</td>\n",
       "      <td>0</td>\n",
       "      <td>0</td>\n",
       "      <td>0</td>\n",
       "      <td>0</td>\n",
       "      <td>0</td>\n",
       "      <td>0</td>\n",
       "    </tr>\n",
       "    <tr>\n",
       "      <th>2</th>\n",
       "      <td>1</td>\n",
       "      <td>5</td>\n",
       "      <td>2016-01-08</td>\n",
       "      <td>AA</td>\n",
       "      <td>DFW</td>\n",
       "      <td>DTW</td>\n",
       "      <td>1100</td>\n",
       "      <td>-5</td>\n",
       "      <td>1438</td>\n",
       "      <td>7</td>\n",
       "      <td>...</td>\n",
       "      <td>0</td>\n",
       "      <td>0</td>\n",
       "      <td>0</td>\n",
       "      <td>0</td>\n",
       "      <td>0</td>\n",
       "      <td>0</td>\n",
       "      <td>0</td>\n",
       "      <td>0</td>\n",
       "      <td>0</td>\n",
       "      <td>0</td>\n",
       "    </tr>\n",
       "    <tr>\n",
       "      <th>3</th>\n",
       "      <td>1</td>\n",
       "      <td>6</td>\n",
       "      <td>2016-01-09</td>\n",
       "      <td>AA</td>\n",
       "      <td>DFW</td>\n",
       "      <td>DTW</td>\n",
       "      <td>1100</td>\n",
       "      <td>2</td>\n",
       "      <td>1438</td>\n",
       "      <td>-5</td>\n",
       "      <td>...</td>\n",
       "      <td>0</td>\n",
       "      <td>0</td>\n",
       "      <td>0</td>\n",
       "      <td>0</td>\n",
       "      <td>0</td>\n",
       "      <td>0</td>\n",
       "      <td>0</td>\n",
       "      <td>0</td>\n",
       "      <td>0</td>\n",
       "      <td>0</td>\n",
       "    </tr>\n",
       "    <tr>\n",
       "      <th>4</th>\n",
       "      <td>1</td>\n",
       "      <td>7</td>\n",
       "      <td>2016-01-10</td>\n",
       "      <td>AA</td>\n",
       "      <td>DFW</td>\n",
       "      <td>DTW</td>\n",
       "      <td>1100</td>\n",
       "      <td>100</td>\n",
       "      <td>1438</td>\n",
       "      <td>113</td>\n",
       "      <td>...</td>\n",
       "      <td>0</td>\n",
       "      <td>0</td>\n",
       "      <td>0</td>\n",
       "      <td>0</td>\n",
       "      <td>0</td>\n",
       "      <td>0</td>\n",
       "      <td>0</td>\n",
       "      <td>0</td>\n",
       "      <td>0</td>\n",
       "      <td>0</td>\n",
       "    </tr>\n",
       "  </tbody>\n",
       "</table>\n",
       "<p>5 rows × 29 columns</p>\n",
       "</div>"
      ],
      "text/plain": [
       "   MONTH  DAY_OF_WEEK    FL_DATE UNIQUE_CARRIER ORIGIN DEST  CRS_DEP_TIME  \\\n",
       "0      1            3 2016-01-06             AA    DFW  DTW          1100   \n",
       "1      1            4 2016-01-07             AA    DFW  DTW          1100   \n",
       "2      1            5 2016-01-08             AA    DFW  DTW          1100   \n",
       "3      1            6 2016-01-09             AA    DFW  DTW          1100   \n",
       "4      1            7 2016-01-10             AA    DFW  DTW          1100   \n",
       "\n",
       "   DEP_DELAY  CRS_ARR_TIME  ARR_DELAY  ...  car_B6  car_DL  car_EV  car_F9  \\\n",
       "0         -3          1438         -6  ...       0       0       0       0   \n",
       "1         -4          1438        -12  ...       0       0       0       0   \n",
       "2         -5          1438          7  ...       0       0       0       0   \n",
       "3          2          1438         -5  ...       0       0       0       0   \n",
       "4        100          1438        113  ...       0       0       0       0   \n",
       "\n",
       "   car_HA  car_NK  car_OO  car_UA  car_VX  car_WN  \n",
       "0       0       0       0       0       0       0  \n",
       "1       0       0       0       0       0       0  \n",
       "2       0       0       0       0       0       0  \n",
       "3       0       0       0       0       0       0  \n",
       "4       0       0       0       0       0       0  \n",
       "\n",
       "[5 rows x 29 columns]"
      ]
     },
     "execution_count": 7,
     "metadata": {},
     "output_type": "execute_result"
    }
   ],
   "source": [
    "carriers = df['UNIQUE_CARRIER']\n",
    "df = df.join(pd.get_dummies(carriers, prefix='car', drop_first=True))\n",
    "print(f\"Nouvelle taille des données : {df.shape}\")\n",
    "df.head()"
   ]
  },
  {
   "cell_type": "markdown",
   "metadata": {},
   "source": [
    "### Création d'un attribut indicateur d'un retard de plus de 15 minutes"
   ]
  },
  {
   "cell_type": "code",
   "execution_count": 8,
   "metadata": {
    "ExecuteTime": {
     "end_time": "2019-07-06T21:35:45.004184Z",
     "start_time": "2019-07-06T21:35:43.941624Z"
    }
   },
   "outputs": [
    {
     "name": "stdout",
     "output_type": "stream",
     "text": [
      "Nombre de vols en retard de plus de 15 min : 932726\n",
      "Proportion de vols en retard de plus de 15 min : 16.8%\n"
     ]
    }
   ],
   "source": [
    "df['LATE'] = (df['ARR_DELAY'] > 15).astype(int)\n",
    "print(f\"Nombre de vols en retard de plus de 15 min : {sum(df['LATE'])}\")\n",
    "print(f\"Proportion de vols en retard de plus de 15 min : {sum(df['LATE'])/len(df)*100:0.1f}%\")      "
   ]
  },
  {
   "cell_type": "markdown",
   "metadata": {},
   "source": [
    "### Définition d'une fonction de partitionnement des données"
   ]
  },
  {
   "cell_type": "code",
   "execution_count": 9,
   "metadata": {
    "ExecuteTime": {
     "end_time": "2019-07-06T21:35:45.019802Z",
     "start_time": "2019-07-06T21:35:45.004184Z"
    }
   },
   "outputs": [],
   "source": [
    "def create_sets(data,\n",
    "                input_cols,\n",
    "                output_cols,\n",
    "                test_size=0.2,\n",
    "                val_size=0.01,\n",
    "                training_sample_frac=1,\n",
    "                verbose=False,\n",
    "                normalise=False):\n",
    "    \"\"\"Partitionne les données en 3 jeux, avec normalisation optionnelle.\"\"\"\n",
    "    X = data[input_cols].values  # Variables explicatives\n",
    "    y = data[output_cols].values.ravel()\n",
    "    train_size = 1 - test_size - val_size  # Taille totale des 3 jeux = 1\n",
    "    # Premier partitionnement\n",
    "    X_train, X_test, y_train, y_test = sk.model_selection.train_test_split(\n",
    "        X, y, test_size=test_size, train_size=(1 - test_size), random_state=42)\n",
    "    # Ajustement des taille puis 2e partitionnement\n",
    "    val_size = val_size / (1 - test_size)\n",
    "    train_size = train_size / (1 - test_size)\n",
    "    X_train, X_val, y_train, y_val = sk.model_selection.train_test_split(\n",
    "        X_train,\n",
    "        y_train,\n",
    "        test_size=val_size,\n",
    "        train_size=train_size * training_sample_frac,\n",
    "        random_state=SEED)\n",
    "    if normalise:\n",
    "        # Normalisation\n",
    "        ss = sk.preprocessing.RobustScaler()  \n",
    "        X_train = ss.fit_transform(X_train)\n",
    "        X_test = ss.transform(X_test)\n",
    "        X_val = ss.transform(X_val)    \n",
    "    if verbose:\n",
    "        print(\"Variables explicatives :\")\n",
    "        print(input_cols)\n",
    "        print(f\"Taille du tableau en entrée : {X.shape}\")\n",
    "        print(\"Tailles des tableaux de données X :\", X_test.shape,\n",
    "              X_train.shape, X_val.shape)\n",
    "        print(\"Tailles des tableaux de données y :\", y_test.shape, \n",
    "              y_train.shape, y_val.shape)\n",
    "    X = 0 # Pour libérer la mémoire\n",
    "    y = 0\n",
    "    return X_test, X_train, X_val, y_test, y_train, y_val"
   ]
  },
  {
   "cell_type": "markdown",
   "metadata": {},
   "source": [
    "### Définition d'une fonction de création d'un jeu d'entraînement-validation pour validation croisée"
   ]
  },
  {
   "cell_type": "code",
   "execution_count": 10,
   "metadata": {
    "ExecuteTime": {
     "end_time": "2019-07-06T21:35:45.301084Z",
     "start_time": "2019-07-06T21:35:45.019802Z"
    }
   },
   "outputs": [],
   "source": [
    "def make_predefined_split(X_train, X_val, y_train, y_val):\n",
    "    X = np.concatenate([X_train, X_val])\n",
    "    y = np.concatenate([y_train, y_val])\n",
    "    # Ce tableau sert à identifier les données de validation (marquées 0)\n",
    "    test_fold = np.concatenate([\n",
    "        np.full(X_train.shape[0], -1, dtype=np.int8), # -1 => jeu d'entraînement\n",
    "        np.full(X_val.shape[0], 0, dtype=np.int8) # 0 => jeu de validation\n",
    "    ])\n",
    "    return X, y, sklearn.model_selection.PredefinedSplit(test_fold)"
   ]
  },
  {
   "cell_type": "markdown",
   "metadata": {
    "ExecuteTime": {
     "end_time": "2019-06-25T16:42:15.338461Z",
     "start_time": "2019-06-25T16:42:15.322819Z"
    }
   },
   "source": [
    "### Définition d'une fonction de création de monômes pour interpolation polynômiale"
   ]
  },
  {
   "cell_type": "code",
   "execution_count": 11,
   "metadata": {
    "ExecuteTime": {
     "end_time": "2019-07-06T21:35:45.519827Z",
     "start_time": "2019-07-06T21:35:45.301084Z"
    }
   },
   "outputs": [],
   "source": [
    "def prepare_polynomial_attributes(X, order, n_cols):\n",
    "    \"\"\"Seules les `n_cols` premières colonnes sont transformées.\"\"\"\n",
    "    poly = sklearn.preprocessing.PolynomialFeatures(degree=order,\n",
    "                                                    include_bias=False)\n",
    "    X_p = np.concatenate((poly.fit_transform(X[:, :n_cols]), X[:, n_cols:]),\n",
    "                         axis=1)\n",
    "    return X_p"
   ]
  },
  {
   "cell_type": "markdown",
   "metadata": {},
   "source": [
    "### Suppression de colonnes non utilisées"
   ]
  },
  {
   "cell_type": "code",
   "execution_count": 12,
   "metadata": {
    "ExecuteTime": {
     "end_time": "2019-07-06T21:35:46.254214Z",
     "start_time": "2019-07-06T21:35:45.519827Z"
    }
   },
   "outputs": [],
   "source": [
    "delete_cols = ['Z']\n",
    "df.drop(columns=delete_cols, inplace=True, errors='ignore')"
   ]
  },
  {
   "cell_type": "markdown",
   "metadata": {},
   "source": [
    "## II. Régression linéaire"
   ]
  },
  {
   "cell_type": "markdown",
   "metadata": {
    "ExecuteTime": {
     "end_time": "2019-06-26T16:27:47.482593Z",
     "start_time": "2019-06-26T16:27:47.466969Z"
    }
   },
   "source": [
    "### Fonction de stockage des résultats"
   ]
  },
  {
   "cell_type": "code",
   "execution_count": 13,
   "metadata": {
    "ExecuteTime": {
     "end_time": "2019-07-06T21:35:46.269839Z",
     "start_time": "2019-07-06T21:35:46.254214Z"
    }
   },
   "outputs": [],
   "source": [
    "results = []\n",
    "def add_to_results(model, order, rmse_test, rmse_train, elapsed_time):    \n",
    "    results.append([model, order, rmse_test, rmse_train, elapsed_time])\n",
    "    print(f\"RMSE d'entraînement : {rmse_train}\")\n",
    "    print(f\"RMSE de test : {rmse_test}\")\n",
    "    print(f\"Temps écoulé : {elapsed_time:0.2f} s\")"
   ]
  },
  {
   "cell_type": "markdown",
   "metadata": {},
   "source": [
    "### Régression sans inclure les performances de T-1"
   ]
  },
  {
   "cell_type": "code",
   "execution_count": 14,
   "metadata": {
    "ExecuteTime": {
     "end_time": "2019-07-06T21:35:48.394953Z",
     "start_time": "2019-07-06T21:35:46.269839Z"
    }
   },
   "outputs": [
    {
     "name": "stdout",
     "output_type": "stream",
     "text": [
      "Variables explicatives :\n",
      "['MONTH', 'DAY_OF_WEEK', 'CRS_ELAPSED_TIME', 'CRS_DEP_HOUR', 'CRS_ARR_HOUR', 'PREV_HOL', 'NEXT_HOL', 'car_AS', 'car_B6', 'car_DL', 'car_EV', 'car_F9', 'car_HA', 'car_NK', 'car_OO', 'car_UA', 'car_VX', 'car_WN']\n",
      "Taille du tableau en entrée : (5556197, 18)\n",
      "Tailles des tableaux de données X : (1111240, 18) (4389395, 18) (55562, 18)\n",
      "Tailles des tableaux de données y : (1111240,) (4389395,) (55562,)\n"
     ]
    }
   ],
   "source": [
    "input_cols = ['MONTH', 'DAY_OF_WEEK', 'CRS_ELAPSED_TIME', 'CRS_DEP_HOUR', \n",
    "              'CRS_ARR_HOUR', 'PREV_HOL', 'NEXT_HOL',\n",
    "              'car_AS', 'car_B6', 'car_DL', 'car_EV', 'car_F9', 'car_HA', \n",
    "              'car_NK', 'car_OO', 'car_UA', 'car_VX', 'car_WN']\n",
    "output_cols = ['ARR_DELAY']\n",
    "test_size = 0.2  # Taille du jeu de test\n",
    "val_size = 0.01  # Taille du jeu de validation\n",
    "X_test, X_train, _, y_test, y_train, _ = create_sets(df,\n",
    "                                                     input_cols,\n",
    "                                                     output_cols,\n",
    "                                                     test_size,\n",
    "                                                     val_size,\n",
    "                                                     normalise=False,\n",
    "                                                     verbose=True)"
   ]
  },
  {
   "cell_type": "code",
   "execution_count": 15,
   "metadata": {
    "ExecuteTime": {
     "end_time": "2019-07-06T21:35:52.551489Z",
     "start_time": "2019-07-06T21:35:48.394953Z"
    },
    "scrolled": true
   },
   "outputs": [
    {
     "name": "stdout",
     "output_type": "stream",
     "text": [
      "RMSE d'entraînement : 41.65404101418241\n",
      "RMSE de test : 41.35123202887176\n",
      "Temps écoulé : 4.08 s\n"
     ]
    }
   ],
   "source": [
    "start = time.time()\n",
    "model = sk.linear_model.LinearRegression()\n",
    "model.fit(X_train, y_train)\n",
    "y_test_pred = model.predict(X_test)\n",
    "y_train_pred = model.predict(X_train)\n",
    "end = time.time()\n",
    "\n",
    "rmse_test = np.sqrt(np.mean((y_test_pred - y_test)**2))\n",
    "rmse_train = np.sqrt(np.mean((y_train_pred - y_train)**2))\n",
    "add_to_results('Modèle de base (variables quant., sans données T-1)', 1,\n",
    "               rmse_test, rmse_train, end - start)"
   ]
  },
  {
   "cell_type": "markdown",
   "metadata": {},
   "source": [
    "Nous utiliserons ces résultats comme point de comparaison ('baseline') pour les autres modèles de régression.\n",
    "\n",
    "Question : pourquoi le score est-il meilleur sur le jeu de test que sur le jeu d'entraînement ?"
   ]
  },
  {
   "cell_type": "markdown",
   "metadata": {
    "ExecuteTime": {
     "end_time": "2019-06-23T20:18:12.809178Z",
     "start_time": "2019-06-23T20:18:12.777946Z"
    }
   },
   "source": [
    "### Réduction de la taille du jeu d'entraînement"
   ]
  },
  {
   "cell_type": "code",
   "execution_count": 16,
   "metadata": {
    "ExecuteTime": {
     "end_time": "2019-07-06T21:37:29.011026Z",
     "start_time": "2019-07-06T21:35:52.551489Z"
    },
    "scrolled": false
   },
   "outputs": [
    {
     "data": {
      "image/png": "[encoded data removed]",
      "text/plain": [
       "<Figure size 864x288 with 1 Axes>"
      ]
     },
     "metadata": {
      "needs_background": "light"
     },
     "output_type": "display_data"
    }
   ],
   "source": [
    "fractions = np.logspace(-5, 0, 50) # Valeurs à tester\n",
    "errors = []\n",
    "model = sk.linear_model.LinearRegression()\n",
    "for frac in fractions:\n",
    "    _, X_train, X_val, _, y_train, y_val = create_sets(\n",
    "        df,\n",
    "        input_cols,\n",
    "        output_cols,\n",
    "        test_size,\n",
    "        val_size,\n",
    "        training_sample_frac=frac,\n",
    "        verbose=False)\n",
    "    model.fit(X_train, y_train)\n",
    "    y_val_pred = model.predict(X_val)\n",
    "    rmse = np.sqrt(np.mean((y_val_pred - y_val)**2))\n",
    "    errors.append(rmse)\n",
    "fig, axes = plt.subplots(figsize=FIG_SIZE)\n",
    "sns.lineplot(x=fractions, y=errors, ax=axes)\n",
    "axes.set_xscale('log')\n",
    "axes.set_xlabel(\"Fraction du jeu d'entraînement complet utilisée\")\n",
    "axes.set_ylabel('RMSE');\n",
    "axes.set_title(\"Impact de la taille du jeu d'entraînement sur la performance de la régression linéaire\");"
   ]
  },
  {
   "cell_type": "markdown",
   "metadata": {},
   "source": [
    "Conclusion : on peut réduire la taille du jeu d'entraînement d'un facteur 1000 sans perte de performance de la prédiction. "
   ]
  },
  {
   "cell_type": "markdown",
   "metadata": {},
   "source": [
    "### Traitement des fausses variables quantitatives en tant que variables catégorielles"
   ]
  },
  {
   "cell_type": "code",
   "execution_count": 17,
   "metadata": {
    "ExecuteTime": {
     "end_time": "2019-07-06T21:37:32.042465Z",
     "start_time": "2019-07-06T21:37:29.011026Z"
    }
   },
   "outputs": [
    {
     "name": "stdout",
     "output_type": "stream",
     "text": [
      "Nouvelle taille des données : (5556197, 92)\n"
     ]
    },
    {
     "data": {
      "text/html": [
       "<div>\n",
       "<style scoped>\n",
       "    .dataframe tbody tr th:only-of-type {\n",
       "        vertical-align: middle;\n",
       "    }\n",
       "\n",
       "    .dataframe tbody tr th {\n",
       "        vertical-align: top;\n",
       "    }\n",
       "\n",
       "    .dataframe thead th {\n",
       "        text-align: right;\n",
       "    }\n",
       "</style>\n",
       "<table border=\"1\" class=\"dataframe\">\n",
       "  <thead>\n",
       "    <tr style=\"text-align: right;\">\n",
       "      <th></th>\n",
       "      <th>MONTH</th>\n",
       "      <th>DAY_OF_WEEK</th>\n",
       "      <th>FL_DATE</th>\n",
       "      <th>UNIQUE_CARRIER</th>\n",
       "      <th>ORIGIN</th>\n",
       "      <th>DEST</th>\n",
       "      <th>CRS_DEP_TIME</th>\n",
       "      <th>DEP_DELAY</th>\n",
       "      <th>CRS_ARR_TIME</th>\n",
       "      <th>ARR_DELAY</th>\n",
       "      <th>...</th>\n",
       "      <th>arr_14</th>\n",
       "      <th>arr_15</th>\n",
       "      <th>arr_16</th>\n",
       "      <th>arr_17</th>\n",
       "      <th>arr_18</th>\n",
       "      <th>arr_19</th>\n",
       "      <th>arr_20</th>\n",
       "      <th>arr_21</th>\n",
       "      <th>arr_22</th>\n",
       "      <th>arr_23</th>\n",
       "    </tr>\n",
       "  </thead>\n",
       "  <tbody>\n",
       "    <tr>\n",
       "      <th>0</th>\n",
       "      <td>1</td>\n",
       "      <td>3</td>\n",
       "      <td>2016-01-06</td>\n",
       "      <td>AA</td>\n",
       "      <td>DFW</td>\n",
       "      <td>DTW</td>\n",
       "      <td>1100</td>\n",
       "      <td>-3</td>\n",
       "      <td>1438</td>\n",
       "      <td>-6</td>\n",
       "      <td>...</td>\n",
       "      <td>1</td>\n",
       "      <td>0</td>\n",
       "      <td>0</td>\n",
       "      <td>0</td>\n",
       "      <td>0</td>\n",
       "      <td>0</td>\n",
       "      <td>0</td>\n",
       "      <td>0</td>\n",
       "      <td>0</td>\n",
       "      <td>0</td>\n",
       "    </tr>\n",
       "    <tr>\n",
       "      <th>1</th>\n",
       "      <td>1</td>\n",
       "      <td>4</td>\n",
       "      <td>2016-01-07</td>\n",
       "      <td>AA</td>\n",
       "      <td>DFW</td>\n",
       "      <td>DTW</td>\n",
       "      <td>1100</td>\n",
       "      <td>-4</td>\n",
       "      <td>1438</td>\n",
       "      <td>-12</td>\n",
       "      <td>...</td>\n",
       "      <td>1</td>\n",
       "      <td>0</td>\n",
       "      <td>0</td>\n",
       "      <td>0</td>\n",
       "      <td>0</td>\n",
       "      <td>0</td>\n",
       "      <td>0</td>\n",
       "      <td>0</td>\n",
       "      <td>0</td>\n",
       "      <td>0</td>\n",
       "    </tr>\n",
       "    <tr>\n",
       "      <th>2</th>\n",
       "      <td>1</td>\n",
       "      <td>5</td>\n",
       "      <td>2016-01-08</td>\n",
       "      <td>AA</td>\n",
       "      <td>DFW</td>\n",
       "      <td>DTW</td>\n",
       "      <td>1100</td>\n",
       "      <td>-5</td>\n",
       "      <td>1438</td>\n",
       "      <td>7</td>\n",
       "      <td>...</td>\n",
       "      <td>1</td>\n",
       "      <td>0</td>\n",
       "      <td>0</td>\n",
       "      <td>0</td>\n",
       "      <td>0</td>\n",
       "      <td>0</td>\n",
       "      <td>0</td>\n",
       "      <td>0</td>\n",
       "      <td>0</td>\n",
       "      <td>0</td>\n",
       "    </tr>\n",
       "    <tr>\n",
       "      <th>3</th>\n",
       "      <td>1</td>\n",
       "      <td>6</td>\n",
       "      <td>2016-01-09</td>\n",
       "      <td>AA</td>\n",
       "      <td>DFW</td>\n",
       "      <td>DTW</td>\n",
       "      <td>1100</td>\n",
       "      <td>2</td>\n",
       "      <td>1438</td>\n",
       "      <td>-5</td>\n",
       "      <td>...</td>\n",
       "      <td>1</td>\n",
       "      <td>0</td>\n",
       "      <td>0</td>\n",
       "      <td>0</td>\n",
       "      <td>0</td>\n",
       "      <td>0</td>\n",
       "      <td>0</td>\n",
       "      <td>0</td>\n",
       "      <td>0</td>\n",
       "      <td>0</td>\n",
       "    </tr>\n",
       "    <tr>\n",
       "      <th>4</th>\n",
       "      <td>1</td>\n",
       "      <td>7</td>\n",
       "      <td>2016-01-10</td>\n",
       "      <td>AA</td>\n",
       "      <td>DFW</td>\n",
       "      <td>DTW</td>\n",
       "      <td>1100</td>\n",
       "      <td>100</td>\n",
       "      <td>1438</td>\n",
       "      <td>113</td>\n",
       "      <td>...</td>\n",
       "      <td>1</td>\n",
       "      <td>0</td>\n",
       "      <td>0</td>\n",
       "      <td>0</td>\n",
       "      <td>0</td>\n",
       "      <td>0</td>\n",
       "      <td>0</td>\n",
       "      <td>0</td>\n",
       "      <td>0</td>\n",
       "      <td>0</td>\n",
       "    </tr>\n",
       "  </tbody>\n",
       "</table>\n",
       "<p>5 rows × 92 columns</p>\n",
       "</div>"
      ],
      "text/plain": [
       "   MONTH  DAY_OF_WEEK    FL_DATE UNIQUE_CARRIER ORIGIN DEST  CRS_DEP_TIME  \\\n",
       "0      1            3 2016-01-06             AA    DFW  DTW          1100   \n",
       "1      1            4 2016-01-07             AA    DFW  DTW          1100   \n",
       "2      1            5 2016-01-08             AA    DFW  DTW          1100   \n",
       "3      1            6 2016-01-09             AA    DFW  DTW          1100   \n",
       "4      1            7 2016-01-10             AA    DFW  DTW          1100   \n",
       "\n",
       "   DEP_DELAY  CRS_ARR_TIME  ARR_DELAY  ...  arr_14  arr_15  arr_16  arr_17  \\\n",
       "0         -3          1438         -6  ...       1       0       0       0   \n",
       "1         -4          1438        -12  ...       1       0       0       0   \n",
       "2         -5          1438          7  ...       1       0       0       0   \n",
       "3          2          1438         -5  ...       1       0       0       0   \n",
       "4        100          1438        113  ...       1       0       0       0   \n",
       "\n",
       "   arr_18  arr_19  arr_20  arr_21  arr_22  arr_23  \n",
       "0       0       0       0       0       0       0  \n",
       "1       0       0       0       0       0       0  \n",
       "2       0       0       0       0       0       0  \n",
       "3       0       0       0       0       0       0  \n",
       "4       0       0       0       0       0       0  \n",
       "\n",
       "[5 rows x 92 columns]"
      ]
     },
     "execution_count": 17,
     "metadata": {},
     "output_type": "execute_result"
    }
   ],
   "source": [
    "cols = [('DAY_OF_WEEK', 'd'), ('MONTH', 'm'), ('CRS_DEP_HOUR', 'dep'), \n",
    "        ('CRS_ARR_HOUR', 'arr')]\n",
    "for col, prefix in cols:\n",
    "    values = df[col]\n",
    "    df = df.join(pd.get_dummies(values, prefix=prefix, drop_first=True))\n",
    "print(f\"Nouvelle taille des données : {df.shape}\")\n",
    "df.head()"
   ]
  },
  {
   "cell_type": "code",
   "execution_count": 18,
   "metadata": {
    "ExecuteTime": {
     "end_time": "2019-07-06T21:37:41.980917Z",
     "start_time": "2019-07-06T21:37:32.042465Z"
    }
   },
   "outputs": [
    {
     "name": "stdout",
     "output_type": "stream",
     "text": [
      "Variables explicatives :\n",
      "['CRS_ELAPSED_TIME', 'NEXT_HOL', 'PREV_HOL', 'car_AS', 'car_B6', 'car_DL', 'car_EV', 'car_F9', 'car_HA', 'car_NK', 'car_OO', 'car_UA', 'car_VX', 'car_WN', 'd_2', 'd_3', 'd_4', 'd_5', 'd_6', 'd_7', 'm_2', 'm_3', 'm_4', 'm_5', 'm_6', 'm_7', 'm_8', 'm_9', 'm_10', 'm_11', 'm_12', 'dep_1', 'dep_2', 'dep_3', 'dep_4', 'dep_5', 'dep_6', 'dep_7', 'dep_8', 'dep_9', 'dep_10', 'dep_11', 'dep_12', 'dep_13', 'dep_14', 'dep_15', 'dep_16', 'dep_17', 'dep_18', 'dep_19', 'dep_20', 'dep_21', 'dep_22', 'dep_23', 'arr_1', 'arr_2', 'arr_3', 'arr_4', 'arr_5', 'arr_6', 'arr_7', 'arr_8', 'arr_9', 'arr_10', 'arr_11', 'arr_12', 'arr_13', 'arr_14', 'arr_15', 'arr_16', 'arr_17', 'arr_18', 'arr_19', 'arr_20', 'arr_21', 'arr_22', 'arr_23']\n",
      "Taille du tableau en entrée : (5556197, 77)\n",
      "Tailles des tableaux de données X : (1111240, 77) (438939, 77) (55562, 77)\n",
      "Tailles des tableaux de données y : (1111240,) (438939,) (55562,)\n"
     ]
    }
   ],
   "source": [
    "# Nous sélectionnons les attributs par exclusion\n",
    "remove_cols = [\n",
    "    'QUARTER', 'DAY_OF_MONTH', 'FL_DATE', 'UNIQUE_CARRIER', 'FL_NUM', 'ORIGIN',\n",
    "    'ORIGIN_STATE_ABR', 'DEST', 'DEST_STATE_ABR', 'DEP_DELAY', 'ARR_DELAY',\n",
    "    'PURE_ARR_DELAY', 'LATE', 'NEXT_WE', 'CRS_ARR_HOUR',\n",
    "    'CRS_ARR_TIME', 'CRS_DEP_TIME', 'ORIGIN_DELAY', 'Z', 'CARRIER_DELAY',\n",
    "    'MONTH', 'DAY_OF_WEEK', 'DAY', 'CRS_DEP_HOUR'\n",
    "]\n",
    "input_cols = [c for c in df.columns.to_list() if c not in remove_cols]\n",
    "output_cols = ['ARR_DELAY']\n",
    "test_size = 0.2  # taille du jeu de test\n",
    "val_size = 0.01  # taille du jeu de validation\n",
    "X_test, X_train, _, y_test, y_train, _ = create_sets(df,\n",
    "                                                     input_cols,\n",
    "                                                     output_cols,\n",
    "                                                     test_size,\n",
    "                                                     val_size,\n",
    "                                                     training_sample_frac=0.1,\n",
    "                                                     normalise=True,\n",
    "                                                     verbose=True)"
   ]
  },
  {
   "cell_type": "code",
   "execution_count": 19,
   "metadata": {
    "ExecuteTime": {
     "end_time": "2019-07-06T21:37:43.715163Z",
     "start_time": "2019-07-06T21:37:41.980917Z"
    },
    "scrolled": true
   },
   "outputs": [
    {
     "name": "stdout",
     "output_type": "stream",
     "text": [
      "RMSE d'entraînement : 41.08277169230021\n",
      "RMSE de test : 41.12147207008488\n",
      "Temps écoulé : 1.70 s\n"
     ]
    }
   ],
   "source": [
    "start = time.time()\n",
    "model = sk.linear_model.LinearRegression()\n",
    "model.fit(X_train, y_train)\n",
    "y_test_pred = model.predict(X_test)\n",
    "y_train_pred = model.predict(X_train)\n",
    "end = time.time()\n",
    "\n",
    "rmse_test = np.sqrt(np.mean((y_test_pred - y_test) ** 2))\n",
    "rmse_train = np.sqrt(np.mean((y_train_pred - y_train) ** 2))\n",
    "add_to_results('Linéaire (variables cat., sans données T-1)', 1, \n",
    "               rmse_test, rmse_train, end-start)"
   ]
  },
  {
   "cell_type": "markdown",
   "metadata": {
    "ExecuteTime": {
     "end_time": "2019-06-27T19:58:16.414308Z",
     "start_time": "2019-06-27T19:58:16.398684Z"
    }
   },
   "source": [
    "Conclusion : nous obtenons une meilleure performance en traitant les variables `DAY_OF_WEEK`, `MONTH` et `CRS_DEP_HOUR` comme des variables catégorielles représentées par des attributs indicateurs binaires."
   ]
  },
  {
   "cell_type": "markdown",
   "metadata": {},
   "source": [
    "### Avec les informations de T-1"
   ]
  },
  {
   "cell_type": "code",
   "execution_count": 20,
   "metadata": {
    "ExecuteTime": {
     "end_time": "2019-07-06T21:37:51.653307Z",
     "start_time": "2019-07-06T21:37:43.715163Z"
    },
    "scrolled": true
   },
   "outputs": [
    {
     "name": "stdout",
     "output_type": "stream",
     "text": [
      "Variables explicatives :\n",
      "['CRS_ELAPSED_TIME', 'NEXT_HOL', 'PREV_HOL', 'CARRIER_DELAY', 'ORIGIN_DELAY', 'car_AS', 'car_B6', 'car_DL', 'car_EV', 'car_F9', 'car_HA', 'car_NK', 'car_OO', 'car_UA', 'car_VX', 'car_WN', 'd_2', 'd_3', 'd_4', 'd_5', 'd_6', 'd_7', 'm_2', 'm_3', 'm_4', 'm_5', 'm_6', 'm_7', 'm_8', 'm_9', 'm_10', 'm_11', 'm_12', 'dep_1', 'dep_2', 'dep_3', 'dep_4', 'dep_5', 'dep_6', 'dep_7', 'dep_8', 'dep_9', 'dep_10', 'dep_11', 'dep_12', 'dep_13', 'dep_14', 'dep_15', 'dep_16', 'dep_17', 'dep_18', 'dep_19', 'dep_20', 'dep_21', 'dep_22', 'dep_23', 'arr_1', 'arr_2', 'arr_3', 'arr_4', 'arr_5', 'arr_6', 'arr_7', 'arr_8', 'arr_9', 'arr_10', 'arr_11', 'arr_12', 'arr_13', 'arr_14', 'arr_15', 'arr_16', 'arr_17', 'arr_18', 'arr_19', 'arr_20', 'arr_21', 'arr_22', 'arr_23']\n",
      "Taille du tableau en entrée : (5556197, 79)\n",
      "Tailles des tableaux de données X : (1111240, 79) (438939, 79) (55562, 79)\n",
      "Tailles des tableaux de données y : (1111240,) (438939,) (55562,)\n"
     ]
    }
   ],
   "source": [
    "test_size = 0.2\n",
    "val_size = 0.01\n",
    "remove_cols = [\n",
    "    'QUARTER', 'DAY_OF_MONTH', 'FL_DATE', 'UNIQUE_CARRIER', 'FL_NUM', 'ORIGIN',\n",
    "    'ORIGIN_STATE_ABR', 'DEST', 'DEST_STATE_ABR', 'DEP_DELAY', 'ARR_DELAY',\n",
    "    'PURE_ARR_DELAY', 'LATE', 'NEXT_WE',\n",
    "    'CRS_DEP_TIME', 'CRS_ARR_TIME', 'Z', 'MONTH', 'DAY_OF_WEEK',\n",
    "    'CRS_ARR_HOUR', 'DAY', 'CRS_DEP_HOUR'\n",
    "]\n",
    "input_cols = [c for c in df.columns.to_list() if c not in remove_cols]\n",
    "output_cols = ['ARR_DELAY']\n",
    "X_test, X_train, X_val, y_test, y_train, y_val = create_sets(\n",
    "    df,\n",
    "    input_cols,\n",
    "    output_cols,\n",
    "    test_size,\n",
    "    val_size,\n",
    "    training_sample_frac=0.1,\n",
    "    normalise=False,\n",
    "    verbose=True)"
   ]
  },
  {
   "cell_type": "code",
   "execution_count": 21,
   "metadata": {
    "ExecuteTime": {
     "end_time": "2019-07-06T21:37:52.950346Z",
     "start_time": "2019-07-06T21:37:51.653307Z"
    }
   },
   "outputs": [
    {
     "name": "stdout",
     "output_type": "stream",
     "text": [
      "RMSE d'entraînement : 41.06716256110607\n",
      "RMSE de test : 41.10756956316713\n",
      "Temps écoulé : 1.27 s\n"
     ]
    }
   ],
   "source": [
    "start = time.time()\n",
    "model = sk.linear_model.LinearRegression()\n",
    "model.fit(X_train, y_train)\n",
    "y_test_pred = model.predict(X_test)\n",
    "y_train_pred = model.predict(X_train)\n",
    "end = time.time()\n",
    "\n",
    "rmse_test = math.sqrt(sk.metrics.mean_squared_error(y_test, y_test_pred))\n",
    "rmse_train = math.sqrt(sk.metrics.mean_squared_error(y_train, y_train_pred))\n",
    "add_to_results('Linéaire (variables cat., avec données T-1)', 1, rmse_test,\n",
    "               rmse_train, end - start)"
   ]
  },
  {
   "cell_type": "markdown",
   "metadata": {},
   "source": [
    "La performance s'améliore, mais le gain est faible."
   ]
  },
  {
   "cell_type": "markdown",
   "metadata": {},
   "source": [
    "### Sauvegarde du modèle"
   ]
  },
  {
   "cell_type": "code",
   "execution_count": 22,
   "metadata": {
    "ExecuteTime": {
     "end_time": "2019-07-06T21:37:52.965962Z",
     "start_time": "2019-07-06T21:37:52.950346Z"
    }
   },
   "outputs": [],
   "source": [
    "pickle.dump(model, open(MODEL_FILENAME, 'wb'))"
   ]
  },
  {
   "cell_type": "markdown",
   "metadata": {},
   "source": [
    "### Exemple pour tester le serveur"
   ]
  },
  {
   "cell_type": "code",
   "execution_count": 23,
   "metadata": {
    "ExecuteTime": {
     "end_time": "2019-07-06T21:37:54.200396Z",
     "start_time": "2019-07-06T21:37:52.965962Z"
    }
   },
   "outputs": [
    {
     "name": "stdout",
     "output_type": "stream",
     "text": [
      "Prévision : 2.8972654342651367\n"
     ]
    },
    {
     "data": {
      "text/plain": [
       "FL_DATE             2016-01-07 00:00:00\n",
       "CRS_DEP_TIME                       1100\n",
       "CRS_ARR_TIME                       1438\n",
       "ORIGIN                              DFW\n",
       "CRS_ELAPSED_TIME                    158\n",
       "UNIQUE_CARRIER                       AA\n",
       "ORIGIN_DELAY                    6.41685\n",
       "CARRIER_DELAY                   3.45137\n",
       "Name: 1, dtype: object"
      ]
     },
     "execution_count": 23,
     "metadata": {},
     "output_type": "execute_result"
    }
   ],
   "source": [
    "# Extraction d'une ligne de données\n",
    "idx = 1\n",
    "x = df[input_cols].loc[[idx], :].values\n",
    "\n",
    "# Calcul et affichage\n",
    "print(f\"Prévision : {model.predict(x)[0]}\")\n",
    "df.loc[idx, [\n",
    "    'FL_DATE', 'CRS_DEP_TIME', 'CRS_ARR_TIME', 'ORIGIN', 'CRS_ELAPSED_TIME', 'UNIQUE_CARRIER',\n",
    "    'ORIGIN_DELAY', 'CARRIER_DELAY'\n",
    "]]"
   ]
  },
  {
   "cell_type": "markdown",
   "metadata": {},
   "source": [
    "### Régression après exclusion des valeurs extrêmes du jeu d'entraînement"
   ]
  },
  {
   "cell_type": "code",
   "execution_count": 24,
   "metadata": {
    "ExecuteTime": {
     "end_time": "2019-07-06T21:37:57.794313Z",
     "start_time": "2019-07-06T21:37:54.200396Z"
    }
   },
   "outputs": [
    {
     "name": "stdout",
     "output_type": "stream",
     "text": [
      "Nombre d'entrées conservées : 438545\n",
      "Nombre d'entrées ignorées : 394\n",
      "RMSE d'entraînement : 35.36872100830078\n",
      "RMSE de test : 41.112083435058594\n",
      "Temps écoulé : 1.19 s\n"
     ]
    }
   ],
   "source": [
    "Z = 10\n",
    "mask = np.abs(y_train - np.mean(y_train)) <= Z * np.std(y_train)\n",
    "print(f\"Nombre d'entrées conservées : {sum(mask)}\")\n",
    "print(f\"Nombre d'entrées ignorées : {sum(~mask)}\")\n",
    "start = time.time()\n",
    "X_train_reduced = X_train[mask]\n",
    "y_train_reduced = y_train[mask]\n",
    "model.fit(X_train_reduced, y_train_reduced)\n",
    "y_test_pred = model.predict(X_test)\n",
    "y_train_pred = model.predict(X_train_reduced)\n",
    "end = time.time()\n",
    "\n",
    "rmse_test = np.sqrt(np.mean((y_test_pred - y_test)**2))\n",
    "rmse_train = np.sqrt(np.mean((y_train_pred - y_train_reduced)**2))\n",
    "add_to_results('Linéaire sans valeurs extrêmes (variables cat., données T-1)', 1, rmse_test,\n",
    "               rmse_train, end - start)"
   ]
  },
  {
   "cell_type": "markdown",
   "metadata": {
    "ExecuteTime": {
     "end_time": "2019-06-28T13:01:14.684081Z",
     "start_time": "2019-06-28T13:01:14.668456Z"
    }
   },
   "source": [
    "## III. Régression par arbre de décision"
   ]
  },
  {
   "cell_type": "code",
   "execution_count": 25,
   "metadata": {
    "ExecuteTime": {
     "end_time": "2019-07-06T21:38:08.310726Z",
     "start_time": "2019-07-06T21:37:57.794313Z"
    }
   },
   "outputs": [
    {
     "name": "stdout",
     "output_type": "stream",
     "text": [
      "Variables explicatives :\n",
      "['CRS_ELAPSED_TIME', 'NEXT_HOL', 'PREV_HOL', 'CARRIER_DELAY', 'ORIGIN_DELAY', 'car_AS', 'car_B6', 'car_DL', 'car_EV', 'car_F9', 'car_HA', 'car_NK', 'car_OO', 'car_UA', 'car_VX', 'car_WN', 'd_2', 'd_3', 'd_4', 'd_5', 'd_6', 'd_7', 'm_2', 'm_3', 'm_4', 'm_5', 'm_6', 'm_7', 'm_8', 'm_9', 'm_10', 'm_11', 'm_12', 'dep_1', 'dep_2', 'dep_3', 'dep_4', 'dep_5', 'dep_6', 'dep_7', 'dep_8', 'dep_9', 'dep_10', 'dep_11', 'dep_12', 'dep_13', 'dep_14', 'dep_15', 'dep_16', 'dep_17', 'dep_18', 'dep_19', 'dep_20', 'dep_21', 'dep_22', 'dep_23', 'arr_1', 'arr_2', 'arr_3', 'arr_4', 'arr_5', 'arr_6', 'arr_7', 'arr_8', 'arr_9', 'arr_10', 'arr_11', 'arr_12', 'arr_13', 'arr_14', 'arr_15', 'arr_16', 'arr_17', 'arr_18', 'arr_19', 'arr_20', 'arr_21', 'arr_22', 'arr_23']\n",
      "Taille du tableau en entrée : (5556197, 79)\n",
      "Tailles des tableaux de données X : (1111240, 79) (438939, 79) (55562, 79)\n",
      "Tailles des tableaux de données y : (1111240,) (438939,) (55562,)\n"
     ]
    }
   ],
   "source": [
    "test_size = 0.2 \n",
    "val_size = 0.01\n",
    "remove_cols = [\n",
    "    'QUARTER', 'DAY_OF_MONTH', 'FL_DATE', 'UNIQUE_CARRIER', 'FL_NUM', 'ORIGIN',\n",
    "    'ORIGIN_STATE_ABR', 'DEST', 'DEST_STATE_ABR', 'DEP_DELAY', 'ARR_DELAY',\n",
    "    'PURE_ARR_DELAY', 'LATE', 'NEXT_WE',\n",
    "    'CRS_DEP_TIME', 'CRS_ARR_TIME', 'Z', 'MONTH', 'DAY_OF_WEEK',\n",
    "    'CRS_ARR_HOUR', 'DAY', 'CRS_DEP_HOUR'\n",
    "]\n",
    "input_cols = [c for c in df.columns.to_list() if c not in remove_cols]\n",
    "output_cols = ['ARR_DELAY']\n",
    "X_test, X_train, X_val, y_test, y_train, y_val = create_sets(\n",
    "    df,\n",
    "    input_cols,\n",
    "    output_cols,\n",
    "    test_size,\n",
    "    val_size,\n",
    "    training_sample_frac=0.1,\n",
    "    normalise=True,\n",
    "    verbose=True)"
   ]
  },
  {
   "cell_type": "markdown",
   "metadata": {
    "ExecuteTime": {
     "end_time": "2019-07-05T17:23:38.753357Z",
     "start_time": "2019-07-05T17:23:38.737752Z"
    }
   },
   "source": [
    "### Arbre simple"
   ]
  },
  {
   "cell_type": "code",
   "execution_count": 26,
   "metadata": {
    "ExecuteTime": {
     "end_time": "2019-07-06T21:42:04.764429Z",
     "start_time": "2019-07-06T21:38:08.310726Z"
    },
    "scrolled": true
   },
   "outputs": [
    {
     "data": {
      "text/plain": [
       "{'max_depth': 25, 'min_samples_leaf': 100}"
      ]
     },
     "execution_count": 26,
     "metadata": {},
     "output_type": "execute_result"
    }
   ],
   "source": [
    "X, y, ps = make_predefined_split(X_train, X_val, y_train, y_val)\n",
    "base = sk.tree.DecisionTreeRegressor(random_state=42)\n",
    "grid = {'max_depth': [10, 20, 25, 30, 35, 40], \n",
    "        'min_samples_leaf': [50, 100, 250, 500, 750, 1000]}\n",
    "model = sk.model_selection.GridSearchCV(base, param_grid=grid, cv=ps,\n",
    "                                            n_jobs=2)\n",
    "model.fit(X, y)\n",
    "model.best_params_"
   ]
  },
  {
   "cell_type": "code",
   "execution_count": 27,
   "metadata": {
    "ExecuteTime": {
     "end_time": "2019-07-06T21:42:15.655766Z",
     "start_time": "2019-07-06T21:42:04.764429Z"
    }
   },
   "outputs": [
    {
     "name": "stdout",
     "output_type": "stream",
     "text": [
      "RMSE d'entraînement : 40.45994748146468\n",
      "RMSE de test : 40.68126583109493\n",
      "Temps écoulé : 10.86 s\n"
     ]
    }
   ],
   "source": [
    "start = time.time()\n",
    "max_depth = 30\n",
    "min_samples = 500\n",
    "model = sk.tree.DecisionTreeRegressor(random_state=42,\n",
    "                                      min_samples_leaf=min_samples,\n",
    "                                      max_depth=max_depth)\n",
    "model.fit(X_train, y_train)\n",
    "y_test_pred = model.predict(X_test)\n",
    "y_train_pred = model.predict(X_train)\n",
    "end = time.time()\n",
    "rmse_test = np.sqrt(np.mean((y_test_pred - y_test)**2))\n",
    "rmse_train = np.sqrt(np.mean((y_train_pred - y_train)**2))\n",
    "add_to_results('Arbre de décision (variables cat., données T-1)', 1, rmse_test,\n",
    "               rmse_train, end - start)"
   ]
  },
  {
   "cell_type": "markdown",
   "metadata": {
    "ExecuteTime": {
     "end_time": "2019-07-05T17:21:58.151733Z",
     "start_time": "2019-07-05T17:21:58.136095Z"
    }
   },
   "source": [
    "### Gradient boosting"
   ]
  },
  {
   "cell_type": "code",
   "execution_count": 28,
   "metadata": {
    "ExecuteTime": {
     "end_time": "2019-07-06T21:42:15.671392Z",
     "start_time": "2019-07-06T21:42:15.655766Z"
    }
   },
   "outputs": [
    {
     "name": "stdout",
     "output_type": "stream",
     "text": [
      "Modèle GBR désactivé\n"
     ]
    }
   ],
   "source": [
    "if DISABLE_GRIDSEARCH_GBR:\n",
    "    print(\"Modèle GBR désactivé\")\n",
    "else:\n",
    "    X, y, ps = make_predefined_split(X_train, X_val, y_train, y_val)\n",
    "    base = sk.ensemble.GradientBoostingRegressor(random_state=SEED)\n",
    "    grid = {'n_estimators': [10, 50, 75],\n",
    "            'max_depth': [20, 50, 100], \n",
    "            'min_samples_split': [100, 500, 1000],\n",
    "            'min_samples_leaf': [100, 500]}\n",
    "    model = sk.model_selection.GridSearchCV(base, \n",
    "                                            param_grid=grid, \n",
    "                                            cv=ps,\n",
    "                                            n_jobs=-1)\n",
    "    model.fit(X, y)\n",
    "    print(model.best_params_)"
   ]
  },
  {
   "cell_type": "markdown",
   "metadata": {
    "ExecuteTime": {
     "end_time": "2019-07-05T23:45:58.233199Z",
     "start_time": "2019-07-05T23:45:58.217636Z"
    }
   },
   "source": [
    "Sauvegarde des résultats: \n",
    "{'max_depth': 20,\n",
    " 'min_samples_leaf': 100,\n",
    " 'min_samples_split': 500,\n",
    " 'n_estimators': 50}"
   ]
  },
  {
   "cell_type": "code",
   "execution_count": 29,
   "metadata": {
    "ExecuteTime": {
     "end_time": "2019-07-06T22:14:19.008900Z",
     "start_time": "2019-07-06T21:42:15.671392Z"
    }
   },
   "outputs": [
    {
     "name": "stdout",
     "output_type": "stream",
     "text": [
      "RMSE d'entraînement : 38.21700647203435\n",
      "RMSE de test : 39.74930656937759\n",
      "Temps écoulé : 1923.16 s\n"
     ]
    }
   ],
   "source": [
    "if DISABLE_GBR:\n",
    "    print(\"Modèle GBR désactivé\")\n",
    "else:\n",
    "    max_depth = 20\n",
    "    min_split = 500\n",
    "    min_leaf = 100\n",
    "    n_estimators = 50\n",
    "    start = time.time()\n",
    "    model = sk.ensemble.GradientBoostingRegressor(n_estimators=n_estimators, \n",
    "                                                  max_depth=max_depth, \n",
    "                                                  min_samples_leaf=min_leaf,\n",
    "                                                  min_samples_split=min_split)\n",
    "    model.fit(X_train, y_train)\n",
    "    y_test_pred = model.predict(X_test)\n",
    "    y_train_pred = model.predict(X_train)\n",
    "    end = time.time()\n",
    "    rmse_test = np.sqrt(np.mean((y_test_pred - y_test)**2))\n",
    "    rmse_train = np.sqrt(np.mean((y_train_pred - y_train)**2))\n",
    "    add_to_results('GBR (variables cat., données T-1)', 1, \n",
    "                   rmse_test, rmse_train, end - start)"
   ]
  },
  {
   "cell_type": "markdown",
   "metadata": {},
   "source": [
    "## IV. Régression polynômiale"
   ]
  },
  {
   "cell_type": "markdown",
   "metadata": {
    "ExecuteTime": {
     "end_time": "2019-06-26T16:28:34.434393Z",
     "start_time": "2019-06-26T16:28:34.418756Z"
    }
   },
   "source": [
    "Comme nous augmentons le nombre de variables, il est nécessaire d'introduire un mécanisme de régularisation."
   ]
  },
  {
   "cell_type": "code",
   "execution_count": 30,
   "metadata": {
    "ExecuteTime": {
     "end_time": "2019-07-06T22:14:28.468619Z",
     "start_time": "2019-07-06T22:14:19.010920Z"
    }
   },
   "outputs": [
    {
     "name": "stdout",
     "output_type": "stream",
     "text": [
      "Variables explicatives :\n",
      "['CRS_ELAPSED_TIME', 'NEXT_HOL', 'PREV_HOL', 'CARRIER_DELAY', 'ORIGIN_DELAY', 'car_AS', 'car_B6', 'car_DL', 'car_EV', 'car_F9', 'car_HA', 'car_NK', 'car_OO', 'car_UA', 'car_VX', 'car_WN', 'd_2', 'd_3', 'd_4', 'd_5', 'd_6', 'd_7', 'm_2', 'm_3', 'm_4', 'm_5', 'm_6', 'm_7', 'm_8', 'm_9', 'm_10', 'm_11', 'm_12', 'dep_1', 'dep_2', 'dep_3', 'dep_4', 'dep_5', 'dep_6', 'dep_7', 'dep_8', 'dep_9', 'dep_10', 'dep_11', 'dep_12', 'dep_13', 'dep_14', 'dep_15', 'dep_16', 'dep_17', 'dep_18', 'dep_19', 'dep_20', 'dep_21', 'dep_22', 'dep_23', 'arr_1', 'arr_2', 'arr_3', 'arr_4', 'arr_5', 'arr_6', 'arr_7', 'arr_8', 'arr_9', 'arr_10', 'arr_11', 'arr_12', 'arr_13', 'arr_14', 'arr_15', 'arr_16', 'arr_17', 'arr_18', 'arr_19', 'arr_20', 'arr_21', 'arr_22', 'arr_23']\n",
      "Taille du tableau en entrée : (5556197, 79)\n",
      "Tailles des tableaux de données X : (1111240, 79) (33337, 79) (1111240, 79)\n",
      "Tailles des tableaux de données y : (1111240,) (33337,) (1111240,)\n"
     ]
    }
   ],
   "source": [
    "output_cols = ['ARR_DELAY']\n",
    "test_size = 0.2  # taille du jeu de test\n",
    "val_size = 0.2  # taille du jeu de validation\n",
    "X_test, X_train, X_val, y_test, y_train, y_val = create_sets(\n",
    "    df,\n",
    "    input_cols,\n",
    "    output_cols,\n",
    "    test_size,\n",
    "    val_size,\n",
    "    training_sample_frac=0.01,\n",
    "    normalise=True,\n",
    "    verbose=True)"
   ]
  },
  {
   "cell_type": "markdown",
   "metadata": {
    "ExecuteTime": {
     "end_time": "2019-06-23T21:46:06.922070Z",
     "start_time": "2019-06-23T21:46:06.914040Z"
    }
   },
   "source": [
    "### Régression Ridge"
   ]
  },
  {
   "cell_type": "markdown",
   "metadata": {},
   "source": [
    "#### Optimisation de l'hyperparamètre de régularisation et du degré du polynôme"
   ]
  },
  {
   "cell_type": "code",
   "execution_count": 31,
   "metadata": {
    "ExecuteTime": {
     "end_time": "2019-07-06T22:16:04.792614Z",
     "start_time": "2019-07-06T22:14:28.470642Z"
    }
   },
   "outputs": [
    {
     "name": "stdout",
     "output_type": "stream",
     "text": [
      "Ordre 4 : minimum 41.142 atteint au point 1291.5496650148852\n",
      "Ordre 3 : minimum 40.998 atteint au point 200.923300256505\n",
      "Ordre 2 : minimum 41.001 atteint au point 200.923300256505\n"
     ]
    },
    {
     "data": {
      "image/png": "[encoded data removed]",
      "text/plain": [
       "<Figure size 432x288 with 3 Axes>"
      ]
     },
     "metadata": {
      "needs_background": "light"
     },
     "output_type": "display_data"
    }
   ],
   "source": [
    "orders = [4, 3, 2]\n",
    "alphas = np.logspace(-4, 4, 100)\n",
    "min_alphas = []\n",
    "n_poly_cols = 5\n",
    "model = sk.linear_model.Ridge(random_state=42)\n",
    "fig, axes = plt.subplots(len(orders), 1, sharex=True)\n",
    "i = 0\n",
    "for order in orders:    \n",
    "    # Création des jeux de données\n",
    "    X_train_p = prepare_polynomial_attributes(X_train, order, n_poly_cols)\n",
    "    X_test_p = prepare_polynomial_attributes(X_test, order, n_poly_cols)\n",
    "    X_val_p = prepare_polynomial_attributes(X_val, order, n_poly_cols)\n",
    "    # Recherche du meilleur alpha   \n",
    "    errors = []\n",
    "    min_rmse = 1e10\n",
    "    min_alpha = 0    \n",
    "    for alpha in alphas:\n",
    "        model.set_params(alpha=alpha)\n",
    "        with warnings.catch_warnings():\n",
    "            warnings.filterwarnings(\"ignore\", category=scipy.linalg.LinAlgWarning)\n",
    "            model.fit(X_train_p, y_train)\n",
    "        rmse = np.sqrt(np.mean((model.predict(X_val_p) - y_val)**2))\n",
    "        if (rmse < min_rmse):\n",
    "            min_rmse = rmse\n",
    "            min_alpha = alpha\n",
    "        errors.append(rmse)\n",
    "    print(f\"Ordre {order} : minimum {min_rmse:.3f} atteint au point {min_alpha}\")  \n",
    "    min_alphas.append(min_alpha)\n",
    "    sns.lineplot(x=alphas, y=errors, ax=axes[i]);    \n",
    "    axes[i].set_xlabel(f\"Alpha (polynôme de degré {order})\");\n",
    "    axes[i].set_ylabel('RMSE');\n",
    "    axes[i].set_xscale('log');\n",
    "    y_formatter = matplotlib.ticker.ScalarFormatter(useOffset=False)\n",
    "    axes[i].yaxis.set_major_formatter(y_formatter)\n",
    "    i = i + 1\n",
    "fig.tight_layout();"
   ]
  },
  {
   "cell_type": "markdown",
   "metadata": {},
   "source": [
    "Le gain en performance obtenu en augmentant l'ordre du polynôme de 2 à 4 est très faible et il ne semble pas justifié d'augmenter la complexité du modèle pour une amélioration aussi faible."
   ]
  },
  {
   "cell_type": "markdown",
   "metadata": {},
   "source": [
    "#### Vérification en utilisant la fonction RidgCV()"
   ]
  },
  {
   "cell_type": "code",
   "execution_count": 32,
   "metadata": {
    "ExecuteTime": {
     "end_time": "2019-07-06T22:16:53.648080Z",
     "start_time": "2019-07-06T22:16:04.792614Z"
    },
    "scrolled": false
   },
   "outputs": [
    {
     "name": "stdout",
     "output_type": "stream",
     "text": [
      "Alpha pour une interpolation de degré 2 : 200.923300256505\n"
     ]
    }
   ],
   "source": [
    "order = 2\n",
    "n_poly_cols = 5\n",
    "X_train_p = prepare_polynomial_attributes(X_train, order, n_poly_cols)\n",
    "X_test_p = prepare_polynomial_attributes(X_test, order, n_poly_cols)\n",
    "X_val_p = prepare_polynomial_attributes(X_val, order, n_poly_cols)\n",
    "X, y, ps = make_predefined_split(X_train_p, X_val_p, y_train, y_val)\n",
    "model = sklearn.linear_model.RidgeCV(alphas = np.logspace(-4, 4, 100), cv=ps)\n",
    "with warnings.catch_warnings():\n",
    "    warnings.filterwarnings(\"ignore\", category=scipy.linalg.LinAlgWarning)\n",
    "    model.fit(X, y)\n",
    "print(f\"Alpha pour une interpolation de degré {order} : {model.alpha_}\")"
   ]
  },
  {
   "cell_type": "markdown",
   "metadata": {},
   "source": [
    "On retrouve bien le même résultat : notre implémentation est correcte."
   ]
  },
  {
   "cell_type": "markdown",
   "metadata": {},
   "source": [
    "#### Enregistrement de la performance"
   ]
  },
  {
   "cell_type": "code",
   "execution_count": 33,
   "metadata": {
    "ExecuteTime": {
     "end_time": "2019-07-06T22:17:07.797913Z",
     "start_time": "2019-07-06T22:16:53.650080Z"
    }
   },
   "outputs": [
    {
     "name": "stdout",
     "output_type": "stream",
     "text": [
      "RMSE d'entraînement : 41.53133773803711\n",
      "RMSE de test : 41.89052963256836\n",
      "Temps écoulé : 0.30 s\n",
      "RMSE d'entraînement : 41.55631637573242\n",
      "RMSE de test : 41.18492126464844\n",
      "Temps écoulé : 0.20 s\n",
      "RMSE d'entraînement : 41.606014251708984\n",
      "RMSE de test : 41.13015365600586\n",
      "Temps écoulé : 0.14 s\n"
     ]
    }
   ],
   "source": [
    "n_poly_cols = 5\n",
    "for (order, alpha) in zip(orders, min_alphas):\n",
    "    X_train_p = prepare_polynomial_attributes(X_train, order, n_poly_cols)\n",
    "    X_test_p = prepare_polynomial_attributes(X_test, order, n_poly_cols)\n",
    "    start = time.time()\n",
    "    model = sk.linear_model.Ridge(alpha=alpha, random_state=42)\n",
    "    model.fit(X_train_p, y_train)\n",
    "    y_test_pred = model.predict(X_test_p)\n",
    "    y_train_pred = model.predict(X_train_p)    \n",
    "    end = time.time()\n",
    "    \n",
    "    rmse_test = np.sqrt(np.mean((y_test_pred - y_test)**2))\n",
    "    rmse_train = np.sqrt(np.mean((y_train_pred - y_train)**2))\n",
    "    add_to_results('Ridge (variables cat., données T-1)', order, rmse_test, rmse_train, \n",
    "                   end-start)"
   ]
  },
  {
   "cell_type": "markdown",
   "metadata": {},
   "source": [
    "### Régression LASSO"
   ]
  },
  {
   "cell_type": "markdown",
   "metadata": {},
   "source": [
    "#### Optimisation de l'hyperparamètre de régularisation et du degré du polynôme"
   ]
  },
  {
   "cell_type": "code",
   "execution_count": 34,
   "metadata": {
    "ExecuteTime": {
     "end_time": "2019-07-06T22:22:35.955934Z",
     "start_time": "2019-07-06T22:17:07.799912Z"
    },
    "scrolled": true
   },
   "outputs": [
    {
     "name": "stdout",
     "output_type": "stream",
     "text": [
      "Ordre 4 : minimum 41.099 atteint au point 0.08111308307896872\n",
      "Ordre 3 : minimum 40.997 atteint au point 0.015199110829529346\n",
      "Ordre 2 : minimum 41.000 atteint au point 0.015199110829529346\n"
     ]
    },
    {
     "data": {
      "image/png": "[encoded data removed]",
      "text/plain": [
       "<Figure size 432x288 with 3 Axes>"
      ]
     },
     "metadata": {
      "needs_background": "light"
     },
     "output_type": "display_data"
    }
   ],
   "source": [
    "orders = [4, 3, 2]\n",
    "alphas = np.logspace(-4, 4, 100)\n",
    "n_poly_cols = 5\n",
    "min_alphas = []\n",
    "model = sk.linear_model.Lasso(random_state=42)\n",
    "fig, axes = plt.subplots(len(orders), 1, sharex=True)\n",
    "i = 0\n",
    "for order in orders:\n",
    "    # Création des jeux de données    \n",
    "    X_train_p = prepare_polynomial_attributes(X_train, order, n_poly_cols)\n",
    "    X_test_p = prepare_polynomial_attributes(X_test, order, n_poly_cols)\n",
    "    X_val_p = prepare_polynomial_attributes(X_val, order, n_poly_cols)\n",
    "    # Recherche du meilleur alpha\n",
    "    errors = []\n",
    "    min_rmse = 1e10\n",
    "    min_alpha = 0\n",
    "    for alpha in alphas:\n",
    "        model.set_params(alpha=alpha)\n",
    "        with warnings.catch_warnings():\n",
    "            warnings.simplefilter(\"ignore\")\n",
    "            model.fit(X_train_p, y_train)\n",
    "        y_val_pred = model.predict(X_val_p)\n",
    "        rmse = np.sqrt(np.mean((y_val_pred - y_val)**2))\n",
    "        if (rmse < min_rmse):\n",
    "            min_rmse = rmse\n",
    "            min_alpha = alpha\n",
    "        errors.append(rmse)\n",
    "    print(f\"Ordre {order} : minimum {min_rmse:.3f} atteint \"\n",
    "          f\"au point {min_alpha}\")\n",
    "    min_alphas.append(min_alpha)\n",
    "    sns.lineplot(x=alphas, y=errors, ax=axes[i])\n",
    "    axes[i].set_xlabel(f\"Alpha (polynôme de degré {order})\")\n",
    "    axes[i].set_ylabel('RMSE')\n",
    "    axes[i].set_xscale('log')\n",
    "    y_formatter = matplotlib.ticker.ScalarFormatter(useOffset=False)\n",
    "    axes[i].yaxis.set_major_formatter(y_formatter)\n",
    "    i = i + 1\n",
    "fig.tight_layout()"
   ]
  },
  {
   "cell_type": "markdown",
   "metadata": {},
   "source": [
    "#### Enregistrement de la performance"
   ]
  },
  {
   "cell_type": "code",
   "execution_count": 35,
   "metadata": {
    "ExecuteTime": {
     "end_time": "2019-07-06T22:22:51.986871Z",
     "start_time": "2019-07-06T22:22:35.955934Z"
    },
    "scrolled": true
   },
   "outputs": [
    {
     "name": "stdout",
     "output_type": "stream",
     "text": [
      "Nombre de coefficients nuls au degré 4 : 87 sur 199\n",
      "RMSE d'entraînement : 41.572139739990234\n",
      "RMSE de test : 41.91558837890625\n",
      "Temps écoulé : 1.70 s\n",
      "Nombre de coefficients nuls au degré 3 : 25 sur 129\n",
      "RMSE d'entraînement : 41.5569953918457\n",
      "RMSE de test : 41.181854248046875\n",
      "Temps écoulé : 1.60 s\n",
      "Nombre de coefficients nuls au degré 2 : 20 sur 94\n",
      "RMSE d'entraînement : 41.60688781738281\n",
      "RMSE de test : 41.129241943359375\n",
      "Temps écoulé : 0.25 s\n"
     ]
    }
   ],
   "source": [
    "for (order, alpha) in zip(orders, min_alphas):\n",
    "    X_train_p = prepare_polynomial_attributes(X_train, order, n_poly_cols)\n",
    "    X_test_p = prepare_polynomial_attributes(X_test, order, n_poly_cols)\n",
    "    start = time.time()\n",
    "    model = sk.linear_model.Lasso(alpha=alpha, random_state=42)\n",
    "    model.fit(X_train_p, y_train)\n",
    "    y_test_pred = model.predict(X_test_p)\n",
    "    y_train_pred = model.predict(X_train_p)\n",
    "    end = time.time()\n",
    "    rmse_test = np.sqrt(np.mean((y_test_pred - y_test)**2))\n",
    "    rmse_train = np.sqrt(np.mean((y_train_pred - y_train)**2))\n",
    "    n_zeros = np.count_nonzero(model.coef_ == 0)\n",
    "    print(f\"Nombre de coefficients nuls au degré {order} : \"\n",
    "          f\"{n_zeros} sur {len(model.coef_)}\")\n",
    "    add_to_results('Lasso avec données T-1', order, rmse_test, rmse_train, \n",
    "                   end-start)"
   ]
  },
  {
   "cell_type": "markdown",
   "metadata": {},
   "source": [
    "### Régression Elastic-Net"
   ]
  },
  {
   "cell_type": "markdown",
   "metadata": {
    "ExecuteTime": {
     "end_time": "2019-06-24T12:17:05.930268Z",
     "start_time": "2019-06-24T12:17:05.912209Z"
    }
   },
   "source": [
    "#### Optimisation de l'hyperparamètre de régularisation et du degré du polynôme"
   ]
  },
  {
   "cell_type": "code",
   "execution_count": 36,
   "metadata": {
    "ExecuteTime": {
     "end_time": "2019-07-06T22:28:17.906920Z",
     "start_time": "2019-07-06T22:22:51.986871Z"
    }
   },
   "outputs": [
    {
     "name": "stdout",
     "output_type": "stream",
     "text": [
      "Ordre 4 : minimum 41.124 atteint au point 0.055908101825122285\n",
      "Ordre 3 : minimum 40.998 atteint au point 0.007220809018385471\n",
      "Ordre 2 : minimum 41.001 atteint au point 0.008697490026177835\n"
     ]
    },
    {
     "data": {
      "image/png": "[encoded data removed]",
      "text/plain": [
       "<Figure size 432x288 with 3 Axes>"
      ]
     },
     "metadata": {
      "needs_background": "light"
     },
     "output_type": "display_data"
    }
   ],
   "source": [
    "alphas = np.logspace(-4, 4, 100)\n",
    "orders = [4, 3, 2]\n",
    "n_poly_cols = 5\n",
    "model = sk.linear_model.ElasticNet(random_state=42)\n",
    "min_alphas = []\n",
    "fig, axes = plt.subplots(len(orders), 1, sharex=True)\n",
    "i = 0\n",
    "for order in orders:\n",
    "    # Création des jeux de données    \n",
    "    X_train_p = prepare_polynomial_attributes(X_train, order, n_poly_cols)\n",
    "    X_test_p = prepare_polynomial_attributes(X_test, order, n_poly_cols)\n",
    "    X_val_p = prepare_polynomial_attributes(X_val, order, n_poly_cols)\n",
    "    # Recherche du meilleur alpha\n",
    "    errors = []\n",
    "    min_rmse = 1e10\n",
    "    min_alpha = 0\n",
    "    for alpha in alphas:\n",
    "        model.set_params(alpha=alpha)\n",
    "        with warnings.catch_warnings():\n",
    "            warnings.simplefilter(\"ignore\")\n",
    "            model.fit(X_train_p, y_train)\n",
    "        y_val_pred = model.predict(X_val_p)\n",
    "        rmse = np.sqrt(np.mean((y_val_pred - y_val)**2))\n",
    "        if (rmse < min_rmse):\n",
    "            min_rmse = rmse\n",
    "            min_alpha = alpha\n",
    "        errors.append(rmse)\n",
    "    print(f\"Ordre {order} : minimum {min_rmse:.3f} atteint au point {min_alpha}\")    \n",
    "    min_alphas.append(min_alpha)\n",
    "    sns.lineplot(x=alphas, y=errors, ax=axes[i]);    \n",
    "    axes[i].set_xlabel(f\"Alpha (polynôme de degré {order})\");\n",
    "    axes[i].set_ylabel('RMSE');\n",
    "    axes[i].set_xscale('log');\n",
    "    y_formatter = matplotlib.ticker.ScalarFormatter(useOffset=False)\n",
    "    axes[i].yaxis.set_major_formatter(y_formatter)\n",
    "    i = i + 1\n",
    "fig.tight_layout();"
   ]
  },
  {
   "cell_type": "markdown",
   "metadata": {},
   "source": [
    "#### Enregistrement de la performance"
   ]
  },
  {
   "cell_type": "code",
   "execution_count": 37,
   "metadata": {
    "ExecuteTime": {
     "end_time": "2019-07-06T22:28:35.622806Z",
     "start_time": "2019-07-06T22:28:17.906920Z"
    }
   },
   "outputs": [
    {
     "name": "stderr",
     "output_type": "stream",
     "text": [
      "C:\\ProgramData\\Anaconda3\\lib\\site-packages\\sklearn\\linear_model\\coordinate_descent.py:492: ConvergenceWarning: Objective did not converge. You might want to increase the number of iterations. Fitting data with very small alpha may cause precision problems.\n",
      "  ConvergenceWarning)\n"
     ]
    },
    {
     "name": "stdout",
     "output_type": "stream",
     "text": [
      "RMSE d'entraînement : 41.54930114746094\n",
      "RMSE de test : 42.22990798950195\n",
      "Temps écoulé : 3.53 s\n",
      "RMSE d'entraînement : 41.554893493652344\n",
      "RMSE de test : 41.18552780151367\n",
      "Temps écoulé : 1.75 s\n",
      "RMSE d'entraînement : 41.60626220703125\n",
      "RMSE de test : 41.130165100097656\n",
      "Temps écoulé : 0.27 s\n"
     ]
    }
   ],
   "source": [
    "for (order, alpha) in zip(orders, min_alphas):\n",
    "    X_train_p = prepare_polynomial_attributes(X_train, order, n_poly_cols)\n",
    "    X_test_p = prepare_polynomial_attributes(X_test, order, n_poly_cols)\n",
    "    start = time.time()\n",
    "    model = sk.linear_model.ElasticNet(alpha=alpha, random_state=42)\n",
    "    model.fit(X_train_p, y_train)\n",
    "    y_test_pred = model.predict(X_test_p)\n",
    "    y_train_pred = model.predict(X_train_p)\n",
    "    end = time.time()\n",
    "    \n",
    "    rmse_test = np.sqrt(np.mean((y_test_pred - y_test)**2))\n",
    "    rmse_train = np.sqrt(np.mean((y_train_pred - y_train)**2))\n",
    "    add_to_results('ElasticNet (variables cat., données T-1)', order, rmse_test, \n",
    "                   rmse_train, end-start)"
   ]
  },
  {
   "cell_type": "markdown",
   "metadata": {},
   "source": [
    "## V. Régression KNN"
   ]
  },
  {
   "cell_type": "markdown",
   "metadata": {},
   "source": [
    "### Préparation et normalisation des données"
   ]
  },
  {
   "cell_type": "code",
   "execution_count": 38,
   "metadata": {
    "ExecuteTime": {
     "end_time": "2019-07-06T22:28:44.200452Z",
     "start_time": "2019-07-06T22:28:35.622806Z"
    },
    "scrolled": true
   },
   "outputs": [
    {
     "name": "stdout",
     "output_type": "stream",
     "text": [
      "Variables explicatives :\n",
      "['CRS_ELAPSED_TIME', 'NEXT_HOL', 'PREV_HOL', 'CARRIER_DELAY', 'ORIGIN_DELAY', 'car_AS', 'car_B6', 'car_DL', 'car_EV', 'car_F9', 'car_HA', 'car_NK', 'car_OO', 'car_UA', 'car_VX', 'car_WN', 'd_2', 'd_3', 'd_4', 'd_5', 'd_6', 'd_7', 'm_2', 'm_3', 'm_4', 'm_5', 'm_6', 'm_7', 'm_8', 'm_9', 'm_10', 'm_11', 'm_12', 'dep_1', 'dep_2', 'dep_3', 'dep_4', 'dep_5', 'dep_6', 'dep_7', 'dep_8', 'dep_9', 'dep_10', 'dep_11', 'dep_12', 'dep_13', 'dep_14', 'dep_15', 'dep_16', 'dep_17', 'dep_18', 'dep_19', 'dep_20', 'dep_21', 'dep_22', 'dep_23', 'arr_1', 'arr_2', 'arr_3', 'arr_4', 'arr_5', 'arr_6', 'arr_7', 'arr_8', 'arr_9', 'arr_10', 'arr_11', 'arr_12', 'arr_13', 'arr_14', 'arr_15', 'arr_16', 'arr_17', 'arr_18', 'arr_19', 'arr_20', 'arr_21', 'arr_22', 'arr_23']\n",
      "Taille du tableau en entrée : (5556197, 79)\n",
      "Tailles des tableaux de données X : (1111240, 79) (43893, 79) (55562, 79)\n",
      "Tailles des tableaux de données y : (1111240,) (43893,) (55562,)\n"
     ]
    }
   ],
   "source": [
    "remove_cols = [\n",
    "    'QUARTER', 'DAY_OF_MONTH', 'FL_DATE', 'UNIQUE_CARRIER', 'FL_NUM', 'ORIGIN',\n",
    "    'ORIGIN_STATE_ABR', 'DEST', 'DEST_STATE_ABR', 'DEP_DELAY', 'ARR_DELAY',\n",
    "    'PURE_ARR_DELAY', 'LATE', 'NEXT_WE',\n",
    "    'CRS_DEP_HOUR', 'CRS_DEP_TIME', 'CRS_ARR_TIME', 'Z', 'MONTH',\n",
    "    'DAY_OF_WEEK', 'CRS_ARR_HOUR', 'DAY'\n",
    "]\n",
    "input_cols = [c for c in df.columns.to_list() if c not in remove_cols]\n",
    "output_cols = ['ARR_DELAY']\n",
    "test_size = 0.2\n",
    "val_size = 0.01\n",
    "X_test, X_train, X_val, y_test, y_train, y_val = create_sets(\n",
    "    df,\n",
    "    input_cols,\n",
    "    output_cols,\n",
    "    test_size,\n",
    "    val_size,\n",
    "    training_sample_frac=0.01,\n",
    "    verbose=True,\n",
    "    normalise=True)"
   ]
  },
  {
   "cell_type": "markdown",
   "metadata": {},
   "source": [
    "### Optimisation de l'hyperparamètre K"
   ]
  },
  {
   "cell_type": "code",
   "execution_count": 39,
   "metadata": {
    "ExecuteTime": {
     "end_time": "2019-07-06T22:28:44.216076Z",
     "start_time": "2019-07-06T22:28:44.200452Z"
    }
   },
   "outputs": [],
   "source": [
    "@memory.cache\n",
    "def gridsearch_knn(X, y, K_values, cv): \n",
    "    base = sk.neighbors.KNeighborsRegressor()\n",
    "    grid = {'n_neighbors': K_values,\n",
    "            'weights': ['uniform', 'distance'],\n",
    "            'metric': ['euclidean', 'manhattan']\n",
    "           }\n",
    "    model = sk.model_selection.GridSearchCV(base,\n",
    "                                            param_grid=grid,\n",
    "                                            cv=cv,\n",
    "                                            n_jobs=-1,\n",
    "                                            verbose=1)\n",
    "    model.fit(X, y)\n",
    "    return model.best_params_"
   ]
  },
  {
   "cell_type": "code",
   "execution_count": 40,
   "metadata": {
    "ExecuteTime": {
     "end_time": "2019-07-06T23:08:45.149070Z",
     "start_time": "2019-07-06T22:28:44.216076Z"
    }
   },
   "outputs": [
    {
     "name": "stdout",
     "output_type": "stream",
     "text": [
      "Fitting 1 folds for each of 12 candidates, totalling 12 fits\n"
     ]
    },
    {
     "name": "stderr",
     "output_type": "stream",
     "text": [
      "[Parallel(n_jobs=-1)]: Using backend LokyBackend with 8 concurrent workers.\n",
      "[Parallel(n_jobs=-1)]: Done  10 out of  12 | elapsed: 37.9min remaining:  7.6min\n",
      "[Parallel(n_jobs=-1)]: Done  12 out of  12 | elapsed: 40.0min finished\n"
     ]
    },
    {
     "data": {
      "text/plain": [
       "{'metric': 'manhattan', 'n_neighbors': 150, 'weights': 'distance'}"
      ]
     },
     "execution_count": 40,
     "metadata": {},
     "output_type": "execute_result"
    }
   ],
   "source": [
    "X, y, ps = make_predefined_split(X_train, X_val, y_train, y_val)\n",
    "K_values = [50, 100, 150] # Pas assez de mémoire pour valeurs supérieures\n",
    "best_params = gridsearch_knn(X, y, K_values, cv=ps)\n",
    "best_params"
   ]
  },
  {
   "cell_type": "markdown",
   "metadata": {},
   "source": [
    "### Entraînement et évaluation du modèle"
   ]
  },
  {
   "cell_type": "code",
   "execution_count": 41,
   "metadata": {
    "ExecuteTime": {
     "end_time": "2019-07-06T23:44:02.510814Z",
     "start_time": "2019-07-06T23:08:45.149070Z"
    }
   },
   "outputs": [
    {
     "name": "stdout",
     "output_type": "stream",
     "text": [
      "RMSE d'entraînement : 40.04445238869452\n",
      "RMSE de test : 41.016283733247825\n",
      "Temps écoulé : 2117.31 s\n"
     ]
    }
   ],
   "source": [
    "K = 150\n",
    "metric='manhattan'\n",
    "weights='uniform'\n",
    "start = time.time()\n",
    "model = sk.neighbors.KNeighborsRegressor(n_jobs=-1,\n",
    "                                         n_neighbors=K,\n",
    "                                         metric=metric,\n",
    "                                         weights=weights)\n",
    "model.fit(X_train, y_train)\n",
    "y_test_pred = model.predict(X_test)\n",
    "y_train_pred = model.predict(X_train)\n",
    "end = time.time()\n",
    "\n",
    "rmse_test = np.sqrt(np.mean((y_test_pred - y_test) ** 2))\n",
    "rmse_train = np.sqrt(np.mean((y_train_pred - y_train) ** 2))\n",
    "add_to_results('K-NN (variables cat., données T-1)', 1, rmse_test, rmse_train, end-start)"
   ]
  },
  {
   "cell_type": "markdown",
   "metadata": {},
   "source": [
    "La régression KNN est simple à paramétrer et à implémenter, mais gourmande en temps de calcul et pas significativement plus performante qu'une simple régression linéaire. "
   ]
  },
  {
   "cell_type": "markdown",
   "metadata": {},
   "source": [
    "## VI. Comparaison des modèles de régression"
   ]
  },
  {
   "cell_type": "code",
   "execution_count": 42,
   "metadata": {
    "ExecuteTime": {
     "end_time": "2019-07-06T23:44:03.198397Z",
     "start_time": "2019-07-06T23:44:02.510814Z"
    }
   },
   "outputs": [
    {
     "data": {
      "text/html": [
       "<div>\n",
       "<style scoped>\n",
       "    .dataframe tbody tr th:only-of-type {\n",
       "        vertical-align: middle;\n",
       "    }\n",
       "\n",
       "    .dataframe tbody tr th {\n",
       "        vertical-align: top;\n",
       "    }\n",
       "\n",
       "    .dataframe thead th {\n",
       "        text-align: right;\n",
       "    }\n",
       "</style>\n",
       "<table border=\"1\" class=\"dataframe\">\n",
       "  <thead>\n",
       "    <tr style=\"text-align: right;\">\n",
       "      <th></th>\n",
       "      <th>durée</th>\n",
       "      <th>RMSE_train</th>\n",
       "      <th>RMSE</th>\n",
       "      <th>degré</th>\n",
       "      <th>modèle</th>\n",
       "    </tr>\n",
       "  </thead>\n",
       "  <tbody>\n",
       "    <tr>\n",
       "      <th>0</th>\n",
       "      <td>4.078417</td>\n",
       "      <td>41.654041</td>\n",
       "      <td>41.351232</td>\n",
       "      <td>1</td>\n",
       "      <td>Modèle de base (variables quant., sans données...</td>\n",
       "    </tr>\n",
       "    <tr>\n",
       "      <th>1</th>\n",
       "      <td>1.703002</td>\n",
       "      <td>41.082772</td>\n",
       "      <td>41.121472</td>\n",
       "      <td>1</td>\n",
       "      <td>Linéaire (variables cat., sans données T-1)</td>\n",
       "    </tr>\n",
       "    <tr>\n",
       "      <th>2</th>\n",
       "      <td>1.265785</td>\n",
       "      <td>41.067163</td>\n",
       "      <td>41.107570</td>\n",
       "      <td>1</td>\n",
       "      <td>Linéaire (variables cat., avec données T-1)</td>\n",
       "    </tr>\n",
       "    <tr>\n",
       "      <th>3</th>\n",
       "      <td>1.187541</td>\n",
       "      <td>35.368721</td>\n",
       "      <td>41.112083</td>\n",
       "      <td>1</td>\n",
       "      <td>Linéaire sans valeurs extrêmes (variables cat....</td>\n",
       "    </tr>\n",
       "    <tr>\n",
       "      <th>4</th>\n",
       "      <td>10.860110</td>\n",
       "      <td>40.459947</td>\n",
       "      <td>40.681266</td>\n",
       "      <td>1</td>\n",
       "      <td>Arbre de décision (variables cat., données T-1)</td>\n",
       "    </tr>\n",
       "    <tr>\n",
       "      <th>5</th>\n",
       "      <td>1923.161160</td>\n",
       "      <td>38.217006</td>\n",
       "      <td>39.749307</td>\n",
       "      <td>1</td>\n",
       "      <td>GBR (variables cat., données T-1)</td>\n",
       "    </tr>\n",
       "    <tr>\n",
       "      <th>6</th>\n",
       "      <td>0.298829</td>\n",
       "      <td>41.531338</td>\n",
       "      <td>41.890530</td>\n",
       "      <td>4</td>\n",
       "      <td>Ridge (variables cat., données T-1)</td>\n",
       "    </tr>\n",
       "    <tr>\n",
       "      <th>7</th>\n",
       "      <td>0.200891</td>\n",
       "      <td>41.556316</td>\n",
       "      <td>41.184921</td>\n",
       "      <td>3</td>\n",
       "      <td>Ridge (variables cat., données T-1)</td>\n",
       "    </tr>\n",
       "    <tr>\n",
       "      <th>8</th>\n",
       "      <td>0.143921</td>\n",
       "      <td>41.606014</td>\n",
       "      <td>41.130154</td>\n",
       "      <td>2</td>\n",
       "      <td>Ridge (variables cat., données T-1)</td>\n",
       "    </tr>\n",
       "    <tr>\n",
       "      <th>9</th>\n",
       "      <td>1.702556</td>\n",
       "      <td>41.572140</td>\n",
       "      <td>41.915588</td>\n",
       "      <td>4</td>\n",
       "      <td>Lasso avec données T-1</td>\n",
       "    </tr>\n",
       "    <tr>\n",
       "      <th>10</th>\n",
       "      <td>1.595405</td>\n",
       "      <td>41.556995</td>\n",
       "      <td>41.181854</td>\n",
       "      <td>3</td>\n",
       "      <td>Lasso avec données T-1</td>\n",
       "    </tr>\n",
       "    <tr>\n",
       "      <th>11</th>\n",
       "      <td>0.251064</td>\n",
       "      <td>41.606888</td>\n",
       "      <td>41.129242</td>\n",
       "      <td>2</td>\n",
       "      <td>Lasso avec données T-1</td>\n",
       "    </tr>\n",
       "    <tr>\n",
       "      <th>12</th>\n",
       "      <td>3.532205</td>\n",
       "      <td>41.549301</td>\n",
       "      <td>42.229908</td>\n",
       "      <td>4</td>\n",
       "      <td>ElasticNet (variables cat., données T-1)</td>\n",
       "    </tr>\n",
       "    <tr>\n",
       "      <th>13</th>\n",
       "      <td>1.750189</td>\n",
       "      <td>41.554893</td>\n",
       "      <td>41.185528</td>\n",
       "      <td>3</td>\n",
       "      <td>ElasticNet (variables cat., données T-1)</td>\n",
       "    </tr>\n",
       "    <tr>\n",
       "      <th>14</th>\n",
       "      <td>0.265609</td>\n",
       "      <td>41.606262</td>\n",
       "      <td>41.130165</td>\n",
       "      <td>2</td>\n",
       "      <td>ElasticNet (variables cat., données T-1)</td>\n",
       "    </tr>\n",
       "    <tr>\n",
       "      <th>15</th>\n",
       "      <td>2117.314872</td>\n",
       "      <td>40.044452</td>\n",
       "      <td>41.016284</td>\n",
       "      <td>1</td>\n",
       "      <td>K-NN (variables cat., données T-1)</td>\n",
       "    </tr>\n",
       "  </tbody>\n",
       "</table>\n",
       "</div>"
      ],
      "text/plain": [
       "          durée  RMSE_train       RMSE  degré  \\\n",
       "0      4.078417   41.654041  41.351232      1   \n",
       "1      1.703002   41.082772  41.121472      1   \n",
       "2      1.265785   41.067163  41.107570      1   \n",
       "3      1.187541   35.368721  41.112083      1   \n",
       "4     10.860110   40.459947  40.681266      1   \n",
       "5   1923.161160   38.217006  39.749307      1   \n",
       "6      0.298829   41.531338  41.890530      4   \n",
       "7      0.200891   41.556316  41.184921      3   \n",
       "8      0.143921   41.606014  41.130154      2   \n",
       "9      1.702556   41.572140  41.915588      4   \n",
       "10     1.595405   41.556995  41.181854      3   \n",
       "11     0.251064   41.606888  41.129242      2   \n",
       "12     3.532205   41.549301  42.229908      4   \n",
       "13     1.750189   41.554893  41.185528      3   \n",
       "14     0.265609   41.606262  41.130165      2   \n",
       "15  2117.314872   40.044452  41.016284      1   \n",
       "\n",
       "                                               modèle  \n",
       "0   Modèle de base (variables quant., sans données...  \n",
       "1         Linéaire (variables cat., sans données T-1)  \n",
       "2         Linéaire (variables cat., avec données T-1)  \n",
       "3   Linéaire sans valeurs extrêmes (variables cat....  \n",
       "4     Arbre de décision (variables cat., données T-1)  \n",
       "5                   GBR (variables cat., données T-1)  \n",
       "6                 Ridge (variables cat., données T-1)  \n",
       "7                 Ridge (variables cat., données T-1)  \n",
       "8                 Ridge (variables cat., données T-1)  \n",
       "9                              Lasso avec données T-1  \n",
       "10                             Lasso avec données T-1  \n",
       "11                             Lasso avec données T-1  \n",
       "12           ElasticNet (variables cat., données T-1)  \n",
       "13           ElasticNet (variables cat., données T-1)  \n",
       "14           ElasticNet (variables cat., données T-1)  \n",
       "15                 K-NN (variables cat., données T-1)  "
      ]
     },
     "execution_count": 42,
     "metadata": {},
     "output_type": "execute_result"
    },
    {
     "data": {
      "image/png": "[encoded data removed]",
      "text/plain": [
       "<Figure size 864x288 with 1 Axes>"
      ]
     },
     "metadata": {
      "needs_background": "light"
     },
     "output_type": "display_data"
    }
   ],
   "source": [
    "columns=['modèle', 'degré', 'RMSE', 'RMSE_train', 'durée']\n",
    "res_df = pd.DataFrame(results, columns=columns)\n",
    "fig, axes = plt.subplots(figsize=FIG_SIZE)\n",
    "sns.barplot(data=res_df, y='modèle', x='RMSE', hue='degré')\n",
    "axes.set_xlim(left=int(res_df['RMSE'].min()),\n",
    "              right=int(res_df['RMSE'].max() + 1))\n",
    "axes.set_title(\"Performances sur données de test des modèles de régression\")\n",
    "res_df[list(res_df.columns)[::-1]]  # Inverse l'ordre des colonnes"
   ]
  },
  {
   "cell_type": "markdown",
   "metadata": {},
   "source": [
    "Remarques :\n",
    "- La régression Lasso est utile lorsque le nombre de prédicteurs est très élevé, car elle va en éliminer, ce qui n'est pas le cas ici.\n",
    "- La régression Ridge ne réalise pas de sélection, mais évite le surapprentissage en pénalisant les coefficients élevés.\n",
    "- L'utilisation de polynômes d'interpolation d'ordre supérieur à 2 conduit à du surapprentissage."
   ]
  },
  {
   "cell_type": "code",
   "execution_count": 43,
   "metadata": {
    "ExecuteTime": {
     "end_time": "2019-07-06T23:44:03.510874Z",
     "start_time": "2019-07-06T23:44:03.198397Z"
    }
   },
   "outputs": [
    {
     "ename": "StopExecution",
     "evalue": "Arrêt de l'exécution",
     "output_type": "error",
     "traceback": [
      "\u001b[1;31m---------------------------------------------------------------------------\u001b[0m",
      "\u001b[1;31mStopExecution\u001b[0m                             Traceback (most recent call last)",
      "\u001b[1;32m<ipython-input-43-d3a26d8f49ca>\u001b[0m in \u001b[0;36m<module>\u001b[1;34m\u001b[0m\n\u001b[0;32m      4\u001b[0m     \u001b[1;32mpass\u001b[0m\u001b[1;33m\u001b[0m\u001b[1;33m\u001b[0m\u001b[0m\n\u001b[0;32m      5\u001b[0m \u001b[1;33m\u001b[0m\u001b[0m\n\u001b[1;32m----> 6\u001b[1;33m \u001b[1;32mraise\u001b[0m \u001b[0mStopExecution\u001b[0m\u001b[1;33m(\u001b[0m\u001b[1;34m\"Arrêt de l'exécution\"\u001b[0m\u001b[1;33m)\u001b[0m\u001b[1;33m\u001b[0m\u001b[1;33m\u001b[0m\u001b[0m\n\u001b[0m",
      "\u001b[1;31mStopExecution\u001b[0m: Arrêt de l'exécution"
     ]
    }
   ],
   "source": [
    "# Arrêt de l'exécution\n",
    "class StopExecution(Exception):\n",
    "    \"\"\"Base class for exceptions in this module.\"\"\"\n",
    "    pass\n",
    "\n",
    "raise StopExecution(\"Arrêt de l'exécution\")"
   ]
  },
  {
   "cell_type": "markdown",
   "metadata": {},
   "source": [
    "## VII. Régression logistique à 2 classes"
   ]
  },
  {
   "cell_type": "markdown",
   "metadata": {},
   "source": [
    "### Préparation des jeux de données"
   ]
  },
  {
   "cell_type": "code",
   "execution_count": null,
   "metadata": {
    "ExecuteTime": {
     "end_time": "2019-07-06T23:44:03.510874Z",
     "start_time": "2019-07-06T21:34:39.488Z"
    },
    "scrolled": true
   },
   "outputs": [],
   "source": [
    "remove_cols = [\n",
    "    'QUARTER', 'DAY_OF_MONTH', 'FL_DATE', 'UNIQUE_CARRIER', 'FL_NUM', 'ORIGIN',\n",
    "    'ORIGIN_STATE_ABR', 'DEST', 'DEST_STATE_ABR', 'DEP_DELAY', 'ARR_DELAY',\n",
    "    'PURE_ARR_DELAY', 'LATE', 'NEXT_HOL', 'PREV_HOL', 'NEXT_WE',\n",
    "    'CRS_DEP_TIME', 'CRS_ARR_TIME', 'Z', 'MONTH', 'DAY_OF_WEEK', 'CRS_DEP_HOUR'\n",
    "]\n",
    "input_cols = [c for c in df.columns.to_list() if c not in remove_cols]\n",
    "output_cols = ['LATE']\n",
    "X_test, X_train, X_val, y_test, y_train, y_val = create_sets(\n",
    "    df,\n",
    "    input_cols,\n",
    "    output_cols,\n",
    "    test_size=0.2,\n",
    "    val_size=0.01,\n",
    "    training_sample_frac=0.01,\n",
    "    verbose=True,\n",
    "    normalise=True)"
   ]
  },
  {
   "cell_type": "markdown",
   "metadata": {},
   "source": [
    "### Optimisation de l'hyperparamètre C - méthode manuelle"
   ]
  },
  {
   "cell_type": "code",
   "execution_count": null,
   "metadata": {
    "ExecuteTime": {
     "end_time": "2019-07-06T23:44:03.510874Z",
     "start_time": "2019-07-06T21:34:39.491Z"
    }
   },
   "outputs": [],
   "source": [
    "@memory.cache\n",
    "def calibrate_logistic_reg(c_values, solver, max_iter, verbose=False):\n",
    "    scores = []\n",
    "    max_score = 0\n",
    "    for c in c_values:\n",
    "        # Calibration\n",
    "        model = sk.linear_model.LogisticRegression(C=c,\n",
    "                                                   random_state=42,\n",
    "                                                   solver=solver,\n",
    "                                                   max_iter=max_iter,\n",
    "                                                   class_weight='balanced')\n",
    "        model.fit(X_train, y_train.ravel())\n",
    "        # Enregistrement des résultats\n",
    "        y_val_predicted = model.predict(X_val)\n",
    "        score = sk.metrics.f1_score(y_val, y_val_predicted)\n",
    "        scores.append(score)\n",
    "        if score > max_score:\n",
    "            max_score = score\n",
    "            max_c = c\n",
    "            if verbose:\n",
    "                print(f\"Nouveau maximum ({max_score:0.4f}) atteint \"\n",
    "                      f\"au point c = {max_c:0.4f}\")\n",
    "    return scores, max_score, max_c"
   ]
  },
  {
   "cell_type": "code",
   "execution_count": null,
   "metadata": {
    "ExecuteTime": {
     "end_time": "2019-07-06T23:44:03.510874Z",
     "start_time": "2019-07-06T21:34:39.494Z"
    }
   },
   "outputs": [],
   "source": [
    "c_values = np.logspace(np.log10(0.001), np.log10(1000), 100)\n",
    "solver = 'sag'\n",
    "max_iter = 1000\n",
    "scores, max_score, max_c = calibrate_logistic_reg(c_values,\n",
    "                                                  solver,\n",
    "                                                  max_iter,\n",
    "                                                  verbose=False)\n",
    "print(f\"Maximum {max_score} atteint au point {max_c}.\")"
   ]
  },
  {
   "cell_type": "code",
   "execution_count": null,
   "metadata": {
    "ExecuteTime": {
     "end_time": "2019-07-06T23:44:03.510874Z",
     "start_time": "2019-07-06T21:34:39.497Z"
    }
   },
   "outputs": [],
   "source": [
    "# Représentation graphique des résultats\n",
    "fig, axes = plt.subplots(figsize=FIG_SIZE)\n",
    "sns.lineplot(c_values, scores)\n",
    "axes.set_xscale('log')\n",
    "axes.set_xlabel('Paramètre de régularisation C');\n",
    "axes.set_ylabel('Score F1');"
   ]
  },
  {
   "cell_type": "markdown",
   "metadata": {},
   "source": [
    "### Comparaison du score F1 avec un modèle naïf\n",
    "Avec un modèle pour lequel $P(0) = P(1) = 0,5$, on obtient une précision de $0,17$ (proportion de retards) et un rappel de $0,5$. Donc $F1 = 0,254$.\n",
    "Vérification :"
   ]
  },
  {
   "cell_type": "code",
   "execution_count": null,
   "metadata": {
    "ExecuteTime": {
     "end_time": "2019-07-06T23:44:03.510874Z",
     "start_time": "2019-07-06T21:34:39.500Z"
    },
    "scrolled": true
   },
   "outputs": [],
   "source": [
    "model = sklearn.dummy.DummyClassifier(strategy='prior', random_state=42)\n",
    "model.fit(X_train, y_train)\n",
    "y_val_predicted = model.predict(X_val)\n",
    "print(sk.metrics.classification_report(y_val, y_val_predicted))"
   ]
  },
  {
   "cell_type": "markdown",
   "metadata": {},
   "source": [
    "Notre score F1 indique donc un modèle avec une performance correcte."
   ]
  },
  {
   "cell_type": "markdown",
   "metadata": {},
   "source": [
    "### Optimisation de l'hyperparamètre C - utilisation de `GridSearchCV` sans validation croisée"
   ]
  },
  {
   "cell_type": "code",
   "execution_count": null,
   "metadata": {
    "ExecuteTime": {
     "end_time": "2019-07-06T23:44:03.510874Z",
     "start_time": "2019-07-06T21:34:39.504Z"
    }
   },
   "outputs": [],
   "source": [
    "def gridsearch_logistic_regression(X, y, c_values, solver, max_iter, cv):\n",
    "    base = sk.linear_model.LogisticRegression(random_state=42,\n",
    "                                              solver=solver,\n",
    "                                              max_iter=max_iter,\n",
    "                                              class_weight='balanced')\n",
    "    grid = {\"C\": c_values, 'class_weight': [None, 'balanced']}\n",
    "    model = sk.model_selection.GridSearchCV(base,\n",
    "                                            param_grid=grid,\n",
    "                                            cv=cv,\n",
    "                                            n_jobs=-1,\n",
    "                                            scoring='f1')\n",
    "    model.fit(X, y)\n",
    "    return model.best_params_"
   ]
  },
  {
   "cell_type": "code",
   "execution_count": null,
   "metadata": {
    "ExecuteTime": {
     "end_time": "2019-07-06T23:44:03.510874Z",
     "start_time": "2019-07-06T21:34:39.507Z"
    },
    "scrolled": true
   },
   "outputs": [],
   "source": [
    "X, y, ps = make_predefined_split(X_train, X_val, y_train, y_val)\n",
    "c_values = np.logspace(np.log10(0.001), np.log10(1000), 100)\n",
    "best_params = gridsearch_logistic_regression(X,\n",
    "                                             y,\n",
    "                                             c_values=c_values,\n",
    "                                             solver='sag',\n",
    "                                             max_iter=1000,\n",
    "                                             cv=ps)\n",
    "print(f\"Valeurs optimales des hyperparamètres : {best_params}\")"
   ]
  },
  {
   "cell_type": "markdown",
   "metadata": {},
   "source": [
    "### Optimisation de l'hyperparamètre C - utilisation de `GridSearchCV` avec validation croisée"
   ]
  },
  {
   "cell_type": "code",
   "execution_count": null,
   "metadata": {
    "ExecuteTime": {
     "end_time": "2019-07-06T23:44:03.510874Z",
     "start_time": "2019-07-06T21:34:39.511Z"
    }
   },
   "outputs": [],
   "source": [
    "c_values = np.logspace(np.log10(0.001), np.log10(1000), 100)\n",
    "best_params = gridsearch_logistic_regression(X_train,\n",
    "                                             y_train,\n",
    "                                             c_values,\n",
    "                                             'sag',\n",
    "                                             1000,\n",
    "                                             cv=10)\n",
    "print(f\"Valeurs optimales des hyperparamètres : {best_params}\")"
   ]
  },
  {
   "cell_type": "markdown",
   "metadata": {},
   "source": [
    "{'C': 0.0013219411484660286, 'class_weight': 'balanced'}\n",
    "\n",
    "Pourquoi obtenons-nous une valeur optimale de C différente de l'optimisation manuelle ? "
   ]
  },
  {
   "cell_type": "markdown",
   "metadata": {},
   "source": [
    "### Entraînement et évaluation du modèle"
   ]
  },
  {
   "cell_type": "code",
   "execution_count": null,
   "metadata": {
    "ExecuteTime": {
     "end_time": "2019-07-06T23:44:03.510874Z",
     "start_time": "2019-07-06T21:34:39.516Z"
    }
   },
   "outputs": [],
   "source": [
    "model = sk.linear_model.LogisticRegression(C=max_c,\n",
    "                                           random_state=42,\n",
    "                                           solver='sag',\n",
    "                                           class_weight='balanced')\n",
    "model.fit(X_train, y_train.ravel())\n",
    "y_train_predicted = model.predict(X_train)\n",
    "y_test_predicted = model.predict(X_test)\n",
    "print(\"Rapport de classification pour les données d'apprentissage :\")\n",
    "print(sk.metrics.classification_report(y_train, y_train_predicted))\n",
    "print(\"Rapport de classification pour les données de test :\")\n",
    "print(sk.metrics.classification_report(y_test, y_test_predicted))"
   ]
  },
  {
   "cell_type": "markdown",
   "metadata": {},
   "source": [
    "Nous préférons un faux positif (retard prédit, avion à l'heure) à un faux négatif (avion attendu à l'heure, mais en retard).\n",
    "\n",
    "Ce qui nous conduit à rechercher un score de rappel élevé pour la catégorie 1."
   ]
  },
  {
   "cell_type": "code",
   "execution_count": null,
   "metadata": {
    "ExecuteTime": {
     "end_time": "2019-07-06T23:44:03.510874Z",
     "start_time": "2019-07-06T21:34:39.520Z"
    }
   },
   "outputs": [],
   "source": [
    "y_prob = model.predict_proba(X_test)[:, 1]\n",
    "[fpr, tpr, threshold] = sk.metrics.roc_curve(y_test, y_prob)\n",
    "plt.plot(fpr, tpr, color='red') # sns.lineplot() est trop lent\n",
    "plt.plot([0, 1], [0, 1], linestyle='--')\n",
    "print(f\"AUC = {sk.metrics.auc(fpr, tpr)}\")"
   ]
  },
  {
   "cell_type": "markdown",
   "metadata": {},
   "source": [
    "La performance est meilleure qu'un modèle naïf, mais néanmoins insatisfaisante."
   ]
  },
  {
   "cell_type": "markdown",
   "metadata": {},
   "source": [
    "## VIII. Classement par SVM à noyau"
   ]
  },
  {
   "cell_type": "markdown",
   "metadata": {},
   "source": [
    "### Création de plusieurs classes de retard"
   ]
  },
  {
   "cell_type": "code",
   "execution_count": null,
   "metadata": {
    "ExecuteTime": {
     "end_time": "2019-07-06T23:44:03.510874Z",
     "start_time": "2019-07-06T21:34:39.524Z"
    }
   },
   "outputs": [],
   "source": [
    "def delay_class(delay):\n",
    "    if delay <= 15:\n",
    "        return 0 # Vol à l'heure ou en avance\n",
    "    elif delay <= 60:\n",
    "        return 1 # Retard de moins d'une heure\n",
    "    else:\n",
    "        return 2 # Retard de plus d'une heure\n",
    "\n",
    "\n",
    "df['LATE'] = df['ARR_DELAY'].apply(delay_class)\n",
    "total = len(df)\n",
    "for c in range(0, 3):\n",
    "    count = sum(df['LATE'] == c)\n",
    "    print(f\"Nombre de vols de catégorie {c} :\"\n",
    "          f\" {count} ({count/total*100:0.2f}%)\")"
   ]
  },
  {
   "cell_type": "markdown",
   "metadata": {},
   "source": [
    "Les différences de cardinalité des 3 classes pourront poser problème lors de l'entraînement des modèles : à surveiller."
   ]
  },
  {
   "cell_type": "markdown",
   "metadata": {
    "heading_collapsed": true
   },
   "source": [
    "### Préparation des données et de la fonction de calibration"
   ]
  },
  {
   "cell_type": "code",
   "execution_count": null,
   "metadata": {
    "ExecuteTime": {
     "end_time": "2019-07-06T23:44:03.526499Z",
     "start_time": "2019-07-06T21:34:39.527Z"
    },
    "hidden": true
   },
   "outputs": [],
   "source": [
    "@memory.cache\n",
    "def gridsearch_svm(X, y, grid, kernel, cv):\n",
    "    base = sk.svm.SVC(kernel=kernel, random_state=42)\n",
    "    model = sk.model_selection.GridSearchCV(base,\n",
    "                                            param_grid=grid,\n",
    "                                            cv=cv,\n",
    "                                            n_jobs=-1)\n",
    "    model.fit(X, y)\n",
    "    return model.best_params_"
   ]
  },
  {
   "cell_type": "code",
   "execution_count": null,
   "metadata": {
    "ExecuteTime": {
     "end_time": "2019-07-06T23:44:03.526499Z",
     "start_time": "2019-07-06T21:34:39.530Z"
    },
    "hidden": true
   },
   "outputs": [],
   "source": [
    "remove_cols = [\n",
    "    'QUARTER', 'DAY_OF_MONTH', 'FL_DATE', 'UNIQUE_CARRIER', 'FL_NUM', 'ORIGIN',\n",
    "    'ORIGIN_STATE_ABR', 'DEST', 'DEST_STATE_ABR', 'DEP_DELAY', 'ARR_DELAY',\n",
    "    'PURE_ARR_DELAY', 'LATE', 'NEXT_HOL', 'PREV_HOL', 'NEXT_WE',\n",
    "    'CRS_DEP_TIME', 'CRS_ARR_TIME', 'Z', 'MONTH', 'DAY_OF_WEEK', 'CRS_DEP_HOUR'\n",
    "]\n",
    "input_cols = [c for c in df.columns.to_list() if c not in remove_cols]\n",
    "output_cols = ['LATE']\n",
    "X_test, X_train, X_val, y_test, y_train, y_val = create_sets(\n",
    "    df,\n",
    "    input_cols,\n",
    "    output_cols,\n",
    "    test_size=0.2,\n",
    "    val_size=0.01,\n",
    "    training_sample_frac=0.01,\n",
    "    verbose=True,\n",
    "    normalise=True)"
   ]
  },
  {
   "cell_type": "markdown",
   "metadata": {},
   "source": [
    "### Scores obtenus avec un modèle naïf"
   ]
  },
  {
   "cell_type": "code",
   "execution_count": null,
   "metadata": {
    "ExecuteTime": {
     "end_time": "2019-07-06T23:44:03.526499Z",
     "start_time": "2019-07-06T21:34:39.533Z"
    }
   },
   "outputs": [],
   "source": [
    "model = sklearn.dummy.DummyClassifier(strategy='prior', random_state=42)\n",
    "with warnings.catch_warnings():\n",
    "    warnings.simplefilter(\"ignore\") # avertissement sur les classes vides\n",
    "    model.fit(X_train, y_train)\n",
    "    y_val_predicted = model.predict(X_val)\n",
    "    print(sk.metrics.classification_report(y_val, y_val_predicted))"
   ]
  },
  {
   "cell_type": "markdown",
   "metadata": {},
   "source": [
    "### Prédiction par SVM linéaire"
   ]
  },
  {
   "cell_type": "code",
   "execution_count": null,
   "metadata": {
    "ExecuteTime": {
     "end_time": "2019-07-06T23:44:03.526499Z",
     "start_time": "2019-07-06T21:34:39.535Z"
    }
   },
   "outputs": [],
   "source": [
    "if not(DISABLE_LINEAR_SVM):\n",
    "    model = sk.svm.SVC(kernel='linear', C = 1.0, class_weight='balanced')\n",
    "    model.fit(X_train, y_train)\n",
    "else:\n",
    "    print(\"Cellule désactivée (temps de calcul = 24 min)\")"
   ]
  },
  {
   "cell_type": "code",
   "execution_count": null,
   "metadata": {
    "ExecuteTime": {
     "end_time": "2019-07-06T23:44:03.526499Z",
     "start_time": "2019-07-06T21:34:39.537Z"
    }
   },
   "outputs": [],
   "source": [
    "if not(DISABLE_LINEAR_SVM):\n",
    "    y_train_predicted = model.predict(X_train)\n",
    "    y_test_predicted = model.predict(X_test)\n",
    "    print(\"Rapport de classification pour les données d'apprentissage :\")\n",
    "    print(sk.metrics.classification_report(y_train, y_train_predicted))\n",
    "    print(\"Rapport de classification pour les données de test :\")\n",
    "    print(sk.metrics.classification_report(y_test, y_test_predicted))\n",
    "else:\n",
    "    print(\"Cellule désactivée (temps de calcul = 33 min)\")"
   ]
  },
  {
   "cell_type": "markdown",
   "metadata": {},
   "source": [
    "Sauvegarde des résultats :\n",
    "\n",
    "Rapport de classification pour les données d'apprentissage :\n",
    "\n",
    "                 precision    recall  f1-score   support\n",
    "\n",
    "               0       0.88      0.52      0.65     36514\n",
    "               1       0.14      0.31      0.20      4924\n",
    "               2       0.09      0.45      0.16      2455\n",
    "\n",
    "       micro avg       0.49      0.49      0.49     43893\n",
    "       macro avg       0.37      0.43      0.33     43893\n",
    "    weighted avg       0.75      0.49      0.57     43893\n",
    "\n",
    "Rapport de classification pour les données de test :\n",
    "\n",
    "                 precision    recall  f1-score   support\n",
    "\n",
    "               0       0.88      0.51      0.65    924809\n",
    "               1       0.14      0.31      0.19    125627\n",
    "               2       0.09      0.44      0.15     60804\n",
    "\n",
    "       micro avg       0.49      0.49      0.49   1111240\n",
    "       macro avg       0.37      0.42      0.33   1111240\n",
    "    weighted avg       0.75      0.49      0.57   1111240"
   ]
  },
  {
   "cell_type": "markdown",
   "metadata": {},
   "source": [
    "### Prédiction par SVM à noyau non linéaire"
   ]
  },
  {
   "cell_type": "code",
   "execution_count": null,
   "metadata": {
    "ExecuteTime": {
     "end_time": "2019-07-06T23:44:03.526499Z",
     "start_time": "2019-07-06T21:34:39.541Z"
    }
   },
   "outputs": [],
   "source": [
    "if not(DISABLE_GAUSSIAN_SVM):\n",
    "    grid = {'C': [0.01, 0.1, 1, 10, 100], 'gamma': [0.01, 0.1, 1, 10, 100]}\n",
    "    X, y, ps = make_predefined_split(X_train_p, X_val_p, y_train, y_val)\n",
    "    params = gridsearch_svm(X, y, grid, 'rbf', cv=ps)\n",
    "    print(f\"Valeurs optimales des hyperparamètres : {params}\")\n",
    "else:\n",
    "    print(\"Cellule désactivée (temps de calcul > 150 min)\")"
   ]
  },
  {
   "cell_type": "markdown",
   "metadata": {},
   "source": [
    "Sauvegarde du résultat : {'C': 0.01, 'gamma': 0.01}"
   ]
  },
  {
   "cell_type": "code",
   "execution_count": null,
   "metadata": {
    "ExecuteTime": {
     "end_time": "2019-07-06T23:44:03.526499Z",
     "start_time": "2019-07-06T21:34:39.544Z"
    }
   },
   "outputs": [],
   "source": [
    "if not(DISABLE_GAUSSIAN_SVM):\n",
    "    model = sk.svm.SVC(kernel='rbf', gamma=0.01, C = 0.01, class_weight='balanced')\n",
    "    model.fit(X_train, y_train)\n",
    "else:\n",
    "    print(\"Cellule désactivée\")"
   ]
  },
  {
   "cell_type": "code",
   "execution_count": null,
   "metadata": {
    "ExecuteTime": {
     "end_time": "2019-07-06T23:44:03.526499Z",
     "start_time": "2019-07-06T21:34:39.546Z"
    },
    "scrolled": false
   },
   "outputs": [],
   "source": [
    "if not(DISABLE_GAUSSIAN_SVM):\n",
    "    y_train_predicted = model.predict(X_train)\n",
    "    y_test_predicted = model.predict(X_test)\n",
    "    print(\"Rapport de classification pour les données d'apprentissage :\")\n",
    "    print(sk.metrics.classification_report(y_train, y_train_predicted))\n",
    "    print(\"Rapport de classification pour les données de test :\")\n",
    "    print(sk.metrics.classification_report(y_test, y_test_predicted))\n",
    "else:\n",
    "    print(\"Cellule désactivée (temps de calcul > 45 min)\")"
   ]
  },
  {
   "cell_type": "markdown",
   "metadata": {},
   "source": [
    "Sauvegarde des résultats :\n",
    "\n",
    "Rapport de classification pour les données d'apprentissage :\n",
    "\n",
    "                  precision    recall  f1-score   support\n",
    "\n",
    "               0       0.90      0.48      0.63     36514\n",
    "               1       0.16      0.34      0.22      4924\n",
    "               2       0.09      0.53      0.16      2455\n",
    "\n",
    "       micro avg       0.47      0.47      0.47     43893\n",
    "       macro avg       0.38      0.45      0.33     43893\n",
    "    weighted avg       0.77      0.47      0.55     43893\n",
    "\n",
    "Rapport de classification pour les données de test :\n",
    "\n",
    "                  precision    recall  f1-score   support\n",
    "\n",
    "               0       0.90      0.48      0.62    924809\n",
    "               1       0.15      0.31      0.20    125627\n",
    "               2       0.09      0.52      0.15     60804\n",
    "\n",
    "       micro avg       0.46      0.46      0.46   1111240\n",
    "       macro avg       0.38      0.44      0.33   1111240\n",
    "    weighted avg       0.77      0.46      0.55   1111240\n",
    "\n"
   ]
  },
  {
   "cell_type": "markdown",
   "metadata": {
    "heading_collapsed": true
   },
   "source": [
    "## IX. Classement par forêt aléatoire"
   ]
  },
  {
   "cell_type": "code",
   "execution_count": null,
   "metadata": {
    "ExecuteTime": {
     "end_time": "2019-07-06T23:44:03.526499Z",
     "start_time": "2019-07-06T21:34:39.550Z"
    },
    "hidden": true
   },
   "outputs": [],
   "source": [
    "output_cols = ['LATE']\n",
    "X_test, X_train, X_val, y_test, y_train, y_val = create_sets(\n",
    "    df,\n",
    "    input_cols,\n",
    "    output_cols,\n",
    "    test_size=0.2,\n",
    "    val_size=0.01,\n",
    "    training_sample_frac=0.01,\n",
    "    verbose=True,\n",
    "    normalise=True)"
   ]
  },
  {
   "cell_type": "code",
   "execution_count": null,
   "metadata": {
    "ExecuteTime": {
     "end_time": "2019-07-06T23:44:03.526499Z",
     "start_time": "2019-07-06T21:34:39.551Z"
    },
    "hidden": true
   },
   "outputs": [],
   "source": [
    "def gridsearch_randomforest(X, y, grid, cv):\n",
    "    base = sk.ensemble.RandomForestClassifier(random_state=42,\n",
    "                                              class_weight='balanced')\n",
    "    model = sk.model_selection.GridSearchCV(base,\n",
    "                                            param_grid=grid,\n",
    "                                            cv=cv,\n",
    "                                            n_jobs=-1)\n",
    "    model.fit(X, y)\n",
    "    return model.best_params_"
   ]
  },
  {
   "cell_type": "code",
   "execution_count": null,
   "metadata": {
    "ExecuteTime": {
     "end_time": "2019-07-06T23:44:03.526499Z",
     "start_time": "2019-07-06T21:34:39.554Z"
    },
    "hidden": true
   },
   "outputs": [],
   "source": [
    "X, y, ps = make_predefined_split(X_train_p, X_val_p, y_train, y_val)\n",
    "grid = {\n",
    "    'n_estimators': [10, 50, 70, 100, 120, 150, 200, 500],\n",
    "    'max_depth': range(2, 15),\n",
    "    #'class_weight': ['balanced', None]\n",
    "}\n",
    "params = gridsearch_randomforest(X, y, grid, ps)\n",
    "print(f\"Valeurs optimales des hyperparamètres : {params}\")"
   ]
  },
  {
   "cell_type": "markdown",
   "metadata": {
    "hidden": true
   },
   "source": [
    "GridSearchCV() retourne None comme meilleure valeur de class_weight, mais cette valeur de nous satisfait pas car elle conduit à un modèle dégénéré qui classe tous les vols en catégorie 0."
   ]
  },
  {
   "cell_type": "code",
   "execution_count": null,
   "metadata": {
    "ExecuteTime": {
     "end_time": "2019-07-06T23:44:03.542125Z",
     "start_time": "2019-07-06T21:34:39.556Z"
    },
    "hidden": true
   },
   "outputs": [],
   "source": [
    "model = sk.ensemble.RandomForestClassifier(n_jobs=-1,\n",
    "                                           random_state=42,\n",
    "                                           n_estimators=200,\n",
    "                                           max_depth=14,\n",
    "                                           class_weight='balanced')\n",
    "model.fit(X_train, y_train)"
   ]
  },
  {
   "cell_type": "code",
   "execution_count": null,
   "metadata": {
    "ExecuteTime": {
     "end_time": "2019-07-06T23:44:03.542125Z",
     "start_time": "2019-07-06T21:34:39.558Z"
    },
    "hidden": true
   },
   "outputs": [],
   "source": [
    "y_train_predicted = model.predict(X_train)\n",
    "y_test_predicted = model.predict(X_test)\n",
    "print(\"Rapport de classification pour les données d'apprentissage :\")\n",
    "print(sk.metrics.classification_report(y_train, y_train_predicted))\n",
    "print(\"Rapport de classification pour les données de test :\")\n",
    "print(sk.metrics.classification_report(y_test, y_test_predicted))"
   ]
  },
  {
   "cell_type": "markdown",
   "metadata": {
    "ExecuteTime": {
     "end_time": "2019-06-26T19:24:30.080587Z",
     "start_time": "2019-06-26T19:24:30.064963Z"
    }
   },
   "source": [
    "## X. Annexes"
   ]
  },
  {
   "cell_type": "code",
   "execution_count": null,
   "metadata": {
    "ExecuteTime": {
     "end_time": "2019-07-06T23:44:03.542125Z",
     "start_time": "2019-07-06T21:34:39.561Z"
    }
   },
   "outputs": [],
   "source": [
    "# Sauvegarde des résultats de régression\n",
    "results_bkp = ['Modèle de base (variables quantitatives, sans données T-1)',\n",
    "  1,\n",
    "  41.36732383635718,\n",
    "  41.67091653342206,\n",
    "  3.0326502323150635],\n",
    " ['Linéaire (variables cat., données T-1)',\n",
    "  1,\n",
    "  41.133067172030835,\n",
    "  41.09853916674731,\n",
    "  1.0997822284698486],\n",
    " ['Linéaire avec données T-1', 1, 41.117855, 41.081753, 0.7366375923156738],\n",
    " ['Linéaire sans valeurs extrêmes (variables cat., données T-1)',\n",
    "  1,\n",
    "  41.40638,\n",
    "  35.564415,\n",
    "  4.897963047027588],\n",
    " ['Arbre de décision (variables cat., données T-1)',\n",
    "  1,\n",
    "  41.046264401896224,\n",
    "  40.81439745522511,\n",
    "  64.1569254398346],\n",
    " ['Ridge (variables cat., données T-1)',\n",
    "  4,\n",
    "  41.372875,\n",
    "  39.52059,\n",
    "  0.12282776832580566],\n",
    " ['Ridge (variables cat., données T-1)',\n",
    "  3,\n",
    "  41.145718,\n",
    "  39.530647,\n",
    "  0.10063838958740234],\n",
    " ['Ridge (variables cat., données T-1)',\n",
    "  2,\n",
    "  41.13542,\n",
    "  39.537403,\n",
    "  0.0807499885559082],\n",
    " ['Lasso avec données T-1', 4, 41.15867, 39.506508, 5.264390468597412],\n",
    " ['Lasso avec données T-1', 3, 41.136864, 39.506416, 0.7356572151184082],\n",
    " ['Lasso avec données T-1', 2, 41.13422, 39.529613, 0.3429689407348633],\n",
    " ['ElasticNet (variables cat., données T-1)',\n",
    "  4,\n",
    "  41.253353,\n",
    "  39.513874,\n",
    "  2.0322418212890625],\n",
    " ['ElasticNet (variables cat., données T-1)',\n",
    "  3,\n",
    "  41.138187,\n",
    "  39.52722,\n",
    "  1.7533726692199707],\n",
    " ['ElasticNet (variables cat., données T-1)',\n",
    "  2,\n",
    "  41.134735,\n",
    "  39.536922,\n",
    "  0.41339540481567383],\n",
    " ['K-NN (variables cat., données T-1)',\n",
    "  1,\n",
    "  41.162299149033196,\n",
    "  40.12241659166162,\n",
    "  930.2858047485352]]"
   ]
  }
 ],
 "metadata": {
  "kernelspec": {
   "display_name": "Python 3",
   "language": "python",
   "name": "python3"
  },
  "language_info": {
   "codemirror_mode": {
    "name": "ipython",
    "version": 3
   },
   "file_extension": ".py",
   "mimetype": "text/x-python",
   "name": "python",
   "nbconvert_exporter": "python",
   "pygments_lexer": "ipython3",
   "version": "3.7.3"
  }
 },
 "nbformat": 4,
 "nbformat_minor": 2
}
