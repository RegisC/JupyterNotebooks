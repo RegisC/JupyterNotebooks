{
 "cells": [
  {
   "cell_type": "markdown",
   "metadata": {},
   "source": [
    "# Analyse de données nutritionnelles : nettoyage des données\n",
    "Important : le fichier `fr.openfoodfacts.org.products.csv` doit se trouver dans le répertoire courant."
   ]
  },
  {
   "cell_type": "markdown",
   "metadata": {},
   "source": [
    "## Initialisation"
   ]
  },
  {
   "cell_type": "code",
   "execution_count": 1,
   "metadata": {},
   "outputs": [],
   "source": [
    "from IPython.display import display\n",
    "import matplotlib.pyplot as plt\n",
    "import numpy as np\n",
    "import os\n",
    "import pandas as pd\n",
    "import seaborn as sns\n",
    "\n",
    "pd.options.display.float_format = '{:,.3f}'.format\n",
    "input_file = 'fr.openfoodfacts.org.products.csv'\n",
    "output_file = 'off.csv'"
   ]
  },
  {
   "cell_type": "markdown",
   "metadata": {},
   "source": [
    "## Chargement et inspection sommaire"
   ]
  },
  {
   "cell_type": "markdown",
   "metadata": {},
   "source": [
    "### Chargement du fichier sous forme de DataFrame"
   ]
  },
  {
   "cell_type": "code",
   "execution_count": 2,
   "metadata": {
    "scrolled": true
   },
   "outputs": [
    {
     "name": "stderr",
     "output_type": "stream",
     "text": [
      "C:\\ProgramData\\Anaconda3\\lib\\site-packages\\IPython\\core\\interactiveshell.py:2785: DtypeWarning: Columns (3,5,19,20,24,25,26,27,28,35,36,37,38,39,48) have mixed types. Specify dtype option on import or set low_memory=False.\n",
      "  interactivity=interactivity, compiler=compiler, result=result)\n"
     ]
    }
   ],
   "source": [
    "data = pd.read_csv(input_file, delimiter='\\t', dtype={'code': object}) # `code` est une chaîne"
   ]
  },
  {
   "cell_type": "code",
   "execution_count": 3,
   "metadata": {},
   "outputs": [
    {
     "name": "stdout",
     "output_type": "stream",
     "text": [
      "<class 'pandas.core.frame.DataFrame'>\n",
      "RangeIndex: 320772 entries, 0 to 320771\n",
      "Columns: 162 entries, code to water-hardness_100g\n",
      "dtypes: float64(106), object(56)\n",
      "memory usage: 1.7 GB\n",
      "None\n"
     ]
    }
   ],
   "source": [
    "print(data.info(memory_usage='deep')) # infos sur les données chargées"
   ]
  },
  {
   "cell_type": "markdown",
   "metadata": {},
   "source": [
    "### Liste des colonnes"
   ]
  },
  {
   "cell_type": "code",
   "execution_count": 4,
   "metadata": {},
   "outputs": [
    {
     "name": "stdout",
     "output_type": "stream",
     "text": [
      "code, url, creator, created_t, created_datetime, last_modified_t, last_modified_datetime, product_name, generic_name, quantity, packaging, packaging_tags, brands, brands_tags, categories, categories_tags, categories_fr, origins, origins_tags, manufacturing_places, manufacturing_places_tags, labels, labels_tags, labels_fr, emb_codes, emb_codes_tags, first_packaging_code_geo, cities, cities_tags, purchase_places, stores, countries, countries_tags, countries_fr, ingredients_text, allergens, allergens_fr, traces, traces_tags, traces_fr, serving_size, no_nutriments, additives_n, additives, additives_tags, additives_fr, ingredients_from_palm_oil_n, ingredients_from_palm_oil, ingredients_from_palm_oil_tags, ingredients_that_may_be_from_palm_oil_n, ingredients_that_may_be_from_palm_oil, ingredients_that_may_be_from_palm_oil_tags, nutrition_grade_uk, nutrition_grade_fr, pnns_groups_1, pnns_groups_2, states, states_tags, states_fr, main_category, main_category_fr, image_url, image_small_url, energy_100g, energy-from-fat_100g, fat_100g, saturated-fat_100g, butyric-acid_100g, caproic-acid_100g, caprylic-acid_100g, capric-acid_100g, lauric-acid_100g, myristic-acid_100g, palmitic-acid_100g, stearic-acid_100g, arachidic-acid_100g, behenic-acid_100g, lignoceric-acid_100g, cerotic-acid_100g, montanic-acid_100g, melissic-acid_100g, monounsaturated-fat_100g, polyunsaturated-fat_100g, omega-3-fat_100g, alpha-linolenic-acid_100g, eicosapentaenoic-acid_100g, docosahexaenoic-acid_100g, omega-6-fat_100g, linoleic-acid_100g, arachidonic-acid_100g, gamma-linolenic-acid_100g, dihomo-gamma-linolenic-acid_100g, omega-9-fat_100g, oleic-acid_100g, elaidic-acid_100g, gondoic-acid_100g, mead-acid_100g, erucic-acid_100g, nervonic-acid_100g, trans-fat_100g, cholesterol_100g, carbohydrates_100g, sugars_100g, sucrose_100g, glucose_100g, fructose_100g, lactose_100g, maltose_100g, maltodextrins_100g, starch_100g, polyols_100g, fiber_100g, proteins_100g, casein_100g, serum-proteins_100g, nucleotides_100g, salt_100g, sodium_100g, alcohol_100g, vitamin-a_100g, beta-carotene_100g, vitamin-d_100g, vitamin-e_100g, vitamin-k_100g, vitamin-c_100g, vitamin-b1_100g, vitamin-b2_100g, vitamin-pp_100g, vitamin-b6_100g, vitamin-b9_100g, folates_100g, vitamin-b12_100g, biotin_100g, pantothenic-acid_100g, silica_100g, bicarbonate_100g, potassium_100g, chloride_100g, calcium_100g, phosphorus_100g, iron_100g, magnesium_100g, zinc_100g, copper_100g, manganese_100g, fluoride_100g, selenium_100g, chromium_100g, molybdenum_100g, iodine_100g, caffeine_100g, taurine_100g, ph_100g, fruits-vegetables-nuts_100g, collagen-meat-protein-ratio_100g, cocoa_100g, chlorophyl_100g, carbon-footprint_100g, nutrition-score-fr_100g, nutrition-score-uk_100g, glycemic-index_100g, water-hardness_100g\n"
     ]
    }
   ],
   "source": [
    "print(', '.join(data.columns.tolist()))"
   ]
  },
  {
   "cell_type": "markdown",
   "metadata": {},
   "source": [
    "### Suppressions des colonnes de données d'audit"
   ]
  },
  {
   "cell_type": "code",
   "execution_count": 5,
   "metadata": {},
   "outputs": [
    {
     "name": "stdout",
     "output_type": "stream",
     "text": [
      "4 colonnes effacées.\n"
     ]
    }
   ],
   "source": [
    "columns_to_delete = ['created_t', 'created_datetime', 'last_modified_t', 'last_modified_datetime']\n",
    "data.drop(columns=columns_to_delete, inplace=True, errors='ignore')\n",
    "print(f\"{len(columns_to_delete)} colonnes effacées.\")"
   ]
  },
  {
   "cell_type": "markdown",
   "metadata": {},
   "source": [
    "### Examen des colonnes avec valeurs manquantes"
   ]
  },
  {
   "cell_type": "code",
   "execution_count": 6,
   "metadata": {},
   "outputs": [
    {
     "data": {
      "image/png": "[encoded data removed]",
      "text/plain": [
       "<Figure size 432x288 with 1 Axes>"
      ]
     },
     "metadata": {},
     "output_type": "display_data"
    }
   ],
   "source": [
    "missing_values = data.isnull().sum(axis=0).to_frame(name='count_missing') # nb de valeurs manquantes par colonn\n",
    "missing_values.sort_values(by=['count_missing'], inplace=True) # tri pour l'affichage\n",
    "missing_values['percent_missing'] = missing_values['count_missing'] / len(data) * 100 # calcul du %\n",
    "fig, axes = plt.subplots()\n",
    "axes.hist(missing_values['percent_missing'], bins=10);\n",
    "axes.set_title('Distribution du % de valeurs manquantes');\n",
    "axes.set_xlabel('% de valeurs manquantes');\n",
    "axes.set_ylabel('Nb de colonnes');\n",
    "sns.despine(ax=axes)"
   ]
  },
  {
   "cell_type": "code",
   "execution_count": 7,
   "metadata": {},
   "outputs": [
    {
     "name": "stdout",
     "output_type": "stream",
     "text": [
      "Colonnes ne contenant aucune valeur :\n"
     ]
    },
    {
     "data": {
      "text/html": [
       "<div>\n",
       "<style scoped>\n",
       "    .dataframe tbody tr th:only-of-type {\n",
       "        vertical-align: middle;\n",
       "    }\n",
       "\n",
       "    .dataframe tbody tr th {\n",
       "        vertical-align: top;\n",
       "    }\n",
       "\n",
       "    .dataframe thead th {\n",
       "        text-align: right;\n",
       "    }\n",
       "</style>\n",
       "<table border=\"1\" class=\"dataframe\">\n",
       "  <thead>\n",
       "    <tr style=\"text-align: right;\">\n",
       "      <th></th>\n",
       "      <th>count_missing</th>\n",
       "      <th>percent_missing</th>\n",
       "    </tr>\n",
       "  </thead>\n",
       "  <tbody>\n",
       "    <tr>\n",
       "      <th>ingredients_from_palm_oil</th>\n",
       "      <td>320772</td>\n",
       "      <td>100.000</td>\n",
       "    </tr>\n",
       "    <tr>\n",
       "      <th>chlorophyl_100g</th>\n",
       "      <td>320772</td>\n",
       "      <td>100.000</td>\n",
       "    </tr>\n",
       "    <tr>\n",
       "      <th>lignoceric-acid_100g</th>\n",
       "      <td>320772</td>\n",
       "      <td>100.000</td>\n",
       "    </tr>\n",
       "    <tr>\n",
       "      <th>cerotic-acid_100g</th>\n",
       "      <td>320772</td>\n",
       "      <td>100.000</td>\n",
       "    </tr>\n",
       "    <tr>\n",
       "      <th>melissic-acid_100g</th>\n",
       "      <td>320772</td>\n",
       "      <td>100.000</td>\n",
       "    </tr>\n",
       "    <tr>\n",
       "      <th>glycemic-index_100g</th>\n",
       "      <td>320772</td>\n",
       "      <td>100.000</td>\n",
       "    </tr>\n",
       "    <tr>\n",
       "      <th>elaidic-acid_100g</th>\n",
       "      <td>320772</td>\n",
       "      <td>100.000</td>\n",
       "    </tr>\n",
       "    <tr>\n",
       "      <th>mead-acid_100g</th>\n",
       "      <td>320772</td>\n",
       "      <td>100.000</td>\n",
       "    </tr>\n",
       "    <tr>\n",
       "      <th>erucic-acid_100g</th>\n",
       "      <td>320772</td>\n",
       "      <td>100.000</td>\n",
       "    </tr>\n",
       "    <tr>\n",
       "      <th>nervonic-acid_100g</th>\n",
       "      <td>320772</td>\n",
       "      <td>100.000</td>\n",
       "    </tr>\n",
       "    <tr>\n",
       "      <th>caproic-acid_100g</th>\n",
       "      <td>320772</td>\n",
       "      <td>100.000</td>\n",
       "    </tr>\n",
       "    <tr>\n",
       "      <th>butyric-acid_100g</th>\n",
       "      <td>320772</td>\n",
       "      <td>100.000</td>\n",
       "    </tr>\n",
       "    <tr>\n",
       "      <th>nutrition_grade_uk</th>\n",
       "      <td>320772</td>\n",
       "      <td>100.000</td>\n",
       "    </tr>\n",
       "    <tr>\n",
       "      <th>ingredients_that_may_be_from_palm_oil</th>\n",
       "      <td>320772</td>\n",
       "      <td>100.000</td>\n",
       "    </tr>\n",
       "    <tr>\n",
       "      <th>no_nutriments</th>\n",
       "      <td>320772</td>\n",
       "      <td>100.000</td>\n",
       "    </tr>\n",
       "    <tr>\n",
       "      <th>water-hardness_100g</th>\n",
       "      <td>320772</td>\n",
       "      <td>100.000</td>\n",
       "    </tr>\n",
       "  </tbody>\n",
       "</table>\n",
       "</div>"
      ],
      "text/plain": [
       "                                       count_missing  percent_missing\n",
       "ingredients_from_palm_oil                     320772          100.000\n",
       "chlorophyl_100g                               320772          100.000\n",
       "lignoceric-acid_100g                          320772          100.000\n",
       "cerotic-acid_100g                             320772          100.000\n",
       "melissic-acid_100g                            320772          100.000\n",
       "glycemic-index_100g                           320772          100.000\n",
       "elaidic-acid_100g                             320772          100.000\n",
       "mead-acid_100g                                320772          100.000\n",
       "erucic-acid_100g                              320772          100.000\n",
       "nervonic-acid_100g                            320772          100.000\n",
       "caproic-acid_100g                             320772          100.000\n",
       "butyric-acid_100g                             320772          100.000\n",
       "nutrition_grade_uk                            320772          100.000\n",
       "ingredients_that_may_be_from_palm_oil         320772          100.000\n",
       "no_nutriments                                 320772          100.000\n",
       "water-hardness_100g                           320772          100.000"
      ]
     },
     "metadata": {},
     "output_type": "display_data"
    }
   ],
   "source": [
    "print(f\"Colonnes ne contenant aucune valeur :\")\n",
    "display(missing_values[missing_values['count_missing'] == len(data)])"
   ]
  },
  {
   "cell_type": "code",
   "execution_count": 8,
   "metadata": {},
   "outputs": [
    {
     "name": "stdout",
     "output_type": "stream",
     "text": [
      "16 colonnes effacées.\n"
     ]
    }
   ],
   "source": [
    "columns_to_delete = missing_values[missing_values['count_missing'] == len(data)].index.values\n",
    "data.drop(columns=columns_to_delete, inplace=True, errors='ignore') \n",
    "missing_values.drop(index=columns_to_delete, inplace=True) # ignore colonnes vides dans la suite de l'analyse\n",
    "print(f\"{len(columns_to_delete)} colonnes effacées.\")"
   ]
  },
  {
   "cell_type": "code",
   "execution_count": 9,
   "metadata": {},
   "outputs": [
    {
     "name": "stdout",
     "output_type": "stream",
     "text": [
      "Colonnes avec moins de 20% valeurs manquantes :\n"
     ]
    },
    {
     "data": {
      "text/html": [
       "<div>\n",
       "<style scoped>\n",
       "    .dataframe tbody tr th:only-of-type {\n",
       "        vertical-align: middle;\n",
       "    }\n",
       "\n",
       "    .dataframe tbody tr th {\n",
       "        vertical-align: top;\n",
       "    }\n",
       "\n",
       "    .dataframe thead th {\n",
       "        text-align: right;\n",
       "    }\n",
       "</style>\n",
       "<table border=\"1\" class=\"dataframe\">\n",
       "  <thead>\n",
       "    <tr style=\"text-align: right;\">\n",
       "      <th></th>\n",
       "      <th>count_missing</th>\n",
       "      <th>percent_missing</th>\n",
       "    </tr>\n",
       "  </thead>\n",
       "  <tbody>\n",
       "    <tr>\n",
       "      <th>creator</th>\n",
       "      <td>2</td>\n",
       "      <td>0.001</td>\n",
       "    </tr>\n",
       "    <tr>\n",
       "      <th>code</th>\n",
       "      <td>23</td>\n",
       "      <td>0.007</td>\n",
       "    </tr>\n",
       "    <tr>\n",
       "      <th>url</th>\n",
       "      <td>23</td>\n",
       "      <td>0.007</td>\n",
       "    </tr>\n",
       "    <tr>\n",
       "      <th>states</th>\n",
       "      <td>46</td>\n",
       "      <td>0.014</td>\n",
       "    </tr>\n",
       "    <tr>\n",
       "      <th>states_tags</th>\n",
       "      <td>46</td>\n",
       "      <td>0.014</td>\n",
       "    </tr>\n",
       "    <tr>\n",
       "      <th>states_fr</th>\n",
       "      <td>46</td>\n",
       "      <td>0.014</td>\n",
       "    </tr>\n",
       "    <tr>\n",
       "      <th>countries_tags</th>\n",
       "      <td>280</td>\n",
       "      <td>0.087</td>\n",
       "    </tr>\n",
       "    <tr>\n",
       "      <th>countries</th>\n",
       "      <td>280</td>\n",
       "      <td>0.087</td>\n",
       "    </tr>\n",
       "    <tr>\n",
       "      <th>countries_fr</th>\n",
       "      <td>280</td>\n",
       "      <td>0.087</td>\n",
       "    </tr>\n",
       "    <tr>\n",
       "      <th>product_name</th>\n",
       "      <td>17762</td>\n",
       "      <td>5.537</td>\n",
       "    </tr>\n",
       "    <tr>\n",
       "      <th>brands</th>\n",
       "      <td>28412</td>\n",
       "      <td>8.857</td>\n",
       "    </tr>\n",
       "    <tr>\n",
       "      <th>brands_tags</th>\n",
       "      <td>28420</td>\n",
       "      <td>8.860</td>\n",
       "    </tr>\n",
       "    <tr>\n",
       "      <th>energy_100g</th>\n",
       "      <td>59659</td>\n",
       "      <td>18.599</td>\n",
       "    </tr>\n",
       "    <tr>\n",
       "      <th>proteins_100g</th>\n",
       "      <td>60850</td>\n",
       "      <td>18.970</td>\n",
       "    </tr>\n",
       "  </tbody>\n",
       "</table>\n",
       "</div>"
      ],
      "text/plain": [
       "                count_missing  percent_missing\n",
       "creator                     2            0.001\n",
       "code                       23            0.007\n",
       "url                        23            0.007\n",
       "states                     46            0.014\n",
       "states_tags                46            0.014\n",
       "states_fr                  46            0.014\n",
       "countries_tags            280            0.087\n",
       "countries                 280            0.087\n",
       "countries_fr              280            0.087\n",
       "product_name            17762            5.537\n",
       "brands                  28412            8.857\n",
       "brands_tags             28420            8.860\n",
       "energy_100g             59659           18.599\n",
       "proteins_100g           60850           18.970"
      ]
     },
     "metadata": {},
     "output_type": "display_data"
    }
   ],
   "source": [
    "threshold = 20 \n",
    "print(f\"Colonnes avec moins de {threshold}% valeurs manquantes :\")\n",
    "display(missing_values[missing_values['percent_missing'] < threshold])"
   ]
  },
  {
   "cell_type": "code",
   "execution_count": 10,
   "metadata": {},
   "outputs": [
    {
     "name": "stdout",
     "output_type": "stream",
     "text": [
      "Colonnes avec plus de 99.99% valeurs manquantes :\n"
     ]
    },
    {
     "data": {
      "text/html": [
       "<div>\n",
       "<style scoped>\n",
       "    .dataframe tbody tr th:only-of-type {\n",
       "        vertical-align: middle;\n",
       "    }\n",
       "\n",
       "    .dataframe tbody tr th {\n",
       "        vertical-align: top;\n",
       "    }\n",
       "\n",
       "    .dataframe thead th {\n",
       "        text-align: right;\n",
       "    }\n",
       "</style>\n",
       "<table border=\"1\" class=\"dataframe\">\n",
       "  <thead>\n",
       "    <tr style=\"text-align: right;\">\n",
       "      <th></th>\n",
       "      <th>count_missing</th>\n",
       "      <th>percent_missing</th>\n",
       "    </tr>\n",
       "  </thead>\n",
       "  <tbody>\n",
       "    <tr>\n",
       "      <th>taurine_100g</th>\n",
       "      <td>320743</td>\n",
       "      <td>99.991</td>\n",
       "    </tr>\n",
       "    <tr>\n",
       "      <th>casein_100g</th>\n",
       "      <td>320745</td>\n",
       "      <td>99.992</td>\n",
       "    </tr>\n",
       "    <tr>\n",
       "      <th>glucose_100g</th>\n",
       "      <td>320746</td>\n",
       "      <td>99.992</td>\n",
       "    </tr>\n",
       "    <tr>\n",
       "      <th>arachidic-acid_100g</th>\n",
       "      <td>320748</td>\n",
       "      <td>99.993</td>\n",
       "    </tr>\n",
       "    <tr>\n",
       "      <th>gamma-linolenic-acid_100g</th>\n",
       "      <td>320748</td>\n",
       "      <td>99.993</td>\n",
       "    </tr>\n",
       "    <tr>\n",
       "      <th>cities</th>\n",
       "      <td>320749</td>\n",
       "      <td>99.993</td>\n",
       "    </tr>\n",
       "    <tr>\n",
       "      <th>behenic-acid_100g</th>\n",
       "      <td>320749</td>\n",
       "      <td>99.993</td>\n",
       "    </tr>\n",
       "    <tr>\n",
       "      <th>dihomo-gamma-linolenic-acid_100g</th>\n",
       "      <td>320749</td>\n",
       "      <td>99.993</td>\n",
       "    </tr>\n",
       "    <tr>\n",
       "      <th>omega-9-fat_100g</th>\n",
       "      <td>320751</td>\n",
       "      <td>99.993</td>\n",
       "    </tr>\n",
       "    <tr>\n",
       "      <th>chromium_100g</th>\n",
       "      <td>320752</td>\n",
       "      <td>99.994</td>\n",
       "    </tr>\n",
       "    <tr>\n",
       "      <th>allergens_fr</th>\n",
       "      <td>320753</td>\n",
       "      <td>99.994</td>\n",
       "    </tr>\n",
       "    <tr>\n",
       "      <th>serum-proteins_100g</th>\n",
       "      <td>320756</td>\n",
       "      <td>99.995</td>\n",
       "    </tr>\n",
       "    <tr>\n",
       "      <th>gondoic-acid_100g</th>\n",
       "      <td>320758</td>\n",
       "      <td>99.996</td>\n",
       "    </tr>\n",
       "    <tr>\n",
       "      <th>oleic-acid_100g</th>\n",
       "      <td>320759</td>\n",
       "      <td>99.996</td>\n",
       "    </tr>\n",
       "    <tr>\n",
       "      <th>maltodextrins_100g</th>\n",
       "      <td>320761</td>\n",
       "      <td>99.997</td>\n",
       "    </tr>\n",
       "    <tr>\n",
       "      <th>molybdenum_100g</th>\n",
       "      <td>320761</td>\n",
       "      <td>99.997</td>\n",
       "    </tr>\n",
       "    <tr>\n",
       "      <th>nucleotides_100g</th>\n",
       "      <td>320763</td>\n",
       "      <td>99.997</td>\n",
       "    </tr>\n",
       "    <tr>\n",
       "      <th>arachidonic-acid_100g</th>\n",
       "      <td>320764</td>\n",
       "      <td>99.998</td>\n",
       "    </tr>\n",
       "    <tr>\n",
       "      <th>maltose_100g</th>\n",
       "      <td>320768</td>\n",
       "      <td>99.999</td>\n",
       "    </tr>\n",
       "    <tr>\n",
       "      <th>lauric-acid_100g</th>\n",
       "      <td>320768</td>\n",
       "      <td>99.999</td>\n",
       "    </tr>\n",
       "    <tr>\n",
       "      <th>capric-acid_100g</th>\n",
       "      <td>320770</td>\n",
       "      <td>99.999</td>\n",
       "    </tr>\n",
       "    <tr>\n",
       "      <th>caprylic-acid_100g</th>\n",
       "      <td>320771</td>\n",
       "      <td>100.000</td>\n",
       "    </tr>\n",
       "    <tr>\n",
       "      <th>myristic-acid_100g</th>\n",
       "      <td>320771</td>\n",
       "      <td>100.000</td>\n",
       "    </tr>\n",
       "    <tr>\n",
       "      <th>palmitic-acid_100g</th>\n",
       "      <td>320771</td>\n",
       "      <td>100.000</td>\n",
       "    </tr>\n",
       "    <tr>\n",
       "      <th>stearic-acid_100g</th>\n",
       "      <td>320771</td>\n",
       "      <td>100.000</td>\n",
       "    </tr>\n",
       "    <tr>\n",
       "      <th>montanic-acid_100g</th>\n",
       "      <td>320771</td>\n",
       "      <td>100.000</td>\n",
       "    </tr>\n",
       "  </tbody>\n",
       "</table>\n",
       "</div>"
      ],
      "text/plain": [
       "                                  count_missing  percent_missing\n",
       "taurine_100g                             320743           99.991\n",
       "casein_100g                              320745           99.992\n",
       "glucose_100g                             320746           99.992\n",
       "arachidic-acid_100g                      320748           99.993\n",
       "gamma-linolenic-acid_100g                320748           99.993\n",
       "cities                                   320749           99.993\n",
       "behenic-acid_100g                        320749           99.993\n",
       "dihomo-gamma-linolenic-acid_100g         320749           99.993\n",
       "omega-9-fat_100g                         320751           99.993\n",
       "chromium_100g                            320752           99.994\n",
       "allergens_fr                             320753           99.994\n",
       "serum-proteins_100g                      320756           99.995\n",
       "gondoic-acid_100g                        320758           99.996\n",
       "oleic-acid_100g                          320759           99.996\n",
       "maltodextrins_100g                       320761           99.997\n",
       "molybdenum_100g                          320761           99.997\n",
       "nucleotides_100g                         320763           99.997\n",
       "arachidonic-acid_100g                    320764           99.998\n",
       "maltose_100g                             320768           99.999\n",
       "lauric-acid_100g                         320768           99.999\n",
       "capric-acid_100g                         320770           99.999\n",
       "caprylic-acid_100g                       320771          100.000\n",
       "myristic-acid_100g                       320771          100.000\n",
       "palmitic-acid_100g                       320771          100.000\n",
       "stearic-acid_100g                        320771          100.000\n",
       "montanic-acid_100g                       320771          100.000"
      ]
     },
     "metadata": {},
     "output_type": "display_data"
    }
   ],
   "source": [
    "threshold = 99.99\n",
    "print(f\"Colonnes avec plus de {threshold}% valeurs manquantes :\")\n",
    "display(missing_values[missing_values['percent_missing'] > threshold])"
   ]
  },
  {
   "cell_type": "markdown",
   "metadata": {},
   "source": [
    "### Suppressions des colonnes contenant moins de 200 valeurs\n",
    "Nous renonçons à exploiter les colonnes qui contiennent trop peu de données. La valeur de seuil retenue est arbitraire, et nous serons peut-être amenés à la modifier. "
   ]
  },
  {
   "cell_type": "code",
   "execution_count": 11,
   "metadata": {},
   "outputs": [
    {
     "name": "stdout",
     "output_type": "stream",
     "text": [
      "omega-6-fat_100g, alpha-linolenic-acid_100g, collagen-meat-protein-ratio_100g, chloride_100g, linoleic-acid_100g, bicarbonate_100g, fluoride_100g, docosahexaenoic-acid_100g, caffeine_100g, sucrose_100g, ph_100g, eicosapentaenoic-acid_100g, fructose_100g, silica_100g, beta-carotene_100g, taurine_100g, casein_100g, glucose_100g, arachidic-acid_100g, gamma-linolenic-acid_100g, cities, behenic-acid_100g, dihomo-gamma-linolenic-acid_100g, omega-9-fat_100g, chromium_100g, allergens_fr, serum-proteins_100g, gondoic-acid_100g, oleic-acid_100g, maltodextrins_100g, molybdenum_100g, nucleotides_100g, arachidonic-acid_100g, maltose_100g, lauric-acid_100g, capric-acid_100g, caprylic-acid_100g, myristic-acid_100g, palmitic-acid_100g, stearic-acid_100g, montanic-acid_100g\n",
      "41 colonnes effacées.\n"
     ]
    }
   ],
   "source": [
    "columns_to_delete = missing_values[missing_values['count_missing'] > len(data) - 200].index\n",
    "print(', '.join(columns_to_delete))\n",
    "data.drop(columns=columns_to_delete, inplace=True, errors='ignore') \n",
    "print(f\"{len(columns_to_delete)} colonnes effacées.\")"
   ]
  },
  {
   "cell_type": "markdown",
   "metadata": {},
   "source": [
    "### Liste des colonnes normalisées (avec le suffixe '_tags')"
   ]
  },
  {
   "cell_type": "code",
   "execution_count": 12,
   "metadata": {},
   "outputs": [
    {
     "name": "stdout",
     "output_type": "stream",
     "text": [
      "packaging_tags, brands_tags, categories_tags, origins_tags, manufacturing_places_tags, labels_tags, emb_codes_tags, cities_tags, countries_tags, traces_tags, additives_tags, ingredients_from_palm_oil_tags, ingredients_that_may_be_from_palm_oil_tags, states_tags\n",
      "(14 colonnes trouvées)\n"
     ]
    }
   ],
   "source": [
    "tags_cols = [col for col in data.columns if '_tags' in col] # list de colonnes terminant par '_tags'\n",
    "print(', '.join(tags_cols))\n",
    "print(f\"({len(tags_cols)} colonnes trouvées)\")"
   ]
  },
  {
   "cell_type": "code",
   "execution_count": 13,
   "metadata": {},
   "outputs": [
    {
     "name": "stdout",
     "output_type": "stream",
     "text": [
      "Valeur la plus courante pour packaging: ('Carton', 'carton') 2153\n",
      "Valeur la plus courante pour brands: ('Carrefour', 'carrefour') 2978\n",
      "Valeur la plus courante pour categories: ('Snacks sucrés,Biscuits et gâteaux,Biscuits', 'en:sugary-snacks,en:biscuits-and-cakes,en:biscuits') 293\n",
      "Valeur la plus courante pour origins: ('France', 'france') 5171\n",
      "Valeur la plus courante pour manufacturing_places: ('France', 'france') 9371\n",
      "Valeur la plus courante pour labels: ('Organic, EU Organic, fr:AB Agriculture Biologique', 'en:organic,en:eu-organic,fr:ab-agriculture-biologique') 3220\n",
      "Valeur la plus courante pour emb_codes: ('EMB 56251E', 'emb-56251e') 218\n",
      "Valeur la plus courante pour countries: ('US', 'en:united-states') 169928\n",
      "Valeur la plus courante pour traces: ('Fruits à coque', 'en:nuts') 1240\n",
      "Valeur la plus courante pour additives: (' [ semolina -> en:semolina  ]  [ wheat -> en:wheat  ]  [ durum-flour -> en:durum-flour  ]  [ flour -> en:flour  ]  [ wheat -> en:wheat  ]  [ niacin -> en:e375  -> exists  -- ok  ]  [ ferrous-sulfate -> en:ferrous-sulfate  ]  [ sulfate -> en:sulfate  ]  [ iron -> en:iron  ]  [ thiamin-mononitrate -> en:thiamin-mononitrate  ]  [ mononitrate -> en:mononitrate  ]  [ riboflavin -> en:e101  -> exists  -- ok  ]  [ folic-acid -> en:folic-acid  ]  [ acid -> en:acid  ] ', 'en:e375,en:e101') 188\n",
      "Valeur la plus courante pour states: ('en:to-be-completed, en:nutrition-facts-completed, en:ingredients-completed, en:expiration-date-to-be-completed, en:packaging-code-to-be-completed, en:characteristics-to-be-completed, en:categories-to-be-completed, en:brands-completed, en:packaging-to-be-completed, en:quantity-to-be-completed, en:product-name-completed, en:photos-to-be-uploaded', 'en:to-be-completed,en:nutrition-facts-completed,en:ingredients-completed,en:expiration-date-to-be-completed,en:packaging-code-to-be-completed,en:characteristics-to-be-completed,en:categories-to-be-completed,en:brands-completed,en:packaging-to-be-completed,en:quantity-to-be-completed,en:product-name-completed,en:photos-to-be-uploaded') 168905\n"
     ]
    }
   ],
   "source": [
    "raw_cols = [col[:-5] for col in tags_cols if col[:-5] in data.columns]\n",
    "for col in raw_cols:\n",
    "    s = data.groupby([col, col+'_tags']).size().sort_values(ascending=False)\n",
    "    print(f\"Valeur la plus courante pour {col}: {s.index[0]} {s[0]}\")"
   ]
  },
  {
   "cell_type": "markdown",
   "metadata": {},
   "source": [
    "### Nous décidons de ne conserver que la version normalisée de chaque colonne"
   ]
  },
  {
   "cell_type": "code",
   "execution_count": 14,
   "metadata": {},
   "outputs": [
    {
     "name": "stdout",
     "output_type": "stream",
     "text": [
      "11 colonnes effacées.\n"
     ]
    }
   ],
   "source": [
    "data.drop(columns=raw_cols, inplace=True, errors='ignore') \n",
    "print(f\"{len(raw_cols)} colonnes effacées.\")"
   ]
  },
  {
   "cell_type": "markdown",
   "metadata": {},
   "source": [
    "## Examen des colonnes hors informations nutritionnelles"
   ]
  },
  {
   "cell_type": "code",
   "execution_count": 15,
   "metadata": {},
   "outputs": [],
   "source": [
    "# liste des colonnes que nous déciderons d'effacer\n",
    "columns_to_be_deleted = []\n",
    "# fonction d'affichage de renseignements sur une colonne donnée\n",
    "def print_col_info(column):\n",
    "    if column in data.columns:\n",
    "        num_na = data[column].isnull().sum()\n",
    "        print(f\"Nombre d'entrées manquantes : {num_na} ({num_na/len(data)*100:0.2f}%)\")\n",
    "        #unique_vals = data[[column]].groupby(column).size().sort_values(ascending=False)\n",
    "        unique_vals = data[column].value_counts()\n",
    "        num_samples = 10\n",
    "        print(\"Valeurs les plus courantes : \" + ' ; '.join(str(x) for x in unique_vals.iloc[:num_samples].index))"
   ]
  },
  {
   "cell_type": "markdown",
   "metadata": {},
   "source": [
    "### Marque"
   ]
  },
  {
   "cell_type": "code",
   "execution_count": 16,
   "metadata": {},
   "outputs": [
    {
     "name": "stdout",
     "output_type": "stream",
     "text": [
      "Nombre d'entrées manquantes : 28420 (8.86%)\n",
      "Valeurs les plus courantes : carrefour ; auchan ; u ; meijer ; leader-price ; casino ; kroger ; ahold ; spartan ; roundy-s\n"
     ]
    }
   ],
   "source": [
    "print_col_info('brands_tags')"
   ]
  },
  {
   "cell_type": "markdown",
   "metadata": {},
   "source": [
    "Cet attribut, bien qu'a priori sans lien direct avec la qualité nutritionnelle du produit, pourrait toutefois présenter une corrélation avec sa qualité. Nous le conservons donc, après amélioration du format."
   ]
  },
  {
   "cell_type": "code",
   "execution_count": 17,
   "metadata": {},
   "outputs": [],
   "source": [
    "data['brands_tags'] = data['brands_tags'].str.title() # capitalise les débuts de mots"
   ]
  },
  {
   "cell_type": "markdown",
   "metadata": {},
   "source": [
    "Pour de nombreuses entrées, `brands_tags` est constitué de plusieurs marques (ou sous-marques) séparées par des virgules. Nous décidons de stocker le premier élément de cette liste dans un nouvel attribut `main_brand`."
   ]
  },
  {
   "cell_type": "code",
   "execution_count": 18,
   "metadata": {},
   "outputs": [],
   "source": [
    "data['main_brand'] = data['brands_tags'].str.split(pat=',').str[0]"
   ]
  },
  {
   "cell_type": "markdown",
   "metadata": {},
   "source": [
    "### Conditionnement"
   ]
  },
  {
   "cell_type": "code",
   "execution_count": 19,
   "metadata": {
    "scrolled": true
   },
   "outputs": [
    {
     "name": "stdout",
     "output_type": "stream",
     "text": [
      "Nombre d'entrées manquantes : 241811 (75.38%)\n",
      "Valeurs les plus courantes : sachet,plastique ; carton ; plastique ; barquette,plastique ; bouteille,verre ; conserve ; bouteille,plastique ; bocal,verre ; kunststoff ; carton,plastique\n"
     ]
    }
   ],
   "source": [
    "print_col_info('packaging_tags')"
   ]
  },
  {
   "cell_type": "code",
   "execution_count": 20,
   "metadata": {
    "scrolled": true
   },
   "outputs": [
    {
     "name": "stdout",
     "output_type": "stream",
     "text": [
      "Nombre d'entrées manquantes : 215953 (67.32%)\n",
      "Valeurs les plus courantes : 500 g ; 200 g ; 250 g ; 100 g ; 400 g ; 300 g ; 150 g ; 1 l ; 1 kg ; 125 g\n"
     ]
    }
   ],
   "source": [
    "print_col_info('quantity')"
   ]
  },
  {
   "cell_type": "code",
   "execution_count": 21,
   "metadata": {
    "scrolled": true
   },
   "outputs": [
    {
     "name": "stdout",
     "output_type": "stream",
     "text": [
      "Nombre d'entrées manquantes : 109441 (34.12%)\n",
      "Valeurs les plus courantes : 240 ml (8 fl oz) ; 28 g (1 oz) ; 28 g (1 ONZ) ; 15 ml (1 Tbsp) ; 30 g (2 Tbsp) ; 30 g ; 30 g (0.25 cup) ; 240 ml (1 cup) ; 14 g (1 Tbsp) ; 30 ml (2 Tbsp)\n"
     ]
    }
   ],
   "source": [
    "print_col_info('serving_size')"
   ]
  },
  {
   "cell_type": "markdown",
   "metadata": {},
   "source": [
    "La qualité nutritionnel d'un produit est indépendante de son conditionnement : ces colonnes ne nous serons donc pas utiles."
   ]
  },
  {
   "cell_type": "code",
   "execution_count": 22,
   "metadata": {},
   "outputs": [],
   "source": [
    "columns_to_be_deleted.extend(['packaging_tags', 'quantity', 'serving_size'])"
   ]
  },
  {
   "cell_type": "markdown",
   "metadata": {},
   "source": [
    "### Lieux de vente"
   ]
  },
  {
   "cell_type": "code",
   "execution_count": 23,
   "metadata": {
    "scrolled": true
   },
   "outputs": [
    {
     "name": "stdout",
     "output_type": "stream",
     "text": [
      "Nombre d'entrées manquantes : 269050 (83.88%)\n",
      "Valeurs les plus courantes : Carrefour ; Auchan ; Leclerc ; Cora ; Intermarché ; Lidl ; Franprix ; Aldi ; Super U ; Casino\n"
     ]
    }
   ],
   "source": [
    "print_col_info('stores')"
   ]
  },
  {
   "cell_type": "code",
   "execution_count": 24,
   "metadata": {},
   "outputs": [
    {
     "name": "stdout",
     "output_type": "stream",
     "text": [
      "Nombre d'entrées manquantes : 280 (0.09%)\n",
      "Valeurs les plus courantes : en:united-states ; en:france ; en:switzerland ; en:germany ; en:spain ; en:united-kingdom ; en:belgium ; en:australia ; en:russia ; en:france,en:switzerland\n"
     ]
    }
   ],
   "source": [
    "print_col_info('countries_tags')"
   ]
  },
  {
   "cell_type": "code",
   "execution_count": 25,
   "metadata": {},
   "outputs": [
    {
     "name": "stdout",
     "output_type": "stream",
     "text": [
      "Nombre d'entrées manquantes : 280 (0.09%)\n",
      "Valeurs les plus courantes : États-Unis ; France ; Suisse ; Allemagne ; Espagne ; Royaume-Uni ; Belgique ; Australie ; Russie ; France,Suisse\n"
     ]
    }
   ],
   "source": [
    "print_col_info('countries_fr')"
   ]
  },
  {
   "cell_type": "code",
   "execution_count": 26,
   "metadata": {},
   "outputs": [
    {
     "name": "stdout",
     "output_type": "stream",
     "text": [
      "Nombre d'entrées manquantes : 262579 (81.86%)\n",
      "Valeurs les plus courantes : France ; Lyon,France ; Courrières,France ; Madrid,España ; Paris,France ; España ; Rennes,France ; Deutschland ; Liverpool,United Kingdom ; France,Nantes\n"
     ]
    }
   ],
   "source": [
    "print_col_info('purchase_places')"
   ]
  },
  {
   "cell_type": "markdown",
   "metadata": {},
   "source": [
    "Ces attributs ne nous renseignent pas sur la qualité du produit."
   ]
  },
  {
   "cell_type": "code",
   "execution_count": 27,
   "metadata": {},
   "outputs": [],
   "source": [
    "columns_to_be_deleted.extend(['stores', 'countries_tags', 'countries_fr', 'purchase_places'])"
   ]
  },
  {
   "cell_type": "markdown",
   "metadata": {},
   "source": [
    "### Source des données"
   ]
  },
  {
   "cell_type": "code",
   "execution_count": 28,
   "metadata": {
    "scrolled": true
   },
   "outputs": [
    {
     "name": "stdout",
     "output_type": "stream",
     "text": [
      "Nombre d'entrées manquantes : 2 (0.00%)\n",
      "Valeurs les plus courantes : usda-ndb-import ; openfoodfacts-contributors ; kiliweb ; date-limite-app ; openfood-ch-import ; tacite ; sebleouf ; tacinte ; javichu ; stephane\n"
     ]
    }
   ],
   "source": [
    "print_col_info('creator')"
   ]
  },
  {
   "cell_type": "markdown",
   "metadata": {},
   "source": [
    "Cet attribut n'est pas nécessaire à notre projet. \n",
    "\n",
    "Il est toutefois probable qu'il existe une corrélation entre source et qualité des données ; nous pourrions donc être amenés à le rétablir."
   ]
  },
  {
   "cell_type": "code",
   "execution_count": 29,
   "metadata": {},
   "outputs": [],
   "source": [
    "columns_to_be_deleted.append('creator')"
   ]
  },
  {
   "cell_type": "markdown",
   "metadata": {},
   "source": [
    "### Description du produit"
   ]
  },
  {
   "cell_type": "code",
   "execution_count": 30,
   "metadata": {
    "scrolled": true
   },
   "outputs": [
    {
     "name": "stdout",
     "output_type": "stream",
     "text": [
      "Nombre d'entrées manquantes : 17762 (5.54%)\n",
      "Valeurs les plus courantes : Ice Cream ; Extra Virgin Olive Oil ; Potato Chips ; Premium Ice Cream ; Tomato Ketchup ; Beef Jerky ; Pinto Beans ; Popcorn ; Cookies ; Salsa\n"
     ]
    }
   ],
   "source": [
    "print_col_info('product_name')"
   ]
  },
  {
   "cell_type": "code",
   "execution_count": 31,
   "metadata": {},
   "outputs": [
    {
     "name": "stdout",
     "output_type": "stream",
     "text": [
      "Nombre d'entrées manquantes : 267977 (83.54%)\n",
      "Valeurs les plus courantes : Pâtes alimentaires au blé dur de qualité supérieure ; Aliment pour bébés ; Pâtes alimentaires de qualité supérieure ; Jambon cuit supérieur ; Jus d'orange ; Fromage industriel de France, à pâte molle à croûte fleurie, au lait pasteurisé de vache ; Plat préparé en conserve ; Natürliches Mineralwasser mit Kohlensäure versetzt ; Lait demi-écrémé stérilisé UHT ; Chocolat noir\n"
     ]
    }
   ],
   "source": [
    "print_col_info('generic_name')"
   ]
  },
  {
   "cell_type": "code",
   "execution_count": 32,
   "metadata": {
    "scrolled": true
   },
   "outputs": [
    {
     "name": "stdout",
     "output_type": "stream",
     "text": [
      "Nombre d'entrées manquantes : 236383 (73.69%)\n",
      "Valeurs les plus courantes : en:sugary-snacks,en:biscuits-and-cakes,en:biscuits ; en:sugary-snacks,en:chocolates,en:dark-chocolates ; en:sugary-snacks,en:confectioneries,en:candies ; en:plant-based-foods-and-beverages,en:plant-based-foods,en:breakfasts,en:cereals-and-potatoes,en:cereals-and-their-products,en:breakfast-cereals ; en:sugary-snacks,en:biscuits-and-cakes,en:biscuits,en:chocolate-biscuits ; en:salty-snacks,en:appetizers,en:crackers ; en:dairies,en:yogurts ; en:sugary-snacks,en:chocolates,en:milk-chocolates ; en:sugary-snacks,en:chocolates ; en:groceries,en:sauces\n"
     ]
    }
   ],
   "source": [
    "print_col_info('categories_tags')"
   ]
  },
  {
   "cell_type": "code",
   "execution_count": 33,
   "metadata": {},
   "outputs": [
    {
     "name": "stdout",
     "output_type": "stream",
     "text": [
      "Nombre d'entrées manquantes : 236361 (73.69%)\n",
      "Valeurs les plus courantes : Snacks sucrés,Biscuits et gâteaux,Biscuits ; Snacks sucrés,Chocolats,Chocolats noirs ; Snacks sucrés,Confiseries,Bonbons ; Aliments et boissons à base de végétaux,Aliments d'origine végétale,Petit-déjeuners,Céréales et pommes de terre,Céréales et dérivés,Céréales pour petit-déjeuner ; Snacks sucrés,Biscuits et gâteaux,Biscuits,Biscuits au chocolat ; Snacks salés,Apéritif,Biscuits apéritifs ; Produits laitiers,Yaourts ; Snacks sucrés,Chocolats,Chocolats au lait ; Snacks sucrés,Chocolats ; Epicerie,Sauces\n"
     ]
    }
   ],
   "source": [
    "print_col_info('categories_fr')"
   ]
  },
  {
   "cell_type": "code",
   "execution_count": 34,
   "metadata": {},
   "outputs": [
    {
     "name": "stdout",
     "output_type": "stream",
     "text": [
      "Nombre d'entrées manquantes : 236406 (73.70%)\n",
      "Valeurs les plus courantes : en:beverages ; en:groceries ; en:chocolates ; en:plant-based-foods-and-beverages ; en:canned-foods ; en:biscuits ; en:meals ; en:sugary-snacks ; en:frozen-foods ; en:breakfasts\n"
     ]
    }
   ],
   "source": [
    "print_col_info('main_category')"
   ]
  },
  {
   "cell_type": "code",
   "execution_count": 35,
   "metadata": {},
   "outputs": [],
   "source": [
    "# Nous gardons une trace de la répartition des produits parmi les principales catégories\n",
    "orig_top_categories = data['main_category'].value_counts().head(15)\n",
    "orig_top_categories.index = orig_top_categories.index.str[3:]"
   ]
  },
  {
   "cell_type": "code",
   "execution_count": 36,
   "metadata": {},
   "outputs": [
    {
     "name": "stdout",
     "output_type": "stream",
     "text": [
      "Nombre d'entrées manquantes : 236406 (73.70%)\n",
      "Valeurs les plus courantes : Boissons ; Epicerie ; Chocolats ; Aliments et boissons à base de végétaux ; Conserves ; Biscuits ; Plats préparés ; Snacks sucrés ; Surgelés ; Petit-déjeuners\n"
     ]
    }
   ],
   "source": [
    "print_col_info('main_category_fr')"
   ]
  },
  {
   "cell_type": "code",
   "execution_count": 37,
   "metadata": {
    "scrolled": true
   },
   "outputs": [
    {
     "name": "stdout",
     "output_type": "stream",
     "text": [
      "Nombre d'entrées manquantes : 229259 (71.47%)\n",
      "Valeurs les plus courantes : unknown ; Sugary snacks ; Beverages ; Milk and dairy products ; Cereals and potatoes ; Fish Meat Eggs ; Composite foods ; Fruits and vegetables ; Fat and sauces ; Salty snacks\n"
     ]
    }
   ],
   "source": [
    "print_col_info('pnns_groups_1')"
   ]
  },
  {
   "cell_type": "code",
   "execution_count": 38,
   "metadata": {},
   "outputs": [
    {
     "name": "stdout",
     "output_type": "stream",
     "text": [
      "Nombre d'entrées manquantes : 226281 (70.54%)\n",
      "Valeurs les plus courantes : unknown ; One-dish meals ; Sweets ; Biscuits and cakes ; Non-sugared beverages ; Cereals ; Cheese ; Dressings and sauces ; Milk and yogurt ; Processed meat\n"
     ]
    }
   ],
   "source": [
    "print_col_info('pnns_groups_2')"
   ]
  },
  {
   "cell_type": "markdown",
   "metadata": {},
   "source": [
    "Nous ne conservons pour notre analyse que les attributs `product_name` et `main_category`, seuls facilement exploitables. Ce dernier permettra une comparaison avec des produits similaires, donc un classement."
   ]
  },
  {
   "cell_type": "code",
   "execution_count": 39,
   "metadata": {},
   "outputs": [],
   "source": [
    "columns_to_be_deleted.extend(['generic_name', 'categories_tags', 'categories_fr', \n",
    "                             'main_category_fr', 'pnns_groups_1', 'pnns_groups_2'])"
   ]
  },
  {
   "cell_type": "markdown",
   "metadata": {},
   "source": [
    "### Lieu de production ou de conditionnement"
   ]
  },
  {
   "cell_type": "code",
   "execution_count": 40,
   "metadata": {
    "scrolled": true
   },
   "outputs": [
    {
     "name": "stdout",
     "output_type": "stream",
     "text": [
      "Nombre d'entrées manquantes : 298619 (93.09%)\n",
      "Valeurs les plus courantes : france ; union-europeenne ; espana ; italie ; espagne ; australia ; deutschland ; belgique ; agricultura-ue,agricultura-no-ue ; suisse\n"
     ]
    }
   ],
   "source": [
    "print_col_info('origins_tags')"
   ]
  },
  {
   "cell_type": "code",
   "execution_count": 41,
   "metadata": {
    "scrolled": true
   },
   "outputs": [
    {
     "name": "stdout",
     "output_type": "stream",
     "text": [
      "Nombre d'entrées manquantes : 284277 (88.62%)\n",
      "Valeurs les plus courantes : france ; italie ; deutschland ; belgique ; suisse ; allemagne ; australia ; espagne ; united-kingdom ; france,bretagne\n"
     ]
    }
   ],
   "source": [
    "print_col_info('manufacturing_places_tags')"
   ]
  },
  {
   "cell_type": "code",
   "execution_count": 42,
   "metadata": {},
   "outputs": [
    {
     "name": "stdout",
     "output_type": "stream",
     "text": [
      "Nombre d'entrées manquantes : 291469 (90.86%)\n",
      "Valeurs les plus courantes : emb-56251e ; fr-85-154-002-ec ; emb-49331h ; fr-72-264-002-ec ; fr-29-247-022-ec ; emb-45273 ; fr-22-046-001-ec ; fr-62-767-005-ec ; fr-40-261-001-ec ; fr-72-181-001-ec\n"
     ]
    }
   ],
   "source": [
    "print_col_info('emb_codes_tags')"
   ]
  },
  {
   "cell_type": "code",
   "execution_count": 43,
   "metadata": {},
   "outputs": [
    {
     "name": "stdout",
     "output_type": "stream",
     "text": [
      "Nombre d'entrées manquantes : 301969 (94.14%)\n",
      "Valeurs les plus courantes : 47.633333,-2.666667 ; 47.833333,-0.333333 ; 49.266667,-0.666667 ; 48.1,-4.333333 ; 46.698333,-1.939444 ; 47.933333,-4.016667 ; 46.666667,-0.85 ; 47.866667,2.116667 ; 46.783333,-0.833333 ; 48,-4.1\n"
     ]
    }
   ],
   "source": [
    "print_col_info('first_packaging_code_geo') # coordonnées du lieu de conditionnement"
   ]
  },
  {
   "cell_type": "code",
   "execution_count": 44,
   "metadata": {},
   "outputs": [
    {
     "name": "stdout",
     "output_type": "stream",
     "text": [
      "Nombre d'entrées manquantes : 300452 (93.67%)\n",
      "Valeurs les plus courantes : theix-morbihan-france ; douarnenez-finistere-france ; sable-sur-sarthe-sarthe-france ; saint-martin-des-entrees-calvados-france ; mouilleron-en-pareds-vendee-france ; saint-evarzec-finistere-france ; quimper-finistere-france ; chateaubourg-ille-et-vilaine-france ; saint-denis-de-l-hotel-loiret-france ; pouzauges-vendee-france\n"
     ]
    }
   ],
   "source": [
    "print_col_info('cities_tags')"
   ]
  },
  {
   "cell_type": "markdown",
   "metadata": {},
   "source": [
    "Ces attributs pourraient être utile dans le cadre d'une démarche écologique de limitation du transport des produits, ce qui n'est pas notre cas."
   ]
  },
  {
   "cell_type": "code",
   "execution_count": 45,
   "metadata": {},
   "outputs": [],
   "source": [
    "columns_to_be_deleted.extend(['origins_tags', 'manufacturing_places_tags', 'emb_codes_tags', \n",
    "                              'first_packaging_code_geo', 'cities_tags'])"
   ]
  },
  {
   "cell_type": "markdown",
   "metadata": {},
   "source": [
    "### Certifications"
   ]
  },
  {
   "cell_type": "code",
   "execution_count": 46,
   "metadata": {
    "scrolled": false
   },
   "outputs": [
    {
     "name": "stdout",
     "output_type": "stream",
     "text": [
      "Nombre d'entrées manquantes : 274128 (85.46%)\n",
      "Valeurs les plus courantes : en:organic,en:eu-organic,fr:ab-agriculture-biologique ; en:green-dot ; en:vegetarian,en:vegan ; en:green-dot,fr:eco-emballages ; en:organic,en:eu-organic,en:fr-bio-01,fr:ab-agriculture-biologique ; en:gluten-free ; en:labels-of-distributors,fr:selection-intermarche ; en:pdo ; en:no-colorings,en:no-preservatives ; en:vegetarian\n"
     ]
    }
   ],
   "source": [
    "print_col_info('labels_tags')"
   ]
  },
  {
   "cell_type": "code",
   "execution_count": 47,
   "metadata": {},
   "outputs": [
    {
     "name": "stdout",
     "output_type": "stream",
     "text": [
      "Nombre d'entrées manquantes : 274106 (85.45%)\n",
      "Valeurs les plus courantes : Bio,Bio européen,AB Agriculture Biologique ; Point Vert ; Végétarien,Végétalien ; Point Vert,Eco-emballages ; Bio,Bio européen,FR-BIO-01,AB Agriculture Biologique ; Sans gluten ; Labels de distributeurs,Sélection Intermarché ; AOP ; Sans colorants,Sans conservateurs ; Végétarien\n"
     ]
    }
   ],
   "source": [
    "print_col_info('labels_fr')"
   ]
  },
  {
   "cell_type": "markdown",
   "metadata": {},
   "source": [
    "Certains de ces labels sont des indicateurs de qualité sur lesquels nous pourrons nous appuyer : nous conservons la 1ère colonne, mais pas la 2e (redondante)."
   ]
  },
  {
   "cell_type": "code",
   "execution_count": 48,
   "metadata": {},
   "outputs": [],
   "source": [
    "columns_to_be_deleted.append('labels_fr')"
   ]
  },
  {
   "cell_type": "code",
   "execution_count": 49,
   "metadata": {},
   "outputs": [
    {
     "name": "stdout",
     "output_type": "stream",
     "text": [
      "Nombre d'entrées manquantes : 320504 (99.92%)\n",
      "Valeurs les plus courantes : 0.0 ; 828.0 ; 160.0 ; 150.0 ; 153.0 ; 345.0 ; 365.0 ; 130.0 ; 312.0 ; 340.0\n"
     ]
    }
   ],
   "source": [
    "data['carbon-footprint_100g'] = data['carbon-footprint_100g'].round(2) # arrondissons à 2 décimales\n",
    "print_col_info('carbon-footprint_100g')"
   ]
  },
  {
   "cell_type": "markdown",
   "metadata": {},
   "source": [
    "L'empreinte carbone d'un aliment est sens lien avec ses qualités nutritionnelles : à effacer."
   ]
  },
  {
   "cell_type": "code",
   "execution_count": 50,
   "metadata": {},
   "outputs": [],
   "source": [
    "columns_to_be_deleted.append('carbon-footprint_100g')"
   ]
  },
  {
   "cell_type": "markdown",
   "metadata": {},
   "source": [
    "### Informations techniques"
   ]
  },
  {
   "cell_type": "code",
   "execution_count": 51,
   "metadata": {
    "scrolled": false
   },
   "outputs": [
    {
     "name": "stdout",
     "output_type": "stream",
     "text": [
      "Nombre d'entrées manquantes : 23 (0.01%)\n",
      "Valeurs les plus courantes : http://world-fr.openfoodfacts.org/produit/3350033307988/cookies-monoprix ; http://world-fr.openfoodfacts.org/produit/0853826003614/banana-and-mango-baby-food-up-up ; http://world-fr.openfoodfacts.org/produit/0072940113317/petite-diced-tomatoes-green-chillies-red-gold ; http://world-fr.openfoodfacts.org/produit/7610900117871/energy-milk-strawberry-emmi ; http://world-fr.openfoodfacts.org/produit/0070970472923/original-fruits-chewy-assorted-fruit-flavored-candies-cherry-lemon-strawberry-lime-orange-mike-and-ike ; http://world-fr.openfoodfacts.org/produit/0011535505755/organic-juice-beverage-wild-harvest ; http://world-fr.openfoodfacts.org/produit/5400247026323/beurre-doux-82-m-g-winny ; http://world-fr.openfoodfacts.org/produit/0053600103138/earth-wise-fruit-juice-beverage-pomegranate-blueberry-johanna-foods-inc ; http://world-fr.openfoodfacts.org/produit/0610546453989/bit-o-honey-king-henry-s ; http://world-fr.openfoodfacts.org/produit/3017760306492/prince-petit-dej-lu\n"
     ]
    }
   ],
   "source": [
    "print_col_info('url')"
   ]
  },
  {
   "cell_type": "code",
   "execution_count": 52,
   "metadata": {
    "scrolled": true
   },
   "outputs": [
    {
     "name": "stdout",
     "output_type": "stream",
     "text": [
      "Nombre d'entrées manquantes : 244936 (76.36%)\n",
      "Valeurs les plus courantes : http://fr.openfoodfacts.org/images/products/335/003/020/5041/front.5.400.jpg ; http://fr.openfoodfacts.org/images/products/338/739/038/6172/front.5.400.jpg ; http://fr.openfoodfacts.org/images/products/085/988/800/0127/front.3.400.jpg ; http://fr.openfoodfacts.org/images/products/327/019/017/8941/front.14.400.jpg ; http://fr.openfoodfacts.org/images/products/691/876/895/1684/front.6.400.jpg ; http://fr.openfoodfacts.org/images/products/062/902/541/0009/front.3.400.jpg ; http://fr.openfoodfacts.org/images/products/324/541/186/8130/front.24.400.jpg ; http://fr.openfoodfacts.org/images/products/801/759/601/3064/front.9.400.jpg ; http://fr.openfoodfacts.org/images/products/20209094/front.6.400.jpg ; http://fr.openfoodfacts.org/images/products/322/247/290/2782/front.13.400.jpg\n"
     ]
    }
   ],
   "source": [
    "print_col_info('image_url')"
   ]
  },
  {
   "cell_type": "code",
   "execution_count": 53,
   "metadata": {
    "scrolled": false
   },
   "outputs": [
    {
     "name": "stdout",
     "output_type": "stream",
     "text": [
      "Nombre d'entrées manquantes : 244936 (76.36%)\n",
      "Valeurs les plus courantes : http://fr.openfoodfacts.org/images/products/761/303/531/1961/front.7.200.jpg ; http://fr.openfoodfacts.org/images/products/842/294/740/0033/front.8.200.jpg ; http://fr.openfoodfacts.org/images/products/345/179/040/0810/front.4.200.jpg ; http://fr.openfoodfacts.org/images/products/360/858/000/6091/front.3.200.jpg ; http://fr.openfoodfacts.org/images/products/085/343/400/2344/front.3.200.jpg ; http://fr.openfoodfacts.org/images/products/377/000/232/7302/front.3.200.jpg ; http://fr.openfoodfacts.org/images/products/347/322/002/0023/front.7.200.jpg ; http://fr.openfoodfacts.org/images/products/356/470/711/1546/front.9.200.jpg ; http://fr.openfoodfacts.org/images/products/326/385/051/5019/front.5.200.jpg ; http://fr.openfoodfacts.org/images/products/871/256/624/8186/front.11.200.jpg\n"
     ]
    }
   ],
   "source": [
    "print_col_info('image_small_url')"
   ]
  },
  {
   "cell_type": "code",
   "execution_count": 54,
   "metadata": {},
   "outputs": [
    {
     "name": "stdout",
     "output_type": "stream",
     "text": [
      "Nombre d'entrées manquantes : 46 (0.01%)\n",
      "Valeurs les plus courantes : en:to-be-completed,en:nutrition-facts-completed,en:ingredients-completed,en:expiration-date-to-be-completed,en:packaging-code-to-be-completed,en:characteristics-to-be-completed,en:categories-to-be-completed,en:brands-completed,en:packaging-to-be-completed,en:quantity-to-be-completed,en:product-name-completed,en:photos-to-be-uploaded ; en:to-be-checked,en:complete,en:nutrition-facts-completed,en:ingredients-completed,en:expiration-date-completed,en:characteristics-completed,en:categories-completed,en:brands-completed,en:packaging-completed,en:quantity-completed,en:product-name-completed,en:photos-validated,en:photos-uploaded ; en:to-be-checked,en:complete,en:nutrition-facts-completed,en:ingredients-completed,en:expiration-date-to-be-completed,en:characteristics-completed,en:categories-completed,en:brands-completed,en:packaging-completed,en:quantity-completed,en:product-name-completed,en:photos-validated,en:photos-uploaded ; en:to-be-completed,en:nutrition-facts-to-be-completed,en:ingredients-to-be-completed,en:expiration-date-to-be-completed,en:characteristics-to-be-completed,en:categories-to-be-completed,en:brands-to-be-completed,en:packaging-to-be-completed,en:quantity-to-be-completed,en:product-name-to-be-completed,en:photos-to-be-validated,en:photos-uploaded ; en:to-be-completed,en:nutrition-facts-completed,en:ingredients-to-be-completed,en:expiration-date-to-be-completed,en:packaging-code-to-be-completed,en:characteristics-to-be-completed,en:categories-to-be-completed,en:brands-completed,en:packaging-to-be-completed,en:quantity-to-be-completed,en:product-name-completed,en:photos-to-be-validated,en:photos-uploaded ; en:to-be-completed,en:nutrition-facts-to-be-completed,en:ingredients-to-be-completed,en:expiration-date-to-be-completed,en:characteristics-to-be-completed,en:categories-to-be-completed,en:brands-completed,en:packaging-to-be-completed,en:quantity-completed,en:product-name-completed,en:photos-to-be-validated,en:photos-uploaded ; en:to-be-checked,en:complete,en:nutrition-facts-completed,en:ingredients-completed,en:expiration-date-completed,en:packaging-code-to-be-completed,en:characteristics-completed,en:categories-completed,en:brands-completed,en:packaging-completed,en:quantity-completed,en:product-name-completed,en:photos-validated,en:photos-uploaded ; en:to-be-completed,en:nutrition-facts-completed,en:ingredients-to-be-completed,en:expiration-date-to-be-completed,en:packaging-code-to-be-completed,en:characteristics-to-be-completed,en:categories-to-be-completed,en:brands-completed,en:packaging-to-be-completed,en:quantity-to-be-completed,en:product-name-completed,en:photos-to-be-uploaded ; en:to-be-checked,en:complete,en:nutrition-facts-completed,en:ingredients-completed,en:expiration-date-to-be-completed,en:packaging-code-to-be-completed,en:characteristics-completed,en:categories-completed,en:brands-completed,en:packaging-completed,en:quantity-completed,en:product-name-completed,en:photos-validated,en:photos-uploaded ; en:to-be-checked,en:complete,en:nutrition-facts-completed,en:ingredients-completed,en:expiration-date-completed,en:packaging-code-completed,en:characteristics-completed,en:categories-completed,en:brands-completed,en:packaging-completed,en:quantity-completed,en:product-name-completed,en:photos-validated,en:photos-uploaded\n"
     ]
    }
   ],
   "source": [
    "print_col_info('states_tags')"
   ]
  },
  {
   "cell_type": "markdown",
   "metadata": {},
   "source": [
    "Attributs inutiles pour notre projet."
   ]
  },
  {
   "cell_type": "code",
   "execution_count": 55,
   "metadata": {},
   "outputs": [],
   "source": [
    "columns_to_be_deleted.extend(['url', 'image_url', 'image_small_url', 'states_tags', 'states_fr'])"
   ]
  },
  {
   "cell_type": "markdown",
   "metadata": {},
   "source": [
    "## Examen des colonnes d'informations nutritionnelles non quantitatives"
   ]
  },
  {
   "cell_type": "code",
   "execution_count": 56,
   "metadata": {},
   "outputs": [
    {
     "name": "stdout",
     "output_type": "stream",
     "text": [
      "Nombre d'entrées manquantes : 71810 (22.39%)\n",
      "Valeurs les plus courantes : Carbonated water, natural flavor. ; Almonds. ; Extra virgin olive oil. ; Extra virgin olive oil ; Semolina (wheat), durum flour (wheat), niacin, ferrous sulfate (iron), thiamin mononitrate, riboflavin, folic acid. ; Honey ; Walnuts. ; Pecans. ; Green beans, water, salt. ; Honey.\n"
     ]
    }
   ],
   "source": [
    "print_col_info('ingredients_text')"
   ]
  },
  {
   "cell_type": "markdown",
   "metadata": {},
   "source": [
    "Attribut potentiellement utile, mais difficilement exploitable en l'état : nous le supprimons (à discuter avec le client)."
   ]
  },
  {
   "cell_type": "code",
   "execution_count": 57,
   "metadata": {},
   "outputs": [],
   "source": [
    "columns_to_be_deleted.append('ingredients_text')"
   ]
  },
  {
   "cell_type": "code",
   "execution_count": 58,
   "metadata": {
    "scrolled": true
   },
   "outputs": [
    {
     "name": "stdout",
     "output_type": "stream",
     "text": [
      "Nombre d'entrées manquantes : 292428 (91.16%)\n",
      "Valeurs les plus courantes : blé ; Lait ; lait ; soja ; sulfites ; céleri ; Lait, lait ; orge ; lactose ; blé, blé\n"
     ]
    }
   ],
   "source": [
    "print_col_info('allergens')"
   ]
  },
  {
   "cell_type": "markdown",
   "metadata": {},
   "source": [
    "Attribut inutile pour notre étude, mais qu'il serait probablement judicieux d'inclure à titre informatif dans les recettes."
   ]
  },
  {
   "cell_type": "code",
   "execution_count": 59,
   "metadata": {},
   "outputs": [],
   "source": [
    "columns_to_be_deleted.append('allergens')"
   ]
  },
  {
   "cell_type": "code",
   "execution_count": 60,
   "metadata": {},
   "outputs": [
    {
     "name": "stdout",
     "output_type": "stream",
     "text": [
      "Nombre d'entrées manquantes : 296443 (92.42%)\n",
      "Valeurs les plus courantes : en:nuts ; en:milk ; en:eggs ; en:gluten ; en:nuts,en:peanuts ; en:milk,en:nuts ; en:nuts,en:soybeans ; en:soybeans ; en:sulphur-dioxide-and-sulphites ; en:gluten,en:nuts\n"
     ]
    }
   ],
   "source": [
    "print_col_info('traces_tags')"
   ]
  },
  {
   "cell_type": "code",
   "execution_count": 61,
   "metadata": {
    "scrolled": true
   },
   "outputs": [
    {
     "name": "stdout",
     "output_type": "stream",
     "text": [
      "Nombre d'entrées manquantes : 296420 (92.41%)\n",
      "Valeurs les plus courantes : Fruits à coque ; Lait ; Œufs ; Gluten ; Fruits à coque,Arachides ; Lait,Fruits à coque ; Fruits à coque,Soja ; Soja ; Anhydride sulfureux et sulfites ; Gluten,Fruits à coque\n"
     ]
    }
   ],
   "source": [
    "print_col_info('traces_fr')"
   ]
  },
  {
   "cell_type": "markdown",
   "metadata": {},
   "source": [
    "La présence de certaines substances à l'état de traces est sans incidence sur la qualité nutritionnelle du produit : à supprimer."
   ]
  },
  {
   "cell_type": "code",
   "execution_count": 62,
   "metadata": {},
   "outputs": [],
   "source": [
    "columns_to_be_deleted.extend(['traces_tags', 'traces_fr'])"
   ]
  },
  {
   "cell_type": "code",
   "execution_count": 63,
   "metadata": {},
   "outputs": [
    {
     "name": "stdout",
     "output_type": "stream",
     "text": [
      "Nombre d'entrées manquantes : 71833 (22.39%)\n",
      "Valeurs les plus courantes : 0.0 ; 1.0 ; 2.0 ; 3.0 ; 4.0 ; 5.0 ; 6.0 ; 7.0 ; 8.0 ; 9.0\n"
     ]
    }
   ],
   "source": [
    "print_col_info('additives_n')"
   ]
  },
  {
   "cell_type": "code",
   "execution_count": 64,
   "metadata": {},
   "outputs": [
    {
     "name": "stdout",
     "output_type": "stream",
     "text": [
      "Nombre d'entrées manquantes : 166092 (51.78%)\n",
      "Valeurs les plus courantes : en:e322 ; en:e330 ; en:e375,en:e101 ; en:e300 ; en:e415 ; en:e440 ; en:e100 ; en:e330,en:e300 ; en:e160b ; en:e150a\n"
     ]
    }
   ],
   "source": [
    "print_col_info('additives_tags')"
   ]
  },
  {
   "cell_type": "code",
   "execution_count": 65,
   "metadata": {},
   "outputs": [
    {
     "name": "stdout",
     "output_type": "stream",
     "text": [
      "Nombre d'entrées manquantes : 166092 (51.78%)\n",
      "Valeurs les plus courantes : E322 - Lécithines ; E330 - Acide citrique ; E375 - Acide nicotinique,E101 - Riboflavine ; E300 - Acide ascorbique ; E415 - Gomme xanthane ; E440 - Pectines ; E100 - Curcumine ; E330 - Acide citrique,E300 - Acide ascorbique ; E160b - Rocou ; E150a - Caramel E150a\n"
     ]
    }
   ],
   "source": [
    "print_col_info('additives_fr')"
   ]
  },
  {
   "cell_type": "markdown",
   "metadata": {},
   "source": [
    "Le nombre d'additifs est exploitable de manière simple, contrairement à la list d'additifs. Nous ne conservons donc que l'attribut `additives_n`."
   ]
  },
  {
   "cell_type": "code",
   "execution_count": 66,
   "metadata": {},
   "outputs": [],
   "source": [
    "columns_to_be_deleted.extend(['additives_tags' ,'additives_fr'])"
   ]
  },
  {
   "cell_type": "code",
   "execution_count": 67,
   "metadata": {
    "scrolled": false
   },
   "outputs": [
    {
     "name": "stdout",
     "output_type": "stream",
     "text": [
      "Nombre d'entrées manquantes : 71833 (22.39%)\n",
      "Valeurs les plus courantes : 0.0 ; 1.0 ; 2.0\n"
     ]
    }
   ],
   "source": [
    "print_col_info('ingredients_from_palm_oil_n')"
   ]
  },
  {
   "cell_type": "code",
   "execution_count": 68,
   "metadata": {},
   "outputs": [
    {
     "name": "stdout",
     "output_type": "stream",
     "text": [
      "Nombre d'entrées manquantes : 315937 (98.49%)\n",
      "Valeurs les plus courantes : huile-de-palme ; e304-palmitate-d-ascorbyle ; huile-de-palme,e304-palmitate-d-ascorbyle ; oleine-de-palme ; mono-et-diglycerides-d-acides-gras-de-palme ; huile-de-palme,oleine-de-palme ; e304-palmitate-d-ascorbyle,huile-de-palme ; huile-de-palme,stearine-de-palme ; oleine-de-palme,e304-palmitate-d-ascorbyle ; huile-de-palme,mono-et-diglycerides-d-acides-gras-de-palme\n"
     ]
    }
   ],
   "source": [
    "print_col_info('ingredients_from_palm_oil_tags')"
   ]
  },
  {
   "cell_type": "code",
   "execution_count": 69,
   "metadata": {
    "scrolled": true
   },
   "outputs": [
    {
     "name": "stdout",
     "output_type": "stream",
     "text": [
      "Nombre d'entrées manquantes : 71833 (22.39%)\n",
      "Valeurs les plus courantes : 0.0 ; 1.0 ; 2.0 ; 3.0 ; 4.0 ; 5.0 ; 6.0\n"
     ]
    }
   ],
   "source": [
    "print_col_info('ingredients_that_may_be_from_palm_oil_n')"
   ]
  },
  {
   "cell_type": "code",
   "execution_count": 70,
   "metadata": {},
   "outputs": [
    {
     "name": "stdout",
     "output_type": "stream",
     "text": [
      "Nombre d'entrées manquantes : 309076 (96.35%)\n",
      "Valeurs les plus courantes : e160a-beta-carotene ; e471-mono-et-diglycerides-d-acides-gras-alimentaires ; huile-vegetale ; e433-monooleate-de-polyoxyethylene-de-sorbitane ; e471-mono-et-diglycerides-d-acides-gras-alimentaires,e160a-beta-carotene ; huile-vegetale,e471-mono-et-diglycerides-d-acides-gras-alimentaires ; e471-mono-et-diglycerides-d-acides-gras-alimentaires,e481-stearoyl-2-lactylate-de-sodium ; e472e-ester-monoacethyltartrique-de-mono-et-diglycerides-d-acides-gras ; e471-mono-et-diglycerides-d-acides-gras-alimentaires,e472e-ester-monoacethyltartrique-de-mono-et-diglycerides-d-acides-gras ; e472b-ester-diacetyl-lactique-de-mono-et-diglycerides-d-acides-gras\n"
     ]
    }
   ],
   "source": [
    "print_col_info('ingredients_that_may_be_from_palm_oil_tags')"
   ]
  },
  {
   "cell_type": "markdown",
   "metadata": {},
   "source": [
    "Nous ne conserverons initialement que le nombre avéré d'ingrédients dérivés de l'huile de palme."
   ]
  },
  {
   "cell_type": "code",
   "execution_count": 71,
   "metadata": {},
   "outputs": [],
   "source": [
    "columns_to_be_deleted.extend(['ingredients_from_palm_oil_tags', 'ingredients_that_may_be_from_palm_oil_n',\n",
    "                              'ingredients_that_may_be_from_palm_oil_tags'])"
   ]
  },
  {
   "cell_type": "code",
   "execution_count": 72,
   "metadata": {},
   "outputs": [
    {
     "name": "stdout",
     "output_type": "stream",
     "text": [
      "Nombre d'entrées manquantes : 99562 (31.04%)\n",
      "Valeurs les plus courantes : 0.0 ; 1.0 ; 14.0 ; 2.0 ; 13.0 ; -1.0 ; 12.0 ; 11.0 ; 3.0 ; 15.0\n"
     ]
    }
   ],
   "source": [
    "print_col_info('nutrition-score-fr_100g')"
   ]
  },
  {
   "cell_type": "code",
   "execution_count": 73,
   "metadata": {},
   "outputs": [
    {
     "name": "stdout",
     "output_type": "stream",
     "text": [
      "Nombre d'entrées manquantes : 99562 (31.04%)\n",
      "Valeurs les plus courantes : 0.0 ; 1.0 ; 2.0 ; 14.0 ; -1.0 ; 13.0 ; 12.0 ; 11.0 ; 3.0 ; 20.0\n"
     ]
    }
   ],
   "source": [
    "print_col_info('nutrition-score-uk_100g')"
   ]
  },
  {
   "cell_type": "code",
   "execution_count": 74,
   "metadata": {},
   "outputs": [
    {
     "name": "stdout",
     "output_type": "stream",
     "text": [
      "Nombre d'entrées manquantes : 99562 (31.04%)\n",
      "Valeurs les plus courantes : d ; c ; e ; a ; b\n"
     ]
    }
   ],
   "source": [
    "print_col_info('nutrition_grade_fr')"
   ]
  },
  {
   "cell_type": "markdown",
   "metadata": {},
   "source": [
    "Les 2 premiers attributs sont des scores nutritionnel numériques, définis respectivement par les autorités françaises et britanniques. Le 3e attribut nous donne le code Nutri-Score affiché sur le produit.\n",
    "Nour conservons les 3 attributs, et, pour une meilleure lisibilité, capitalisons le code `nutrition_grade_fr`."
   ]
  },
  {
   "cell_type": "code",
   "execution_count": 75,
   "metadata": {},
   "outputs": [],
   "source": [
    "data['nutrition_grade_fr'] = data['nutrition_grade_fr'].str.upper()"
   ]
  },
  {
   "cell_type": "markdown",
   "metadata": {},
   "source": [
    "## Traitement par lignes"
   ]
  },
  {
   "cell_type": "markdown",
   "metadata": {},
   "source": [
    "### Produits non disponibles en France"
   ]
  },
  {
   "cell_type": "markdown",
   "metadata": {},
   "source": [
    "Nous faisons l'hypothèse que le site Lamarmite s'adresse à un public français. Ce qui implique que les ingrédients recommandés doivent être disponibles en France. Nous excluons donc du champ de notre étude les produits qui ne remplissent pas cette condition, en nous basant sur la valeur du champ `countries_tags`."
   ]
  },
  {
   "cell_type": "code",
   "execution_count": 76,
   "metadata": {},
   "outputs": [
    {
     "name": "stdout",
     "output_type": "stream",
     "text": [
      "98440 lignes vont être conservées, 222332 lignes vont être supprimées.\n",
      "Total = 320772\n",
      "Nouvelles dimensions des données : (98440, 91)\n"
     ]
    }
   ],
   "source": [
    "data.countries_tags.replace(to_replace=np.nan, value='', inplace=True) # élimine les valeurs nan\n",
    "mask = data.countries_tags.str.contains('france')\n",
    "print(f\"{sum(mask)} lignes vont être conservées, {sum(~mask)} lignes vont être supprimées.\")\n",
    "print(f\"Total = {sum(mask) + sum(~mask)}\")\n",
    "data = data[mask]\n",
    "print(f\"Nouvelles dimensions des données : {data.shape}\")"
   ]
  },
  {
   "cell_type": "markdown",
   "metadata": {},
   "source": [
    "### Entrées sans clef ou nom de produit"
   ]
  },
  {
   "cell_type": "code",
   "execution_count": 77,
   "metadata": {},
   "outputs": [
    {
     "name": "stdout",
     "output_type": "stream",
     "text": [
      "91247 lignes vont être conservées, 7193 lignes vont être supprimées.\n",
      "Total = 98440\n",
      "Nouvelles dimensions des données : (91247, 91)\n"
     ]
    }
   ],
   "source": [
    "mask = ~data.code.isnull() & ~data.product_name.isnull()\n",
    "print(f\"{sum(mask)} lignes vont être conservées, {sum(~mask)} lignes vont être supprimées.\")\n",
    "print(f\"Total = {sum(mask) + sum(~mask)}\")\n",
    "data = data[mask]\n",
    "print(f\"Nouvelles dimensions des données : {data.shape}\")"
   ]
  },
  {
   "cell_type": "markdown",
   "metadata": {},
   "source": [
    "### Informations nutritionnelles incohérentes\n",
    "Pour toutes les colonnes donnant des valeurs pour 100 g, nous éliminons les valeurs négatives et supérieures à 100."
   ]
  },
  {
   "cell_type": "code",
   "execution_count": 78,
   "metadata": {},
   "outputs": [
    {
     "name": "stdout",
     "output_type": "stream",
     "text": [
      "Nombre d'entrées : 91247\n",
      "Valeurs > 100 dans fat_100g sur 2 ligne(s)\n",
      "Valeurs > 100 dans carbohydrates_100g sur 6 ligne(s)\n",
      "Valeurs négatives dans sugars_100g sur 1 ligne(s)\n",
      "Valeurs > 100 dans fiber_100g sur 1 ligne(s)\n",
      "Valeurs > 100 dans salt_100g sur 2 ligne(s)\n",
      "Valeurs > 100 dans vitamin-b1_100g sur 1 ligne(s)\n",
      "Valeurs > 10000 dans energy_100g sur 3 ligne(s)\n",
      "Nombre d'entrées effacées : 16\n",
      "Nouveau nombre d'entrées : 91231\n"
     ]
    }
   ],
   "source": [
    "print(f\"Nombre d'entrées : {len(data)}\")\n",
    "cols = data.columns[data.columns.str.contains('_100g')]\n",
    "# nous excluons les attributs pouvant prendre des valeurs > 100\n",
    "cols = cols.drop(labels=['energy_100g', 'energy-from-fat_100g', 'carbon-footprint_100g'], errors='ignore') \n",
    "# nous excluons les attributs pouvant prendre des valeurs < 0\n",
    "cols = cols.drop(labels=['nutrition-score-fr_100g', 'nutrition-score-uk_100g'], errors='ignore') \n",
    "count = 0\n",
    "for c in cols:\n",
    "    if data[c].min() < 0:\n",
    "        mask = data[c] < 0\n",
    "        print(f\"Valeurs négatives dans {c} sur {sum(mask)} ligne(s)\")\n",
    "        count = count + sum(mask)\n",
    "        data = data[~mask]\n",
    "    if data[c].max() > 100:\n",
    "        mask = data[c] > 100\n",
    "        print(f\"Valeurs > 100 dans {c} sur {sum(mask)} ligne(s)\")\n",
    "        count = count + sum(mask)\n",
    "        data = data[~mask]\n",
    "# nous traitons la colonne énergie/100g séparément\n",
    "col = 'energy_100g'\n",
    "mask = data[col] > 10000 # un adulte consomme en moyenne 8000 kJ par jour\n",
    "if sum(mask) > 0:\n",
    "    print(f\"Valeurs > 10000 dans {col} sur {sum(mask)} ligne(s)\")\n",
    "    data = data[~mask]\n",
    "    count = count + sum(mask)\n",
    "print(f\"Nombre d'entrées effacées : {count}\")        \n",
    "print(f\"Nouveau nombre d'entrées : {len(data)}\")"
   ]
  },
  {
   "cell_type": "markdown",
   "metadata": {},
   "source": [
    "### Masse totale des ingrédients supérieure à 100"
   ]
  },
  {
   "cell_type": "code",
   "execution_count": 79,
   "metadata": {
    "scrolled": false
   },
   "outputs": [
    {
     "data": {
      "text/html": [
       "<div>\n",
       "<style scoped>\n",
       "    .dataframe tbody tr th:only-of-type {\n",
       "        vertical-align: middle;\n",
       "    }\n",
       "\n",
       "    .dataframe tbody tr th {\n",
       "        vertical-align: top;\n",
       "    }\n",
       "\n",
       "    .dataframe thead th {\n",
       "        text-align: right;\n",
       "    }\n",
       "</style>\n",
       "<table border=\"1\" class=\"dataframe\">\n",
       "  <thead>\n",
       "    <tr style=\"text-align: right;\">\n",
       "      <th></th>\n",
       "      <th>code</th>\n",
       "      <th>product_name</th>\n",
       "      <th>fat_100g</th>\n",
       "      <th>carbohydrates_100g</th>\n",
       "      <th>proteins_100g</th>\n",
       "      <th>salt_100g</th>\n",
       "    </tr>\n",
       "  </thead>\n",
       "  <tbody>\n",
       "    <tr>\n",
       "      <th>150141</th>\n",
       "      <td>0812668020067</td>\n",
       "      <td>4 petits carrés a 3 étages au beurre, pointe d...</td>\n",
       "      <td>29.510</td>\n",
       "      <td>72.130</td>\n",
       "      <td>6.560</td>\n",
       "      <td>0.665</td>\n",
       "    </tr>\n",
       "    <tr>\n",
       "      <th>163139</th>\n",
       "      <td>0855461003240</td>\n",
       "      <td>Aeroshot Energy Green Apple</td>\n",
       "      <td>0.000</td>\n",
       "      <td>33.300</td>\n",
       "      <td>0.000</td>\n",
       "      <td>84.700</td>\n",
       "    </tr>\n",
       "    <tr>\n",
       "      <th>176060</th>\n",
       "      <td>2000000027073</td>\n",
       "      <td>Pop Mania</td>\n",
       "      <td>25.000</td>\n",
       "      <td>70.300</td>\n",
       "      <td>9.800</td>\n",
       "      <td>4.810</td>\n",
       "    </tr>\n",
       "    <tr>\n",
       "      <th>177924</th>\n",
       "      <td>20104214</td>\n",
       "      <td>Barres céréales Pomme</td>\n",
       "      <td>87.000</td>\n",
       "      <td>69.400</td>\n",
       "      <td>5.400</td>\n",
       "      <td>0.380</td>\n",
       "    </tr>\n",
       "    <tr>\n",
       "      <th>180099</th>\n",
       "      <td>20481957</td>\n",
       "      <td>Blanc Coco Céréales</td>\n",
       "      <td>38.200</td>\n",
       "      <td>59.300</td>\n",
       "      <td>5.800</td>\n",
       "      <td>1.245</td>\n",
       "    </tr>\n",
       "    <tr>\n",
       "      <th>186936</th>\n",
       "      <td>2952350335784</td>\n",
       "      <td>Biscuit cru The Matcha - Fleur de coco</td>\n",
       "      <td>12.800</td>\n",
       "      <td>99.300</td>\n",
       "      <td>6.500</td>\n",
       "      <td>0.020</td>\n",
       "    </tr>\n",
       "    <tr>\n",
       "      <th>187827</th>\n",
       "      <td>3018930004934</td>\n",
       "      <td>Bretzels Ancel</td>\n",
       "      <td>6.000</td>\n",
       "      <td>73.600</td>\n",
       "      <td>10.800</td>\n",
       "      <td>16.800</td>\n",
       "    </tr>\n",
       "    <tr>\n",
       "      <th>192024</th>\n",
       "      <td>3068236309998</td>\n",
       "      <td>Pâte d'amandes tricolore</td>\n",
       "      <td>26.000</td>\n",
       "      <td>76.000</td>\n",
       "      <td>6.000</td>\n",
       "      <td>0.020</td>\n",
       "    </tr>\n",
       "    <tr>\n",
       "      <th>193253</th>\n",
       "      <td>3092718605360</td>\n",
       "      <td>Sirop de Cassis</td>\n",
       "      <td>0.100</td>\n",
       "      <td>84.500</td>\n",
       "      <td>0.100</td>\n",
       "      <td>30.000</td>\n",
       "    </tr>\n",
       "    <tr>\n",
       "      <th>196048</th>\n",
       "      <td>3165432640006</td>\n",
       "      <td>Sucre Glace Daddy</td>\n",
       "      <td>0.000</td>\n",
       "      <td>100.000</td>\n",
       "      <td>2.000</td>\n",
       "      <td>0.000</td>\n",
       "    </tr>\n",
       "    <tr>\n",
       "      <th>196636</th>\n",
       "      <td>3168930008163</td>\n",
       "      <td>Saveur Fromage</td>\n",
       "      <td>33.000</td>\n",
       "      <td>82.000</td>\n",
       "      <td>6.300</td>\n",
       "      <td>1.900</td>\n",
       "    </tr>\n",
       "    <tr>\n",
       "      <th>197217</th>\n",
       "      <td>3175681039599</td>\n",
       "      <td>Biscuit choco fondant léger</td>\n",
       "      <td>21.900</td>\n",
       "      <td>71.400</td>\n",
       "      <td>7.620</td>\n",
       "      <td>1.210</td>\n",
       "    </tr>\n",
       "    <tr>\n",
       "      <th>198040</th>\n",
       "      <td>3178530411584</td>\n",
       "      <td>sablé</td>\n",
       "      <td>29.000</td>\n",
       "      <td>74.000</td>\n",
       "      <td>6.600</td>\n",
       "      <td>1.300</td>\n",
       "    </tr>\n",
       "    <tr>\n",
       "      <th>201916</th>\n",
       "      <td>3228020481198</td>\n",
       "      <td>Beurre gastronomique demi-sel</td>\n",
       "      <td>80.000</td>\n",
       "      <td>0.500</td>\n",
       "      <td>0.700</td>\n",
       "      <td>26.000</td>\n",
       "    </tr>\n",
       "    <tr>\n",
       "      <th>204988</th>\n",
       "      <td>3250390004592</td>\n",
       "      <td>Pois chiches</td>\n",
       "      <td>52.000</td>\n",
       "      <td>47.500</td>\n",
       "      <td>21.600</td>\n",
       "      <td>0.010</td>\n",
       "    </tr>\n",
       "    <tr>\n",
       "      <th>213329</th>\n",
       "      <td>3258561011257</td>\n",
       "      <td>Crackers Gouda</td>\n",
       "      <td>37.200</td>\n",
       "      <td>45.700</td>\n",
       "      <td>16.900</td>\n",
       "      <td>2.200</td>\n",
       "    </tr>\n",
       "    <tr>\n",
       "      <th>214895</th>\n",
       "      <td>3263850450419</td>\n",
       "      <td>Nouilles orientales saveur curry - 85 g - Lead...</td>\n",
       "      <td>18.000</td>\n",
       "      <td>75.000</td>\n",
       "      <td>12.000</td>\n",
       "      <td>0.700</td>\n",
       "    </tr>\n",
       "    <tr>\n",
       "      <th>214993</th>\n",
       "      <td>3263850571114</td>\n",
       "      <td>Muesli Croustillant aux 5 Fruits</td>\n",
       "      <td>37.600</td>\n",
       "      <td>64.000</td>\n",
       "      <td>7.400</td>\n",
       "      <td>0.130</td>\n",
       "    </tr>\n",
       "    <tr>\n",
       "      <th>219398</th>\n",
       "      <td>3270160741199</td>\n",
       "      <td>Poisson pané</td>\n",
       "      <td>9.300</td>\n",
       "      <td>11.000</td>\n",
       "      <td>13.000</td>\n",
       "      <td>74.000</td>\n",
       "    </tr>\n",
       "    <tr>\n",
       "      <th>221471</th>\n",
       "      <td>3275510021006</td>\n",
       "      <td>Calissons de Provence</td>\n",
       "      <td>17.400</td>\n",
       "      <td>61.900</td>\n",
       "      <td>7.700</td>\n",
       "      <td>18.200</td>\n",
       "    </tr>\n",
       "    <tr>\n",
       "      <th>222671</th>\n",
       "      <td>3284230005937</td>\n",
       "      <td>6 spiralo's chocolat</td>\n",
       "      <td>80.000</td>\n",
       "      <td>47.500</td>\n",
       "      <td>7.100</td>\n",
       "      <td>0.500</td>\n",
       "    </tr>\n",
       "    <tr>\n",
       "      <th>224828</th>\n",
       "      <td>3325350012204</td>\n",
       "      <td>Pâte d'amandes 33%, verte</td>\n",
       "      <td>26.200</td>\n",
       "      <td>76.000</td>\n",
       "      <td>5.700</td>\n",
       "      <td>0.020</td>\n",
       "    </tr>\n",
       "    <tr>\n",
       "      <th>224985</th>\n",
       "      <td>3328481290718</td>\n",
       "      <td>Les Florentins ® Chocolat Lait &amp; Caramel au be...</td>\n",
       "      <td>30.000</td>\n",
       "      <td>61.500</td>\n",
       "      <td>6.920</td>\n",
       "      <td>41.000</td>\n",
       "    </tr>\n",
       "    <tr>\n",
       "      <th>229650</th>\n",
       "      <td>3380380049705</td>\n",
       "      <td>Cookies bio au chocolat noir</td>\n",
       "      <td>21.000</td>\n",
       "      <td>79.000</td>\n",
       "      <td>4.200</td>\n",
       "      <td>0.550</td>\n",
       "    </tr>\n",
       "    <tr>\n",
       "      <th>229761</th>\n",
       "      <td>3380380072321</td>\n",
       "      <td>Sablés Citron &amp; Graines De Chia Bio</td>\n",
       "      <td>22.000</td>\n",
       "      <td>76.000</td>\n",
       "      <td>6.500</td>\n",
       "      <td>0.690</td>\n",
       "    </tr>\n",
       "    <tr>\n",
       "      <th>230277</th>\n",
       "      <td>3390390000238</td>\n",
       "      <td>Amande au Suc de Canne Intégral</td>\n",
       "      <td>40.400</td>\n",
       "      <td>45.600</td>\n",
       "      <td>18.700</td>\n",
       "      <td>0.040</td>\n",
       "    </tr>\n",
       "    <tr>\n",
       "      <th>230281</th>\n",
       "      <td>3390390000306</td>\n",
       "      <td>Pâte à tartiner KAROUBA Noisette-Caroube</td>\n",
       "      <td>49.700</td>\n",
       "      <td>44.400</td>\n",
       "      <td>12.100</td>\n",
       "      <td>0.030</td>\n",
       "    </tr>\n",
       "    <tr>\n",
       "      <th>231920</th>\n",
       "      <td>3421330000022</td>\n",
       "      <td>Préparation déshydratée pour brandade de morue...</td>\n",
       "      <td>7.700</td>\n",
       "      <td>55.000</td>\n",
       "      <td>37.000</td>\n",
       "      <td>2.600</td>\n",
       "    </tr>\n",
       "    <tr>\n",
       "      <th>231924</th>\n",
       "      <td>3421336000019</td>\n",
       "      <td>Préparation pour Parmentier de boeuf</td>\n",
       "      <td>18.800</td>\n",
       "      <td>65.800</td>\n",
       "      <td>18.800</td>\n",
       "      <td>2.337</td>\n",
       "    </tr>\n",
       "    <tr>\n",
       "      <th>235348</th>\n",
       "      <td>3489815600105</td>\n",
       "      <td>Pâtes de fruits - France Marion confiserie</td>\n",
       "      <td>2.000</td>\n",
       "      <td>98.400</td>\n",
       "      <td>2.000</td>\n",
       "      <td>0.120</td>\n",
       "    </tr>\n",
       "    <tr>\n",
       "      <th>235714</th>\n",
       "      <td>3500680030764</td>\n",
       "      <td>Clou de girofle poudre</td>\n",
       "      <td>13.000</td>\n",
       "      <td>85.000</td>\n",
       "      <td>5.970</td>\n",
       "      <td>0.277</td>\n",
       "    </tr>\n",
       "    <tr>\n",
       "      <th>250619</th>\n",
       "      <td>3700531201538</td>\n",
       "      <td>Sucette au chocolat</td>\n",
       "      <td>36.000</td>\n",
       "      <td>50.000</td>\n",
       "      <td>61.000</td>\n",
       "      <td>0.150</td>\n",
       "    </tr>\n",
       "    <tr>\n",
       "      <th>252502</th>\n",
       "      <td>3760072740248</td>\n",
       "      <td>Breizh Karamel</td>\n",
       "      <td>20.000</td>\n",
       "      <td>73.300</td>\n",
       "      <td>13.300</td>\n",
       "      <td>0.013</td>\n",
       "    </tr>\n",
       "    <tr>\n",
       "      <th>252506</th>\n",
       "      <td>3760072741153</td>\n",
       "      <td>Breizh Karamel</td>\n",
       "      <td>20.000</td>\n",
       "      <td>73.300</td>\n",
       "      <td>13.300</td>\n",
       "      <td>0.013</td>\n",
       "    </tr>\n",
       "    <tr>\n",
       "      <th>252507</th>\n",
       "      <td>3760072742976</td>\n",
       "      <td>Les Tartinables Caramel Vanille</td>\n",
       "      <td>20.000</td>\n",
       "      <td>73.300</td>\n",
       "      <td>13.300</td>\n",
       "      <td>0.013</td>\n",
       "    </tr>\n",
       "    <tr>\n",
       "      <th>252509</th>\n",
       "      <td>3760072743072</td>\n",
       "      <td>Caramel au beurre salé à tartiner</td>\n",
       "      <td>20.000</td>\n",
       "      <td>73.300</td>\n",
       "      <td>13.300</td>\n",
       "      <td>0.013</td>\n",
       "    </tr>\n",
       "    <tr>\n",
       "      <th>252708</th>\n",
       "      <td>3760077534705</td>\n",
       "      <td>Cantuccini</td>\n",
       "      <td>11.800</td>\n",
       "      <td>86.700</td>\n",
       "      <td>9.100</td>\n",
       "      <td>1.900</td>\n",
       "    </tr>\n",
       "    <tr>\n",
       "      <th>252875</th>\n",
       "      <td>3760088720456</td>\n",
       "      <td>Croquets aux amandes</td>\n",
       "      <td>20.000</td>\n",
       "      <td>73.000</td>\n",
       "      <td>10.200</td>\n",
       "      <td>0.120</td>\n",
       "    </tr>\n",
       "    <tr>\n",
       "      <th>252877</th>\n",
       "      <td>3760088720494</td>\n",
       "      <td>Couronnes D'Anis</td>\n",
       "      <td>16.000</td>\n",
       "      <td>84.000</td>\n",
       "      <td>8.300</td>\n",
       "      <td>0.130</td>\n",
       "    </tr>\n",
       "    <tr>\n",
       "      <th>253073</th>\n",
       "      <td>3760092452893</td>\n",
       "      <td>Curry Flavor Noodles (Lot de 3)</td>\n",
       "      <td>8.000</td>\n",
       "      <td>82.000</td>\n",
       "      <td>14.000</td>\n",
       "      <td>4.239</td>\n",
       "    </tr>\n",
       "    <tr>\n",
       "      <th>253074</th>\n",
       "      <td>3760092456099</td>\n",
       "      <td>Chicken Flavor Noodles (Lot de 3)</td>\n",
       "      <td>10.000</td>\n",
       "      <td>82.000</td>\n",
       "      <td>13.000</td>\n",
       "      <td>3.861</td>\n",
       "    </tr>\n",
       "    <tr>\n",
       "      <th>253077</th>\n",
       "      <td>3760092457423</td>\n",
       "      <td>Nouilles instantanées, Arôme poulet teriyaki (...</td>\n",
       "      <td>20.000</td>\n",
       "      <td>64.000</td>\n",
       "      <td>13.000</td>\n",
       "      <td>5.000</td>\n",
       "    </tr>\n",
       "    <tr>\n",
       "      <th>257129</th>\n",
       "      <td>4002309003900</td>\n",
       "      <td>Icefix</td>\n",
       "      <td>58.500</td>\n",
       "      <td>44.900</td>\n",
       "      <td>3.300</td>\n",
       "      <td>0.483</td>\n",
       "    </tr>\n",
       "    <tr>\n",
       "      <th>274753</th>\n",
       "      <td>5060208470062</td>\n",
       "      <td>Pear &amp; kiwi fruit crisps</td>\n",
       "      <td>0.909</td>\n",
       "      <td>98.600</td>\n",
       "      <td>4.730</td>\n",
       "      <td>0.000</td>\n",
       "    </tr>\n",
       "    <tr>\n",
       "      <th>284409</th>\n",
       "      <td>6923744360114</td>\n",
       "      <td>Chicken Flavor Noodles</td>\n",
       "      <td>10.000</td>\n",
       "      <td>82.000</td>\n",
       "      <td>13.000</td>\n",
       "      <td>3.861</td>\n",
       "    </tr>\n",
       "    <tr>\n",
       "      <th>284410</th>\n",
       "      <td>6923744360336</td>\n",
       "      <td>Curry Flavor Noodles</td>\n",
       "      <td>8.000</td>\n",
       "      <td>82.000</td>\n",
       "      <td>14.000</td>\n",
       "      <td>4.239</td>\n",
       "    </tr>\n",
       "    <tr>\n",
       "      <th>286048</th>\n",
       "      <td>7610008708506</td>\n",
       "      <td>Chocolat 60% Fourré Praliné - Ragusa Noir</td>\n",
       "      <td>39.000</td>\n",
       "      <td>49.000</td>\n",
       "      <td>90.000</td>\n",
       "      <td>0.010</td>\n",
       "    </tr>\n",
       "    <tr>\n",
       "      <th>296191</th>\n",
       "      <td>7616500160576</td>\n",
       "      <td>Pralinor- Und Giandor-eili Assortiert</td>\n",
       "      <td>40.000</td>\n",
       "      <td>47.000</td>\n",
       "      <td>7.000</td>\n",
       "      <td>11.000</td>\n",
       "    </tr>\n",
       "    <tr>\n",
       "      <th>302467</th>\n",
       "      <td>8002873021641</td>\n",
       "      <td>Panettone</td>\n",
       "      <td>13.000</td>\n",
       "      <td>55.000</td>\n",
       "      <td>7.000</td>\n",
       "      <td>37.000</td>\n",
       "    </tr>\n",
       "    <tr>\n",
       "      <th>304241</th>\n",
       "      <td>8015794000121</td>\n",
       "      <td>Croccantelli Al gusto d'aglio</td>\n",
       "      <td>14.100</td>\n",
       "      <td>74.200</td>\n",
       "      <td>11.700</td>\n",
       "      <td>2.500</td>\n",
       "    </tr>\n",
       "    <tr>\n",
       "      <th>312174</th>\n",
       "      <td>8480017828316</td>\n",
       "      <td>Cacahuètes caramélisées</td>\n",
       "      <td>31.000</td>\n",
       "      <td>55.000</td>\n",
       "      <td>16.000</td>\n",
       "      <td>0.013</td>\n",
       "    </tr>\n",
       "  </tbody>\n",
       "</table>\n",
       "</div>"
      ],
      "text/plain": [
       "                 code                                       product_name  \\\n",
       "150141  0812668020067  4 petits carrés a 3 étages au beurre, pointe d...   \n",
       "163139  0855461003240                        Aeroshot Energy Green Apple   \n",
       "176060  2000000027073                                          Pop Mania   \n",
       "177924       20104214                              Barres céréales Pomme   \n",
       "180099       20481957                                Blanc Coco Céréales   \n",
       "186936  2952350335784             Biscuit cru The Matcha - Fleur de coco   \n",
       "187827  3018930004934                                     Bretzels Ancel   \n",
       "192024  3068236309998                           Pâte d'amandes tricolore   \n",
       "193253  3092718605360                                    Sirop de Cassis   \n",
       "196048  3165432640006                                  Sucre Glace Daddy   \n",
       "196636  3168930008163                                     Saveur Fromage   \n",
       "197217  3175681039599                        Biscuit choco fondant léger   \n",
       "198040  3178530411584                                              sablé   \n",
       "201916  3228020481198                      Beurre gastronomique demi-sel   \n",
       "204988  3250390004592                                       Pois chiches   \n",
       "213329  3258561011257                                     Crackers Gouda   \n",
       "214895  3263850450419  Nouilles orientales saveur curry - 85 g - Lead...   \n",
       "214993  3263850571114                   Muesli Croustillant aux 5 Fruits   \n",
       "219398  3270160741199                                       Poisson pané   \n",
       "221471  3275510021006                              Calissons de Provence   \n",
       "222671  3284230005937                               6 spiralo's chocolat   \n",
       "224828  3325350012204                          Pâte d'amandes 33%, verte   \n",
       "224985  3328481290718  Les Florentins ® Chocolat Lait & Caramel au be...   \n",
       "229650  3380380049705                       Cookies bio au chocolat noir   \n",
       "229761  3380380072321                Sablés Citron & Graines De Chia Bio   \n",
       "230277  3390390000238                    Amande au Suc de Canne Intégral   \n",
       "230281  3390390000306           Pâte à tartiner KAROUBA Noisette-Caroube   \n",
       "231920  3421330000022  Préparation déshydratée pour brandade de morue...   \n",
       "231924  3421336000019               Préparation pour Parmentier de boeuf   \n",
       "235348  3489815600105         Pâtes de fruits - France Marion confiserie   \n",
       "235714  3500680030764                             Clou de girofle poudre   \n",
       "250619  3700531201538                                Sucette au chocolat   \n",
       "252502  3760072740248                                     Breizh Karamel   \n",
       "252506  3760072741153                                     Breizh Karamel   \n",
       "252507  3760072742976                    Les Tartinables Caramel Vanille   \n",
       "252509  3760072743072                  Caramel au beurre salé à tartiner   \n",
       "252708  3760077534705                                         Cantuccini   \n",
       "252875  3760088720456                               Croquets aux amandes   \n",
       "252877  3760088720494                                   Couronnes D'Anis   \n",
       "253073  3760092452893                    Curry Flavor Noodles (Lot de 3)   \n",
       "253074  3760092456099                  Chicken Flavor Noodles (Lot de 3)   \n",
       "253077  3760092457423  Nouilles instantanées, Arôme poulet teriyaki (...   \n",
       "257129  4002309003900                                             Icefix   \n",
       "274753  5060208470062                           Pear & kiwi fruit crisps   \n",
       "284409  6923744360114                             Chicken Flavor Noodles   \n",
       "284410  6923744360336                               Curry Flavor Noodles   \n",
       "286048  7610008708506          Chocolat 60% Fourré Praliné - Ragusa Noir   \n",
       "296191  7616500160576              Pralinor- Und Giandor-eili Assortiert   \n",
       "302467  8002873021641                                          Panettone   \n",
       "304241  8015794000121                      Croccantelli Al gusto d'aglio   \n",
       "312174  8480017828316                            Cacahuètes caramélisées   \n",
       "\n",
       "        fat_100g  carbohydrates_100g  proteins_100g  salt_100g  \n",
       "150141    29.510              72.130          6.560      0.665  \n",
       "163139     0.000              33.300          0.000     84.700  \n",
       "176060    25.000              70.300          9.800      4.810  \n",
       "177924    87.000              69.400          5.400      0.380  \n",
       "180099    38.200              59.300          5.800      1.245  \n",
       "186936    12.800              99.300          6.500      0.020  \n",
       "187827     6.000              73.600         10.800     16.800  \n",
       "192024    26.000              76.000          6.000      0.020  \n",
       "193253     0.100              84.500          0.100     30.000  \n",
       "196048     0.000             100.000          2.000      0.000  \n",
       "196636    33.000              82.000          6.300      1.900  \n",
       "197217    21.900              71.400          7.620      1.210  \n",
       "198040    29.000              74.000          6.600      1.300  \n",
       "201916    80.000               0.500          0.700     26.000  \n",
       "204988    52.000              47.500         21.600      0.010  \n",
       "213329    37.200              45.700         16.900      2.200  \n",
       "214895    18.000              75.000         12.000      0.700  \n",
       "214993    37.600              64.000          7.400      0.130  \n",
       "219398     9.300              11.000         13.000     74.000  \n",
       "221471    17.400              61.900          7.700     18.200  \n",
       "222671    80.000              47.500          7.100      0.500  \n",
       "224828    26.200              76.000          5.700      0.020  \n",
       "224985    30.000              61.500          6.920     41.000  \n",
       "229650    21.000              79.000          4.200      0.550  \n",
       "229761    22.000              76.000          6.500      0.690  \n",
       "230277    40.400              45.600         18.700      0.040  \n",
       "230281    49.700              44.400         12.100      0.030  \n",
       "231920     7.700              55.000         37.000      2.600  \n",
       "231924    18.800              65.800         18.800      2.337  \n",
       "235348     2.000              98.400          2.000      0.120  \n",
       "235714    13.000              85.000          5.970      0.277  \n",
       "250619    36.000              50.000         61.000      0.150  \n",
       "252502    20.000              73.300         13.300      0.013  \n",
       "252506    20.000              73.300         13.300      0.013  \n",
       "252507    20.000              73.300         13.300      0.013  \n",
       "252509    20.000              73.300         13.300      0.013  \n",
       "252708    11.800              86.700          9.100      1.900  \n",
       "252875    20.000              73.000         10.200      0.120  \n",
       "252877    16.000              84.000          8.300      0.130  \n",
       "253073     8.000              82.000         14.000      4.239  \n",
       "253074    10.000              82.000         13.000      3.861  \n",
       "253077    20.000              64.000         13.000      5.000  \n",
       "257129    58.500              44.900          3.300      0.483  \n",
       "274753     0.909              98.600          4.730      0.000  \n",
       "284409    10.000              82.000         13.000      3.861  \n",
       "284410     8.000              82.000         14.000      4.239  \n",
       "286048    39.000              49.000         90.000      0.010  \n",
       "296191    40.000              47.000          7.000     11.000  \n",
       "302467    13.000              55.000          7.000     37.000  \n",
       "304241    14.100              74.200         11.700      2.500  \n",
       "312174    31.000              55.000         16.000      0.013  "
      ]
     },
     "metadata": {},
     "output_type": "display_data"
    },
    {
     "name": "stdout",
     "output_type": "stream",
     "text": [
      "51 lignes invalides effacées.\n"
     ]
    }
   ],
   "source": [
    "total_mass = data['fat_100g'] + data['carbohydrates_100g'] + \\\n",
    "             data['proteins_100g'] + data['salt_100g']\n",
    "mask = total_mass >= 102 # le total peut être légèrement > 100, pour cause d'arrondi\n",
    "display(data.loc[mask, ['code', 'product_name', 'fat_100g', 'carbohydrates_100g', 'proteins_100g', 'salt_100g']])\n",
    "data = data[~mask]\n",
    "print(f\"{sum(mask)} lignes invalides effacées.\")"
   ]
  },
  {
   "cell_type": "markdown",
   "metadata": {},
   "source": [
    "Nous avons vérifié manuellement sur 5 de ces lignes, prises au hasard, l'existence d'erreurs :\n",
    "- 0812668020067 (petits carrés) : seulement 60 g de carbohydrates (contre 72.13 dans la base)\n",
    "- 2952350335784 (biscuits au macha) : la valeur de 99,3 g de glucides est impossible\n",
    "- 3760072740248 (Breizh Karamel) : 72.6 g de carbohydrates (au lieu de 73.3)\n",
    "- 3165432640006 (sucre glace Daddy) : 0 g de protéines (au lieu de 2)\n",
    "- 8002873021641 (panettone) : 0,37 g de sel (au lieu de 37, erreur d'un facteur 100)"
   ]
  },
  {
   "cell_type": "markdown",
   "metadata": {},
   "source": [
    "### Quantité de fibres irréaliste"
   ]
  },
  {
   "cell_type": "code",
   "execution_count": 80,
   "metadata": {},
   "outputs": [
    {
     "data": {
      "text/html": [
       "<div>\n",
       "<style scoped>\n",
       "    .dataframe tbody tr th:only-of-type {\n",
       "        vertical-align: middle;\n",
       "    }\n",
       "\n",
       "    .dataframe tbody tr th {\n",
       "        vertical-align: top;\n",
       "    }\n",
       "\n",
       "    .dataframe thead th {\n",
       "        text-align: right;\n",
       "    }\n",
       "</style>\n",
       "<table border=\"1\" class=\"dataframe\">\n",
       "  <thead>\n",
       "    <tr style=\"text-align: right;\">\n",
       "      <th></th>\n",
       "      <th>code</th>\n",
       "      <th>product_name</th>\n",
       "      <th>main_category</th>\n",
       "      <th>fiber_100g</th>\n",
       "    </tr>\n",
       "  </thead>\n",
       "  <tbody>\n",
       "    <tr>\n",
       "      <th>127525</th>\n",
       "      <td>0698502500571</td>\n",
       "      <td>Savarez - Jeu De Cordes</td>\n",
       "      <td>NaN</td>\n",
       "      <td>100.000</td>\n",
       "    </tr>\n",
       "    <tr>\n",
       "      <th>170118</th>\n",
       "      <td>0883929140886</td>\n",
       "      <td>Harry Potter &amp; The Deathly Hallows Radcliffe /...</td>\n",
       "      <td>en:non-food-products</td>\n",
       "      <td>100.000</td>\n",
       "    </tr>\n",
       "    <tr>\n",
       "      <th>211174</th>\n",
       "      <td>3256224363293</td>\n",
       "      <td>Creme Lavante</td>\n",
       "      <td>NaN</td>\n",
       "      <td>80.000</td>\n",
       "    </tr>\n",
       "    <tr>\n",
       "      <th>221238</th>\n",
       "      <td>3273670000428</td>\n",
       "      <td>Tartines Aixoises Grillées Roger</td>\n",
       "      <td>NaN</td>\n",
       "      <td>78.000</td>\n",
       "    </tr>\n",
       "    <tr>\n",
       "      <th>225939</th>\n",
       "      <td>3333297304290</td>\n",
       "      <td>Fais Pas Ci</td>\n",
       "      <td>NaN</td>\n",
       "      <td>99.000</td>\n",
       "    </tr>\n",
       "    <tr>\n",
       "      <th>229692</th>\n",
       "      <td>3380380057649</td>\n",
       "      <td>Mix'Gom</td>\n",
       "      <td>NaN</td>\n",
       "      <td>85.200</td>\n",
       "    </tr>\n",
       "    <tr>\n",
       "      <th>241333</th>\n",
       "      <td>3564700158449</td>\n",
       "      <td>Champignons noirs déshydratés</td>\n",
       "      <td>NaN</td>\n",
       "      <td>79.500</td>\n",
       "    </tr>\n",
       "    <tr>\n",
       "      <th>244464</th>\n",
       "      <td>3583788522898</td>\n",
       "      <td>Isotonic Sport Drink</td>\n",
       "      <td>NaN</td>\n",
       "      <td>92.400</td>\n",
       "    </tr>\n",
       "    <tr>\n",
       "      <th>244661</th>\n",
       "      <td>3590670000174</td>\n",
       "      <td>Noix sèches</td>\n",
       "      <td>NaN</td>\n",
       "      <td>100.000</td>\n",
       "    </tr>\n",
       "    <tr>\n",
       "      <th>253458</th>\n",
       "      <td>3760116256247</td>\n",
       "      <td>Tisane à sucer Gentiane Citron</td>\n",
       "      <td>fr:bonbons-sans-sucres-ajoutes</td>\n",
       "      <td>72.100</td>\n",
       "    </tr>\n",
       "    <tr>\n",
       "      <th>256886</th>\n",
       "      <td>4001686304792</td>\n",
       "      <td>Haribo Goldbären Dose 450G</td>\n",
       "      <td>NaN</td>\n",
       "      <td>88.000</td>\n",
       "    </tr>\n",
       "    <tr>\n",
       "      <th>260191</th>\n",
       "      <td>4013200253929</td>\n",
       "      <td>Lasagne, Teigwaren</td>\n",
       "      <td>NaN</td>\n",
       "      <td>73.000</td>\n",
       "    </tr>\n",
       "    <tr>\n",
       "      <th>266115</th>\n",
       "      <td>4335896759951</td>\n",
       "      <td>Farine Type 550</td>\n",
       "      <td>NaN</td>\n",
       "      <td>72.000</td>\n",
       "    </tr>\n",
       "    <tr>\n",
       "      <th>273543</th>\n",
       "      <td>5051889553625</td>\n",
       "      <td>Le Hobbit : La Bataille Des Cinq Armés - Versi...</td>\n",
       "      <td>NaN</td>\n",
       "      <td>100.000</td>\n",
       "    </tr>\n",
       "    <tr>\n",
       "      <th>275268</th>\n",
       "      <td>5200300108207</td>\n",
       "      <td>Pate Completes</td>\n",
       "      <td>NaN</td>\n",
       "      <td>71.000</td>\n",
       "    </tr>\n",
       "    <tr>\n",
       "      <th>279373</th>\n",
       "      <td>5411983140624</td>\n",
       "      <td>Sour Gums Mixed 400g</td>\n",
       "      <td>NaN</td>\n",
       "      <td>82.500</td>\n",
       "    </tr>\n",
       "    <tr>\n",
       "      <th>283105</th>\n",
       "      <td>6091035082004</td>\n",
       "      <td>Eau</td>\n",
       "      <td>NaN</td>\n",
       "      <td>100.000</td>\n",
       "    </tr>\n",
       "    <tr>\n",
       "      <th>284470</th>\n",
       "      <td>6931653107010</td>\n",
       "      <td>Nâmmèo Oreilles de Judas Séchées</td>\n",
       "      <td>NaN</td>\n",
       "      <td>79.000</td>\n",
       "    </tr>\n",
       "    <tr>\n",
       "      <th>285429</th>\n",
       "      <td>7340055304214</td>\n",
       "      <td>Marshall - Major Noir</td>\n",
       "      <td>NaN</td>\n",
       "      <td>100.000</td>\n",
       "    </tr>\n",
       "    <tr>\n",
       "      <th>303385</th>\n",
       "      <td>8007255290066</td>\n",
       "      <td>Pasta Toscana Spaghetti økologisk</td>\n",
       "      <td>NaN</td>\n",
       "      <td>71.000</td>\n",
       "    </tr>\n",
       "    <tr>\n",
       "      <th>310102</th>\n",
       "      <td>8436029242534</td>\n",
       "      <td>Jam</td>\n",
       "      <td>NaN</td>\n",
       "      <td>88.000</td>\n",
       "    </tr>\n",
       "    <tr>\n",
       "      <th>313036</th>\n",
       "      <td>8695876150106</td>\n",
       "      <td>Peyman Bahceden Kuru Uzum / Raisin - 200 GR</td>\n",
       "      <td>NaN</td>\n",
       "      <td>76.250</td>\n",
       "    </tr>\n",
       "  </tbody>\n",
       "</table>\n",
       "</div>"
      ],
      "text/plain": [
       "                 code                                       product_name  \\\n",
       "127525  0698502500571                            Savarez - Jeu De Cordes   \n",
       "170118  0883929140886  Harry Potter & The Deathly Hallows Radcliffe /...   \n",
       "211174  3256224363293                                      Creme Lavante   \n",
       "221238  3273670000428                   Tartines Aixoises Grillées Roger   \n",
       "225939  3333297304290                                        Fais Pas Ci   \n",
       "229692  3380380057649                                            Mix'Gom   \n",
       "241333  3564700158449                      Champignons noirs déshydratés   \n",
       "244464  3583788522898                               Isotonic Sport Drink   \n",
       "244661  3590670000174                                        Noix sèches   \n",
       "253458  3760116256247                     Tisane à sucer Gentiane Citron   \n",
       "256886  4001686304792                         Haribo Goldbären Dose 450G   \n",
       "260191  4013200253929                                 Lasagne, Teigwaren   \n",
       "266115  4335896759951                                    Farine Type 550   \n",
       "273543  5051889553625  Le Hobbit : La Bataille Des Cinq Armés - Versi...   \n",
       "275268  5200300108207                                     Pate Completes   \n",
       "279373  5411983140624                               Sour Gums Mixed 400g   \n",
       "283105  6091035082004                                                Eau   \n",
       "284470  6931653107010                   Nâmmèo Oreilles de Judas Séchées   \n",
       "285429  7340055304214                              Marshall - Major Noir   \n",
       "303385  8007255290066                  Pasta Toscana Spaghetti økologisk   \n",
       "310102  8436029242534                                                Jam   \n",
       "313036  8695876150106        Peyman Bahceden Kuru Uzum / Raisin - 200 GR   \n",
       "\n",
       "                         main_category  fiber_100g  \n",
       "127525                             NaN     100.000  \n",
       "170118            en:non-food-products     100.000  \n",
       "211174                             NaN      80.000  \n",
       "221238                             NaN      78.000  \n",
       "225939                             NaN      99.000  \n",
       "229692                             NaN      85.200  \n",
       "241333                             NaN      79.500  \n",
       "244464                             NaN      92.400  \n",
       "244661                             NaN     100.000  \n",
       "253458  fr:bonbons-sans-sucres-ajoutes      72.100  \n",
       "256886                             NaN      88.000  \n",
       "260191                             NaN      73.000  \n",
       "266115                             NaN      72.000  \n",
       "273543                             NaN     100.000  \n",
       "275268                             NaN      71.000  \n",
       "279373                             NaN      82.500  \n",
       "283105                             NaN     100.000  \n",
       "284470                             NaN      79.000  \n",
       "285429                             NaN     100.000  \n",
       "303385                             NaN      71.000  \n",
       "310102                             NaN      88.000  \n",
       "313036                             NaN      76.250  "
      ]
     },
     "metadata": {},
     "output_type": "display_data"
    },
    {
     "name": "stdout",
     "output_type": "stream",
     "text": [
      "22 lignes probablement invalides effacées.\n"
     ]
    }
   ],
   "source": [
    "# Nous excluons les produits contenant plus de 70% de fibres.\n",
    "# Source de cette valeur limite : https://world.openfoodfacts.org/product/3256220666398\n",
    "# Nous ignorons les produits de type agar-agar, konjac et psyllium qui sont connus pour être \n",
    "# très riches en fibres.\n",
    "mask = (data['fiber_100g'] > 70) & \\\n",
    "        ~(data['product_name'].str.contains('agar-agar', case=False)) & \\\n",
    "        ~(data['product_name'].str.contains('konjac', case=False)) & \\\n",
    "        ~(data['product_name'].str.contains('psyllium', case=False)) \n",
    "display(data.loc[mask, ['code', 'product_name', 'main_category', 'fiber_100g']])\n",
    "data = data[~mask]\n",
    "print(f\"{sum(mask)} lignes probablement invalides effacées.\")"
   ]
  },
  {
   "cell_type": "markdown",
   "metadata": {},
   "source": [
    "Toutes ces entrées sauf une (champignons noirs) semblent effectivement contenir une valeur incorrecte. "
   ]
  },
  {
   "cell_type": "markdown",
   "metadata": {},
   "source": [
    "### Quantité de sel irréaliste"
   ]
  },
  {
   "cell_type": "code",
   "execution_count": 81,
   "metadata": {},
   "outputs": [
    {
     "data": {
      "text/html": [
       "<div>\n",
       "<style scoped>\n",
       "    .dataframe tbody tr th:only-of-type {\n",
       "        vertical-align: middle;\n",
       "    }\n",
       "\n",
       "    .dataframe tbody tr th {\n",
       "        vertical-align: top;\n",
       "    }\n",
       "\n",
       "    .dataframe thead th {\n",
       "        text-align: right;\n",
       "    }\n",
       "</style>\n",
       "<table border=\"1\" class=\"dataframe\">\n",
       "  <thead>\n",
       "    <tr style=\"text-align: right;\">\n",
       "      <th></th>\n",
       "      <th>code</th>\n",
       "      <th>product_name</th>\n",
       "      <th>main_category</th>\n",
       "      <th>salt_100g</th>\n",
       "    </tr>\n",
       "  </thead>\n",
       "  <tbody>\n",
       "    <tr>\n",
       "      <th>117947</th>\n",
       "      <td>0609613797286</td>\n",
       "      <td>Jam YP LANDS - Quandong Preserve</td>\n",
       "      <td>en:jams</td>\n",
       "      <td>71.120</td>\n",
       "    </tr>\n",
       "    <tr>\n",
       "      <th>150046</th>\n",
       "      <td>0812475012255</td>\n",
       "      <td>Allure Mango</td>\n",
       "      <td>en:beverages</td>\n",
       "      <td>76.200</td>\n",
       "    </tr>\n",
       "    <tr>\n",
       "      <th>187786</th>\n",
       "      <td>3017800225745</td>\n",
       "      <td>Petits Pois</td>\n",
       "      <td>NaN</td>\n",
       "      <td>78.000</td>\n",
       "    </tr>\n",
       "    <tr>\n",
       "      <th>189753</th>\n",
       "      <td>3035626414051</td>\n",
       "      <td>Herbamare</td>\n",
       "      <td>NaN</td>\n",
       "      <td>93.600</td>\n",
       "    </tr>\n",
       "    <tr>\n",
       "      <th>198798</th>\n",
       "      <td>3183280016354</td>\n",
       "      <td>Le saunier de camargue</td>\n",
       "      <td>NaN</td>\n",
       "      <td>100.000</td>\n",
       "    </tr>\n",
       "    <tr>\n",
       "      <th>198803</th>\n",
       "      <td>3183280020269</td>\n",
       "      <td>Herbes et légumes du soleil</td>\n",
       "      <td>NaN</td>\n",
       "      <td>90.800</td>\n",
       "    </tr>\n",
       "    <tr>\n",
       "      <th>225022</th>\n",
       "      <td>3329150310645</td>\n",
       "      <td>Bjk</td>\n",
       "      <td>NaN</td>\n",
       "      <td>69.000</td>\n",
       "    </tr>\n",
       "    <tr>\n",
       "      <th>232237</th>\n",
       "      <td>3423720002357</td>\n",
       "      <td>Gâteaux, Biscuits, Encas</td>\n",
       "      <td>NaN</td>\n",
       "      <td>88.400</td>\n",
       "    </tr>\n",
       "    <tr>\n",
       "      <th>237273</th>\n",
       "      <td>3547402000148</td>\n",
       "      <td>Piment D'espelette A.o.c</td>\n",
       "      <td>NaN</td>\n",
       "      <td>80.500</td>\n",
       "    </tr>\n",
       "    <tr>\n",
       "      <th>245851</th>\n",
       "      <td>3596710347100</td>\n",
       "      <td>Auchan</td>\n",
       "      <td>NaN</td>\n",
       "      <td>100.000</td>\n",
       "    </tr>\n",
       "    <tr>\n",
       "      <th>249693</th>\n",
       "      <td>3700125800888</td>\n",
       "      <td>Pates De FRT Festives</td>\n",
       "      <td>NaN</td>\n",
       "      <td>80.000</td>\n",
       "    </tr>\n",
       "    <tr>\n",
       "      <th>268467</th>\n",
       "      <td>4891118040608</td>\n",
       "      <td>Dairy Farm</td>\n",
       "      <td>NaN</td>\n",
       "      <td>88.000</td>\n",
       "    </tr>\n",
       "    <tr>\n",
       "      <th>272750</th>\n",
       "      <td>5050083477881</td>\n",
       "      <td>Céréales Extra Crush Fruit 500g</td>\n",
       "      <td>NaN</td>\n",
       "      <td>68.000</td>\n",
       "    </tr>\n",
       "    <tr>\n",
       "      <th>313269</th>\n",
       "      <td>8710400572381</td>\n",
       "      <td>Kruidenmix met zout voor Gehakt</td>\n",
       "      <td>en:spices</td>\n",
       "      <td>73.660</td>\n",
       "    </tr>\n",
       "    <tr>\n",
       "      <th>314862</th>\n",
       "      <td>8713305807992</td>\n",
       "      <td>Bonbon De Chez Action</td>\n",
       "      <td>NaN</td>\n",
       "      <td>87.000</td>\n",
       "    </tr>\n",
       "    <tr>\n",
       "      <th>317238</th>\n",
       "      <td>8857107231774</td>\n",
       "      <td>Varech Croquant Taokaenoi</td>\n",
       "      <td>NaN</td>\n",
       "      <td>100.000</td>\n",
       "    </tr>\n",
       "  </tbody>\n",
       "</table>\n",
       "</div>"
      ],
      "text/plain": [
       "                 code                      product_name main_category  \\\n",
       "117947  0609613797286  Jam YP LANDS - Quandong Preserve       en:jams   \n",
       "150046  0812475012255                      Allure Mango  en:beverages   \n",
       "187786  3017800225745                       Petits Pois           NaN   \n",
       "189753  3035626414051                         Herbamare           NaN   \n",
       "198798  3183280016354            Le saunier de camargue           NaN   \n",
       "198803  3183280020269       Herbes et légumes du soleil           NaN   \n",
       "225022  3329150310645                               Bjk           NaN   \n",
       "232237  3423720002357          Gâteaux, Biscuits, Encas           NaN   \n",
       "237273  3547402000148          Piment D'espelette A.o.c           NaN   \n",
       "245851  3596710347100                            Auchan           NaN   \n",
       "249693  3700125800888             Pates De FRT Festives           NaN   \n",
       "268467  4891118040608                        Dairy Farm           NaN   \n",
       "272750  5050083477881   Céréales Extra Crush Fruit 500g           NaN   \n",
       "313269  8710400572381   Kruidenmix met zout voor Gehakt     en:spices   \n",
       "314862  8713305807992             Bonbon De Chez Action           NaN   \n",
       "317238  8857107231774         Varech Croquant Taokaenoi           NaN   \n",
       "\n",
       "        salt_100g  \n",
       "117947     71.120  \n",
       "150046     76.200  \n",
       "187786     78.000  \n",
       "189753     93.600  \n",
       "198798    100.000  \n",
       "198803     90.800  \n",
       "225022     69.000  \n",
       "232237     88.400  \n",
       "237273     80.500  \n",
       "245851    100.000  \n",
       "249693     80.000  \n",
       "268467     88.000  \n",
       "272750     68.000  \n",
       "313269     73.660  \n",
       "314862     87.000  \n",
       "317238    100.000  "
      ]
     },
     "metadata": {},
     "output_type": "display_data"
    },
    {
     "name": "stdout",
     "output_type": "stream",
     "text": [
      "16 lignes probablement invalides effacées.\n"
     ]
    }
   ],
   "source": [
    "# Nous considérons comme invalides les entrées de produits (autre que du sel) pour lesquels\n",
    "# la proportion de sel est supérieure à 65%.\n",
    "# Ce maximum est atteint pour https://world.openfoodfacts.org/product/5400601009795/\n",
    "mask = (data['salt_100g'] > 65) & \\\n",
    "        ~(data['product_name'].str.contains('sel', case=False)) & \\\n",
    "        ~(data['product_name'].str.contains('salt', case=False)) & \\\n",
    "        ~(data['main_category'] == 'en:salts') & \\\n",
    "        ~(data['product_name'].str.contains('bicarbonate', case=False))\n",
    "display(data.loc[mask, ['code', 'product_name', 'main_category', 'salt_100g']])\n",
    "data = data[~mask]\n",
    "print(f\"{sum(mask)} lignes probablement invalides effacées.\")"
   ]
  },
  {
   "cell_type": "markdown",
   "metadata": {},
   "source": [
    "Un examen rapide nous montre que notre filtre sélectionne indûment 3 produits produits d'assaisonnement contenant majoritairement du sel. Nous acceptons cette imprécision et ne chercherons pas, pour l'instant, à affiner davantage le critère de sélection."
   ]
  },
  {
   "cell_type": "markdown",
   "metadata": {},
   "source": [
    "### Duplicats"
   ]
  },
  {
   "cell_type": "code",
   "execution_count": 82,
   "metadata": {},
   "outputs": [
    {
     "name": "stdout",
     "output_type": "stream",
     "text": [
      "Nombre d'entrées avec le même code : 0\n"
     ]
    }
   ],
   "source": [
    "dup = data.duplicated(subset=['code'], keep=False)\n",
    "print(f\"Nombre d'entrées avec le même code : {dup.sum()}\")"
   ]
  },
  {
   "cell_type": "markdown",
   "metadata": {},
   "source": [
    "## Suppression des colonnes identifiées comme inutiles"
   ]
  },
  {
   "cell_type": "code",
   "execution_count": 83,
   "metadata": {},
   "outputs": [
    {
     "name": "stdout",
     "output_type": "stream",
     "text": [
      "packaging_tags, quantity, serving_size, stores, countries_tags, countries_fr, purchase_places, creator, generic_name, categories_tags, categories_fr, main_category_fr, pnns_groups_1, pnns_groups_2, origins_tags, manufacturing_places_tags, emb_codes_tags, first_packaging_code_geo, cities_tags, labels_fr, carbon-footprint_100g, url, image_url, image_small_url, states_tags, states_fr, ingredients_text, allergens, traces_tags, traces_fr, additives_tags, additives_fr, ingredients_from_palm_oil_tags, ingredients_that_may_be_from_palm_oil_n, ingredients_that_may_be_from_palm_oil_tags\n",
      "35 colonnes effacées.\n"
     ]
    }
   ],
   "source": [
    "print(\", \".join(columns_to_be_deleted))\n",
    "data.drop(columns=columns_to_be_deleted, inplace=True, errors='ignore') \n",
    "print(f\"{len(columns_to_be_deleted)} colonnes effacées.\")"
   ]
  },
  {
   "cell_type": "markdown",
   "metadata": {},
   "source": [
    "## Vérification de la représentativité des données après nettoyage"
   ]
  },
  {
   "cell_type": "code",
   "execution_count": 84,
   "metadata": {},
   "outputs": [
    {
     "data": {
      "image/png": "[encoded data removed]",
      "text/plain": [
       "<Figure size 1080x288 with 2 Axes>"
      ]
     },
     "metadata": {},
     "output_type": "display_data"
    }
   ],
   "source": [
    "fig, axes = plt.subplots(1, 2, figsize=(15, 4))\n",
    "# catégories originales\n",
    "orig_top_categories.plot.pie(ax=axes[0])\n",
    "axes[0].axis('equal');\n",
    "axes[0].set_ylabel('');\n",
    "# catégories après nettoyage\n",
    "top_categories = data['main_category'].dropna().value_counts().head(15)\n",
    "top_categories.index = top_categories.index.str[3:] # élimine le préfixe\n",
    "top_categories.plot.pie(ax=axes[1]);\n",
    "axes[1].axis('equal');\n",
    "axes[1].set_ylabel('');\n",
    "fig.suptitle('Répartition des produits avant et après nettoyage');"
   ]
  },
  {
   "cell_type": "markdown",
   "metadata": {},
   "source": [
    "Nous observons que la fréquence des principales catégories n'a pas beaucoup changé : le nettoyage du jeu de donnée n'a pas introduit de biais. Bien que notre nouveau jeu ne contienne que 30 % des données initiales, il reste représentatif."
   ]
  },
  {
   "cell_type": "markdown",
   "metadata": {},
   "source": [
    "## Sauvegarde du jeu de données final"
   ]
  },
  {
   "cell_type": "code",
   "execution_count": 85,
   "metadata": {},
   "outputs": [
    {
     "name": "stdout",
     "output_type": "stream",
     "text": [
      "code, product_name, brands_tags, labels_tags, additives_n, ingredients_from_palm_oil_n, nutrition_grade_fr, main_category, energy_100g, energy-from-fat_100g, fat_100g, saturated-fat_100g, monounsaturated-fat_100g, polyunsaturated-fat_100g, omega-3-fat_100g, trans-fat_100g, cholesterol_100g, carbohydrates_100g, sugars_100g, lactose_100g, starch_100g, polyols_100g, fiber_100g, proteins_100g, salt_100g, sodium_100g, alcohol_100g, vitamin-a_100g, vitamin-d_100g, vitamin-e_100g, vitamin-k_100g, vitamin-c_100g, vitamin-b1_100g, vitamin-b2_100g, vitamin-pp_100g, vitamin-b6_100g, vitamin-b9_100g, folates_100g, vitamin-b12_100g, biotin_100g, pantothenic-acid_100g, potassium_100g, calcium_100g, phosphorus_100g, iron_100g, magnesium_100g, zinc_100g, copper_100g, manganese_100g, selenium_100g, iodine_100g, fruits-vegetables-nuts_100g, cocoa_100g, nutrition-score-fr_100g, nutrition-score-uk_100g, main_brand\n"
     ]
    }
   ],
   "source": [
    "print(\", \".join(data.columns.tolist()))"
   ]
  },
  {
   "cell_type": "code",
   "execution_count": 86,
   "metadata": {},
   "outputs": [
    {
     "name": "stdout",
     "output_type": "stream",
     "text": [
      "<class 'pandas.core.frame.DataFrame'>\n",
      "Int64Index: 91142 entries, 0 to 320770\n",
      "Data columns (total 56 columns):\n",
      "code                           91142 non-null object\n",
      "product_name                   91142 non-null object\n",
      "brands_tags                    85293 non-null object\n",
      "labels_tags                    34896 non-null object\n",
      "additives_n                    53338 non-null float64\n",
      "ingredients_from_palm_oil_n    53338 non-null float64\n",
      "nutrition_grade_fr             60973 non-null object\n",
      "main_category                  61410 non-null object\n",
      "energy_100g                    64117 non-null float64\n",
      "energy-from-fat_100g           30 non-null float64\n",
      "fat_100g                       47217 non-null float64\n",
      "saturated-fat_100g             61922 non-null float64\n",
      "monounsaturated-fat_100g       1176 non-null float64\n",
      "polyunsaturated-fat_100g       1194 non-null float64\n",
      "omega-3-fat_100g               650 non-null float64\n",
      "trans-fat_100g                 364 non-null float64\n",
      "cholesterol_100g               388 non-null float64\n",
      "carbohydrates_100g             46784 non-null float64\n",
      "sugars_100g                    62052 non-null float64\n",
      "lactose_100g                   143 non-null float64\n",
      "starch_100g                    173 non-null float64\n",
      "polyols_100g                   300 non-null float64\n",
      "fiber_100g                     45420 non-null float64\n",
      "proteins_100g                  63844 non-null float64\n",
      "salt_100g                      62112 non-null float64\n",
      "sodium_100g                    62109 non-null float64\n",
      "alcohol_100g                   2388 non-null float64\n",
      "vitamin-a_100g                 567 non-null float64\n",
      "vitamin-d_100g                 586 non-null float64\n",
      "vitamin-e_100g                 789 non-null float64\n",
      "vitamin-k_100g                 72 non-null float64\n",
      "vitamin-c_100g                 1273 non-null float64\n",
      "vitamin-b1_100g                853 non-null float64\n",
      "vitamin-b2_100g                640 non-null float64\n",
      "vitamin-pp_100g                703 non-null float64\n",
      "vitamin-b6_100g                741 non-null float64\n",
      "vitamin-b9_100g                687 non-null float64\n",
      "folates_100g                   0 non-null float64\n",
      "vitamin-b12_100g               549 non-null float64\n",
      "biotin_100g                    191 non-null float64\n",
      "pantothenic-acid_100g          424 non-null float64\n",
      "potassium_100g                 335 non-null float64\n",
      "calcium_100g                   2222 non-null float64\n",
      "phosphorus_100g                561 non-null float64\n",
      "iron_100g                      1160 non-null float64\n",
      "magnesium_100g                 809 non-null float64\n",
      "zinc_100g                      231 non-null float64\n",
      "copper_100g                    117 non-null float64\n",
      "manganese_100g                 106 non-null float64\n",
      "selenium_100g                  91 non-null float64\n",
      "iodine_100g                    121 non-null float64\n",
      "fruits-vegetables-nuts_100g    2964 non-null float64\n",
      "cocoa_100g                     676 non-null float64\n",
      "nutrition-score-fr_100g        60973 non-null float64\n",
      "nutrition-score-uk_100g        60973 non-null float64\n",
      "main_brand                     85293 non-null object\n",
      "dtypes: float64(49), object(7)\n",
      "memory usage: 74.8 MB\n",
      "None\n"
     ]
    }
   ],
   "source": [
    "print(data.info(memory_usage='deep')) "
   ]
  },
  {
   "cell_type": "code",
   "execution_count": 87,
   "metadata": {
    "scrolled": true
   },
   "outputs": [
    {
     "name": "stdout",
     "output_type": "stream",
     "text": [
      "Taille du fichier : 15.96 MB\n"
     ]
    }
   ],
   "source": [
    "data.to_csv(output_file, index=False, sep='\\t')\n",
    "size = os.path.getsize(output_file) / 1024**2\n",
    "print(f'Taille du fichier : {size:0.2f} MB')"
   ]
  }
 ],
 "metadata": {
  "kernelspec": {
   "display_name": "Python 3",
   "language": "python",
   "name": "python3"
  },
  "language_info": {
   "codemirror_mode": {
    "name": "ipython",
    "version": 3
   },
   "file_extension": ".py",
   "mimetype": "text/x-python",
   "name": "python",
   "nbconvert_exporter": "python",
   "pygments_lexer": "ipython3",
   "version": "3.7.3"
  }
 },
 "nbformat": 4,
 "nbformat_minor": 2
}
