{
 "cells": [
  {
   "cell_type": "markdown",
   "metadata": {},
   "source": [
    "# Analyse de données nutritionnelles : nettoyage des données\n",
    "Important : le fichier \"fr.openfoodfacts.org.products.csv\" doit se trouver dans le répertoire courant."
   ]
  },
  {
   "cell_type": "markdown",
   "metadata": {},
   "source": [
    "## Initialisation"
   ]
  },
  {
   "cell_type": "code",
   "execution_count": 1,
   "metadata": {},
   "outputs": [],
   "source": [
    "import matplotlib.pyplot as plt\n",
    "import numpy as np\n",
    "import pandas as pd\n",
    "\n",
    "pd.options.display.float_format = '{:,.3f}'.format"
   ]
  },
  {
   "cell_type": "markdown",
   "metadata": {},
   "source": [
    "## Chargement et inspection sommaire"
   ]
  },
  {
   "cell_type": "markdown",
   "metadata": {},
   "source": [
    "### Chargement du fichier sous forme de DataFrame"
   ]
  },
  {
   "cell_type": "code",
   "execution_count": 2,
   "metadata": {
    "scrolled": true
   },
   "outputs": [
    {
     "name": "stderr",
     "output_type": "stream",
     "text": [
      "C:\\ProgramData\\Anaconda3\\lib\\site-packages\\IPython\\core\\interactiveshell.py:2785: DtypeWarning: Columns (0,3,5,19,20,24,25,26,27,28,35,36,37,38,39,48) have mixed types. Specify dtype option on import or set low_memory=False.\n",
      "  interactivity=interactivity, compiler=compiler, result=result)\n"
     ]
    }
   ],
   "source": [
    "data = pd.read_csv('fr.openfoodfacts.org.products.csv', delimiter='\\t')"
   ]
  },
  {
   "cell_type": "code",
   "execution_count": 3,
   "metadata": {},
   "outputs": [
    {
     "name": "stdout",
     "output_type": "stream",
     "text": [
      "<class 'pandas.core.frame.DataFrame'>\n",
      "RangeIndex: 320772 entries, 0 to 320771\n",
      "Columns: 162 entries, code to water-hardness_100g\n",
      "dtypes: float64(106), object(56)\n",
      "memory usage: 1.7 GB\n",
      "None\n"
     ]
    }
   ],
   "source": [
    "print(data.info(memory_usage='deep')) # infos sur les données chargées"
   ]
  },
  {
   "cell_type": "markdown",
   "metadata": {},
   "source": [
    "### Liste des attributs"
   ]
  },
  {
   "cell_type": "code",
   "execution_count": 4,
   "metadata": {},
   "outputs": [
    {
     "name": "stdout",
     "output_type": "stream",
     "text": [
      "code, url, creator, created_t, created_datetime, last_modified_t, last_modified_datetime, product_name, generic_name, quantity, packaging, packaging_tags, brands, brands_tags, categories, categories_tags, categories_fr, origins, origins_tags, manufacturing_places, manufacturing_places_tags, labels, labels_tags, labels_fr, emb_codes, emb_codes_tags, first_packaging_code_geo, cities, cities_tags, purchase_places, stores, countries, countries_tags, countries_fr, ingredients_text, allergens, allergens_fr, traces, traces_tags, traces_fr, serving_size, no_nutriments, additives_n, additives, additives_tags, additives_fr, ingredients_from_palm_oil_n, ingredients_from_palm_oil, ingredients_from_palm_oil_tags, ingredients_that_may_be_from_palm_oil_n, ingredients_that_may_be_from_palm_oil, ingredients_that_may_be_from_palm_oil_tags, nutrition_grade_uk, nutrition_grade_fr, pnns_groups_1, pnns_groups_2, states, states_tags, states_fr, main_category, main_category_fr, image_url, image_small_url, energy_100g, energy-from-fat_100g, fat_100g, saturated-fat_100g, butyric-acid_100g, caproic-acid_100g, caprylic-acid_100g, capric-acid_100g, lauric-acid_100g, myristic-acid_100g, palmitic-acid_100g, stearic-acid_100g, arachidic-acid_100g, behenic-acid_100g, lignoceric-acid_100g, cerotic-acid_100g, montanic-acid_100g, melissic-acid_100g, monounsaturated-fat_100g, polyunsaturated-fat_100g, omega-3-fat_100g, alpha-linolenic-acid_100g, eicosapentaenoic-acid_100g, docosahexaenoic-acid_100g, omega-6-fat_100g, linoleic-acid_100g, arachidonic-acid_100g, gamma-linolenic-acid_100g, dihomo-gamma-linolenic-acid_100g, omega-9-fat_100g, oleic-acid_100g, elaidic-acid_100g, gondoic-acid_100g, mead-acid_100g, erucic-acid_100g, nervonic-acid_100g, trans-fat_100g, cholesterol_100g, carbohydrates_100g, sugars_100g, sucrose_100g, glucose_100g, fructose_100g, lactose_100g, maltose_100g, maltodextrins_100g, starch_100g, polyols_100g, fiber_100g, proteins_100g, casein_100g, serum-proteins_100g, nucleotides_100g, salt_100g, sodium_100g, alcohol_100g, vitamin-a_100g, beta-carotene_100g, vitamin-d_100g, vitamin-e_100g, vitamin-k_100g, vitamin-c_100g, vitamin-b1_100g, vitamin-b2_100g, vitamin-pp_100g, vitamin-b6_100g, vitamin-b9_100g, folates_100g, vitamin-b12_100g, biotin_100g, pantothenic-acid_100g, silica_100g, bicarbonate_100g, potassium_100g, chloride_100g, calcium_100g, phosphorus_100g, iron_100g, magnesium_100g, zinc_100g, copper_100g, manganese_100g, fluoride_100g, selenium_100g, chromium_100g, molybdenum_100g, iodine_100g, caffeine_100g, taurine_100g, ph_100g, fruits-vegetables-nuts_100g, collagen-meat-protein-ratio_100g, cocoa_100g, chlorophyl_100g, carbon-footprint_100g, nutrition-score-fr_100g, nutrition-score-uk_100g, glycemic-index_100g, water-hardness_100g\n"
     ]
    }
   ],
   "source": [
    "print(', '.join(data.columns.tolist()))"
   ]
  },
  {
   "cell_type": "markdown",
   "metadata": {},
   "source": [
    "### Suppressions des colonnes de données d'audit"
   ]
  },
  {
   "cell_type": "code",
   "execution_count": 5,
   "metadata": {},
   "outputs": [
    {
     "name": "stdout",
     "output_type": "stream",
     "text": [
      "4 colonnes effacées.\n"
     ]
    }
   ],
   "source": [
    "columns_to_delete = ['created_t', 'created_datetime', 'last_modified_t', 'last_modified_datetime']\n",
    "data.drop(columns=columns_to_delete,inplace=True,errors='ignore')\n",
    "print(f\"{len(columns_to_delete)} colonnes effacées.\")"
   ]
  },
  {
   "cell_type": "markdown",
   "metadata": {},
   "source": [
    "### Examen des colonnes avec valeurs manquantes"
   ]
  },
  {
   "cell_type": "code",
   "execution_count": 6,
   "metadata": {},
   "outputs": [
    {
     "data": {
      "image/png": "[encoded data removed]",
      "text/plain": [
       "<Figure size 432x288 with 1 Axes>"
      ]
     },
     "metadata": {},
     "output_type": "display_data"
    }
   ],
   "source": [
    "missing_values = data.isnull().sum(axis=0).to_frame(name='count_missing') # nb de valeurs manquantes par colonn\n",
    "missing_values.sort_values(by=['count_missing'], inplace=True) # tri pour l'affichage\n",
    "missing_values['percent_missing'] = missing_values['count_missing'] / len(data) * 100 # calcul du %\n",
    "fig, axes = plt.subplots()\n",
    "axes.hist(missing_values['percent_missing'], bins=10);\n",
    "axes.set_title('Distribution du % de valeurs manquantes');\n",
    "axes.set_xlabel('% de valeurs manquantes');\n",
    "axes.set_ylabel('Nb de colonnes');"
   ]
  },
  {
   "cell_type": "code",
   "execution_count": 7,
   "metadata": {},
   "outputs": [
    {
     "name": "stdout",
     "output_type": "stream",
     "text": [
      "Colonnes ne contenant aucune valeur :\n",
      "                                       count_missing  percent_missing\n",
      "ingredients_from_palm_oil                     320772          100.000\n",
      "chlorophyl_100g                               320772          100.000\n",
      "lignoceric-acid_100g                          320772          100.000\n",
      "cerotic-acid_100g                             320772          100.000\n",
      "melissic-acid_100g                            320772          100.000\n",
      "glycemic-index_100g                           320772          100.000\n",
      "elaidic-acid_100g                             320772          100.000\n",
      "mead-acid_100g                                320772          100.000\n",
      "erucic-acid_100g                              320772          100.000\n",
      "nervonic-acid_100g                            320772          100.000\n",
      "caproic-acid_100g                             320772          100.000\n",
      "butyric-acid_100g                             320772          100.000\n",
      "nutrition_grade_uk                            320772          100.000\n",
      "ingredients_that_may_be_from_palm_oil         320772          100.000\n",
      "no_nutriments                                 320772          100.000\n",
      "water-hardness_100g                           320772          100.000\n"
     ]
    }
   ],
   "source": [
    "print(f\"Colonnes ne contenant aucune valeur :\")\n",
    "print(missing_values[missing_values['count_missing'] == len(data)])"
   ]
  },
  {
   "cell_type": "code",
   "execution_count": 8,
   "metadata": {},
   "outputs": [
    {
     "name": "stdout",
     "output_type": "stream",
     "text": [
      "16 colonnes effacées.\n"
     ]
    }
   ],
   "source": [
    "columns_to_delete = missing_values[missing_values['count_missing'] == len(data)].index.values\n",
    "data.drop(columns=columns_to_delete, inplace=True, errors='ignore') \n",
    "missing_values.drop(index=columns_to_delete, inplace=True) # ignore colonnes vides dans la suite de l'analyse\n",
    "print(f\"{len(columns_to_delete)} colonnes effacées.\")"
   ]
  },
  {
   "cell_type": "code",
   "execution_count": 9,
   "metadata": {},
   "outputs": [
    {
     "name": "stdout",
     "output_type": "stream",
     "text": [
      "Colonnes avec moins de 20% valeurs manquantes :\n",
      "                count_missing  percent_missing\n",
      "creator                     2            0.001\n",
      "code                       23            0.007\n",
      "url                        23            0.007\n",
      "states                     46            0.014\n",
      "states_tags                46            0.014\n",
      "states_fr                  46            0.014\n",
      "countries_tags            280            0.087\n",
      "countries                 280            0.087\n",
      "countries_fr              280            0.087\n",
      "product_name            17762            5.537\n",
      "brands                  28412            8.857\n",
      "brands_tags             28420            8.860\n",
      "energy_100g             59659           18.599\n",
      "proteins_100g           60850           18.970\n"
     ]
    }
   ],
   "source": [
    "threshold = 20 \n",
    "print(f\"Colonnes avec moins de {threshold}% valeurs manquantes :\")\n",
    "print(missing_values[missing_values['percent_missing'] < threshold])"
   ]
  },
  {
   "cell_type": "code",
   "execution_count": 10,
   "metadata": {},
   "outputs": [
    {
     "name": "stdout",
     "output_type": "stream",
     "text": [
      "Colonnes avec plus de 99.99% valeurs manquantes :\n",
      "                                  count_missing  percent_missing\n",
      "taurine_100g                             320743           99.991\n",
      "casein_100g                              320745           99.992\n",
      "glucose_100g                             320746           99.992\n",
      "arachidic-acid_100g                      320748           99.993\n",
      "gamma-linolenic-acid_100g                320748           99.993\n",
      "cities                                   320749           99.993\n",
      "behenic-acid_100g                        320749           99.993\n",
      "dihomo-gamma-linolenic-acid_100g         320749           99.993\n",
      "omega-9-fat_100g                         320751           99.993\n",
      "chromium_100g                            320752           99.994\n",
      "allergens_fr                             320753           99.994\n",
      "serum-proteins_100g                      320756           99.995\n",
      "gondoic-acid_100g                        320758           99.996\n",
      "oleic-acid_100g                          320759           99.996\n",
      "maltodextrins_100g                       320761           99.997\n",
      "molybdenum_100g                          320761           99.997\n",
      "nucleotides_100g                         320763           99.997\n",
      "arachidonic-acid_100g                    320764           99.998\n",
      "maltose_100g                             320768           99.999\n",
      "lauric-acid_100g                         320768           99.999\n",
      "capric-acid_100g                         320770           99.999\n",
      "caprylic-acid_100g                       320771          100.000\n",
      "myristic-acid_100g                       320771          100.000\n",
      "palmitic-acid_100g                       320771          100.000\n",
      "stearic-acid_100g                        320771          100.000\n",
      "montanic-acid_100g                       320771          100.000\n"
     ]
    }
   ],
   "source": [
    "threshold = 99.99\n",
    "print(f\"Colonnes avec plus de {threshold}% valeurs manquantes :\")\n",
    "print(missing_values[missing_values['percent_missing'] > threshold])"
   ]
  },
  {
   "cell_type": "markdown",
   "metadata": {},
   "source": [
    "### Suppressions des colonnes contenant moins de 100 valeurs\n",
    "Nous renonçons à exploiter des colonnes qui contiennent trop peu de valeurs. La valeur de seuil retenue est arbitraire, et nous serons peut-être amenés à la modifier. "
   ]
  },
  {
   "cell_type": "code",
   "execution_count": 18,
   "metadata": {},
   "outputs": [
    {
     "name": "stdout",
     "output_type": "stream",
     "text": [
      "bicarbonate_100g, fluoride_100g, docosahexaenoic-acid_100g, caffeine_100g, sucrose_100g, ph_100g, eicosapentaenoic-acid_100g, fructose_100g, silica_100g, beta-carotene_100g, taurine_100g, casein_100g, glucose_100g, arachidic-acid_100g, gamma-linolenic-acid_100g, cities, behenic-acid_100g, dihomo-gamma-linolenic-acid_100g, omega-9-fat_100g, chromium_100g, allergens_fr, serum-proteins_100g, gondoic-acid_100g, oleic-acid_100g, maltodextrins_100g, molybdenum_100g, nucleotides_100g, arachidonic-acid_100g, maltose_100g, lauric-acid_100g, capric-acid_100g, caprylic-acid_100g, myristic-acid_100g, palmitic-acid_100g, stearic-acid_100g, montanic-acid_100g\n",
      "36 colonnes effacées.\n"
     ]
    }
   ],
   "source": [
    "columns_to_delete = missing_values[missing_values['count_missing'] > len(data) - 100].index\n",
    "print(', '.join(columns_to_delete))\n",
    "data.drop(columns=columns_to_delete, inplace=True, errors='ignore') \n",
    "print(f\"{len(columns_to_delete)} colonnes effacées.\")"
   ]
  },
  {
   "cell_type": "markdown",
   "metadata": {},
   "source": [
    "### Liste des colonnes normalisées (avec le suffixe '_tags')"
   ]
  },
  {
   "cell_type": "code",
   "execution_count": 19,
   "metadata": {},
   "outputs": [
    {
     "name": "stdout",
     "output_type": "stream",
     "text": [
      "packaging_tags, brands_tags, categories_tags, origins_tags, manufacturing_places_tags, labels_tags, emb_codes_tags, cities_tags, countries_tags, traces_tags, additives_tags, ingredients_from_palm_oil_tags, ingredients_that_may_be_from_palm_oil_tags, states_tags\n",
      "(14 colonnes trouvées)\n"
     ]
    }
   ],
   "source": [
    "tags_cols = [col for col in data.columns if '_tags' in col] # list de colonnes terminant par '_tags'\n",
    "print(', '.join(tags_cols))\n",
    "print(f\"({len(tags_cols)} colonnes trouvées)\")"
   ]
  },
  {
   "cell_type": "code",
   "execution_count": 20,
   "metadata": {},
   "outputs": [
    {
     "name": "stdout",
     "output_type": "stream",
     "text": [
      "Valeur la plus courante pour packaging: ('Carton', 'carton') 2153\n",
      "Valeur la plus courante pour brands: ('Carrefour', 'carrefour') 2978\n",
      "Valeur la plus courante pour categories: ('Snacks sucrés,Biscuits et gâteaux,Biscuits', 'en:sugary-snacks,en:biscuits-and-cakes,en:biscuits') 293\n",
      "Valeur la plus courante pour origins: ('France', 'france') 5171\n",
      "Valeur la plus courante pour manufacturing_places: ('France', 'france') 9371\n",
      "Valeur la plus courante pour labels: ('Organic, EU Organic, fr:AB Agriculture Biologique', 'en:organic,en:eu-organic,fr:ab-agriculture-biologique') 3220\n",
      "Valeur la plus courante pour emb_codes: ('EMB 56251E', 'emb-56251e') 218\n",
      "Valeur la plus courante pour countries: ('US', 'en:united-states') 169928\n",
      "Valeur la plus courante pour traces: ('Fruits à coque', 'en:nuts') 1240\n",
      "Valeur la plus courante pour additives: (' [ semolina -> en:semolina  ]  [ wheat -> en:wheat  ]  [ durum-flour -> en:durum-flour  ]  [ flour -> en:flour  ]  [ wheat -> en:wheat  ]  [ niacin -> en:e375  -> exists  -- ok  ]  [ ferrous-sulfate -> en:ferrous-sulfate  ]  [ sulfate -> en:sulfate  ]  [ iron -> en:iron  ]  [ thiamin-mononitrate -> en:thiamin-mononitrate  ]  [ mononitrate -> en:mononitrate  ]  [ riboflavin -> en:e101  -> exists  -- ok  ]  [ folic-acid -> en:folic-acid  ]  [ acid -> en:acid  ] ', 'en:e375,en:e101') 188\n",
      "Valeur la plus courante pour states: ('en:to-be-completed, en:nutrition-facts-completed, en:ingredients-completed, en:expiration-date-to-be-completed, en:packaging-code-to-be-completed, en:characteristics-to-be-completed, en:categories-to-be-completed, en:brands-completed, en:packaging-to-be-completed, en:quantity-to-be-completed, en:product-name-completed, en:photos-to-be-uploaded', 'en:to-be-completed,en:nutrition-facts-completed,en:ingredients-completed,en:expiration-date-to-be-completed,en:packaging-code-to-be-completed,en:characteristics-to-be-completed,en:categories-to-be-completed,en:brands-completed,en:packaging-to-be-completed,en:quantity-to-be-completed,en:product-name-completed,en:photos-to-be-uploaded') 168905\n"
     ]
    }
   ],
   "source": [
    "raw_cols = [col[:-5] for col in tags_cols if col[:-5] in data.columns]\n",
    "for col in raw_cols:\n",
    "    s = data.groupby([col, col+'_tags']).size().sort_values(ascending=False)\n",
    "    print(f\"Valeur la plus courante pour {col}: {s.index[0]} {s[0]}\")"
   ]
  },
  {
   "cell_type": "markdown",
   "metadata": {},
   "source": [
    "### Nous décidons de ne conserver que la version normalisée de chaque colonne"
   ]
  },
  {
   "cell_type": "code",
   "execution_count": 22,
   "metadata": {},
   "outputs": [
    {
     "name": "stdout",
     "output_type": "stream",
     "text": [
      "11 colonnes effacées.\n"
     ]
    }
   ],
   "source": [
    "data.drop(columns=raw_cols, inplace=True, errors='ignore') \n",
    "print(f\"{len(raw_cols)} colonnes effacées.\")"
   ]
  },
  {
   "cell_type": "markdown",
   "metadata": {},
   "source": [
    "## Examen d'autres colonnes susceptibles d'être inutiles"
   ]
  },
  {
   "cell_type": "code",
   "execution_count": 47,
   "metadata": {},
   "outputs": [],
   "source": [
    "def print_col_info(column):\n",
    "    num_na = data[column].isnull().sum()\n",
    "    print(f\"Nombre d'entrées manquantes : {num_na} ({num_na/len(data)*100:0.2f}%)\")\n",
    "    top_vals = data[column][data[column].notnull()].unique()\n",
    "    num_samples = 10\n",
    "    print(\"Exemples de valeurs : \" + ' ; '.join(top_vals[:num_samples]))"
   ]
  },
  {
   "cell_type": "code",
   "execution_count": 48,
   "metadata": {},
   "outputs": [
    {
     "name": "stdout",
     "output_type": "stream",
     "text": [
      "Nombre d'entrées manquantes : 28420 (8.86%)\n",
      "Exemples de valeurs : ferme-t-y-r-nao ; torn-glasser ; grizzlies ; bob-s-red-mill ; unfi ; lundberg ; daddy-s-muesli ; equal-exchange ; napa-valley-naturals ; gardentime\n"
     ]
    }
   ],
   "source": [
    "print_col_info('brands_tags')"
   ]
  },
  {
   "cell_type": "markdown",
   "metadata": {},
   "source": [
    "Les valeurs de cet attribut, bien que sans lien direct avec la qualité nutritionnelle du produit, pourraient toutefois y être correlées."
   ]
  },
  {
   "cell_type": "code",
   "execution_count": 49,
   "metadata": {},
   "outputs": [
    {
     "name": "stdout",
     "output_type": "stream",
     "text": [
      "Nombre d'entrées manquantes : 241811 (75.38%)\n",
      "Exemples de valeurs : plastique ; frais ; paper,plastic-film ; frais,plastique ; sachet-plastique ; carton,boite ; frai ; carton ; aluminium ; carton,bouteille,verre\n"
     ]
    }
   ],
   "source": [
    "print_col_info('packaging_tags')"
   ]
  },
  {
   "cell_type": "code",
   "execution_count": 27,
   "metadata": {},
   "outputs": [
    {
     "name": "stdout",
     "output_type": "stream",
     "text": [
      "['plastique' 'frais' 'frais' 'paper,plastic-film' 'frais'\n",
      " 'frais,plastique' 'sachet-plastique' 'carton,boite' 'frai' 'frais']\n",
      "['ferme-t-y-r-nao' 'torn-glasser' 'grizzlies' 'bob-s-red-mill' 'unfi'\n",
      " 'lundberg' 'daddy-s-muesli' 'equal-exchange' 'napa-valley-naturals'\n",
      " 'unfi']\n",
      "['Costco' 'Costco' 'Waitrose' 'Costco' 'Costco' 'Costco' 'Costco'\n",
      " 'Alice Délice' 'Alice Délice' 'Lidl']\n"
     ]
    }
   ],
   "source": [
    "columns_to_delete = ['packaging_tags', 'brands_tags', 'stores']\n",
    "for col in columns_to_delete:\n",
    "    print(data[col][data[col].notnull()][:10].values)"
   ]
  },
  {
   "cell_type": "code",
   "execution_count": null,
   "metadata": {},
   "outputs": [],
   "source": [
    "SIZE = 20\n",
    "print(f\"List des {SIZE} premiers contributeurs :\")\n",
    "data['creator'].value_counts().head(SIZE)"
   ]
  },
  {
   "cell_type": "code",
   "execution_count": null,
   "metadata": {},
   "outputs": [],
   "source": [
    "print(data.info)"
   ]
  },
  {
   "cell_type": "code",
   "execution_count": null,
   "metadata": {},
   "outputs": [],
   "source": [
    "# Pour plus de clarté et une utilisation moindre de mémoire, \n",
    "# nous effaçons les colonnes ne contenant pas d'informations \n",
    "# de nutrition ou d'identification des produits\n",
    "columns_to_delete = ['url', \n",
    "                     # données d'audit\n",
    "                     'creator', 'created_t', 'created_datetime', 'last_modified_t', 'last_modified_datetime',\n",
    "                     # colonnes trop lacunaire pour être utiles\n",
    "                     'generic_name', 'origins', 'origins_tags', 'stores']\n",
    "\n",
    "count = 0\n",
    "for col in columns_to_delete:\n",
    "    if col in data.columns:\n",
    "        print(f\"Deleted column {col} - contained {data[col].isna().sum()} missing values.\")\n",
    "        del data[col]\n",
    "        count = count + 1\n",
    "print(f\"{count} columns deleted.\")"
   ]
  },
  {
   "cell_type": "markdown",
   "metadata": {},
   "source": [
    "## Sauvegarde de la version finale"
   ]
  },
  {
   "cell_type": "code",
   "execution_count": 24,
   "metadata": {},
   "outputs": [
    {
     "name": "stdout",
     "output_type": "stream",
     "text": [
      "Index(['code', 'url', 'creator', 'product_name', 'generic_name', 'quantity',\n",
      "       'packaging_tags', 'brands_tags', 'categories_tags', 'categories_fr',\n",
      "       'origins_tags', 'manufacturing_places_tags', 'labels_tags', 'labels_fr',\n",
      "       'emb_codes_tags', 'first_packaging_code_geo', 'cities_tags',\n",
      "       'purchase_places', 'stores', 'countries_tags', 'countries_fr',\n",
      "       'ingredients_text', 'allergens', 'traces_tags', 'traces_fr',\n",
      "       'serving_size', 'additives_n', 'additives_tags', 'additives_fr',\n",
      "       'ingredients_from_palm_oil_n', 'ingredients_from_palm_oil_tags',\n",
      "       'ingredients_that_may_be_from_palm_oil_n',\n",
      "       'ingredients_that_may_be_from_palm_oil_tags', 'nutrition_grade_fr',\n",
      "       'pnns_groups_1', 'pnns_groups_2', 'states_tags', 'states_fr',\n",
      "       'main_category', 'main_category_fr', 'image_url', 'image_small_url',\n",
      "       'energy_100g', 'energy-from-fat_100g', 'fat_100g', 'saturated-fat_100g',\n",
      "       'monounsaturated-fat_100g', 'polyunsaturated-fat_100g',\n",
      "       'omega-3-fat_100g', 'alpha-linolenic-acid_100g', 'omega-6-fat_100g',\n",
      "       'linoleic-acid_100g', 'trans-fat_100g', 'cholesterol_100g',\n",
      "       'carbohydrates_100g', 'sugars_100g', 'lactose_100g', 'starch_100g',\n",
      "       'polyols_100g', 'fiber_100g', 'proteins_100g', 'salt_100g',\n",
      "       'sodium_100g', 'alcohol_100g', 'vitamin-a_100g', 'vitamin-d_100g',\n",
      "       'vitamin-e_100g', 'vitamin-k_100g', 'vitamin-c_100g', 'vitamin-b1_100g',\n",
      "       'vitamin-b2_100g', 'vitamin-pp_100g', 'vitamin-b6_100g',\n",
      "       'vitamin-b9_100g', 'folates_100g', 'vitamin-b12_100g', 'biotin_100g',\n",
      "       'pantothenic-acid_100g', 'potassium_100g', 'chloride_100g',\n",
      "       'calcium_100g', 'phosphorus_100g', 'iron_100g', 'magnesium_100g',\n",
      "       'zinc_100g', 'copper_100g', 'manganese_100g', 'selenium_100g',\n",
      "       'iodine_100g', 'fruits-vegetables-nuts_100g',\n",
      "       'collagen-meat-protein-ratio_100g', 'cocoa_100g',\n",
      "       'carbon-footprint_100g', 'nutrition-score-fr_100g',\n",
      "       'nutrition-score-uk_100g'],\n",
      "      dtype='object')\n",
      "    code                                                url  \\\n",
      "0   3087  http://world-fr.openfoodfacts.org/produit/0000...   \n",
      "1   4530  http://world-fr.openfoodfacts.org/produit/0000...   \n",
      "2   4559  http://world-fr.openfoodfacts.org/produit/0000...   \n",
      "3  16087  http://world-fr.openfoodfacts.org/produit/0000...   \n",
      "4  16094  http://world-fr.openfoodfacts.org/produit/0000...   \n",
      "\n",
      "                      creator                    product_name generic_name  \\\n",
      "0  openfoodfacts-contributors              Farine de blé noir          NaN   \n",
      "1             usda-ndb-import  Banana Chips Sweetened (Whole)          NaN   \n",
      "2             usda-ndb-import                         Peanuts          NaN   \n",
      "3             usda-ndb-import          Organic Salted Nut Mix          NaN   \n",
      "4             usda-ndb-import                 Organic Polenta          NaN   \n",
      "\n",
      "  quantity packaging_tags      brands_tags categories_tags categories_fr  \\\n",
      "0      1kg            NaN  ferme-t-y-r-nao             NaN           NaN   \n",
      "1      NaN            NaN              NaN             NaN           NaN   \n",
      "2      NaN            NaN     torn-glasser             NaN           NaN   \n",
      "3      NaN            NaN        grizzlies             NaN           NaN   \n",
      "4      NaN            NaN   bob-s-red-mill             NaN           NaN   \n",
      "\n",
      "            ...           copper_100g manganese_100g selenium_100g  \\\n",
      "0           ...                   nan            nan           nan   \n",
      "1           ...                   nan            nan           nan   \n",
      "2           ...                   nan            nan           nan   \n",
      "3           ...                   nan            nan           nan   \n",
      "4           ...                   nan            nan           nan   \n",
      "\n",
      "  iodine_100g fruits-vegetables-nuts_100g collagen-meat-protein-ratio_100g  \\\n",
      "0         nan                         nan                              nan   \n",
      "1         nan                         nan                              nan   \n",
      "2         nan                         nan                              nan   \n",
      "3         nan                         nan                              nan   \n",
      "4         nan                         nan                              nan   \n",
      "\n",
      "  cocoa_100g carbon-footprint_100g nutrition-score-fr_100g  \\\n",
      "0        nan                   nan                     nan   \n",
      "1        nan                   nan                  14.000   \n",
      "2        nan                   nan                   0.000   \n",
      "3        nan                   nan                  12.000   \n",
      "4        nan                   nan                     nan   \n",
      "\n",
      "  nutrition-score-uk_100g  \n",
      "0                     nan  \n",
      "1                  14.000  \n",
      "2                   0.000  \n",
      "3                  12.000  \n",
      "4                     nan  \n",
      "\n",
      "[5 rows x 95 columns]\n"
     ]
    }
   ],
   "source": [
    "print(data.columns)\n",
    "print(data.head())"
   ]
  },
  {
   "cell_type": "markdown",
   "metadata": {},
   "source": [
    "## Analyse statistique multivariée"
   ]
  },
  {
   "cell_type": "markdown",
   "metadata": {},
   "source": [
    "## Introduction de données synthétiques (\"feature engineering\")"
   ]
  }
 ],
 "metadata": {
  "kernelspec": {
   "display_name": "Python 3",
   "language": "python",
   "name": "python3"
  },
  "language_info": {
   "codemirror_mode": {
    "name": "ipython",
    "version": 3
   },
   "file_extension": ".py",
   "mimetype": "text/x-python",
   "name": "python",
   "nbconvert_exporter": "python",
   "pygments_lexer": "ipython3",
   "version": "3.6.6"
  }
 },
 "nbformat": 4,
 "nbformat_minor": 2
}
