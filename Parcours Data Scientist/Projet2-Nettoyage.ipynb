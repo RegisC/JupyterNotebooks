{
 "cells": [
  {
   "cell_type": "markdown",
   "metadata": {},
   "source": [
    "# Analyse de données nutritionnelles : nettoyage des données\n",
    "Important : le fichier \"fr.openfoodfacts.org.products.csv\" doit se trouver dans le répertoire courant."
   ]
  },
  {
   "cell_type": "markdown",
   "metadata": {},
   "source": [
    "## Initialisation"
   ]
  },
  {
   "cell_type": "code",
   "execution_count": 1,
   "metadata": {},
   "outputs": [],
   "source": [
    "import matplotlib.pyplot as plt\n",
    "import numpy as np\n",
    "import os\n",
    "import pandas as pd\n",
    "\n",
    "pd.options.display.float_format = '{:,.3f}'.format\n",
    "input_file = 'fr.openfoodfacts.org.products.csv'\n",
    "output_file = 'off.csv'"
   ]
  },
  {
   "cell_type": "markdown",
   "metadata": {},
   "source": [
    "## Chargement et inspection sommaire"
   ]
  },
  {
   "cell_type": "markdown",
   "metadata": {},
   "source": [
    "### Chargement du fichier sous forme de DataFrame"
   ]
  },
  {
   "cell_type": "code",
   "execution_count": 2,
   "metadata": {
    "scrolled": true
   },
   "outputs": [
    {
     "name": "stderr",
     "output_type": "stream",
     "text": [
      "C:\\ProgramData\\Anaconda3\\lib\\site-packages\\IPython\\core\\interactiveshell.py:2785: DtypeWarning: Columns (0,3,5,19,20,24,25,26,27,28,35,36,37,38,39,48) have mixed types. Specify dtype option on import or set low_memory=False.\n",
      "  interactivity=interactivity, compiler=compiler, result=result)\n"
     ]
    }
   ],
   "source": [
    "data = pd.read_csv(input_file, delimiter='\\t')"
   ]
  },
  {
   "cell_type": "code",
   "execution_count": 3,
   "metadata": {},
   "outputs": [
    {
     "name": "stdout",
     "output_type": "stream",
     "text": [
      "<class 'pandas.core.frame.DataFrame'>\n",
      "RangeIndex: 320772 entries, 0 to 320771\n",
      "Columns: 162 entries, code to water-hardness_100g\n",
      "dtypes: float64(106), object(56)\n",
      "memory usage: 1.7 GB\n",
      "None\n"
     ]
    }
   ],
   "source": [
    "print(data.info(memory_usage='deep')) # infos sur les données chargées"
   ]
  },
  {
   "cell_type": "markdown",
   "metadata": {},
   "source": [
    "### Liste des attributs"
   ]
  },
  {
   "cell_type": "code",
   "execution_count": 4,
   "metadata": {},
   "outputs": [
    {
     "name": "stdout",
     "output_type": "stream",
     "text": [
      "code, url, creator, created_t, created_datetime, last_modified_t, last_modified_datetime, product_name, generic_name, quantity, packaging, packaging_tags, brands, brands_tags, categories, categories_tags, categories_fr, origins, origins_tags, manufacturing_places, manufacturing_places_tags, labels, labels_tags, labels_fr, emb_codes, emb_codes_tags, first_packaging_code_geo, cities, cities_tags, purchase_places, stores, countries, countries_tags, countries_fr, ingredients_text, allergens, allergens_fr, traces, traces_tags, traces_fr, serving_size, no_nutriments, additives_n, additives, additives_tags, additives_fr, ingredients_from_palm_oil_n, ingredients_from_palm_oil, ingredients_from_palm_oil_tags, ingredients_that_may_be_from_palm_oil_n, ingredients_that_may_be_from_palm_oil, ingredients_that_may_be_from_palm_oil_tags, nutrition_grade_uk, nutrition_grade_fr, pnns_groups_1, pnns_groups_2, states, states_tags, states_fr, main_category, main_category_fr, image_url, image_small_url, energy_100g, energy-from-fat_100g, fat_100g, saturated-fat_100g, butyric-acid_100g, caproic-acid_100g, caprylic-acid_100g, capric-acid_100g, lauric-acid_100g, myristic-acid_100g, palmitic-acid_100g, stearic-acid_100g, arachidic-acid_100g, behenic-acid_100g, lignoceric-acid_100g, cerotic-acid_100g, montanic-acid_100g, melissic-acid_100g, monounsaturated-fat_100g, polyunsaturated-fat_100g, omega-3-fat_100g, alpha-linolenic-acid_100g, eicosapentaenoic-acid_100g, docosahexaenoic-acid_100g, omega-6-fat_100g, linoleic-acid_100g, arachidonic-acid_100g, gamma-linolenic-acid_100g, dihomo-gamma-linolenic-acid_100g, omega-9-fat_100g, oleic-acid_100g, elaidic-acid_100g, gondoic-acid_100g, mead-acid_100g, erucic-acid_100g, nervonic-acid_100g, trans-fat_100g, cholesterol_100g, carbohydrates_100g, sugars_100g, sucrose_100g, glucose_100g, fructose_100g, lactose_100g, maltose_100g, maltodextrins_100g, starch_100g, polyols_100g, fiber_100g, proteins_100g, casein_100g, serum-proteins_100g, nucleotides_100g, salt_100g, sodium_100g, alcohol_100g, vitamin-a_100g, beta-carotene_100g, vitamin-d_100g, vitamin-e_100g, vitamin-k_100g, vitamin-c_100g, vitamin-b1_100g, vitamin-b2_100g, vitamin-pp_100g, vitamin-b6_100g, vitamin-b9_100g, folates_100g, vitamin-b12_100g, biotin_100g, pantothenic-acid_100g, silica_100g, bicarbonate_100g, potassium_100g, chloride_100g, calcium_100g, phosphorus_100g, iron_100g, magnesium_100g, zinc_100g, copper_100g, manganese_100g, fluoride_100g, selenium_100g, chromium_100g, molybdenum_100g, iodine_100g, caffeine_100g, taurine_100g, ph_100g, fruits-vegetables-nuts_100g, collagen-meat-protein-ratio_100g, cocoa_100g, chlorophyl_100g, carbon-footprint_100g, nutrition-score-fr_100g, nutrition-score-uk_100g, glycemic-index_100g, water-hardness_100g\n"
     ]
    }
   ],
   "source": [
    "print(', '.join(data.columns.tolist()))"
   ]
  },
  {
   "cell_type": "markdown",
   "metadata": {},
   "source": [
    "### Suppressions des colonnes de données d'audit"
   ]
  },
  {
   "cell_type": "code",
   "execution_count": 5,
   "metadata": {},
   "outputs": [
    {
     "name": "stdout",
     "output_type": "stream",
     "text": [
      "4 colonnes effacées.\n"
     ]
    }
   ],
   "source": [
    "columns_to_delete = ['created_t', 'created_datetime', 'last_modified_t', 'last_modified_datetime']\n",
    "data.drop(columns=columns_to_delete, inplace=True, errors='ignore')\n",
    "print(f\"{len(columns_to_delete)} colonnes effacées.\")"
   ]
  },
  {
   "cell_type": "markdown",
   "metadata": {},
   "source": [
    "### Examen des colonnes avec valeurs manquantes"
   ]
  },
  {
   "cell_type": "code",
   "execution_count": 6,
   "metadata": {},
   "outputs": [
    {
     "data": {
      "image/png": "[encoded data removed]",
      "text/plain": [
       "<Figure size 432x288 with 1 Axes>"
      ]
     },
     "metadata": {},
     "output_type": "display_data"
    }
   ],
   "source": [
    "missing_values = data.isnull().sum(axis=0).to_frame(name='count_missing') # nb de valeurs manquantes par colonn\n",
    "missing_values.sort_values(by=['count_missing'], inplace=True) # tri pour l'affichage\n",
    "missing_values['percent_missing'] = missing_values['count_missing'] / len(data) * 100 # calcul du %\n",
    "fig, axes = plt.subplots()\n",
    "axes.hist(missing_values['percent_missing'], bins=10);\n",
    "axes.set_title('Distribution du % de valeurs manquantes');\n",
    "axes.set_xlabel('% de valeurs manquantes');\n",
    "axes.set_ylabel('Nb de colonnes');"
   ]
  },
  {
   "cell_type": "code",
   "execution_count": 7,
   "metadata": {},
   "outputs": [
    {
     "name": "stdout",
     "output_type": "stream",
     "text": [
      "Colonnes ne contenant aucune valeur :\n",
      "                                       count_missing  percent_missing\n",
      "ingredients_from_palm_oil                     320772          100.000\n",
      "chlorophyl_100g                               320772          100.000\n",
      "lignoceric-acid_100g                          320772          100.000\n",
      "cerotic-acid_100g                             320772          100.000\n",
      "melissic-acid_100g                            320772          100.000\n",
      "glycemic-index_100g                           320772          100.000\n",
      "elaidic-acid_100g                             320772          100.000\n",
      "mead-acid_100g                                320772          100.000\n",
      "erucic-acid_100g                              320772          100.000\n",
      "nervonic-acid_100g                            320772          100.000\n",
      "caproic-acid_100g                             320772          100.000\n",
      "butyric-acid_100g                             320772          100.000\n",
      "nutrition_grade_uk                            320772          100.000\n",
      "ingredients_that_may_be_from_palm_oil         320772          100.000\n",
      "no_nutriments                                 320772          100.000\n",
      "water-hardness_100g                           320772          100.000\n"
     ]
    }
   ],
   "source": [
    "print(f\"Colonnes ne contenant aucune valeur :\")\n",
    "print(missing_values[missing_values['count_missing'] == len(data)])"
   ]
  },
  {
   "cell_type": "code",
   "execution_count": 8,
   "metadata": {},
   "outputs": [
    {
     "name": "stdout",
     "output_type": "stream",
     "text": [
      "16 colonnes effacées.\n"
     ]
    }
   ],
   "source": [
    "columns_to_delete = missing_values[missing_values['count_missing'] == len(data)].index.values\n",
    "data.drop(columns=columns_to_delete, inplace=True, errors='ignore') \n",
    "missing_values.drop(index=columns_to_delete, inplace=True) # ignore colonnes vides dans la suite de l'analyse\n",
    "print(f\"{len(columns_to_delete)} colonnes effacées.\")"
   ]
  },
  {
   "cell_type": "code",
   "execution_count": 9,
   "metadata": {},
   "outputs": [
    {
     "name": "stdout",
     "output_type": "stream",
     "text": [
      "Colonnes avec moins de 20% valeurs manquantes :\n",
      "                count_missing  percent_missing\n",
      "creator                     2            0.001\n",
      "code                       23            0.007\n",
      "url                        23            0.007\n",
      "states                     46            0.014\n",
      "states_tags                46            0.014\n",
      "states_fr                  46            0.014\n",
      "countries_tags            280            0.087\n",
      "countries                 280            0.087\n",
      "countries_fr              280            0.087\n",
      "product_name            17762            5.537\n",
      "brands                  28412            8.857\n",
      "brands_tags             28420            8.860\n",
      "energy_100g             59659           18.599\n",
      "proteins_100g           60850           18.970\n"
     ]
    }
   ],
   "source": [
    "threshold = 20 \n",
    "print(f\"Colonnes avec moins de {threshold}% valeurs manquantes :\")\n",
    "print(missing_values[missing_values['percent_missing'] < threshold])"
   ]
  },
  {
   "cell_type": "code",
   "execution_count": 10,
   "metadata": {},
   "outputs": [
    {
     "name": "stdout",
     "output_type": "stream",
     "text": [
      "Colonnes avec plus de 99.99% valeurs manquantes :\n",
      "                                  count_missing  percent_missing\n",
      "taurine_100g                             320743           99.991\n",
      "casein_100g                              320745           99.992\n",
      "glucose_100g                             320746           99.992\n",
      "arachidic-acid_100g                      320748           99.993\n",
      "gamma-linolenic-acid_100g                320748           99.993\n",
      "cities                                   320749           99.993\n",
      "behenic-acid_100g                        320749           99.993\n",
      "dihomo-gamma-linolenic-acid_100g         320749           99.993\n",
      "omega-9-fat_100g                         320751           99.993\n",
      "chromium_100g                            320752           99.994\n",
      "allergens_fr                             320753           99.994\n",
      "serum-proteins_100g                      320756           99.995\n",
      "gondoic-acid_100g                        320758           99.996\n",
      "oleic-acid_100g                          320759           99.996\n",
      "maltodextrins_100g                       320761           99.997\n",
      "molybdenum_100g                          320761           99.997\n",
      "nucleotides_100g                         320763           99.997\n",
      "arachidonic-acid_100g                    320764           99.998\n",
      "maltose_100g                             320768           99.999\n",
      "lauric-acid_100g                         320768           99.999\n",
      "capric-acid_100g                         320770           99.999\n",
      "caprylic-acid_100g                       320771          100.000\n",
      "myristic-acid_100g                       320771          100.000\n",
      "palmitic-acid_100g                       320771          100.000\n",
      "stearic-acid_100g                        320771          100.000\n",
      "montanic-acid_100g                       320771          100.000\n"
     ]
    }
   ],
   "source": [
    "threshold = 99.99\n",
    "print(f\"Colonnes avec plus de {threshold}% valeurs manquantes :\")\n",
    "print(missing_values[missing_values['percent_missing'] > threshold])"
   ]
  },
  {
   "cell_type": "markdown",
   "metadata": {},
   "source": [
    "### Suppressions des colonnes contenant moins de 100 valeurs\n",
    "Nous renonçons à exploiter les colonnes qui contiennent trop peu de données. La valeur de seuil retenue est arbitraire, et nous serons peut-être amenés à la modifier. "
   ]
  },
  {
   "cell_type": "code",
   "execution_count": 11,
   "metadata": {},
   "outputs": [
    {
     "name": "stdout",
     "output_type": "stream",
     "text": [
      "bicarbonate_100g, fluoride_100g, docosahexaenoic-acid_100g, caffeine_100g, sucrose_100g, ph_100g, eicosapentaenoic-acid_100g, fructose_100g, silica_100g, beta-carotene_100g, taurine_100g, casein_100g, glucose_100g, arachidic-acid_100g, gamma-linolenic-acid_100g, cities, behenic-acid_100g, dihomo-gamma-linolenic-acid_100g, omega-9-fat_100g, chromium_100g, allergens_fr, serum-proteins_100g, gondoic-acid_100g, oleic-acid_100g, maltodextrins_100g, molybdenum_100g, nucleotides_100g, arachidonic-acid_100g, maltose_100g, lauric-acid_100g, capric-acid_100g, caprylic-acid_100g, myristic-acid_100g, palmitic-acid_100g, stearic-acid_100g, montanic-acid_100g\n",
      "36 colonnes effacées.\n"
     ]
    }
   ],
   "source": [
    "columns_to_delete = missing_values[missing_values['count_missing'] > len(data) - 100].index\n",
    "print(', '.join(columns_to_delete))\n",
    "data.drop(columns=columns_to_delete, inplace=True, errors='ignore') \n",
    "print(f\"{len(columns_to_delete)} colonnes effacées.\")"
   ]
  },
  {
   "cell_type": "markdown",
   "metadata": {},
   "source": [
    "### Liste des colonnes normalisées (avec le suffixe '_tags')"
   ]
  },
  {
   "cell_type": "code",
   "execution_count": 12,
   "metadata": {},
   "outputs": [
    {
     "name": "stdout",
     "output_type": "stream",
     "text": [
      "packaging_tags, brands_tags, categories_tags, origins_tags, manufacturing_places_tags, labels_tags, emb_codes_tags, cities_tags, countries_tags, traces_tags, additives_tags, ingredients_from_palm_oil_tags, ingredients_that_may_be_from_palm_oil_tags, states_tags\n",
      "(14 colonnes trouvées)\n"
     ]
    }
   ],
   "source": [
    "tags_cols = [col for col in data.columns if '_tags' in col] # list de colonnes terminant par '_tags'\n",
    "print(', '.join(tags_cols))\n",
    "print(f\"({len(tags_cols)} colonnes trouvées)\")"
   ]
  },
  {
   "cell_type": "code",
   "execution_count": 13,
   "metadata": {},
   "outputs": [
    {
     "name": "stdout",
     "output_type": "stream",
     "text": [
      "Valeur la plus courante pour packaging: ('Carton', 'carton') 2153\n",
      "Valeur la plus courante pour brands: ('Carrefour', 'carrefour') 2978\n",
      "Valeur la plus courante pour categories: ('Snacks sucrés,Biscuits et gâteaux,Biscuits', 'en:sugary-snacks,en:biscuits-and-cakes,en:biscuits') 293\n",
      "Valeur la plus courante pour origins: ('France', 'france') 5171\n",
      "Valeur la plus courante pour manufacturing_places: ('France', 'france') 9371\n",
      "Valeur la plus courante pour labels: ('Organic, EU Organic, fr:AB Agriculture Biologique', 'en:organic,en:eu-organic,fr:ab-agriculture-biologique') 3220\n",
      "Valeur la plus courante pour emb_codes: ('EMB 56251E', 'emb-56251e') 218\n",
      "Valeur la plus courante pour countries: ('US', 'en:united-states') 169928\n",
      "Valeur la plus courante pour traces: ('Fruits à coque', 'en:nuts') 1240\n",
      "Valeur la plus courante pour additives: (' [ semolina -> en:semolina  ]  [ wheat -> en:wheat  ]  [ durum-flour -> en:durum-flour  ]  [ flour -> en:flour  ]  [ wheat -> en:wheat  ]  [ niacin -> en:e375  -> exists  -- ok  ]  [ ferrous-sulfate -> en:ferrous-sulfate  ]  [ sulfate -> en:sulfate  ]  [ iron -> en:iron  ]  [ thiamin-mononitrate -> en:thiamin-mononitrate  ]  [ mononitrate -> en:mononitrate  ]  [ riboflavin -> en:e101  -> exists  -- ok  ]  [ folic-acid -> en:folic-acid  ]  [ acid -> en:acid  ] ', 'en:e375,en:e101') 188\n",
      "Valeur la plus courante pour states: ('en:to-be-completed, en:nutrition-facts-completed, en:ingredients-completed, en:expiration-date-to-be-completed, en:packaging-code-to-be-completed, en:characteristics-to-be-completed, en:categories-to-be-completed, en:brands-completed, en:packaging-to-be-completed, en:quantity-to-be-completed, en:product-name-completed, en:photos-to-be-uploaded', 'en:to-be-completed,en:nutrition-facts-completed,en:ingredients-completed,en:expiration-date-to-be-completed,en:packaging-code-to-be-completed,en:characteristics-to-be-completed,en:categories-to-be-completed,en:brands-completed,en:packaging-to-be-completed,en:quantity-to-be-completed,en:product-name-completed,en:photos-to-be-uploaded') 168905\n"
     ]
    }
   ],
   "source": [
    "raw_cols = [col[:-5] for col in tags_cols if col[:-5] in data.columns]\n",
    "for col in raw_cols:\n",
    "    s = data.groupby([col, col+'_tags']).size().sort_values(ascending=False)\n",
    "    print(f\"Valeur la plus courante pour {col}: {s.index[0]} {s[0]}\")"
   ]
  },
  {
   "cell_type": "markdown",
   "metadata": {},
   "source": [
    "### Nous décidons de ne conserver que la version normalisée de chaque colonne"
   ]
  },
  {
   "cell_type": "code",
   "execution_count": 14,
   "metadata": {},
   "outputs": [
    {
     "name": "stdout",
     "output_type": "stream",
     "text": [
      "11 colonnes effacées.\n"
     ]
    }
   ],
   "source": [
    "data.drop(columns=raw_cols, inplace=True, errors='ignore') \n",
    "print(f\"{len(raw_cols)} colonnes effacées.\")"
   ]
  },
  {
   "cell_type": "markdown",
   "metadata": {},
   "source": [
    "## Examen des colonnes hors informations nutritionnelles"
   ]
  },
  {
   "cell_type": "code",
   "execution_count": 15,
   "metadata": {},
   "outputs": [],
   "source": [
    "def print_col_info(column):\n",
    "    if column in data.columns:\n",
    "        num_na = data[column].isnull().sum()\n",
    "        print(f\"Nombre d'entrées manquantes : {num_na} ({num_na/len(data)*100:0.2f}%)\")\n",
    "        #unique_vals = data[[column]].groupby(column).size().sort_values(ascending=False)\n",
    "        unique_vals = data[column].value_counts().sort_values(ascending=False)\n",
    "        num_samples = 10\n",
    "        print(\"Valeurs les plus courantes : \" + ' ; '.join(str(x) for x in unique_vals.iloc[:num_samples].index))"
   ]
  },
  {
   "cell_type": "markdown",
   "metadata": {},
   "source": [
    "### Marque"
   ]
  },
  {
   "cell_type": "code",
   "execution_count": 16,
   "metadata": {},
   "outputs": [
    {
     "name": "stdout",
     "output_type": "stream",
     "text": [
      "Nombre d'entrées manquantes : 28420 (8.86%)\n",
      "Valeurs les plus courantes : carrefour ; auchan ; u ; meijer ; leader-price ; casino ; kroger ; ahold ; spartan ; roundy-s\n"
     ]
    }
   ],
   "source": [
    "print_col_info('brands_tags')"
   ]
  },
  {
   "cell_type": "markdown",
   "metadata": {},
   "source": [
    "Cet attribut, bien qu'a priori sans lien direct avec la qualité nutritionnelle du produit, pourrait toutefois présenter une corrélation avec sa qualité ; nous le conservons donc."
   ]
  },
  {
   "cell_type": "markdown",
   "metadata": {},
   "source": [
    "### Conditionnement"
   ]
  },
  {
   "cell_type": "code",
   "execution_count": 17,
   "metadata": {
    "scrolled": true
   },
   "outputs": [
    {
     "name": "stdout",
     "output_type": "stream",
     "text": [
      "Nombre d'entrées manquantes : 241811 (75.38%)\n",
      "Valeurs les plus courantes : sachet,plastique ; carton ; plastique ; barquette,plastique ; bouteille,verre ; conserve ; bouteille,plastique ; bocal,verre ; kunststoff ; carton,plastique\n"
     ]
    }
   ],
   "source": [
    "print_col_info('packaging_tags')"
   ]
  },
  {
   "cell_type": "code",
   "execution_count": 18,
   "metadata": {
    "scrolled": true
   },
   "outputs": [
    {
     "name": "stdout",
     "output_type": "stream",
     "text": [
      "Nombre d'entrées manquantes : 215953 (67.32%)\n",
      "Valeurs les plus courantes : 500 g ; 200 g ; 250 g ; 100 g ; 400 g ; 300 g ; 150 g ; 1 l ; 1 kg ; 125 g\n"
     ]
    }
   ],
   "source": [
    "print_col_info('quantity')"
   ]
  },
  {
   "cell_type": "code",
   "execution_count": 19,
   "metadata": {
    "scrolled": true
   },
   "outputs": [
    {
     "name": "stdout",
     "output_type": "stream",
     "text": [
      "Nombre d'entrées manquantes : 109441 (34.12%)\n",
      "Valeurs les plus courantes : 240 ml (8 fl oz) ; 28 g (1 oz) ; 28 g (1 ONZ) ; 15 ml (1 Tbsp) ; 30 g (2 Tbsp) ; 30 g ; 30 g (0.25 cup) ; 240 ml (1 cup) ; 14 g (1 Tbsp) ; 30 ml (2 Tbsp)\n"
     ]
    }
   ],
   "source": [
    "print_col_info('serving_size')"
   ]
  },
  {
   "cell_type": "markdown",
   "metadata": {},
   "source": [
    "La qualité nutritionnel d'un produit est indépendante de son conditionnement : ces colonnes ne nous serons donc pas utiles."
   ]
  },
  {
   "cell_type": "markdown",
   "metadata": {},
   "source": [
    "### Lieux de vente"
   ]
  },
  {
   "cell_type": "code",
   "execution_count": 20,
   "metadata": {
    "scrolled": true
   },
   "outputs": [
    {
     "name": "stdout",
     "output_type": "stream",
     "text": [
      "Nombre d'entrées manquantes : 269050 (83.88%)\n",
      "Valeurs les plus courantes : Carrefour ; Auchan ; Leclerc ; Cora ; Intermarché ; Lidl ; Franprix ; Aldi ; Super U ; Casino\n"
     ]
    }
   ],
   "source": [
    "print_col_info('stores')"
   ]
  },
  {
   "cell_type": "code",
   "execution_count": 21,
   "metadata": {},
   "outputs": [
    {
     "name": "stdout",
     "output_type": "stream",
     "text": [
      "Nombre d'entrées manquantes : 280 (0.09%)\n",
      "Valeurs les plus courantes : en:united-states ; en:france ; en:switzerland ; en:germany ; en:spain ; en:united-kingdom ; en:belgium ; en:australia ; en:russia ; en:france,en:switzerland\n"
     ]
    }
   ],
   "source": [
    "print_col_info('countries_tags')"
   ]
  },
  {
   "cell_type": "code",
   "execution_count": 22,
   "metadata": {},
   "outputs": [
    {
     "name": "stdout",
     "output_type": "stream",
     "text": [
      "Nombre d'entrées manquantes : 280 (0.09%)\n",
      "Valeurs les plus courantes : États-Unis ; France ; Suisse ; Allemagne ; Espagne ; Royaume-Uni ; Belgique ; Australie ; Russie ; France,Suisse\n"
     ]
    }
   ],
   "source": [
    "print_col_info('countries_fr')"
   ]
  },
  {
   "cell_type": "code",
   "execution_count": 23,
   "metadata": {},
   "outputs": [
    {
     "name": "stdout",
     "output_type": "stream",
     "text": [
      "Nombre d'entrées manquantes : 262579 (81.86%)\n",
      "Valeurs les plus courantes : France ; Lyon,France ; Courrières,France ; Madrid,España ; Paris,France ; España ; Rennes,France ; Deutschland ; Liverpool,United Kingdom ; France,Nantes\n"
     ]
    }
   ],
   "source": [
    "print_col_info('purchase_places')"
   ]
  },
  {
   "cell_type": "markdown",
   "metadata": {},
   "source": [
    "Ces attributs ne nous renseignent pas sur la qualité du produit."
   ]
  },
  {
   "cell_type": "markdown",
   "metadata": {},
   "source": [
    "### Source des données"
   ]
  },
  {
   "cell_type": "code",
   "execution_count": 24,
   "metadata": {
    "scrolled": true
   },
   "outputs": [
    {
     "name": "stdout",
     "output_type": "stream",
     "text": [
      "Nombre d'entrées manquantes : 2 (0.00%)\n",
      "Valeurs les plus courantes : usda-ndb-import ; openfoodfacts-contributors ; kiliweb ; date-limite-app ; openfood-ch-import ; tacite ; sebleouf ; tacinte ; javichu ; stephane\n"
     ]
    }
   ],
   "source": [
    "print_col_info('creator')"
   ]
  },
  {
   "cell_type": "markdown",
   "metadata": {},
   "source": [
    "Il est possible qu'il existe une corrélation entre source et qualité des données : à conserver."
   ]
  },
  {
   "cell_type": "markdown",
   "metadata": {},
   "source": [
    "### Nature du produit"
   ]
  },
  {
   "cell_type": "code",
   "execution_count": 25,
   "metadata": {
    "scrolled": true
   },
   "outputs": [
    {
     "name": "stdout",
     "output_type": "stream",
     "text": [
      "Nombre d'entrées manquantes : 236383 (73.69%)\n",
      "Valeurs les plus courantes : en:sugary-snacks,en:biscuits-and-cakes,en:biscuits ; en:sugary-snacks,en:chocolates,en:dark-chocolates ; en:sugary-snacks,en:confectioneries,en:candies ; en:plant-based-foods-and-beverages,en:plant-based-foods,en:breakfasts,en:cereals-and-potatoes,en:cereals-and-their-products,en:breakfast-cereals ; en:sugary-snacks,en:biscuits-and-cakes,en:biscuits,en:chocolate-biscuits ; en:salty-snacks,en:appetizers,en:crackers ; en:dairies,en:yogurts ; en:sugary-snacks,en:chocolates,en:milk-chocolates ; en:sugary-snacks,en:chocolates ; en:groceries,en:sauces\n"
     ]
    }
   ],
   "source": [
    "print_col_info('categories_tags')"
   ]
  },
  {
   "cell_type": "code",
   "execution_count": 26,
   "metadata": {},
   "outputs": [
    {
     "name": "stdout",
     "output_type": "stream",
     "text": [
      "Nombre d'entrées manquantes : 236361 (73.69%)\n",
      "Valeurs les plus courantes : Snacks sucrés,Biscuits et gâteaux,Biscuits ; Snacks sucrés,Chocolats,Chocolats noirs ; Snacks sucrés,Confiseries,Bonbons ; Aliments et boissons à base de végétaux,Aliments d'origine végétale,Petit-déjeuners,Céréales et pommes de terre,Céréales et dérivés,Céréales pour petit-déjeuner ; Snacks sucrés,Biscuits et gâteaux,Biscuits,Biscuits au chocolat ; Snacks salés,Apéritif,Biscuits apéritifs ; Produits laitiers,Yaourts ; Snacks sucrés,Chocolats,Chocolats au lait ; Snacks sucrés,Chocolats ; Epicerie,Sauces\n"
     ]
    }
   ],
   "source": [
    "print_col_info('categories_fr')"
   ]
  },
  {
   "cell_type": "code",
   "execution_count": 27,
   "metadata": {},
   "outputs": [
    {
     "name": "stdout",
     "output_type": "stream",
     "text": [
      "Nombre d'entrées manquantes : 236406 (73.70%)\n",
      "Valeurs les plus courantes : en:beverages ; en:groceries ; en:chocolates ; en:plant-based-foods-and-beverages ; en:canned-foods ; en:biscuits ; en:meals ; en:sugary-snacks ; en:frozen-foods ; en:breakfasts\n"
     ]
    }
   ],
   "source": [
    "print_col_info('main_category')"
   ]
  },
  {
   "cell_type": "code",
   "execution_count": 28,
   "metadata": {},
   "outputs": [
    {
     "name": "stdout",
     "output_type": "stream",
     "text": [
      "Nombre d'entrées manquantes : 236406 (73.70%)\n",
      "Valeurs les plus courantes : Boissons ; Epicerie ; Chocolats ; Aliments et boissons à base de végétaux ; Conserves ; Biscuits ; Plats préparés ; Snacks sucrés ; Surgelés ; Petit-déjeuners\n"
     ]
    }
   ],
   "source": [
    "print_col_info('main_category_fr')"
   ]
  },
  {
   "cell_type": "code",
   "execution_count": 29,
   "metadata": {
    "scrolled": true
   },
   "outputs": [
    {
     "name": "stdout",
     "output_type": "stream",
     "text": [
      "Nombre d'entrées manquantes : 229259 (71.47%)\n",
      "Valeurs les plus courantes : unknown ; Sugary snacks ; Beverages ; Milk and dairy products ; Cereals and potatoes ; Fish Meat Eggs ; Composite foods ; Fruits and vegetables ; Fat and sauces ; Salty snacks\n"
     ]
    }
   ],
   "source": [
    "print_col_info('pnns_groups_1')"
   ]
  },
  {
   "cell_type": "code",
   "execution_count": 30,
   "metadata": {},
   "outputs": [
    {
     "name": "stdout",
     "output_type": "stream",
     "text": [
      "Nombre d'entrées manquantes : 226281 (70.54%)\n",
      "Valeurs les plus courantes : unknown ; One-dish meals ; Sweets ; Biscuits and cakes ; Non-sugared beverages ; Cereals ; Cheese ; Dressings and sauces ; Milk and yogurt ; Processed meat\n"
     ]
    }
   ],
   "source": [
    "print_col_info('pnns_groups_2')"
   ]
  },
  {
   "cell_type": "markdown",
   "metadata": {},
   "source": [
    "Nous ne conservons initialement que l'attribut `main_category`, seul facilement exploitable. À confirmer."
   ]
  },
  {
   "cell_type": "markdown",
   "metadata": {},
   "source": [
    "### Lieu de production ou de conditionnement"
   ]
  },
  {
   "cell_type": "code",
   "execution_count": 31,
   "metadata": {
    "scrolled": true
   },
   "outputs": [
    {
     "name": "stdout",
     "output_type": "stream",
     "text": [
      "Nombre d'entrées manquantes : 298619 (93.09%)\n",
      "Valeurs les plus courantes : france ; union-europeenne ; espana ; italie ; espagne ; australia ; deutschland ; belgique ; agricultura-ue,agricultura-no-ue ; suisse\n"
     ]
    }
   ],
   "source": [
    "print_col_info('origins_tags')"
   ]
  },
  {
   "cell_type": "code",
   "execution_count": 32,
   "metadata": {
    "scrolled": true
   },
   "outputs": [
    {
     "name": "stdout",
     "output_type": "stream",
     "text": [
      "Nombre d'entrées manquantes : 284277 (88.62%)\n",
      "Valeurs les plus courantes : france ; italie ; deutschland ; belgique ; suisse ; allemagne ; australia ; espagne ; united-kingdom ; france,bretagne\n"
     ]
    }
   ],
   "source": [
    "print_col_info('manufacturing_places_tags')"
   ]
  },
  {
   "cell_type": "code",
   "execution_count": 33,
   "metadata": {},
   "outputs": [
    {
     "name": "stdout",
     "output_type": "stream",
     "text": [
      "Nombre d'entrées manquantes : 291469 (90.86%)\n",
      "Valeurs les plus courantes : emb-56251e ; fr-85-154-002-ec ; emb-49331h ; fr-72-264-002-ec ; emb-45273 ; fr-29-247-022-ec ; fr-22-046-001-ec ; fr-62-767-005-ec ; fr-40-261-001-ec ; fr-72-181-001-ec\n"
     ]
    }
   ],
   "source": [
    "print_col_info('emb_codes_tags')"
   ]
  },
  {
   "cell_type": "code",
   "execution_count": 34,
   "metadata": {},
   "outputs": [
    {
     "name": "stdout",
     "output_type": "stream",
     "text": [
      "Nombre d'entrées manquantes : 301969 (94.14%)\n",
      "Valeurs les plus courantes : 47.633333,-2.666667 ; 47.833333,-0.333333 ; 49.266667,-0.666667 ; 48.1,-4.333333 ; 46.698333,-1.939444 ; 47.933333,-4.016667 ; 46.666667,-0.85 ; 47.866667,2.116667 ; 46.783333,-0.833333 ; 48,-4.1\n"
     ]
    }
   ],
   "source": [
    "print_col_info('first_packaging_code_geo') # coordonnées du lieu de conditionnement"
   ]
  },
  {
   "cell_type": "code",
   "execution_count": 35,
   "metadata": {},
   "outputs": [
    {
     "name": "stdout",
     "output_type": "stream",
     "text": [
      "Nombre d'entrées manquantes : 300452 (93.67%)\n",
      "Valeurs les plus courantes : theix-morbihan-france ; douarnenez-finistere-france ; sable-sur-sarthe-sarthe-france ; saint-martin-des-entrees-calvados-france ; mouilleron-en-pareds-vendee-france ; saint-evarzec-finistere-france ; quimper-finistere-france ; chateaubourg-ille-et-vilaine-france ; saint-denis-de-l-hotel-loiret-france ; pouzauges-vendee-france\n"
     ]
    }
   ],
   "source": [
    "print_col_info('cities_tags')"
   ]
  },
  {
   "cell_type": "markdown",
   "metadata": {},
   "source": [
    "Ces attributs pourraient être utile dans le cadre d'une démarche écologique de limitation du transport des produits, ce qui n'est pas notre cas."
   ]
  },
  {
   "cell_type": "markdown",
   "metadata": {},
   "source": [
    "### Certifications"
   ]
  },
  {
   "cell_type": "code",
   "execution_count": 36,
   "metadata": {
    "scrolled": false
   },
   "outputs": [
    {
     "name": "stdout",
     "output_type": "stream",
     "text": [
      "Nombre d'entrées manquantes : 274128 (85.46%)\n",
      "Valeurs les plus courantes : en:organic,en:eu-organic,fr:ab-agriculture-biologique ; en:green-dot ; en:vegetarian,en:vegan ; en:green-dot,fr:eco-emballages ; en:organic,en:eu-organic,en:fr-bio-01,fr:ab-agriculture-biologique ; en:gluten-free ; en:labels-of-distributors,fr:selection-intermarche ; en:pdo ; en:no-colorings,en:no-preservatives ; en:vegetarian\n"
     ]
    }
   ],
   "source": [
    "print_col_info('labels_tags')"
   ]
  },
  {
   "cell_type": "code",
   "execution_count": 37,
   "metadata": {},
   "outputs": [
    {
     "name": "stdout",
     "output_type": "stream",
     "text": [
      "Nombre d'entrées manquantes : 274106 (85.45%)\n",
      "Valeurs les plus courantes : Bio,Bio européen,AB Agriculture Biologique ; Point Vert ; Végétarien,Végétalien ; Point Vert,Eco-emballages ; Bio,Bio européen,FR-BIO-01,AB Agriculture Biologique ; Sans gluten ; Labels de distributeurs,Sélection Intermarché ; AOP ; Sans colorants,Sans conservateurs ; Végétarien\n"
     ]
    }
   ],
   "source": [
    "print_col_info('labels_fr')"
   ]
  },
  {
   "cell_type": "markdown",
   "metadata": {},
   "source": [
    "Certains de ces labels sont des indicateurs de qualité sur lesquels nous pourrons nous appuyer : nous conservons la 1ère colonne, mais pas la 2e (redondante)."
   ]
  },
  {
   "cell_type": "code",
   "execution_count": 38,
   "metadata": {},
   "outputs": [
    {
     "name": "stdout",
     "output_type": "stream",
     "text": [
      "Nombre d'entrées manquantes : 320504 (99.92%)\n",
      "Valeurs les plus courantes : 0.0 ; 828.0 ; 160.0 ; 150.0 ; 153.0 ; 345.0 ; 365.0 ; 100.0 ; 56.2 ; 340.0\n"
     ]
    }
   ],
   "source": [
    "data['carbon-footprint_100g'] = data['carbon-footprint_100g'].round(2) # arrondissons à 2 décimales\n",
    "print_col_info('carbon-footprint_100g')"
   ]
  },
  {
   "cell_type": "markdown",
   "metadata": {},
   "source": [
    "L'empreinte carbone d'un aliment est sens lien avec ses qualités nutritionnelles : à effacer."
   ]
  },
  {
   "cell_type": "markdown",
   "metadata": {},
   "source": [
    "### Informations techniques"
   ]
  },
  {
   "cell_type": "code",
   "execution_count": 39,
   "metadata": {
    "scrolled": false
   },
   "outputs": [
    {
     "name": "stdout",
     "output_type": "stream",
     "text": [
      "Nombre d'entrées manquantes : 23 (0.01%)\n",
      "Valeurs les plus courantes : http://world-fr.openfoodfacts.org/produit/3041090007866 ; http://world-fr.openfoodfacts.org/produit/0712199082803/sour-jelly-beens-sweet-smiles ; http://world-fr.openfoodfacts.org/produit/9388160480827/biscottes-6-cereales-heudebert ; http://world-fr.openfoodfacts.org/produit/20408459/witti-s-au-sesame-crusti-croc ; http://world-fr.openfoodfacts.org/produit/9300605042438 ; http://world-fr.openfoodfacts.org/produit/0011225123887/potato-chips-valu-time ; http://world-fr.openfoodfacts.org/produit/0832924004143/garlic-spread-matiz-catalan ; http://world-fr.openfoodfacts.org/produit/0093966004540/soy-creamer-french-vanilla-organic-valley ; http://world-fr.openfoodfacts.org/produit/3700410341058/reine-des-neige-coca ; http://world-fr.openfoodfacts.org/produit/0041735083531/old-fashioned-soft-cookies-strawberry-filled-price-chopper\n"
     ]
    }
   ],
   "source": [
    "print_col_info('url')"
   ]
  },
  {
   "cell_type": "code",
   "execution_count": 40,
   "metadata": {
    "scrolled": true
   },
   "outputs": [
    {
     "name": "stdout",
     "output_type": "stream",
     "text": [
      "Nombre d'entrées manquantes : 244936 (76.36%)\n",
      "Valeurs les plus courantes : http://fr.openfoodfacts.org/images/products/848/000/082/3908/front.3.400.jpg ; http://fr.openfoodfacts.org/images/products/800/535/704/3047/front.3.400.jpg ; http://fr.openfoodfacts.org/images/products/406/960/000/9437/front.5.400.jpg ; http://fr.openfoodfacts.org/images/products/303/361/003/5459/front.7.400.jpg ; http://fr.openfoodfacts.org/images/products/349/357/000/0032/front.5.400.jpg ; http://fr.openfoodfacts.org/images/products/401/563/784/3100/front.6.400.jpg ; http://fr.openfoodfacts.org/images/products/317/568/110/3849/front.12.400.jpg ; http://fr.openfoodfacts.org/images/products/317/853/041/0143/front.3.400.jpg ; http://fr.openfoodfacts.org/images/products/004/837/501/4109/front.8.400.jpg ; http://fr.openfoodfacts.org/images/products/430/479/500/2482/front.9.400.jpg\n"
     ]
    }
   ],
   "source": [
    "print_col_info('image_url')"
   ]
  },
  {
   "cell_type": "code",
   "execution_count": 41,
   "metadata": {
    "scrolled": false
   },
   "outputs": [
    {
     "name": "stdout",
     "output_type": "stream",
     "text": [
      "Nombre d'entrées manquantes : 244936 (76.36%)\n",
      "Valeurs les plus courantes : http://fr.openfoodfacts.org/images/products/848/001/701/7284/front.8.200.jpg ; http://fr.openfoodfacts.org/images/products/329/259/080/5128/front.6.200.jpg ; http://fr.openfoodfacts.org/images/products/308/368/105/7737/front.3.200.jpg ; http://fr.openfoodfacts.org/images/products/376/003/870/7063/front.3.200.jpg ; http://fr.openfoodfacts.org/images/products/200/000/002/0872/front.4.200.jpg ; http://fr.openfoodfacts.org/images/products/80019442/front.3.200.jpg ; http://fr.openfoodfacts.org/images/products/460/172/801/2380/front.3.200.jpg ; http://fr.openfoodfacts.org/images/products/327/307/102/8311/front.7.200.jpg ; http://fr.openfoodfacts.org/images/products/359/671/030/8927/front.6.200.jpg ; http://fr.openfoodfacts.org/images/products/20063722/front.3.200.jpg\n"
     ]
    }
   ],
   "source": [
    "print_col_info('image_small_url')"
   ]
  },
  {
   "cell_type": "code",
   "execution_count": 42,
   "metadata": {},
   "outputs": [
    {
     "name": "stdout",
     "output_type": "stream",
     "text": [
      "Nombre d'entrées manquantes : 46 (0.01%)\n",
      "Valeurs les plus courantes : en:to-be-completed,en:nutrition-facts-completed,en:ingredients-completed,en:expiration-date-to-be-completed,en:packaging-code-to-be-completed,en:characteristics-to-be-completed,en:categories-to-be-completed,en:brands-completed,en:packaging-to-be-completed,en:quantity-to-be-completed,en:product-name-completed,en:photos-to-be-uploaded ; en:to-be-checked,en:complete,en:nutrition-facts-completed,en:ingredients-completed,en:expiration-date-completed,en:characteristics-completed,en:categories-completed,en:brands-completed,en:packaging-completed,en:quantity-completed,en:product-name-completed,en:photos-validated,en:photos-uploaded ; en:to-be-checked,en:complete,en:nutrition-facts-completed,en:ingredients-completed,en:expiration-date-to-be-completed,en:characteristics-completed,en:categories-completed,en:brands-completed,en:packaging-completed,en:quantity-completed,en:product-name-completed,en:photos-validated,en:photos-uploaded ; en:to-be-completed,en:nutrition-facts-to-be-completed,en:ingredients-to-be-completed,en:expiration-date-to-be-completed,en:characteristics-to-be-completed,en:categories-to-be-completed,en:brands-to-be-completed,en:packaging-to-be-completed,en:quantity-to-be-completed,en:product-name-to-be-completed,en:photos-to-be-validated,en:photos-uploaded ; en:to-be-completed,en:nutrition-facts-completed,en:ingredients-to-be-completed,en:expiration-date-to-be-completed,en:packaging-code-to-be-completed,en:characteristics-to-be-completed,en:categories-to-be-completed,en:brands-completed,en:packaging-to-be-completed,en:quantity-to-be-completed,en:product-name-completed,en:photos-to-be-validated,en:photos-uploaded ; en:to-be-completed,en:nutrition-facts-to-be-completed,en:ingredients-to-be-completed,en:expiration-date-to-be-completed,en:characteristics-to-be-completed,en:categories-to-be-completed,en:brands-completed,en:packaging-to-be-completed,en:quantity-completed,en:product-name-completed,en:photos-to-be-validated,en:photos-uploaded ; en:to-be-checked,en:complete,en:nutrition-facts-completed,en:ingredients-completed,en:expiration-date-completed,en:packaging-code-to-be-completed,en:characteristics-completed,en:categories-completed,en:brands-completed,en:packaging-completed,en:quantity-completed,en:product-name-completed,en:photos-validated,en:photos-uploaded ; en:to-be-completed,en:nutrition-facts-completed,en:ingredients-to-be-completed,en:expiration-date-to-be-completed,en:packaging-code-to-be-completed,en:characteristics-to-be-completed,en:categories-to-be-completed,en:brands-completed,en:packaging-to-be-completed,en:quantity-to-be-completed,en:product-name-completed,en:photos-to-be-uploaded ; en:to-be-checked,en:complete,en:nutrition-facts-completed,en:ingredients-completed,en:expiration-date-to-be-completed,en:packaging-code-to-be-completed,en:characteristics-completed,en:categories-completed,en:brands-completed,en:packaging-completed,en:quantity-completed,en:product-name-completed,en:photos-validated,en:photos-uploaded ; en:to-be-checked,en:complete,en:nutrition-facts-completed,en:ingredients-completed,en:expiration-date-completed,en:packaging-code-completed,en:characteristics-completed,en:categories-completed,en:brands-completed,en:packaging-completed,en:quantity-completed,en:product-name-completed,en:photos-validated,en:photos-uploaded\n"
     ]
    }
   ],
   "source": [
    "print_col_info('states_tags')"
   ]
  },
  {
   "cell_type": "markdown",
   "metadata": {},
   "source": [
    "Attributs inutiles pour notre projet."
   ]
  },
  {
   "cell_type": "markdown",
   "metadata": {},
   "source": [
    "## Examen des colonnes d'informations nutritionnelles non quantitatives"
   ]
  },
  {
   "cell_type": "code",
   "execution_count": 43,
   "metadata": {},
   "outputs": [
    {
     "name": "stdout",
     "output_type": "stream",
     "text": [
      "Nombre d'entrées manquantes : 71810 (22.39%)\n",
      "Valeurs les plus courantes : Carbonated water, natural flavor. ; Almonds. ; Extra virgin olive oil. ; Extra virgin olive oil ; Semolina (wheat), durum flour (wheat), niacin, ferrous sulfate (iron), thiamin mononitrate, riboflavin, folic acid. ; Honey ; Walnuts. ; Pecans. ; Green beans, water, salt. ; Honey.\n"
     ]
    }
   ],
   "source": [
    "print_col_info('ingredients_text')"
   ]
  },
  {
   "cell_type": "markdown",
   "metadata": {},
   "source": [
    "Attribut potentiellement utile, mais difficilement exploitable en l'état : nous le supprimons (à discuter avec le client)."
   ]
  },
  {
   "cell_type": "code",
   "execution_count": 44,
   "metadata": {
    "scrolled": true
   },
   "outputs": [
    {
     "name": "stdout",
     "output_type": "stream",
     "text": [
      "Nombre d'entrées manquantes : 292428 (91.16%)\n",
      "Valeurs les plus courantes : blé ; Lait ; lait ; soja ; sulfites ; céleri ; Lait, lait ; orge ; lactose ; blé, blé\n"
     ]
    }
   ],
   "source": [
    "print_col_info('allergens')"
   ]
  },
  {
   "cell_type": "markdown",
   "metadata": {},
   "source": [
    "Attribut utile."
   ]
  },
  {
   "cell_type": "code",
   "execution_count": 45,
   "metadata": {},
   "outputs": [
    {
     "name": "stdout",
     "output_type": "stream",
     "text": [
      "Nombre d'entrées manquantes : 296443 (92.42%)\n",
      "Valeurs les plus courantes : en:nuts ; en:milk ; en:eggs ; en:gluten ; en:nuts,en:peanuts ; en:milk,en:nuts ; en:nuts,en:soybeans ; en:soybeans ; en:sulphur-dioxide-and-sulphites ; en:gluten,en:nuts\n"
     ]
    }
   ],
   "source": [
    "print_col_info('traces_tags')"
   ]
  },
  {
   "cell_type": "code",
   "execution_count": 46,
   "metadata": {
    "scrolled": true
   },
   "outputs": [
    {
     "name": "stdout",
     "output_type": "stream",
     "text": [
      "Nombre d'entrées manquantes : 296420 (92.41%)\n",
      "Valeurs les plus courantes : Fruits à coque ; Lait ; Œufs ; Gluten ; Fruits à coque,Arachides ; Lait,Fruits à coque ; Fruits à coque,Soja ; Soja ; Anhydride sulfureux et sulfites ; Gluten,Fruits à coque\n"
     ]
    }
   ],
   "source": [
    "print_col_info('traces_fr')"
   ]
  },
  {
   "cell_type": "markdown",
   "metadata": {},
   "source": [
    "La présence de certaines substances à l'état de traces est sans incidence sur la qualité nutritionnelle du produit : à supprimer."
   ]
  },
  {
   "cell_type": "code",
   "execution_count": 47,
   "metadata": {},
   "outputs": [
    {
     "name": "stdout",
     "output_type": "stream",
     "text": [
      "Nombre d'entrées manquantes : 71833 (22.39%)\n",
      "Valeurs les plus courantes : 0.0 ; 1.0 ; 2.0 ; 3.0 ; 4.0 ; 5.0 ; 6.0 ; 7.0 ; 8.0 ; 9.0\n"
     ]
    }
   ],
   "source": [
    "print_col_info('additives_n')"
   ]
  },
  {
   "cell_type": "code",
   "execution_count": 48,
   "metadata": {},
   "outputs": [
    {
     "name": "stdout",
     "output_type": "stream",
     "text": [
      "Nombre d'entrées manquantes : 166092 (51.78%)\n",
      "Valeurs les plus courantes : en:e322 ; en:e330 ; en:e375,en:e101 ; en:e300 ; en:e415 ; en:e440 ; en:e100 ; en:e330,en:e300 ; en:e160b ; en:e150a\n"
     ]
    }
   ],
   "source": [
    "print_col_info('additives_tags')"
   ]
  },
  {
   "cell_type": "code",
   "execution_count": 49,
   "metadata": {},
   "outputs": [
    {
     "name": "stdout",
     "output_type": "stream",
     "text": [
      "Nombre d'entrées manquantes : 166092 (51.78%)\n",
      "Valeurs les plus courantes : E322 - Lécithines ; E330 - Acide citrique ; E375 - Acide nicotinique,E101 - Riboflavine ; E300 - Acide ascorbique ; E415 - Gomme xanthane ; E440 - Pectines ; E100 - Curcumine ; E330 - Acide citrique,E300 - Acide ascorbique ; E160b - Rocou ; E150a - Caramel E150a\n"
     ]
    }
   ],
   "source": [
    "print_col_info('additives_fr')"
   ]
  },
  {
   "cell_type": "markdown",
   "metadata": {},
   "source": [
    "Attribut redondant."
   ]
  },
  {
   "cell_type": "code",
   "execution_count": 50,
   "metadata": {
    "scrolled": false
   },
   "outputs": [
    {
     "name": "stdout",
     "output_type": "stream",
     "text": [
      "Nombre d'entrées manquantes : 71833 (22.39%)\n",
      "Valeurs les plus courantes : 0.0 ; 1.0 ; 2.0\n"
     ]
    }
   ],
   "source": [
    "print_col_info('ingredients_from_palm_oil_n')"
   ]
  },
  {
   "cell_type": "code",
   "execution_count": 51,
   "metadata": {},
   "outputs": [
    {
     "name": "stdout",
     "output_type": "stream",
     "text": [
      "Nombre d'entrées manquantes : 315937 (98.49%)\n",
      "Valeurs les plus courantes : huile-de-palme ; e304-palmitate-d-ascorbyle ; huile-de-palme,e304-palmitate-d-ascorbyle ; oleine-de-palme ; mono-et-diglycerides-d-acides-gras-de-palme ; huile-de-palme,oleine-de-palme ; e304-palmitate-d-ascorbyle,huile-de-palme ; huile-de-palme,stearine-de-palme ; oleine-de-palme,e304-palmitate-d-ascorbyle ; huile-de-palme,mono-et-diglycerides-d-acides-gras-de-palme\n"
     ]
    }
   ],
   "source": [
    "print_col_info('ingredients_from_palm_oil_tags')"
   ]
  },
  {
   "cell_type": "code",
   "execution_count": 52,
   "metadata": {
    "scrolled": true
   },
   "outputs": [
    {
     "name": "stdout",
     "output_type": "stream",
     "text": [
      "Nombre d'entrées manquantes : 71833 (22.39%)\n",
      "Valeurs les plus courantes : 0.0 ; 1.0 ; 2.0 ; 3.0 ; 4.0 ; 5.0 ; 6.0\n"
     ]
    }
   ],
   "source": [
    "print_col_info('ingredients_that_may_be_from_palm_oil_n')"
   ]
  },
  {
   "cell_type": "code",
   "execution_count": 53,
   "metadata": {},
   "outputs": [
    {
     "name": "stdout",
     "output_type": "stream",
     "text": [
      "Nombre d'entrées manquantes : 309076 (96.35%)\n",
      "Valeurs les plus courantes : e160a-beta-carotene ; e471-mono-et-diglycerides-d-acides-gras-alimentaires ; huile-vegetale ; e433-monooleate-de-polyoxyethylene-de-sorbitane ; e471-mono-et-diglycerides-d-acides-gras-alimentaires,e160a-beta-carotene ; huile-vegetale,e471-mono-et-diglycerides-d-acides-gras-alimentaires ; e471-mono-et-diglycerides-d-acides-gras-alimentaires,e481-stearoyl-2-lactylate-de-sodium ; e472e-ester-monoacethyltartrique-de-mono-et-diglycerides-d-acides-gras ; e471-mono-et-diglycerides-d-acides-gras-alimentaires,e472e-ester-monoacethyltartrique-de-mono-et-diglycerides-d-acides-gras ; e472b-ester-diacetyl-lactique-de-mono-et-diglycerides-d-acides-gras\n"
     ]
    }
   ],
   "source": [
    "print_col_info('ingredients_that_may_be_from_palm_oil_tags')"
   ]
  },
  {
   "cell_type": "markdown",
   "metadata": {},
   "source": [
    "Nous ne conserverons initialement que le nombre avéré d'ingrédients dérivés de l'huile de palme."
   ]
  },
  {
   "cell_type": "code",
   "execution_count": 54,
   "metadata": {},
   "outputs": [
    {
     "name": "stdout",
     "output_type": "stream",
     "text": [
      "Nombre d'entrées manquantes : 99562 (31.04%)\n",
      "Valeurs les plus courantes : 0.0 ; 1.0 ; 14.0 ; 2.0 ; 13.0 ; -1.0 ; 12.0 ; 11.0 ; 3.0 ; 15.0\n"
     ]
    }
   ],
   "source": [
    "print_col_info('nutrition-score-fr_100g')"
   ]
  },
  {
   "cell_type": "code",
   "execution_count": 55,
   "metadata": {},
   "outputs": [
    {
     "name": "stdout",
     "output_type": "stream",
     "text": [
      "Nombre d'entrées manquantes : 99562 (31.04%)\n",
      "Valeurs les plus courantes : 0.0 ; 1.0 ; 2.0 ; 14.0 ; -1.0 ; 13.0 ; 12.0 ; 11.0 ; 3.0 ; 20.0\n"
     ]
    }
   ],
   "source": [
    "print_col_info('nutrition-score-uk_100g')"
   ]
  },
  {
   "cell_type": "code",
   "execution_count": 56,
   "metadata": {},
   "outputs": [
    {
     "name": "stdout",
     "output_type": "stream",
     "text": [
      "Nombre d'entrées manquantes : 99562 (31.04%)\n",
      "Valeurs les plus courantes : d ; c ; e ; a ; b\n"
     ]
    }
   ],
   "source": [
    "print_col_info('nutrition_grade_fr')"
   ]
  },
  {
   "cell_type": "markdown",
   "metadata": {},
   "source": [
    "D'après la documentation sur la page https://fr.openfoodfacts.org/nutriscore, les scores numériques fr et uk donnent des valeurs proches, qui sont ensuite utilisées pour l'attribution d'une lettre Nutri-Score. Nous ne conservons que ce dernier attribut."
   ]
  },
  {
   "cell_type": "markdown",
   "metadata": {},
   "source": [
    "## Examen des colonnes d'informations nutritionnelles quantitatives"
   ]
  },
  {
   "cell_type": "markdown",
   "metadata": {},
   "source": [
    "## Suppression des colonnes"
   ]
  },
  {
   "cell_type": "code",
   "execution_count": 57,
   "metadata": {},
   "outputs": [
    {
     "name": "stdout",
     "output_type": "stream",
     "text": [
      "33 colonnes effacées.\n"
     ]
    }
   ],
   "source": [
    "columns_to_delete = ['packaging_tags', 'quantity', 'serving_size', \n",
    "                     'stores', 'countries_tags', 'countries_fr', \n",
    "                     'purchase_places', \n",
    "                     'categories_tags', 'categories_fr', 'main_category_fr', 'pnns_groups_1', 'pnns_groups_2',\n",
    "                     'origins_tags', \n",
    "                     'manufacturing_places_tags', 'emb_codes_tags', 'first_packaging_code_geo', \n",
    "                     'cities_tags', 'labels_fr', 'carbon-footprint_100g',\n",
    "                     'url', 'image_url', 'image_small_url', 'states_tags', 'states_fr', 'ingredients_text',\n",
    "                     'traces_tags', 'traces_fr', 'additives_fr',\n",
    "                     'ingredients_from_palm_oil_tags', \n",
    "                     'ingredients_that_may_be_from_palm_oil_n', 'ingredients_that_may_be_from_palm_oil_tags',\n",
    "                     'nutrition-score-fr_100g', 'nutrition-score-uk_100g']\n",
    "data.drop(columns=columns_to_delete, inplace=True, errors='ignore') \n",
    "print(f\"{len(columns_to_delete)} colonnes effacées.\")"
   ]
  },
  {
   "cell_type": "markdown",
   "metadata": {},
   "source": [
    "## Sauvegarde de la version finale"
   ]
  },
  {
   "cell_type": "code",
   "execution_count": 58,
   "metadata": {},
   "outputs": [
    {
     "name": "stdout",
     "output_type": "stream",
     "text": [
      "code, creator, product_name, generic_name, brands_tags, labels_tags, allergens, additives_n, additives_tags, ingredients_from_palm_oil_n, nutrition_grade_fr, main_category, energy_100g, energy-from-fat_100g, fat_100g, saturated-fat_100g, monounsaturated-fat_100g, polyunsaturated-fat_100g, omega-3-fat_100g, alpha-linolenic-acid_100g, omega-6-fat_100g, linoleic-acid_100g, trans-fat_100g, cholesterol_100g, carbohydrates_100g, sugars_100g, lactose_100g, starch_100g, polyols_100g, fiber_100g, proteins_100g, salt_100g, sodium_100g, alcohol_100g, vitamin-a_100g, vitamin-d_100g, vitamin-e_100g, vitamin-k_100g, vitamin-c_100g, vitamin-b1_100g, vitamin-b2_100g, vitamin-pp_100g, vitamin-b6_100g, vitamin-b9_100g, folates_100g, vitamin-b12_100g, biotin_100g, pantothenic-acid_100g, potassium_100g, chloride_100g, calcium_100g, phosphorus_100g, iron_100g, magnesium_100g, zinc_100g, copper_100g, manganese_100g, selenium_100g, iodine_100g, fruits-vegetables-nuts_100g, collagen-meat-protein-ratio_100g, cocoa_100g\n"
     ]
    }
   ],
   "source": [
    "print(\", \".join(data.columns.tolist()))"
   ]
  },
  {
   "cell_type": "code",
   "execution_count": 59,
   "metadata": {
    "scrolled": true
   },
   "outputs": [
    {
     "name": "stdout",
     "output_type": "stream",
     "text": [
      "<class 'pandas.core.frame.DataFrame'>\n",
      "RangeIndex: 320772 entries, 0 to 320771\n",
      "Data columns (total 62 columns):\n",
      "code                                320749 non-null object\n",
      "creator                             320770 non-null object\n",
      "product_name                        303010 non-null object\n",
      "generic_name                        52795 non-null object\n",
      "brands_tags                         292352 non-null object\n",
      "labels_tags                         46644 non-null object\n",
      "allergens                           28344 non-null object\n",
      "additives_n                         248939 non-null float64\n",
      "additives_tags                      154680 non-null object\n",
      "ingredients_from_palm_oil_n         248939 non-null float64\n",
      "nutrition_grade_fr                  221210 non-null object\n",
      "main_category                       84366 non-null object\n",
      "energy_100g                         261113 non-null float64\n",
      "energy-from-fat_100g                857 non-null float64\n",
      "fat_100g                            243891 non-null float64\n",
      "saturated-fat_100g                  229554 non-null float64\n",
      "monounsaturated-fat_100g            22823 non-null float64\n",
      "polyunsaturated-fat_100g            22859 non-null float64\n",
      "omega-3-fat_100g                    841 non-null float64\n",
      "alpha-linolenic-acid_100g           186 non-null float64\n",
      "omega-6-fat_100g                    188 non-null float64\n",
      "linoleic-acid_100g                  149 non-null float64\n",
      "trans-fat_100g                      143298 non-null float64\n",
      "cholesterol_100g                    144090 non-null float64\n",
      "carbohydrates_100g                  243588 non-null float64\n",
      "sugars_100g                         244971 non-null float64\n",
      "lactose_100g                        262 non-null float64\n",
      "starch_100g                         266 non-null float64\n",
      "polyols_100g                        414 non-null float64\n",
      "fiber_100g                          200886 non-null float64\n",
      "proteins_100g                       259922 non-null float64\n",
      "salt_100g                           255510 non-null float64\n",
      "sodium_100g                         255463 non-null float64\n",
      "alcohol_100g                        4133 non-null float64\n",
      "vitamin-a_100g                      137554 non-null float64\n",
      "vitamin-d_100g                      7057 non-null float64\n",
      "vitamin-e_100g                      1340 non-null float64\n",
      "vitamin-k_100g                      918 non-null float64\n",
      "vitamin-c_100g                      140867 non-null float64\n",
      "vitamin-b1_100g                     11154 non-null float64\n",
      "vitamin-b2_100g                     10815 non-null float64\n",
      "vitamin-pp_100g                     11729 non-null float64\n",
      "vitamin-b6_100g                     6784 non-null float64\n",
      "vitamin-b9_100g                     5240 non-null float64\n",
      "folates_100g                        3042 non-null float64\n",
      "vitamin-b12_100g                    5300 non-null float64\n",
      "biotin_100g                         330 non-null float64\n",
      "pantothenic-acid_100g               2483 non-null float64\n",
      "potassium_100g                      24748 non-null float64\n",
      "chloride_100g                       158 non-null float64\n",
      "calcium_100g                        141050 non-null float64\n",
      "phosphorus_100g                     5845 non-null float64\n",
      "iron_100g                           140462 non-null float64\n",
      "magnesium_100g                      6253 non-null float64\n",
      "zinc_100g                           3929 non-null float64\n",
      "copper_100g                         2106 non-null float64\n",
      "manganese_100g                      1620 non-null float64\n",
      "selenium_100g                       1168 non-null float64\n",
      "iodine_100g                         259 non-null float64\n",
      "fruits-vegetables-nuts_100g         3036 non-null float64\n",
      "collagen-meat-protein-ratio_100g    165 non-null float64\n",
      "cocoa_100g                          948 non-null float64\n",
      "dtypes: float64(52), object(10)\n",
      "memory usage: 293.8 MB\n",
      "None\n"
     ]
    }
   ],
   "source": [
    "print(data.info(memory_usage='deep')) "
   ]
  },
  {
   "cell_type": "code",
   "execution_count": 60,
   "metadata": {
    "scrolled": true
   },
   "outputs": [
    {
     "name": "stdout",
     "output_type": "stream",
     "text": [
      "Taille du fichier : 68.72 MB\n"
     ]
    }
   ],
   "source": [
    "data.to_csv(output_file, sep='\\t')\n",
    "size = os.path.getsize(output_file) / 1024**2\n",
    "print(f'Taille du fichier : {size:0.2f} MB')"
   ]
  }
 ],
 "metadata": {
  "kernelspec": {
   "display_name": "Python 3",
   "language": "python",
   "name": "python3"
  },
  "language_info": {
   "codemirror_mode": {
    "name": "ipython",
    "version": 3
   },
   "file_extension": ".py",
   "mimetype": "text/x-python",
   "name": "python",
   "nbconvert_exporter": "python",
   "pygments_lexer": "ipython3",
   "version": "3.6.6"
  }
 },
 "nbformat": 4,
 "nbformat_minor": 2
}
