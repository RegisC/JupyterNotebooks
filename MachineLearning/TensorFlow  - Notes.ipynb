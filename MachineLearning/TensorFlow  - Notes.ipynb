{
 "cells": [
  {
   "cell_type": "markdown",
   "metadata": {},
   "source": [
    "## Softargmax and cross-entropy"
   ]
  },
  {
   "cell_type": "markdown",
   "metadata": {},
   "source": [
    "### Definitions\n",
    "\n",
    "The cross-entropy between two discrete probability distributions $p$ and $q$ is defined by:\n",
    "    \n",
    "\\begin{equation*}\n",
    "H(p, q) = E_p\\left[-\\log q \\right] = -\\sum_{x \\in \\Omega} p(x) \\log q(x).\n",
    "\\end{equation*}\n",
    "\n",
    "Similarly, the cross-entropy loss function in a model with $M$ classes is given by:\n",
    "\n",
    "\\begin{equation*}\n",
    "L = -\\sum_{c = 1}^M y_c \\log \\hat{y}_c.\n",
    "\\end{equation*}"
   ]
  },
  {
   "cell_type": "markdown",
   "metadata": {},
   "source": [
    "### Imports"
   ]
  },
  {
   "cell_type": "code",
   "execution_count": 1,
   "metadata": {},
   "outputs": [],
   "source": [
    "import tensorflow as tf\n",
    "import numpy as np"
   ]
  },
  {
   "cell_type": "markdown",
   "metadata": {},
   "source": [
    "### Test Data"
   ]
  },
  {
   "cell_type": "code",
   "execution_count": 2,
   "metadata": {},
   "outputs": [],
   "source": [
    "y_np = np.array([[0.0, 0.0, 1.0, 0.0], # expected output\n",
    "                 [0.0, 0.0, 0.0, 1.0], \n",
    "                 [1.0, 0.0, 0.0, 0.0]])\n",
    "y_hat_np = np.array([[0.4, 0.1, 2.5, 0], # predicted output \n",
    "                     [0.15, 2, 0.2, 47], \n",
    "                     [3.2, 1.3, 1.7, 0.1]])\n",
    "y = tf.convert_to_tensor(y_np)\n",
    "y_hat = tf.convert_to_tensor(y_hat_np)"
   ]
  },
  {
   "cell_type": "markdown",
   "metadata": {},
   "source": [
    "### Calculation by TensorFlow"
   ]
  },
  {
   "cell_type": "code",
   "execution_count": 6,
   "metadata": {},
   "outputs": [
    {
     "name": "stdout",
     "output_type": "stream",
     "text": [
      "softmax(y_hat) = [[9.45420123e-02 7.00384453e-02 7.72046136e-01 6.33734060e-02]\n",
      " [4.50094310e-21 2.86251858e-20 4.73171139e-21 1.00000000e+00]\n",
      " [7.05343977e-01 1.05497325e-01 1.57383515e-01 3.17751836e-02]]\n",
      "Cross-entropy method #1 = [ 0.25871097 -0.          0.34906968]\n",
      "Cross-entropy method #2 = [0.25871097 0.         0.34906968]\n"
     ]
    }
   ],
   "source": [
    "softmax_tf = tf.nn.softmax(y_hat)\n",
    "cross_entropy_tf_1 = -tf.reduce_sum(y * tf.log(tf.nn.softmax(y_hat)), 1)\n",
    "cross_entropy_tf_2 = tf.nn.softmax_cross_entropy_with_logits_v2(labels = y, logits = y_hat)\n",
    "\n",
    "with tf.Session() as sess:        \n",
    "    sess.run(softmax_tf)\n",
    "    print(f'softmax(y_hat) = {softmax_tf.eval()}')\n",
    "    sess.run(cross_entropy_tf_1)\n",
    "    print(f'Cross-entropy method #1 = {cross_entropy_tf_1.eval()}')\n",
    "    sess.run(cross_entropy_tf_2)\n",
    "    print(f'Cross-entropy method #2 = {cross_entropy_tf_2.eval()}')"
   ]
  },
  {
   "cell_type": "markdown",
   "metadata": {},
   "source": [
    "### Manual Calculation"
   ]
  },
  {
   "cell_type": "code",
   "execution_count": 11,
   "metadata": {},
   "outputs": [
    {
     "name": "stdout",
     "output_type": "stream",
     "text": [
      "softmax(y_hat) = [[9.45420123e-02 7.00384453e-02 7.72046136e-01 6.33734060e-02]\n",
      " [4.50094310e-21 2.86251858e-20 4.73171139e-21 1.00000000e+00]\n",
      " [7.05343977e-01 1.05497325e-01 1.57383515e-01 3.17751836e-02]]\n",
      "Cross-entropy = [ 0.25871097 -0.          0.34906968]\n",
      "Simpler calculation: 0.2587109686601284 -0.0 0.34906968436284574\n"
     ]
    }
   ],
   "source": [
    "exp_y_hat_np = np.exp(y_hat_np)\n",
    "softmax = exp_y_hat_np / exp_y_hat_np.sum(axis=1, keepdims=True)\n",
    "print(f'softmax(y_hat) = {softmax}')\n",
    "cross_entropy = - np.sum(y_np * np.log(softmax), axis=1)\n",
    "print(f'Cross-entropy = {cross_entropy}')\n",
    "# For each output vector, only 1 term of the sum in non-zero, hence the calculation can be simplified\n",
    "print('Simpler calculation:', -np.log(softmax[0, 2]), -np.log(softmax[1, 3]), -np.log(softmax[2, 0]))"
   ]
  }
 ],
 "metadata": {
  "kernelspec": {
   "display_name": "Python 3",
   "language": "python",
   "name": "python3"
  },
  "language_info": {
   "codemirror_mode": {
    "name": "ipython",
    "version": 3
   },
   "file_extension": ".py",
   "mimetype": "text/x-python",
   "name": "python",
   "nbconvert_exporter": "python",
   "pygments_lexer": "ipython3",
   "version": "3.6.6"
  }
 },
 "nbformat": 4,
 "nbformat_minor": 2
}
