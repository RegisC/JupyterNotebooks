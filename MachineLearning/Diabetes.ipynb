{
 "cells": [
  {
   "cell_type": "markdown",
   "metadata": {},
   "source": [
    "# Diabetes Prediction Model\n",
    "This is partially based on J. Kurata's Pluralsight course."
   ]
  },
  {
   "cell_type": "markdown",
   "metadata": {},
   "source": [
    "## Imports"
   ]
  },
  {
   "cell_type": "code",
   "execution_count": 19,
   "metadata": {},
   "outputs": [],
   "source": [
    "import pandas as pd\n",
    "import numpy as np\n",
    "import sklearn as sk\n",
    "import sklearn.cross_validation\n",
    "import sklearn.linear_model\n",
    "import sklearn.metrics\n",
    "import sklearn.naive_bayes\n",
    "import sklearn.preprocessing\n",
    "import math"
   ]
  },
  {
   "cell_type": "markdown",
   "metadata": {},
   "source": [
    "## Prepare the data"
   ]
  },
  {
   "cell_type": "markdown",
   "metadata": {},
   "source": [
    "### Load from file"
   ]
  },
  {
   "cell_type": "code",
   "execution_count": 2,
   "metadata": {},
   "outputs": [
    {
     "name": "stdout",
     "output_type": "stream",
     "text": [
      "Loaded DataFrame of size (768, 10)\n"
     ]
    }
   ],
   "source": [
    "df = pd.read_csv(\"pima-data.csv\")\n",
    "print(\"Loaded DataFrame of size \" + str(df.shape))"
   ]
  },
  {
   "cell_type": "markdown",
   "metadata": {},
   "source": [
    "### Check for null and correlated values"
   ]
  },
  {
   "cell_type": "code",
   "execution_count": 3,
   "metadata": {},
   "outputs": [
    {
     "name": "stdout",
     "output_type": "stream",
     "text": [
      "num_preg        False\n",
      "glucose_conc    False\n",
      "diastolic_bp    False\n",
      "thickness       False\n",
      "insulin         False\n",
      "bmi             False\n",
      "diab_pred       False\n",
      "age             False\n",
      "skin            False\n",
      "diabetes        False\n",
      "dtype: bool\n"
     ]
    }
   ],
   "source": [
    "print(df.isnull().any(axis=0))"
   ]
  },
  {
   "cell_type": "code",
   "execution_count": 4,
   "metadata": {},
   "outputs": [
    {
     "data": {
      "text/plain": [
       "<Figure size 480x480 with 2 Axes>"
      ]
     },
     "metadata": {},
     "output_type": "display_data"
    }
   ],
   "source": [
    "import matplotlib.pyplot as plt\n",
    "\n",
    "corr = df.corr()\n",
    "plt.matshow(corr)\n",
    "plt.yticks(range(len(corr.columns)), corr.columns);\n",
    "plt.colorbar()\n",
    "plt.show() # Correlated features are colored yellow"
   ]
  },
  {
   "cell_type": "code",
   "execution_count": 5,
   "metadata": {},
   "outputs": [],
   "source": [
    "# Delete redundant 'skin' column\n",
    "if 'skin' in df.columns:\n",
    "    del df['skin']\n",
    "col_names = df.columns.values"
   ]
  },
  {
   "cell_type": "code",
   "execution_count": 6,
   "metadata": {},
   "outputs": [
    {
     "data": {
      "text/plain": [
       "num_preg        111\n",
       "glucose_conc      5\n",
       "diastolic_bp     35\n",
       "thickness       227\n",
       "insulin         374\n",
       "bmi              11\n",
       "diab_pred         0\n",
       "age               0\n",
       "diabetes        500\n",
       "dtype: int64"
      ]
     },
     "execution_count": 6,
     "metadata": {},
     "output_type": "execute_result"
    }
   ],
   "source": [
    "# Check for missing data hidden as zero values\n",
    "(df == 0).astype(int).sum(axis=0) # sum across columns"
   ]
  },
  {
   "cell_type": "markdown",
   "metadata": {},
   "source": [
    "### Convert non-numerical data"
   ]
  },
  {
   "cell_type": "code",
   "execution_count": 7,
   "metadata": {
    "scrolled": true
   },
   "outputs": [
    {
     "name": "stdout",
     "output_type": "stream",
     "text": [
      "   num_preg  glucose_conc  diastolic_bp  thickness  insulin   bmi  diab_pred  \\\n",
      "0         6           148            72         35        0  33.6      0.627   \n",
      "1         1            85            66         29        0  26.6      0.351   \n",
      "2         8           183            64          0        0  23.3      0.672   \n",
      "3         1            89            66         23       94  28.1      0.167   \n",
      "4         0           137            40         35      168  43.1      2.288   \n",
      "\n",
      "   age  diabetes  \n",
      "0   50         1  \n",
      "1   31         0  \n",
      "2   32         1  \n",
      "3   21         0  \n",
      "4   33         1  \n"
     ]
    }
   ],
   "source": [
    "# Convert boolean column to int\n",
    "df['diabetes'] = df['diabetes'].astype('int')\n",
    "print(df.head())"
   ]
  },
  {
   "cell_type": "markdown",
   "metadata": {},
   "source": [
    "### Check proportion of positives in data"
   ]
  },
  {
   "cell_type": "code",
   "execution_count": 8,
   "metadata": {},
   "outputs": [
    {
     "name": "stdout",
     "output_type": "stream",
     "text": [
      "Number of positives: 268 out of 768 (34.90%).\n",
      "Number of negatives: 500 out of 768 (65.10%).\n"
     ]
    }
   ],
   "source": [
    "def print_true_false_ratio(data):\n",
    "    if type(data) == pd.DataFrame:\n",
    "        count = { i:len(data.loc[data['diabetes'] == i]) for i in range(2) }\n",
    "    elif type(data) == np.ndarray: # one-column numpy array\n",
    "        count = { i:len(data[data == i]) for i in range(2) }\n",
    "    total = count[0] + count[1]\n",
    "    print(f\"Number of positives: {count[1]} out of {total} ({count[1]*100.0/total:.2f}%).\")\n",
    "    print(f\"Number of negatives: {count[0]} out of {total} ({count[0]*100.0/total:.2f}%).\")\n",
    "    \n",
    "print_true_false_ratio(df)"
   ]
  },
  {
   "cell_type": "markdown",
   "metadata": {},
   "source": [
    "## Visualize the distribution of the features"
   ]
  },
  {
   "cell_type": "code",
   "execution_count": 9,
   "metadata": {},
   "outputs": [
    {
     "name": "stdout",
     "output_type": "stream",
     "text": [
      "              mean_healthy  mean_diabetes  std_healthy  std_diabetes\n",
      "num_preg          3.298000       4.865672     3.017185      3.741239\n",
      "glucose_conc    109.980000     141.257463    26.141200     31.939622\n",
      "diastolic_bp     68.184000      70.824627    18.063075     21.491812\n",
      "thickness        19.664000      22.164179    14.889947     17.679711\n",
      "insulin          68.792000     100.335821    98.865289    138.689125\n",
      "bmi              30.304200      35.142537     7.689855      7.262967\n",
      "diab_pred         0.429734       0.550500     0.299085      0.372354\n",
      "age              31.190000      37.067164    11.667655     10.968254\n"
     ]
    }
   ],
   "source": [
    "features_means = { i: df[df['diabetes'] == i].iloc[:,:-1].mean(axis = 0) for i in range(2)}\n",
    "features_stdevs = { i: df[df['diabetes'] == i].iloc[:,:-1].std(axis = 0) for i in range(2)}\n",
    "stats = pd.DataFrame({'mean_healthy': features_means[0], \n",
    "                      'mean_diabetes': features_means[1], \n",
    "                      'std_healthy': features_stdevs[0], \n",
    "                      'std_diabetes': features_stdevs[1]})\n",
    "print(stats)"
   ]
  },
  {
   "cell_type": "code",
   "execution_count": 10,
   "metadata": {},
   "outputs": [
    {
     "data": {
      "image/png": "[encoded data removed]",
      "text/plain": [
       "<Figure size 432x72 with 2 Axes>"
      ]
     },
     "metadata": {},
     "output_type": "display_data"
    },
    {
     "data": {
      "image/png": "[encoded data removed]",
      "text/plain": [
       "<Figure size 432x72 with 2 Axes>"
      ]
     },
     "metadata": {},
     "output_type": "display_data"
    },
    {
     "data": {
      "image/png": "[encoded data removed]",
      "text/plain": [
       "<Figure size 432x72 with 2 Axes>"
      ]
     },
     "metadata": {},
     "output_type": "display_data"
    },
    {
     "data": {
      "image/png": "[encoded data removed]",
      "text/plain": [
       "<Figure size 432x72 with 2 Axes>"
      ]
     },
     "metadata": {},
     "output_type": "display_data"
    }
   ],
   "source": [
    "for i in range(4): # 4 rows in plot\n",
    "    plt.figure(figsize=(6,1))\n",
    "    for j in range(2): # 2 columns\n",
    "        plt.subplot(1, 2, 1 + j) \n",
    "        plt.hist((df[df['diabetes']==0].iloc[:,2*i+j].values,df[df['diabetes']==1].iloc[:,2*i+j]), \n",
    "                 bins=20, label=('healthy','diabetic'));\n",
    "        plt.xlabel(f\"{df.columns[2*i+j]} ({stats.iloc[2*i+j,0]:.1f}, {stats.iloc[2*i+j,1]:.1f})\");\n",
    "        plt.legend();    "
   ]
  },
  {
   "cell_type": "markdown",
   "metadata": {},
   "source": [
    "## Split the data into training and test sets"
   ]
  },
  {
   "cell_type": "code",
   "execution_count": 14,
   "metadata": {},
   "outputs": [
    {
     "name": "stdout",
     "output_type": "stream",
     "text": [
      "Size and type of post-split data:\n",
      " (537, 8) <class 'numpy.ndarray'> \n",
      " (231, 8) <class 'numpy.ndarray'> \n",
      " (537, 1) <class 'numpy.ndarray'> \n",
      " (231, 1) <class 'numpy.ndarray'>\n"
     ]
    }
   ],
   "source": [
    "input_col_names = list(df.columns.values) # predictor columns\n",
    "del input_col_names[input_col_names.index('diabetes')] # remove non-feature column\n",
    "output_col_names = ['diabetes'] # output column\n",
    "X = df[input_col_names].values # input data as ndarray\n",
    "y = df[output_col_names].values # output data as ndarray\n",
    "split_test_size = 0.3\n",
    "\n",
    "X_train, X_test, y_train, y_test = sk.cross_validation.train_test_split(X, y, \n",
    "                                                                        test_size=split_test_size, \n",
    "                                                                        random_state=42)\n",
    "print(\"Size and type of post-split data:\\n\",\n",
    "      X_train.shape, type(X_train), \"\\n\",\n",
    "      X_test.shape, type(X_train), \"\\n\",\n",
    "      y_train.shape, type(y_train), \"\\n\", \n",
    "      y_test.shape, type(y_test))\n"
   ]
  },
  {
   "cell_type": "markdown",
   "metadata": {},
   "source": [
    "## Post-split data preparation"
   ]
  },
  {
   "cell_type": "code",
   "execution_count": 15,
   "metadata": {
    "scrolled": true
   },
   "outputs": [
    {
     "name": "stdout",
     "output_type": "stream",
     "text": [
      "In training data:\n",
      "Number of positives: 188 out of 537 (35.01%).\n",
      "Number of negatives: 349 out of 537 (64.99%).\n",
      "In test data:\n",
      "Number of positives: 80 out of 231 (34.63%).\n",
      "Number of negatives: 151 out of 231 (65.37%).\n"
     ]
    }
   ],
   "source": [
    "# Check that the proportion of True rows remains roughly unchanged\n",
    "print(\"In training data:\")\n",
    "print_true_false_ratio(y_train)\n",
    "print(\"In test data:\")\n",
    "print_true_false_ratio(y_test)"
   ]
  },
  {
   "cell_type": "code",
   "execution_count": 16,
   "metadata": {},
   "outputs": [
    {
     "name": "stdout",
     "output_type": "stream",
     "text": [
      "Number of zero values: [ 76   5  19 154 261   5   0   0] and [ 35   0  16  73 113   6   0   0]\n"
     ]
    }
   ],
   "source": [
    "# Fix null values by replacing them with the mean\n",
    "imputer = sk.preprocessing.Imputer(missing_values=0, strategy='mean', axis=0, verbose=1)\n",
    "print(\"Number of zero values:\", (X_train == 0).sum(axis=0), \"and\", (X_test == 0).sum(axis=0))\n",
    "X_train = imputer.fit_transform(X_train)\n",
    "X_test = imputer.fit_transform(X_test)"
   ]
  },
  {
   "cell_type": "code",
   "execution_count": 17,
   "metadata": {},
   "outputs": [
    {
     "name": "stdout",
     "output_type": "stream",
     "text": [
      "Type of X_train and X_test after imputing: <class 'numpy.ndarray'> , <class 'numpy.ndarray'>\n",
      "Number of zero values (should now be 0): [0 0 0 0 0 0 0 0] and [0 0 0 0 0 0 0 0]\n"
     ]
    }
   ],
   "source": [
    "print(\"Type of X_train and X_test after imputing:\", type(X_train), \",\", type(X_test))\n",
    "print(\"Number of zero values (should now be 0):\", (X_train == 0).sum(axis=0), \"and\", (X_test == 0).sum(axis=0))"
   ]
  },
  {
   "cell_type": "markdown",
   "metadata": {},
   "source": [
    "## Train the Gaussian naïve Bayes model"
   ]
  },
  {
   "cell_type": "code",
   "execution_count": 20,
   "metadata": {},
   "outputs": [
    {
     "data": {
      "text/plain": [
       "GaussianNB(priors=None)"
      ]
     },
     "execution_count": 20,
     "metadata": {},
     "output_type": "execute_result"
    }
   ],
   "source": [
    "nb_model = sk.naive_bayes.GaussianNB()\n",
    "nb_model.fit(X_train, y_train.ravel())"
   ]
  },
  {
   "cell_type": "code",
   "execution_count": 21,
   "metadata": {
    "scrolled": true
   },
   "outputs": [
    {
     "name": "stdout",
     "output_type": "stream",
     "text": [
      "[0.64990689 0.35009311]\n"
     ]
    }
   ],
   "source": [
    "# Display model parameters\n",
    "print(nb_model.class_prior_)"
   ]
  },
  {
   "cell_type": "markdown",
   "metadata": {},
   "source": [
    "## Evaluate performance of the model"
   ]
  },
  {
   "cell_type": "code",
   "execution_count": 22,
   "metadata": {},
   "outputs": [
    {
     "name": "stdout",
     "output_type": "stream",
     "text": [
      "Prediction accuracy on training data = 0.7542\n",
      "Prediction accuracy on test data = 0.7359\n"
     ]
    }
   ],
   "source": [
    "y_train_predicted = nb_model.predict(X_train)\n",
    "y_test_predicted = nb_model.predict(X_test)\n",
    "print(f\"Prediction accuracy on training data = {sk.metrics.accuracy_score(y_train, y_train_predicted):.4f}\")\n",
    "print(f\"Prediction accuracy on test data = {sk.metrics.accuracy_score(y_test, y_test_predicted):.4f}\")"
   ]
  },
  {
   "cell_type": "code",
   "execution_count": 23,
   "metadata": {},
   "outputs": [
    {
     "name": "stdout",
     "output_type": "stream",
     "text": [
      "Confusion matrix of training data (columns: predicted values, rows: actual values):\n",
      "[[293  56]\n",
      " [ 76 112]]\n",
      "Confusion matrix of test data ([[TN FP][FN TP]]):\n",
      "[[118  33]\n",
      " [ 28  52]]\n"
     ]
    }
   ],
   "source": [
    "print(\"Confusion matrix of training data (columns: predicted values, rows: actual values):\")\n",
    "confusion_train = sk.metrics.confusion_matrix(y_train, y_train_predicted)\n",
    "print(confusion_train)\n",
    "\n",
    "print(\"Confusion matrix of test data ([[TN FP][FN TP]]):\")\n",
    "confusion_test = sk.metrics.confusion_matrix(y_test, y_test_predicted)\n",
    "TN = confusion_test[0, 0]\n",
    "FP = confusion_test[0, 1]\n",
    "FN = confusion_test[1, 0]\n",
    "TP = confusion_test[1, 1]\n",
    "\n",
    "print(confusion_test)"
   ]
  },
  {
   "cell_type": "code",
   "execution_count": 24,
   "metadata": {
    "scrolled": true
   },
   "outputs": [
    {
     "name": "stdout",
     "output_type": "stream",
     "text": [
      "Classification report of test data:\n",
      "             precision    recall  f1-score   support\n",
      "\n",
      "          0       0.81      0.78      0.79       151\n",
      "          1       0.61      0.65      0.63        80\n",
      "\n",
      "avg / total       0.74      0.74      0.74       231\n",
      "\n",
      "Precision = 0.611764705882353\n",
      "Recall = 0.65\n",
      "F1-score = 0.6303030303030304\n"
     ]
    }
   ],
   "source": [
    "print(\"Classification report of test data:\")\n",
    "print(sk.metrics.classification_report(y_test, y_test_predicted))\n",
    "precision = TP/(TP+FP) # for recommendation model\n",
    "print(\"Precision =\", precision)\n",
    "recall = TP/(FN+TP) # for disease modelling\n",
    "print(\"Recall =\", recall)\n",
    "print(\"F1-score =\", 1.0/((1.0/recall + 1.0/precision)/2))"
   ]
  },
  {
   "cell_type": "markdown",
   "metadata": {},
   "source": [
    "## Perform explicit calculation"
   ]
  },
  {
   "cell_type": "code",
   "execution_count": 34,
   "metadata": {},
   "outputs": [
    {
     "name": "stdout",
     "output_type": "stream",
     "text": [
      "Same results as Scikit-Learn: True\n"
     ]
    }
   ],
   "source": [
    "def calc_gaussian_density(x, mean, stdev):\n",
    "    exponent = math.exp(-(x-mean)**2/(2*stdev**2))\n",
    "    return (1 / (math.sqrt(2*math.pi) * stdev)) * exponent\n",
    "\n",
    "y_train = y_train.squeeze() # remove unused 2nd dimension so that we can use y_train as a boolean mask\n",
    "means = { i: X_train[y_train == i].mean(axis = 0) for i in range(2)}\n",
    "stdevs = { i: X_train[y_train == i].std(axis = 0) for i in range(2)}\n",
    "\n",
    "vect_density = np.vectorize(calc_gaussian_density)\n",
    "prob_healthy = vect_density(X_train, means[0], stdevs[0])\n",
    "prob_diabetes = vect_density(X_train, means[1], stdevs[1])\n",
    "prob_healthy = prob_healthy.prod(axis=1) * len(y_train[y_train == 0]) / len(y_train)\n",
    "prob_diabetes = prob_diabetes.prod(axis=1)* len(y_train[y_train == 1]) / len(y_train)\n",
    "print(\"Same results as Scikit-Learn:\", np.array_equal((prob_healthy < prob_diabetes).astype(int), y_train_predicted))"
   ]
  },
  {
   "cell_type": "markdown",
   "metadata": {},
   "source": [
    "# Simpler model: logistic regression (unbalanced & balanced)"
   ]
  },
  {
   "cell_type": "markdown",
   "metadata": {},
   "source": [
    "## Calibrate C parameter"
   ]
  },
  {
   "cell_type": "code",
   "execution_count": 35,
   "metadata": {},
   "outputs": [
    {
     "data": {
      "image/png": "[encoded data removed]",
      "text/plain": [
       "<Figure size 432x288 with 1 Axes>"
      ]
     },
     "metadata": {},
     "output_type": "display_data"
    }
   ],
   "source": [
    "recall_results = []\n",
    "recall_results_balanced = []\n",
    "c_values = np.arange(0.1, 5, 0.1)\n",
    "for c in c_values:\n",
    "    # fit both a balanced and unbalanced model\n",
    "    lr_model = sk.linear_model.LogisticRegression(C=c, random_state=42)    \n",
    "    lr_model_balanced = sk.linear_model.LogisticRegression(C=c, random_state=42, class_weight='balanced')    \n",
    "    lr_model.fit(X_train, y_train.ravel())\n",
    "    lr_model_balanced.fit(X_train, y_train.ravel())\n",
    "    # record recall score from test data in each case\n",
    "    y_test_predicted_lr = lr_model.predict(X_test) \n",
    "    y_test_predicted_lr_balanced = lr_model_balanced.predict(X_test)     \n",
    "    recall_results.append(sk.metrics.recall_score(y_test, y_test_predicted_lr))\n",
    "    recall_results_balanced.append(sk.metrics.recall_score(y_test, y_test_predicted_lr_balanced))\n",
    "# plot recall score as a function of C for both model types\n",
    "r1, r2 = plt.plot(c_values, recall_results, 'r-', c_values, recall_results_balanced, 'g-')\n",
    "\n",
    "plt.xlabel('Regularisation parameter');\n",
    "plt.ylabel('Recall');\n",
    "plt.legend([r1, r2], [\"Unbalanced\", \"Balanced\"]);"
   ]
  },
  {
   "cell_type": "markdown",
   "metadata": {},
   "source": [
    "## Produce classification metrics with best model and C value"
   ]
  },
  {
   "cell_type": "code",
   "execution_count": 36,
   "metadata": {},
   "outputs": [
    {
     "name": "stdout",
     "output_type": "stream",
     "text": [
      "Classification report of training data:\n",
      "             precision    recall  f1-score   support\n",
      "\n",
      "          0       0.85      0.74      0.79       349\n",
      "          1       0.61      0.75      0.67       188\n",
      "\n",
      "avg / total       0.76      0.74      0.75       537\n",
      "\n",
      "Classification report of test data:\n",
      "             precision    recall  f1-score   support\n",
      "\n",
      "          0       0.83      0.70      0.76       151\n",
      "          1       0.57      0.74      0.64        80\n",
      "\n",
      "avg / total       0.74      0.71      0.72       231\n",
      "\n"
     ]
    }
   ],
   "source": [
    "lr_model = sk.linear_model.LogisticRegression(C=0.3, class_weight='balanced', random_state=42)\n",
    "lr_model.fit(X_train, y_train.ravel())\n",
    "y_train_predicted_lr = lr_model.predict(X_train)\n",
    "y_test_predicted_lr = lr_model.predict(X_test)\n",
    "print(\"Classification report of training data:\")\n",
    "print(sk.metrics.classification_report(y_train, y_train_predicted_lr))\n",
    "print(\"Classification report of test data:\")\n",
    "print(sk.metrics.classification_report(y_test, y_test_predicted_lr))"
   ]
  },
  {
   "cell_type": "markdown",
   "metadata": {},
   "source": [
    "## Repeat using cross-calibration"
   ]
  },
  {
   "cell_type": "code",
   "execution_count": 37,
   "metadata": {
    "scrolled": true
   },
   "outputs": [
    {
     "data": {
      "text/plain": [
       "LogisticRegressionCV(Cs=3, class_weight='balanced', cv=10, dual=False,\n",
       "           fit_intercept=True, intercept_scaling=1.0, max_iter=100,\n",
       "           multi_class='ovr', n_jobs=-1, penalty='l2', random_state=42,\n",
       "           refit=False, scoring=None, solver='lbfgs', tol=0.0001,\n",
       "           verbose=0)"
      ]
     },
     "execution_count": 37,
     "metadata": {},
     "output_type": "execute_result"
    }
   ],
   "source": [
    "lr_model = sk.linear_model.LogisticRegressionCV(Cs=3, cv=10, n_jobs=-1, refit=False, \n",
    "                                                class_weight='balanced', random_state=42)\n",
    "lr_model.fit(X_train, y_train.ravel())"
   ]
  },
  {
   "cell_type": "code",
   "execution_count": 43,
   "metadata": {},
   "outputs": [
    {
     "name": "stdout",
     "output_type": "stream",
     "text": [
      "Coefficients: [[ 0.03803313  0.03548025 -0.00454891  0.01041579  0.00116897  0.05660721\n",
      "   0.30450864  0.0279351 ]]\n",
      "Regularisation parameters: [1.e-04 1.e+00 1.e+04]\n",
      "Scores: {1: array([[0.87037037, 0.87037037, 0.83333333],\n",
      "       [0.83333333, 0.83333333, 0.83333333],\n",
      "       [0.75925926, 0.77777778, 0.77777778],\n",
      "       [0.75925926, 0.77777778, 0.74074074],\n",
      "       [0.72222222, 0.7037037 , 0.66666667],\n",
      "       [0.81481481, 0.83333333, 0.81481481],\n",
      "       [0.68518519, 0.7037037 , 0.7037037 ],\n",
      "       [0.75925926, 0.7962963 , 0.7962963 ],\n",
      "       [0.73584906, 0.73584906, 0.73584906],\n",
      "       [0.71153846, 0.69230769, 0.69230769]])}\n"
     ]
    }
   ],
   "source": [
    "print(\"Coefficients:\", lr_model.coef_)\n",
    "print(\"Regularisation parameters:\", lr_model.Cs_)\n",
    "print(\"Scores:\", lr_model.scores_)"
   ]
  },
  {
   "cell_type": "code",
   "execution_count": 39,
   "metadata": {},
   "outputs": [
    {
     "name": "stdout",
     "output_type": "stream",
     "text": [
      "Classification report of training data:\n",
      "             precision    recall  f1-score   support\n",
      "\n",
      "          0       0.84      0.79      0.81       349\n",
      "          1       0.65      0.73      0.69       188\n",
      "\n",
      "avg / total       0.77      0.77      0.77       537\n",
      "\n",
      "Classification report of test data:\n",
      "             precision    recall  f1-score   support\n",
      "\n",
      "          0       0.81      0.72      0.76       151\n",
      "          1       0.56      0.69      0.62        80\n",
      "\n",
      "avg / total       0.73      0.71      0.71       231\n",
      "\n"
     ]
    }
   ],
   "source": [
    "y_train_predicted_lr = lr_model.predict(X_train)\n",
    "y_test_predicted_lr = lr_model.predict(X_test)\n",
    "print(\"Classification report of training data:\")\n",
    "print(sk.metrics.classification_report(y_train, y_train_predicted_lr))\n",
    "print(\"Classification report of test data:\")\n",
    "print(sk.metrics.classification_report(y_test, y_test_predicted_lr))"
   ]
  }
 ],
 "metadata": {
  "kernelspec": {
   "display_name": "Python 3",
   "language": "python",
   "name": "python3"
  },
  "language_info": {
   "codemirror_mode": {
    "name": "ipython",
    "version": 3
   },
   "file_extension": ".py",
   "mimetype": "text/x-python",
   "name": "python",
   "nbconvert_exporter": "python",
   "pygments_lexer": "ipython3",
   "version": "3.6.6"
  }
 },
 "nbformat": 4,
 "nbformat_minor": 2
}
