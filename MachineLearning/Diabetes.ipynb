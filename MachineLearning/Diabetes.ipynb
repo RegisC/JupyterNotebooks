{
 "cells": [
  {
   "cell_type": "markdown",
   "metadata": {},
   "source": [
    "# Diabetes Prediction Model\n",
    "This is partially based on J. Kurata's Pluralsight course."
   ]
  },
  {
   "cell_type": "markdown",
   "metadata": {},
   "source": [
    "## Prepare the data"
   ]
  },
  {
   "cell_type": "code",
   "execution_count": 206,
   "metadata": {},
   "outputs": [
    {
     "name": "stdout",
     "output_type": "stream",
     "text": [
      "Loaded DataFrame of size (768, 10)\n"
     ]
    }
   ],
   "source": [
    "# Load data\n",
    "import pandas as pd\n",
    "df = pd.read_csv(\"pima-data.csv\")\n",
    "print(\"Loaded DataFrame of size \" + str(df.shape))"
   ]
  },
  {
   "cell_type": "code",
   "execution_count": 207,
   "metadata": {},
   "outputs": [
    {
     "name": "stdout",
     "output_type": "stream",
     "text": [
      "num_preg        False\n",
      "glucose_conc    False\n",
      "diastolic_bp    False\n",
      "thickness       False\n",
      "insulin         False\n",
      "bmi             False\n",
      "diab_pred       False\n",
      "age             False\n",
      "skin            False\n",
      "diabetes        False\n",
      "dtype: bool\n"
     ]
    }
   ],
   "source": [
    "# Check for null values\n",
    "print(df.isnull().any(axis=0))"
   ]
  },
  {
   "cell_type": "code",
   "execution_count": 208,
   "metadata": {},
   "outputs": [
    {
     "data": {
      "image/png": "[encoded data removed]",
      "text/plain": [
       "<Figure size 288x288 with 2 Axes>"
      ]
     },
     "metadata": {},
     "output_type": "display_data"
    }
   ],
   "source": [
    "# Check for correlated values\n",
    "import matplotlib.pyplot as plt\n",
    "#%matplotlib inline  \n",
    "corr = df.corr()\n",
    "# fig, ax = plt.subplots()\n",
    "plt.matshow(corr)\n",
    "plt.yticks(range(len(corr.columns)), corr.columns);\n",
    "plt.colorbar()\n",
    "plt.show()"
   ]
  },
  {
   "cell_type": "code",
   "execution_count": 209,
   "metadata": {},
   "outputs": [],
   "source": [
    "# Delete redundant column\n",
    "del df['skin']\n",
    "col_names = df.columns.values"
   ]
  },
  {
   "cell_type": "code",
   "execution_count": 210,
   "metadata": {},
   "outputs": [
    {
     "data": {
      "text/plain": [
       "num_preg        111\n",
       "glucose_conc      5\n",
       "diastolic_bp     35\n",
       "thickness       227\n",
       "insulin         374\n",
       "bmi              11\n",
       "diab_pred         0\n",
       "age               0\n",
       "diabetes        500\n",
       "dtype: int64"
      ]
     },
     "execution_count": 210,
     "metadata": {},
     "output_type": "execute_result"
    }
   ],
   "source": [
    "# Check for missing data in the form of zero values\n",
    "(df == 0).astype(int).sum(axis=0) # sum across columns"
   ]
  },
  {
   "cell_type": "code",
   "execution_count": 211,
   "metadata": {},
   "outputs": [
    {
     "name": "stdout",
     "output_type": "stream",
     "text": [
      "   num_preg  glucose_conc  diastolic_bp  thickness  insulin   bmi  diab_pred  \\\n",
      "0         6           148            72         35        0  33.6      0.627   \n",
      "1         1            85            66         29        0  26.6      0.351   \n",
      "2         8           183            64          0        0  23.3      0.672   \n",
      "3         1            89            66         23       94  28.1      0.167   \n",
      "4         0           137            40         35      168  43.1      2.288   \n",
      "\n",
      "   age  diabetes  \n",
      "0   50         1  \n",
      "1   31         0  \n",
      "2   32         1  \n",
      "3   21         0  \n",
      "4   33         1  \n"
     ]
    }
   ],
   "source": [
    "# Convert boolean column to int\n",
    "df['diabetes'] = df['diabetes'].astype('int')\n",
    "print(df.head())"
   ]
  },
  {
   "cell_type": "code",
   "execution_count": 212,
   "metadata": {},
   "outputs": [
    {
     "name": "stdout",
     "output_type": "stream",
     "text": [
      "Number of positives: 268 out of 768 (34.90%).\n",
      "Number of negatives: 500 out of 768 (65.10%).\n"
     ]
    }
   ],
   "source": [
    "# Check proportion of True rows\n",
    "import numpy as np\n",
    "\n",
    "def print_true_false_ratio(data):\n",
    "    if type(data) == pd.DataFrame:\n",
    "        count_true = len(data.loc[data['diabetes'] == 1])\n",
    "        count_false = len(data.loc[data['diabetes'] == 0])\n",
    "    elif type(data) == np.ndarray: # one-column numpy array\n",
    "        count_true = data.sum()\n",
    "        count_false = len(data[data == 0])\n",
    "    total = count_true + count_false\n",
    "    print(f\"Number of positives: {count_true} out of {total} ({count_true*100.0/total:.2f}%).\")\n",
    "    print(f\"Number of negatives: {count_false} out of {total} ({count_false*100.0/total:.2f}%).\")\n",
    "    \n",
    "print_true_false_ratio(df)"
   ]
  },
  {
   "cell_type": "markdown",
   "metadata": {},
   "source": [
    "## Visualize distribution of the features"
   ]
  },
  {
   "cell_type": "code",
   "execution_count": 200,
   "metadata": {},
   "outputs": [
    {
     "name": "stdout",
     "output_type": "stream",
     "text": [
      "Healthy bmi distribution parameters: 30.53582954520973 6.4756963513937\n",
      "Diabetes bmi distribution parameters: 35.50678791393377 6.662308513710704\n"
     ]
    }
   ],
   "source": [
    "# Distribution of the bmi column\n",
    "bmi_mean = { i:np.mean(X_train[(y_train==i).squeeze(),5]) for i in range(2) }\n",
    "bmi_std = { i:np.std(X_train[(y_train==i).squeeze(),5]) for i in range(2) }\n",
    "\n",
    "print(\"Healthy bmi distribution parameters:\", bmi_mean[0], bmi_std[0])\n",
    "print(\"Diabetes bmi distribution parameters:\", bmi_mean[1], bmi_std[1])"
   ]
  },
  {
   "cell_type": "code",
   "execution_count": 201,
   "metadata": {},
   "outputs": [
    {
     "data": {
      "image/png": "[encoded data removed]",
      "text/plain": [
       "<Figure size 432x288 with 1 Axes>"
      ]
     },
     "metadata": {},
     "output_type": "display_data"
    }
   ],
   "source": [
    "plt.hist((X_train[(y_train==0).squeeze(),5],X_train[(y_train==1).squeeze(),5]), bins=20, label=('healthy','diabetic'));\n",
    "plt.xlabel(\"BMI\");\n",
    "plt.ylabel(\"Number of cases\")\n",
    "plt.legend();"
   ]
  },
  {
   "cell_type": "code",
   "execution_count": 215,
   "metadata": {},
   "outputs": [
    {
     "name": "stdout",
     "output_type": "stream",
     "text": [
      "{0: num_preg          3.298000\n",
      "glucose_conc    109.980000\n",
      "diastolic_bp     68.184000\n",
      "thickness        19.664000\n",
      "insulin          68.792000\n",
      "bmi              30.304200\n",
      "diab_pred         0.429734\n",
      "age              31.190000\n",
      "dtype: float64, 1: num_preg          4.865672\n",
      "glucose_conc    141.257463\n",
      "diastolic_bp     70.824627\n",
      "thickness        22.164179\n",
      "insulin         100.335821\n",
      "bmi              35.142537\n",
      "diab_pred         0.550500\n",
      "age              37.067164\n",
      "dtype: float64}\n",
      "{0: num_preg         3.017185\n",
      "glucose_conc    26.141200\n",
      "diastolic_bp    18.063075\n",
      "thickness       14.889947\n",
      "insulin         98.865289\n",
      "bmi              7.689855\n",
      "diab_pred        0.299085\n",
      "age             11.667655\n",
      "dtype: float64, 1: num_preg          3.741239\n",
      "glucose_conc     31.939622\n",
      "diastolic_bp     21.491812\n",
      "thickness        17.679711\n",
      "insulin         138.689125\n",
      "bmi               7.262967\n",
      "diab_pred         0.372354\n",
      "age              10.968254\n",
      "dtype: float64}\n"
     ]
    }
   ],
   "source": [
    "features_means = { i: df[df['diabetes'] == i].iloc[:,:-1].mean(axis = 0) for i in range(2)}\n",
    "features_stdevs = { i: df[df['diabetes'] == i].iloc[:,:-1].std(axis = 0) for i in range(2)}\n",
    "print(features_means)\n",
    "print(features_stdevs)"
   ]
  },
  {
   "cell_type": "markdown",
   "metadata": {},
   "source": [
    "## Split the data into training and test sets"
   ]
  },
  {
   "cell_type": "code",
   "execution_count": 98,
   "metadata": {},
   "outputs": [
    {
     "name": "stdout",
     "output_type": "stream",
     "text": [
      "Size and type of post-split data:\n",
      " (537, 8) <class 'numpy.ndarray'> \n",
      " (231, 8) <class 'numpy.ndarray'> \n",
      " (537, 1) <class 'numpy.ndarray'> \n",
      " (231, 1) <class 'numpy.ndarray'>\n"
     ]
    }
   ],
   "source": [
    "import sklearn\n",
    "\n",
    "input_col_names = list(df.columns.values) # predictor columns\n",
    "del input_col_names[input_col_names.index('diabetes')]\n",
    "output_col_names = ['diabetes'] # output column\n",
    "X = df[input_col_names].values # input data as ndarray\n",
    "y = df[output_col_names].values # output data as ndarray\n",
    "split_test_size = 0.3\n",
    "\n",
    "X_train, X_test, y_train, y_test = sklearn.cross_validation.train_test_split(X, y, test_size=split_test_size, random_state=42)\n",
    "print(\"Size and type of post-split data:\\n\",\n",
    "      X_train.shape, type(X_train), \"\\n\",\n",
    "      X_test.shape, type(X_train), \"\\n\",\n",
    "      y_train.shape, type(y_train), \"\\n\", \n",
    "      y_test.shape, type(y_test))\n"
   ]
  },
  {
   "cell_type": "code",
   "execution_count": 114,
   "metadata": {
    "scrolled": true
   },
   "outputs": [
    {
     "name": "stdout",
     "output_type": "stream",
     "text": [
      "In training data:\n",
      "Number of positives: 188 out of 537 (35.01%).\n",
      "Number of negatives: 349 out of 537 (64.99%).\n",
      "In test data:\n",
      "Number of positives: 80 out of 231 (34.63%).\n",
      "Number of negatives: 151 out of 231 (65.37%).\n"
     ]
    }
   ],
   "source": [
    "# Check that the proportion of True rows remains unchanged\n",
    "print(\"In training data:\")\n",
    "print_true_false_ratio(y_train)\n",
    "print(\"In test data:\")\n",
    "print_true_false_ratio(y_test)"
   ]
  },
  {
   "cell_type": "code",
   "execution_count": 102,
   "metadata": {},
   "outputs": [
    {
     "name": "stdout",
     "output_type": "stream",
     "text": [
      "Number of zero values: [0 0 0 0 0 0 0 0] and [0 0 0 0 0 0 0 0]\n",
      "type(X_train) = <class 'numpy.ndarray'>\n",
      "type(X_test) = <class 'numpy.ndarray'>\n"
     ]
    }
   ],
   "source": [
    "# Fix null values by replacing them with the mean\n",
    "imputer = sklearn.preprocessing.Imputer(missing_values=0, strategy='mean', axis=0, verbose=1)\n",
    "print(\"Number of zero values:\", (X_train == 0).sum(axis=0), \"and\", (X_test == 0).sum(axis=0))\n",
    "X_train = imputer.fit_transform(X_train)\n",
    "X_test = imputer.fit_transform(X_test)\n",
    "print(\"type(X_train) =\", type(X_train))\n",
    "print(\"type(X_test) =\", type(X_test))"
   ]
  },
  {
   "cell_type": "code",
   "execution_count": 103,
   "metadata": {},
   "outputs": [
    {
     "name": "stdout",
     "output_type": "stream",
     "text": [
      "Number of zero values: [0 0 0 0 0 0 0 0] and [0 0 0 0 0 0 0 0]\n"
     ]
    }
   ],
   "source": [
    "print(\"Number of zero values:\", (X_train == 0).sum(axis=0), \"and\", (X_test == 0).sum(axis=0))"
   ]
  },
  {
   "cell_type": "markdown",
   "metadata": {},
   "source": [
    "## Select and train the model"
   ]
  },
  {
   "cell_type": "code",
   "execution_count": 104,
   "metadata": {},
   "outputs": [
    {
     "data": {
      "text/plain": [
       "GaussianNB(priors=None)"
      ]
     },
     "execution_count": 104,
     "metadata": {},
     "output_type": "execute_result"
    }
   ],
   "source": [
    "import sklearn.naive_bayes\n",
    "\n",
    "nb_model = sklearn.naive_bayes.GaussianNB()\n",
    "nb_model.fit(X_train, y_train.ravel())"
   ]
  },
  {
   "cell_type": "markdown",
   "metadata": {},
   "source": [
    "## Display model parameters"
   ]
  },
  {
   "cell_type": "code",
   "execution_count": 151,
   "metadata": {
    "scrolled": true
   },
   "outputs": [
    {
     "name": "stdout",
     "output_type": "stream",
     "text": [
      "[0.64990689 0.35009311]\n"
     ]
    }
   ],
   "source": [
    "print(nb_model.class_prior_)"
   ]
  },
  {
   "cell_type": "code",
   "execution_count": null,
   "metadata": {},
   "outputs": [],
   "source": []
  },
  {
   "cell_type": "markdown",
   "metadata": {},
   "source": [
    "## Evaluate performance of the model"
   ]
  },
  {
   "cell_type": "code",
   "execution_count": 118,
   "metadata": {},
   "outputs": [
    {
     "name": "stdout",
     "output_type": "stream",
     "text": [
      "Prediction accuracy on training data = 0.7542\n",
      "Prediction accuracy on test data = 0.7359\n"
     ]
    }
   ],
   "source": [
    "import sklearn.metrics\n",
    "\n",
    "y_train_predicted = nb_model.predict(X_train)\n",
    "y_test_predicted = nb_model.predict(X_test)\n",
    "print(f\"Prediction accuracy on training data = {sklearn.metrics.accuracy_score(y_train, y_train_predicted):.4f}\")\n",
    "print(f\"Prediction accuracy on test data = {sklearn.metrics.accuracy_score(y_test, y_test_predicted):.4f}\")"
   ]
  },
  {
   "cell_type": "code",
   "execution_count": 125,
   "metadata": {},
   "outputs": [
    {
     "name": "stdout",
     "output_type": "stream",
     "text": [
      "Confusion matrix of training data (columns: predicted values, rows: actual values):\n",
      "[[293  56]\n",
      " [ 76 112]]\n",
      "Number of predicted vs actual positives: 168 vs 188 out of 537\n",
      "Confusion matrix of test data:\n",
      "[[118  33]\n",
      " [ 28  52]]\n",
      "Number of predicted vs actual positives: 85 vs 80 out of 231\n"
     ]
    }
   ],
   "source": [
    "print(\"Confusion matrix of training data (columns: predicted values, rows: actual values):\")\n",
    "confusion_train = sklearn.metrics.confusion_matrix(y_train, y_train_predicted)\n",
    "print(confusion_train)\n",
    "print(\"Number of predicted vs actual positives:\", confusion_train[:, 1].sum(), \"vs\", confusion_train[1,:].sum(), \"out of\", confusion_train.sum())\n",
    "\n",
    "print(\"Confusion matrix of test data:\")\n",
    "confusion_test = sklearn.metrics.confusion_matrix(y_test, y_test_predicted)\n",
    "TN = confusion_test[0, 0]\n",
    "FP = confusion_test[0, 1]\n",
    "FN = confusion_test[1, 0]\n",
    "TP = confusion_test[1, 1]\n",
    "\n",
    "print(confusion_test)\n",
    "print(\"Number of predicted vs actual positives:\", confusion_test[:, 1].sum(), \"vs\", confusion_test[1,:].sum(), \"out of\", confusion_test.sum())"
   ]
  },
  {
   "cell_type": "code",
   "execution_count": 133,
   "metadata": {
    "scrolled": true
   },
   "outputs": [
    {
     "name": "stdout",
     "output_type": "stream",
     "text": [
      "Classification report:\n",
      "             precision    recall  f1-score   support\n",
      "\n",
      "          0       0.81      0.78      0.79       151\n",
      "          1       0.61      0.65      0.63        80\n",
      "\n",
      "avg / total       0.74      0.74      0.74       231\n",
      "\n",
      "Precision = 0.611764705882353\n",
      "Recall = 0.65\n",
      "F1-score = 0.6303030303030304\n"
     ]
    }
   ],
   "source": [
    "print(\"Classification report:\")\n",
    "print(sklearn.metrics.classification_report(y_test, y_test_predicted))\n",
    "precision = TP/(TP+FP) # true positives / predicted positives\n",
    "print(\"Precision =\", precision)\n",
    "recall = TP/(FN+TP) # true positives / actual positives\n",
    "print(\"Recall =\", recall)\n",
    "print(\"F1-score =\", 1.0/((1.0/recall + 1.0/precision)/2))"
   ]
  },
  {
   "cell_type": "markdown",
   "metadata": {},
   "source": [
    "## Perform explicit calculation"
   ]
  },
  {
   "cell_type": "code",
   "execution_count": 174,
   "metadata": {},
   "outputs": [
    {
     "name": "stdout",
     "output_type": "stream",
     "text": [
      "Features: ['num_preg' 'glucose_conc' 'diastolic_bp' 'thickness' 'insulin' 'bmi'\n",
      " 'diab_pred' 'age']\n",
      "Means by outcome and by column:\n",
      " {0: array([  3.86443449, 110.550014  ,  70.67878439,  27.33401662,\n",
      "       140.95224451,  30.53582955,   0.43257307,  30.67621777]), 1: array([  5.2244427 , 143.21260598,  75.14196377,  31.08588412,\n",
      "       182.03014184,  35.50678791,   0.53925   ,  37.52659574])}\n",
      "Standard deviations by outcome and by column:\n",
      " {0: array([ 2.67068844, 23.48536947, 11.98608083,  8.52365335, 71.69218763,\n",
      "        6.47569635,  0.31288826, 11.30844103]), 1: array([ 3.061663  , 29.53709944, 12.04324733,  7.78833398, 99.89909052,\n",
      "        6.66230851,  0.38014227, 11.0185692 ])}\n"
     ]
    }
   ],
   "source": [
    "y_train = y_train.squeeze() # remove unused 2nd dimension so that we can use y_train as a boolean mask\n",
    "means = { i: X_train[y_train == i].mean(axis = 0) for i in range(2)}\n",
    "print(\"Features:\", col_names[:-1])\n",
    "print(\"Means by outcome and by column:\\n\", means)\n",
    "stdev = { i: X_train[y_train == i].std(axis = 0) for i in range(2)}\n",
    "print(\"Standard deviations by outcome and by column:\\n\", stdev)"
   ]
  },
  {
   "cell_type": "code",
   "execution_count": 205,
   "metadata": {},
   "outputs": [
    {
     "name": "stdout",
     "output_type": "stream",
     "text": [
      "Same results as Scikit-Learn: True\n"
     ]
    }
   ],
   "source": [
    "import math\n",
    "\n",
    "def calc_gaussian_density(x, mean, stdev):\n",
    "    exponent = math.exp(-(x-mean)**2/(2*stdev**2))\n",
    "    return (1 / (math.sqrt(2*math.pi) * stdev)) * exponent\n",
    "\n",
    "vect_density = np.vectorize(calc_gaussian_density)\n",
    "prob_healthy = vect_density(X_train, means[0], stdev[0])\n",
    "prob_diabetes = vect_density(X_train, means[1], stdev[1])\n",
    "prob_healthy = prob_healthy.prod(axis=1) * len(y_train[y_train == 0]) / len(y_train)\n",
    "prob_diabetes = prob_diabetes.prod(axis=1)* len(y_train[y_train == 1]) / len(y_train)\n",
    "print(\"Same results as Scikit-Learn:\", np.array_equal((prob_healthy < prob_diabetes).astype(int), y_train_predicted))\n"
   ]
  },
  {
   "cell_type": "code",
   "execution_count": null,
   "metadata": {},
   "outputs": [],
   "source": []
  }
 ],
 "metadata": {
  "kernelspec": {
   "display_name": "Python 3",
   "language": "python",
   "name": "python3"
  },
  "language_info": {
   "codemirror_mode": {
    "name": "ipython",
    "version": 3
   },
   "file_extension": ".py",
   "mimetype": "text/x-python",
   "name": "python",
   "nbconvert_exporter": "python",
   "pygments_lexer": "ipython3",
   "version": "3.6.6"
  }
 },
 "nbformat": 4,
 "nbformat_minor": 2
}
