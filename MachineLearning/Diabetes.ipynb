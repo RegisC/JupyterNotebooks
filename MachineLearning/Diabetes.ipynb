{
 "cells": [
  {
   "cell_type": "markdown",
   "metadata": {},
   "source": [
    "# Pima Indian Diabetes Data\n",
    "This is based on Jerry Kurata's Pluralsight course."
   ]
  },
  {
   "cell_type": "markdown",
   "metadata": {},
   "source": [
    "## Initialisation"
   ]
  },
  {
   "cell_type": "code",
   "execution_count": 1,
   "metadata": {},
   "outputs": [
    {
     "name": "stdout",
     "output_type": "stream",
     "text": [
      "Loaded DataFrame of size (768, 10)\n",
      "   num_preg  glucose_conc  diastolic_bp  thickness  insulin   bmi  diab_pred  \\\n",
      "0         6           148            72         35        0  33.6      0.627   \n",
      "1         1            85            66         29        0  26.6      0.351   \n",
      "2         8           183            64          0        0  23.3      0.672   \n",
      "3         1            89            66         23       94  28.1      0.167   \n",
      "4         0           137            40         35      168  43.1      2.288   \n",
      "\n",
      "   age    skin  diabetes  \n",
      "0   50  1.3790      True  \n",
      "1   31  1.1426     False  \n",
      "2   32  0.0000      True  \n",
      "3   21  0.9062     False  \n",
      "4   33  1.3790      True  \n"
     ]
    }
   ],
   "source": [
    "# Load data\n",
    "import pandas as pd\n",
    "df = pd.read_csv(\"pima-data.csv\")\n",
    "print(\"Loaded DataFrame of size \" + str(df.shape))\n",
    "print(df.head())"
   ]
  },
  {
   "cell_type": "code",
   "execution_count": 2,
   "metadata": {},
   "outputs": [
    {
     "name": "stdout",
     "output_type": "stream",
     "text": [
      "num_preg        False\n",
      "glucose_conc    False\n",
      "diastolic_bp    False\n",
      "thickness       False\n",
      "insulin         False\n",
      "bmi             False\n",
      "diab_pred       False\n",
      "age             False\n",
      "skin            False\n",
      "diabetes        False\n",
      "dtype: bool\n"
     ]
    }
   ],
   "source": [
    "# Check for null values\n",
    "print(df.isnull().any(axis=0))"
   ]
  },
  {
   "cell_type": "code",
   "execution_count": 9,
   "metadata": {},
   "outputs": [
    {
     "data": {
      "image/png": "[encoded data removed]",
      "text/plain": [
       "<Figure size 288x288 with 2 Axes>"
      ]
     },
     "metadata": {},
     "output_type": "display_data"
    }
   ],
   "source": [
    "# Check for correlated values\n",
    "import matplotlib.pyplot as plt\n",
    "#%matplotlib inline  \n",
    "corr = df.corr()\n",
    "# fig, ax = plt.subplots()\n",
    "plt.matshow(corr)\n",
    "plt.yticks(range(len(corr.columns)), corr.columns);\n",
    "plt.colorbar()\n",
    "plt.show()"
   ]
  },
  {
   "cell_type": "code",
   "execution_count": 4,
   "metadata": {},
   "outputs": [],
   "source": [
    "# Delete redundant column\n",
    "del df['skin']"
   ]
  },
  {
   "cell_type": "code",
   "execution_count": 10,
   "metadata": {},
   "outputs": [
    {
     "data": {
      "text/plain": [
       "num_preg        111\n",
       "glucose_conc      5\n",
       "diastolic_bp     35\n",
       "thickness       227\n",
       "insulin         374\n",
       "bmi              11\n",
       "diab_pred         0\n",
       "age               0\n",
       "diabetes        500\n",
       "dtype: int64"
      ]
     },
     "execution_count": 10,
     "metadata": {},
     "output_type": "execute_result"
    }
   ],
   "source": [
    "# Check number of zero values\n",
    "(df == 0).astype(int).sum(axis=0) # sum across columns"
   ]
  },
  {
   "cell_type": "code",
   "execution_count": 5,
   "metadata": {},
   "outputs": [
    {
     "name": "stdout",
     "output_type": "stream",
     "text": [
      "   num_preg  glucose_conc  diastolic_bp  thickness  insulin   bmi  diab_pred  \\\n",
      "0         6           148            72         35        0  33.6      0.627   \n",
      "1         1            85            66         29        0  26.6      0.351   \n",
      "2         8           183            64          0        0  23.3      0.672   \n",
      "3         1            89            66         23       94  28.1      0.167   \n",
      "4         0           137            40         35      168  43.1      2.288   \n",
      "\n",
      "   age  diabetes  \n",
      "0   50         1  \n",
      "1   31         0  \n",
      "2   32         1  \n",
      "3   21         0  \n",
      "4   33         1  \n"
     ]
    }
   ],
   "source": [
    "# Convert boolean column to int\n",
    "df['diabetes'] = df['diabetes'].astype('int')\n",
    "print(df.head())"
   ]
  },
  {
   "cell_type": "code",
   "execution_count": 58,
   "metadata": {},
   "outputs": [
    {
     "name": "stdout",
     "output_type": "stream",
     "text": [
      "Number of True cases is 268 out of 768 (34.90%).\n",
      "Number of False cases is 500 out of 768 (65.10%).\n"
     ]
    }
   ],
   "source": [
    "# Check proportion of True rows\n",
    "import numpy as np\n",
    "\n",
    "def print_true_false_ratio(data):\n",
    "    if type(data) == pd.DataFrame:\n",
    "        count_true = len(data.loc[data['diabetes'] == 1])\n",
    "        count_false = len(data.loc[data['diabetes'] == 0])\n",
    "    elif type(data) == np.ndarray: # one-column numpy array\n",
    "        count_true = data.sum()\n",
    "        count_false = len(data[data == 0])\n",
    "    total = count_true + count_false\n",
    "    print(f\"Number of True cases is {count_true} out of {total} ({count_true*100.0/total:.2f}%).\")\n",
    "    print(f\"Number of False cases is {count_false} out of {total} ({count_false*100.0/total:.2f}%).\")\n",
    "    \n",
    "print_true_false_ratio(df)"
   ]
  },
  {
   "cell_type": "code",
   "execution_count": 56,
   "metadata": {},
   "outputs": [
    {
     "name": "stdout",
     "output_type": "stream",
     "text": [
      "Size and type of post-split data: (537, 8) <class 'numpy.ndarray'> (231, 8) <class 'numpy.ndarray'> (537, 1) <class 'numpy.ndarray'> (231, 1) <class 'numpy.ndarray'>\n"
     ]
    }
   ],
   "source": [
    "# Split the data into training and test sets\n",
    "from sklearn.cross_validation import train_test_split\n",
    "\n",
    "input_col_names = list(df.columns.values) # predictor columns\n",
    "del input_col_names[input_col_names.index('diabetes')]\n",
    "output_col_names = ['diabetes'] # output column\n",
    "X = df[input_col_names].values # input data as ndarray\n",
    "y = df[output_col_names].values # output data as ndarray\n",
    "split_test_size = 0.3\n",
    "\n",
    "X_train, X_test, y_train, y_test = train_test_split(X, y, test_size=split_test_size, random_state=802)\n",
    "print(\"Size and type of post-split data:\",X_train.shape, type(X_train), \n",
    "      X_test.shape, type(X_train), y_train.shape, type(y_train), y_test.shape, type(y_test))\n"
   ]
  },
  {
   "cell_type": "code",
   "execution_count": 59,
   "metadata": {
    "scrolled": true
   },
   "outputs": [
    {
     "name": "stdout",
     "output_type": "stream",
     "text": [
      "In training data:\n",
      "Number of True cases is 190 out of 537 (35.38%).\n",
      "Number of False cases is 347 out of 537 (64.62%).\n",
      "In test data:\n",
      "Number of True cases is 78 out of 231 (33.77%).\n",
      "Number of False cases is 153 out of 231 (66.23%).\n"
     ]
    }
   ],
   "source": [
    "print(\"In training data:\")\n",
    "print_true_false_ratio(y_train)\n",
    "print(\"In test data:\")\n",
    "print_true_false_ratio(y_test)"
   ]
  },
  {
   "cell_type": "code",
   "execution_count": 21,
   "metadata": {},
   "outputs": [
    {
     "name": "stdout",
     "output_type": "stream",
     "text": [
      "Number of zero values = num_preg         83\n",
      "glucose_conc      3\n",
      "diastolic_bp     24\n",
      "thickness       153\n",
      "insulin         254\n",
      "bmi               9\n",
      "diab_pred         0\n",
      "age               0\n",
      "dtype: int64 and num_preg         28\n",
      "glucose_conc      2\n",
      "diastolic_bp     11\n",
      "thickness        74\n",
      "insulin         120\n",
      "bmi               2\n",
      "diab_pred         0\n",
      "age               0\n",
      "dtype: int64\n",
      "Number of zero values = [0 0 0 0 0 0 0 0] and [0 0 0 0 0 0 0 0]\n"
     ]
    }
   ],
   "source": [
    "# Fix null values by replacing them with the mean\n",
    "from sklearn.preprocessing import Imputer\n",
    "\n",
    "imputer = Imputer(missing_values=0, strategy='mean', axis=0, verbose=1)\n",
    "print(\"Number of zero values =\", (X_train == 0).sum(axis=0), \"and\", (X_test == 0).sum(axis=0))\n",
    "X_train_fixed = imputer.fit_transform(X_train)\n",
    "X_test_fixed = imputer.fit_transform(X_test)\n",
    "print(\"Number of zero values =\", (X_train_fixed == 0).sum(axis=0), \"and\", (X_test_fixed == 0).sum(axis=0))"
   ]
  }
 ],
 "metadata": {
  "kernelspec": {
   "display_name": "Python 3",
   "language": "python",
   "name": "python3"
  },
  "language_info": {
   "codemirror_mode": {
    "name": "ipython",
    "version": 3
   },
   "file_extension": ".py",
   "mimetype": "text/x-python",
   "name": "python",
   "nbconvert_exporter": "python",
   "pygments_lexer": "ipython3",
   "version": "3.6.6"
  }
 },
 "nbformat": 4,
 "nbformat_minor": 2
}
