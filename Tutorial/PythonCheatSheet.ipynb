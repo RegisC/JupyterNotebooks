{
 "cells": [
  {
   "cell_type": "markdown",
   "metadata": {},
   "source": [
    "# Python Cheat Sheet"
   ]
  },
  {
   "cell_type": "markdown",
   "metadata": {},
   "source": [
    "## String formatting (the new way)"
   ]
  },
  {
   "cell_type": "code",
   "execution_count": 9,
   "metadata": {},
   "outputs": [
    {
     "name": "stdout",
     "output_type": "stream",
     "text": [
      "lst is a list of size 4.\n",
      "lst is a list of size 4.\n"
     ]
    }
   ],
   "source": [
    "lst = [1, 2, 3, 4]\n",
    "print(\"lst is a {t} of size {s}.\".format(t=type(lst).__name__, s=len(lst))) # Old-school method\n",
    "print(f\"lst is a {type(lst).__name__} of size {len(lst)}.\") # Using f-strings"
   ]
  },
  {
   "cell_type": "markdown",
   "metadata": {},
   "source": [
    "## Iterators"
   ]
  },
  {
   "cell_type": "code",
   "execution_count": 5,
   "metadata": {
    "scrolled": true
   },
   "outputs": [
    {
     "name": "stdout",
     "output_type": "stream",
     "text": [
      "1\n",
      "2\n",
      "3\n"
     ]
    },
    {
     "ename": "StopIteration",
     "evalue": "",
     "output_type": "error",
     "traceback": [
      "\u001b[1;31m---------------------------------------------------------------------------\u001b[0m",
      "\u001b[1;31mStopIteration\u001b[0m                             Traceback (most recent call last)",
      "\u001b[1;32m<ipython-input-5-89fa417d65cc>\u001b[0m in \u001b[0;36m<module>\u001b[1;34m()\u001b[0m\n\u001b[0;32m      5\u001b[0m \u001b[0mprint\u001b[0m\u001b[1;33m(\u001b[0m\u001b[0mnext\u001b[0m\u001b[1;33m(\u001b[0m\u001b[0mi\u001b[0m\u001b[1;33m)\u001b[0m\u001b[1;33m)\u001b[0m\u001b[1;33m\u001b[0m\u001b[0m\n\u001b[0;32m      6\u001b[0m \u001b[0mprint\u001b[0m\u001b[1;33m(\u001b[0m\u001b[0mnext\u001b[0m\u001b[1;33m(\u001b[0m\u001b[0mi\u001b[0m\u001b[1;33m)\u001b[0m\u001b[1;33m)\u001b[0m\u001b[1;33m\u001b[0m\u001b[0m\n\u001b[1;32m----> 7\u001b[1;33m \u001b[0mprint\u001b[0m\u001b[1;33m(\u001b[0m\u001b[0mnext\u001b[0m\u001b[1;33m(\u001b[0m\u001b[0mi\u001b[0m\u001b[1;33m)\u001b[0m\u001b[1;33m)\u001b[0m\u001b[1;33m\u001b[0m\u001b[0m\n\u001b[0m",
      "\u001b[1;31mStopIteration\u001b[0m: "
     ]
    }
   ],
   "source": [
    "# The iter() built-in function returns an iterator object for the given iterable object\n",
    "i = iter([1, 2, 3])\n",
    "type(i)\n",
    "print(next(i))\n",
    "print(next(i))\n",
    "print(next(i))\n",
    "print(next(i)) # raises StopIteration"
   ]
  },
  {
   "cell_type": "markdown",
   "metadata": {},
   "source": [
    "## Generators"
   ]
  },
  {
   "cell_type": "code",
   "execution_count": 10,
   "metadata": {},
   "outputs": [
    {
     "name": "stdout",
     "output_type": "stream",
     "text": [
      "Object is of type range  and size 4999\n"
     ]
    }
   ],
   "source": [
    "# Range is not a generator, but a lazy list\n",
    "r = range(1, 5000)\n",
    "print(\"Object is of type\", type(r).__name__, \" and size\", len(r))"
   ]
  },
  {
   "cell_type": "code",
   "execution_count": 16,
   "metadata": {},
   "outputs": [
    {
     "name": "stdout",
     "output_type": "stream",
     "text": [
      "type(r) = <class 'generator'>\n",
      "sum(r) = 45\n",
      "sum(range(10)) = 45\n"
     ]
    }
   ],
   "source": [
    "def myrange(n):\n",
    "    current = 0\n",
    "    while current < n:\n",
    "        yield current\n",
    "        current += 1\n",
    "        \n",
    "r = myrange(10)\n",
    "print(\"type(r) =\", type(r))\n",
    "print(\"sum(r) =\", sum(r))\n",
    "print(\"sum(range(10)) =\", sum(range(10)))"
   ]
  },
  {
   "cell_type": "markdown",
   "metadata": {},
   "source": [
    "## Unpacking"
   ]
  },
  {
   "cell_type": "code",
   "execution_count": 17,
   "metadata": {},
   "outputs": [
    {
     "name": "stdout",
     "output_type": "stream",
     "text": [
      "120\n",
      "120\n",
      "[1, 2, 3, 4] 5\n"
     ]
    }
   ],
   "source": [
    "import functools\n",
    "\n",
    "numbers = list(range(1, 6))\n",
    "\n",
    "def product5(a, b, c, d, e):\n",
    "    return a * b * c * d * e\n",
    "\n",
    "def product(*values): # arbitrary number of arguments wrapped in a tuple\n",
    "    f = lambda x, y: x * y\n",
    "    return functools.reduce(f , values)\n",
    "\n",
    "print(product5(*numbers)) \n",
    "print(product(*numbers)) \n",
    "\n",
    "*a, b = numbers # unpack list into sublist and number\n",
    "print(a, b)"
   ]
  },
  {
   "cell_type": "markdown",
   "metadata": {},
   "source": [
    "## Zipping and unzipping"
   ]
  },
  {
   "cell_type": "code",
   "execution_count": 8,
   "metadata": {},
   "outputs": [
    {
     "name": "stdout",
     "output_type": "stream",
     "text": [
      "Points: [(0.07, 0.84), (-0.05, 1.7), (-2.28, -0.47)]\n",
      "x-coordinates:  (0.07, -0.05, -2.28)\n",
      "y-coordinates:  (0.84, 1.7, -0.47)\n",
      "Points: (0.07, 0.84) (-0.05, 1.7) (-2.28, -0.47)\n"
     ]
    }
   ],
   "source": [
    "import numpy as np\n",
    "\n",
    "rand = lambda: np.random.standard_normal()\n",
    "points = [(round(rand(), 2), round(rand(), 2)) for i in range(3)] # list of coordinate tuples\n",
    "print(\"Points:\", points)\n",
    "(x, y) = zip(*points) # zip acting in reverse: unpack then zip\n",
    "print(\"x-coordinates: \", x) # x and y are tuples of coordinates\n",
    "print(\"y-coordinates: \", y) # x and y are tuples of coordinates\n",
    "it = zip(x, y) # normal zip usage:returns an iterator over tuples of the elements of the iterators\n",
    "print(\"Points:\", next(it), next(it), next(it))"
   ]
  },
  {
   "cell_type": "markdown",
   "metadata": {},
   "source": [
    "## Dictionaries"
   ]
  },
  {
   "cell_type": "code",
   "execution_count": 29,
   "metadata": {},
   "outputs": [
    {
     "name": "stdout",
     "output_type": "stream",
     "text": [
      "List of keys: name, age, house, alias, mother, father\n"
     ]
    }
   ],
   "source": [
    "# Construct dictionary from 2 lists\n",
    "person = {'name': 'John Snow', 'age': 24, 'house': 'Stark', 'alias': 'The Bastard of Winterfell'}\n",
    "keys = ['mother', 'father']\n",
    "values = ['Lyanna Stark', 'Rhaegar Targaryen']\n",
    "relatives = dict(zip(keys, values))\n",
    "\n",
    "# Merge 2 dictionaries\n",
    "merged_dict = {**person, **relatives} # unpack and merge\n",
    "print(\"List of keys: \", end = \"\")\n",
    "print(*merged_dict, sep = \", \") # unpack dictionary keys"
   ]
  },
  {
   "cell_type": "code",
   "execution_count": 30,
   "metadata": {},
   "outputs": [
    {
     "name": "stdout",
     "output_type": "stream",
     "text": [
      "Sum = (-1+1j)\n"
     ]
    }
   ],
   "source": [
    "# Pass multiple arguments as a dictionary\n",
    "def SumArgs(x, y, z):\n",
    "    return x+y+z\n",
    "vals = {'x': 1, 'y': 1j, 'z':-2}\n",
    "print(\"Sum =\", SumArgs(**vals))"
   ]
  },
  {
   "cell_type": "code",
   "execution_count": 33,
   "metadata": {
    "scrolled": true
   },
   "outputs": [
    {
     "name": "stdout",
     "output_type": "stream",
     "text": [
      "1st arg passed to f: parents\n",
      "Keyword arguments:\n",
      "mother = Lyanna Stark\n",
      "father = Rhaegar Targaryen\n"
     ]
    }
   ],
   "source": [
    "# Declare a function that takes keyword arguments as a dictionary\n",
    "def f(firstarg, **keywords):\n",
    "    print(\"1st arg passed to f:\", firstarg)\n",
    "    print(\"Keyword arguments:\")\n",
    "    for key in keywords:\n",
    "        print(key, \"=\", keywords[key])\n",
    "        \n",
    "f(\"parents\", **relatives)"
   ]
  },
  {
   "cell_type": "markdown",
   "metadata": {},
   "source": [
    "## Find the most common elements in a sequence"
   ]
  },
  {
   "cell_type": "code",
   "execution_count": 36,
   "metadata": {},
   "outputs": [
    {
     "name": "stdout",
     "output_type": "stream",
     "text": [
      "[('i', 5), ('l', 3)]\n",
      "[(2, 4), (3, 3)]\n"
     ]
    }
   ],
   "source": [
    "import collections\n",
    "s = \"Artificial intelligence\"\n",
    "l = [0, 1, 2, 2, 3, 3, 3, 2, 2, 1, 0]\n",
    "\n",
    "print(collections.Counter(s).most_common(2))\n",
    "print(collections.Counter(l).most_common(2))"
   ]
  },
  {
   "cell_type": "markdown",
   "metadata": {},
   "source": [
    "## Profiling"
   ]
  },
  {
   "cell_type": "code",
   "execution_count": 21,
   "metadata": {},
   "outputs": [
    {
     "name": "stdout",
     "output_type": "stream",
     "text": [
      "21.9 ns ± 0.609 ns per loop (mean ± std. dev. of 7 runs, 10000000 loops each)\n",
      "22.4 ns ± 1.33 ns per loop (mean ± std. dev. of 7 runs, 10000000 loops each)\n"
     ]
    }
   ],
   "source": [
    "s = \"abc\"\n",
    "i = 123\n",
    "x = 123.123\n",
    "z = 123 + 123j\n",
    "%timeit '\"{} {} {} {}\".format(s, i, x, z)'\n",
    "%timeit 'f\"{s} {i} {x} {z}\")'\n",
    "# timeit.timeit() does not work in a notebook\n",
    "# print(timeit.timeit('\"{} {} {} {}\".format(\"abc\", 123, 123.123, 123 + 123j)', number=1000))\n"
   ]
  }
 ],
 "metadata": {
  "kernelspec": {
   "display_name": "Python 3",
   "language": "python",
   "name": "python3"
  },
  "language_info": {
   "codemirror_mode": {
    "name": "ipython",
    "version": 3
   },
   "file_extension": ".py",
   "mimetype": "text/x-python",
   "name": "python",
   "nbconvert_exporter": "python",
   "pygments_lexer": "ipython3",
   "version": "3.6.6"
  }
 },
 "nbformat": 4,
 "nbformat_minor": 2
}
