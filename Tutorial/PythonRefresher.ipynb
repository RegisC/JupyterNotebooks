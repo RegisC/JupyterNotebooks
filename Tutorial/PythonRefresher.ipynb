{
 "cells": [
  {
   "cell_type": "markdown",
   "metadata": {},
   "source": [
    "# A Collection of neat Python tricks"
   ]
  },
  {
   "cell_type": "markdown",
   "metadata": {},
   "source": [
    "## String Formatting"
   ]
  },
  {
   "cell_type": "code",
   "execution_count": 2,
   "metadata": {},
   "outputs": [
    {
     "name": "stdout",
     "output_type": "stream",
     "text": [
      "lst is a list of size 4.\n",
      "lst is a list of size 4.\n"
     ]
    }
   ],
   "source": [
    "lst = [1, 2, 3, 4]\n",
    "print(\"lst is a {t} of size {s}.\".format(t=type(lst).__name__, s=len(lst))) # Old-school method\n",
    "print(f\"lst is a {type(lst).__name__} of size {len(lst)}.\") # Using f-strings"
   ]
  },
  {
   "cell_type": "markdown",
   "metadata": {},
   "source": [
    "## Generators"
   ]
  },
  {
   "cell_type": "code",
   "execution_count": 8,
   "metadata": {},
   "outputs": [
    {
     "name": "stdout",
     "output_type": "stream",
     "text": [
      "Object is of type range  and size 4999 with initial value r[0] =  1\n"
     ]
    }
   ],
   "source": [
    "# Range became a generator in Python 3 (??)\n",
    "# TODO: https://docs.python.org/3/reference/expressions.html#generator-iterator-methods\n",
    "r = range(1, 5000)\n",
    "print(\"Object is of type\", type(r).__name__, \" and size\", len(r), \"with initial value r[0] = \", r[0])"
   ]
  },
  {
   "cell_type": "markdown",
   "metadata": {},
   "source": [
    "## Unpacking"
   ]
  },
  {
   "cell_type": "code",
   "execution_count": 11,
   "metadata": {},
   "outputs": [
    {
     "name": "stdout",
     "output_type": "stream",
     "text": [
      "120\n",
      "120\n",
      "[1, 2, 3, 4] 5\n"
     ]
    }
   ],
   "source": [
    "import functools\n",
    "\n",
    "numbers = list(range(1, 6))\n",
    "\n",
    "def product5(a, b, c, d, e):\n",
    "    return a * b * c * d * e\n",
    "\n",
    "def product(*values): # arbitrary number of arguments wrapped in a tuple\n",
    "    f = lambda x, y: x * y\n",
    "    return functools.reduce(f , values)\n",
    "\n",
    "print(product5(*numbers)) \n",
    "print(product(*numbers)) \n",
    "\n",
    "*a, b = numbers\n",
    "print(a, b)"
   ]
  },
  {
   "cell_type": "markdown",
   "metadata": {},
   "source": [
    "## Zipping..."
   ]
  },
  {
   "cell_type": "markdown",
   "metadata": {},
   "source": [
    "## ...and unzipping"
   ]
  },
  {
   "cell_type": "code",
   "execution_count": 22,
   "metadata": {},
   "outputs": [
    {
     "name": "stdout",
     "output_type": "stream",
     "text": [
      "Points: [(-2.33, -1.89), (-0.78, -0.48), (0.97, -0.32)]\n",
      "x-coordinates:  (-2.33, -0.78, 0.97)\n",
      "Points: [(-2.33, -1.89), (-0.78, -0.48), (0.97, -0.32)]\n"
     ]
    }
   ],
   "source": [
    "import random\n",
    "\n",
    "rand = lambda: random.gauss(mu=0, sigma=1)\n",
    "points = [(round(rand(), 2), round(rand(), 2)) for i in range(3)] # list of coordinate tuples\n",
    "print(\"Points:\", points)\n",
    "(x, y) = zip(*points) # zip acting in reverse\n",
    "print(\"x-coordinates: \", x) # x and y are tuples of coordinates\n",
    "points = list(zip(x, y)) # normal zip usage\n",
    "print(\"Points:\", points)"
   ]
  },
  {
   "cell_type": "markdown",
   "metadata": {},
   "source": [
    "## Dictionaries"
   ]
  },
  {
   "cell_type": "code",
   "execution_count": 29,
   "metadata": {},
   "outputs": [
    {
     "name": "stdout",
     "output_type": "stream",
     "text": [
      "List of keys: name, age, house, alias, mother, father\n"
     ]
    }
   ],
   "source": [
    "# Construct dictionary from 2 lists\n",
    "person = {'name': 'John Snow', 'age': 24, 'house': 'Stark', 'alias': 'The Bastard of Winterfell'}\n",
    "keys = ['mother', 'father']\n",
    "values = ['Lyanna Stark', 'Rhaegar Targaryen']\n",
    "relatives = dict(zip(keys, values))\n",
    "\n",
    "# Merge 2 dictionaries\n",
    "merged_dict = {**person, **relatives} # unpack and merge\n",
    "print(\"List of keys: \", end = \"\")\n",
    "print(*merged_dict, sep = \", \") # unpack dictionary keys"
   ]
  },
  {
   "cell_type": "code",
   "execution_count": 30,
   "metadata": {},
   "outputs": [
    {
     "name": "stdout",
     "output_type": "stream",
     "text": [
      "Sum = (-1+1j)\n"
     ]
    }
   ],
   "source": [
    "# Pass multiple arguments as a dictionary\n",
    "def SumArgs(x, y, z):\n",
    "    return x+y+z\n",
    "vals = {'x': 1, 'y': 1j, 'z':-2}\n",
    "print(\"Sum =\", SumArgs(**vals))"
   ]
  },
  {
   "cell_type": "code",
   "execution_count": 33,
   "metadata": {},
   "outputs": [
    {
     "name": "stdout",
     "output_type": "stream",
     "text": [
      "1st arg passed to f: parents\n",
      "Keyword arguments:\n",
      "mother = Lyanna Stark\n",
      "father = Rhaegar Targaryen\n"
     ]
    }
   ],
   "source": [
    "# Declare a function that takes keyword arguments as a dictionary\n",
    "def f(firstarg, **keywords):\n",
    "    print(\"1st arg passed to f:\", firstarg)\n",
    "    print(\"Keyword arguments:\")\n",
    "    for key in keywords:\n",
    "        print(key, \"=\", keywords[key])\n",
    "        \n",
    "f(\"parents\", **relatives)"
   ]
  },
  {
   "cell_type": "markdown",
   "metadata": {},
   "source": [
    "## Loops, maps"
   ]
  },
  {
   "cell_type": "code",
   "execution_count": 19,
   "metadata": {},
   "outputs": [
    {
     "name": "stdout",
     "output_type": "stream",
     "text": [
      "2  3  4  5  6  7  8  9  \n",
      "l2 =  <map object at 0x00000239B3F29470> of type <class 'map'>\n",
      "1  4  9  16  25  \n",
      "List comprehension:  [1, 4, 9, 16, 25]\n"
     ]
    }
   ],
   "source": [
    "for i in range(2,10):\n",
    "    print(i, \" \", end = \"\")\n",
    "print ()\n",
    "\n",
    "l1 = [1, 2, 3, 4, 5]\n",
    "l2 = map(lambda x: x*x, l1)\n",
    "print(\"l2 = \", l2, \"of type\", type(l2))\n",
    "for x in l2:\n",
    "    print(x, \" \", end = \"\")\n",
    "print()\n",
    "\n",
    "print(\"List comprehension: \", [x**2 for x in l1])"
   ]
  },
  {
   "cell_type": "markdown",
   "metadata": {},
   "source": [
    "## Some useful built-in IPython commands (a.k.a. magics)"
   ]
  },
  {
   "cell_type": "code",
   "execution_count": 20,
   "metadata": {
    "scrolled": false
   },
   "outputs": [
    {
     "name": "stdout",
     "output_type": "stream",
     "text": [
      " Volume in drive D has no label.\n",
      " Volume Serial Number is 2868-B764\n",
      "\n",
      " Directory of D:\\GoogleDrive\\Src\\JupyterNotebooks\\Tutorial\n",
      "\n",
      "15/09/2018  00:24    <DIR>          .\n",
      "15/09/2018  00:24    <DIR>          ..\n",
      "11/09/2018  22:44    <DIR>          .ipynb_checkpoints\n",
      "15/09/2018  00:24            11,125 PythonRefresher.ipynb\n",
      "               1 File(s)         11,125 bytes\n",
      "               3 Dir(s)  19,767,644,160 bytes free\n"
     ]
    },
    {
     "data": {
      "text/plain": [
       "'D:\\\\GoogleDrive\\\\Src\\\\JupyterNotebooks\\\\Tutorial'"
      ]
     },
     "execution_count": 20,
     "metadata": {},
     "output_type": "execute_result"
    }
   ],
   "source": [
    "# Print working directory and list of files it contains\n",
    "%ls\n",
    "%pwd\n",
    "\n"
   ]
  },
  {
   "cell_type": "markdown",
   "metadata": {},
   "source": [
    "## Profiling"
   ]
  },
  {
   "cell_type": "code",
   "execution_count": 21,
   "metadata": {},
   "outputs": [
    {
     "name": "stdout",
     "output_type": "stream",
     "text": [
      "21.9 ns ± 0.609 ns per loop (mean ± std. dev. of 7 runs, 10000000 loops each)\n",
      "22.4 ns ± 1.33 ns per loop (mean ± std. dev. of 7 runs, 10000000 loops each)\n"
     ]
    }
   ],
   "source": [
    "s = \"abc\"\n",
    "i = 123\n",
    "x = 123.123\n",
    "z = 123 + 123j\n",
    "%timeit '\"{} {} {} {}\".format(s, i, x, z)'\n",
    "%timeit 'f\"{s} {i} {x} {z}\")'\n",
    "# timeit.timeit() does not work\n",
    "# print(timeit.timeit('\"{} {} {} {}\".format(\"abc\", 123, 123.123, 123 + 123j)', number=1000))\n"
   ]
  },
  {
   "cell_type": "markdown",
   "metadata": {},
   "source": [
    "## Test"
   ]
  },
  {
   "cell_type": "code",
   "execution_count": 22,
   "metadata": {},
   "outputs": [
    {
     "name": "stdout",
     "output_type": "stream",
     "text": [
      "['C:\\\\ProgramData\\\\Anaconda3\\\\lib\\\\site-packages\\\\ipykernel_launcher.py', '-f', 'C:\\\\Users\\\\Régis\\\\AppData\\\\Roaming\\\\jupyter\\\\runtime\\\\kernel-f63e9d41-9e78-4c8a-8f1f-ad4cacf8ff42.json']\n"
     ]
    }
   ],
   "source": [
    "import sys\n",
    "print(sys.argv)"
   ]
  }
 ],
 "metadata": {
  "kernelspec": {
   "display_name": "Python 3",
   "language": "python",
   "name": "python3"
  },
  "language_info": {
   "codemirror_mode": {
    "name": "ipython",
    "version": 3
   },
   "file_extension": ".py",
   "mimetype": "text/x-python",
   "name": "python",
   "nbconvert_exporter": "python",
   "pygments_lexer": "ipython3",
   "version": "3.6.6"
  }
 },
 "nbformat": 4,
 "nbformat_minor": 2
}
