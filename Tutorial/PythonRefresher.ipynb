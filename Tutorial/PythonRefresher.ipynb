{
 "cells": [
  {
   "cell_type": "markdown",
   "metadata": {},
   "source": [
    "# Python Refresher\n",
    "This notebook contains simple examples of key Python structures and functionality. Press Shift+Enter to execute the current cell."
   ]
  },
  {
   "cell_type": "markdown",
   "metadata": {},
   "source": [
    "## Strings"
   ]
  },
  {
   "cell_type": "code",
   "execution_count": 51,
   "metadata": {},
   "outputs": [
    {
     "name": "stdout",
     "output_type": "stream",
     "text": [
      "Printing multiple variables in a single call: concatenation of strings.\n",
      "Old-school concatenation of strings.\n",
      "f-strings provide cleaner concatenation of strings.\n",
      "Raw\\tstring\\n\n",
      "Standard\tstring\n",
      "\n",
      "Multiline string: line 1\n",
      "line 2\n",
      "\n",
      "******* Centered string with padding added *******\n",
      "String methods:\n",
      "['__add__', '__class__', '__contains__', '__delattr__', '__dir__', '__doc__', '__eq__', '__format__', '__ge__', '__getattribute__', '__getitem__', '__getnewargs__', '__gt__', '__hash__', '__init__', '__init_subclass__', '__iter__', '__le__', '__len__', '__lt__', '__mod__', '__mul__', '__ne__', '__new__', '__reduce__', '__reduce_ex__', '__repr__', '__rmod__', '__rmul__', '__setattr__', '__sizeof__', '__str__', '__subclasshook__', 'capitalize', 'casefold', 'center', 'count', 'encode', 'endswith', 'expandtabs', 'find', 'format', 'format_map', 'index', 'isalnum', 'isalpha', 'isdecimal', 'isdigit', 'isidentifier', 'islower', 'isnumeric', 'isprintable', 'isspace', 'istitle', 'isupper', 'join', 'ljust', 'lower', 'lstrip', 'maketrans', 'partition', 'replace', 'rfind', 'rindex', 'rjust', 'rpartition', 'rsplit', 'rstrip', 'split', 'splitlines', 'startswith', 'strip', 'swapcase', 'title', 'translate', 'upper', 'zfill']\n"
     ]
    }
   ],
   "source": [
    "s1 = \"concatenation\"\n",
    "s2 = \"of\"\n",
    "s3 = \"strings\"\n",
    "print(\"Printing multiple variables in a single call:\", s1, s2, s3, sep = \" \", end = \".\\n\")\n",
    "\n",
    "print(\"Old-school {0} {1} {2}.\".format(s1,s2,s3))\n",
    "print(f\"f-strings provide cleaner {s1} {s2} {s3}.\") # f-string evaluated at run time\n",
    "\n",
    "print(r\"Raw\\tstring\\n\")\n",
    "print(\"Standard\\tstring\\n\")\n",
    "print(\"\"\"Multiline string: \\\n",
    "line 1\n",
    "line 2\n",
    "\"\"\")\n",
    "\n",
    "print(\" Centered string with padding added \".center(50,\"*\"))\n",
    "print(\"String methods:\")\n",
    "print(dir(s1))"
   ]
  },
  {
   "cell_type": "markdown",
   "metadata": {},
   "source": [
    "## Numerical Types"
   ]
  },
  {
   "cell_type": "code",
   "execution_count": 49,
   "metadata": {},
   "outputs": [
    {
     "name": "stdout",
     "output_type": "stream",
     "text": [
      "x =  123 of type  <class 'int'>\n",
      "x =  12.3 of type  <class 'float'>\n",
      "x =  (1+2j) of type  <class 'complex'>\n"
     ]
    }
   ],
   "source": [
    "numbers = [123, 12.3, 1+2j]\n",
    "for x in numbers:\n",
    "    print(\"x = \", x, \"of type \", type(x))"
   ]
  },
  {
   "cell_type": "markdown",
   "metadata": {},
   "source": [
    "## Simple Data Structures"
   ]
  },
  {
   "cell_type": "code",
   "execution_count": 38,
   "metadata": {},
   "outputs": [
    {
     "name": "stdout",
     "output_type": "stream",
     "text": [
      "Object is of type <class 'range'> with initial value r[0] =  2\n",
      "Object is of type <class 'list'> and has value [10.0, 20.0, 30.0, 40.0, 50.0]\n",
      "l[1:4] = [20.0, 30.0, 40.0]  # the last element is not included\n",
      "Object is of type <class 'tuple'> and has value (1, 2, 3)\n",
      "Object is of type <class 'numpy.ndarray'> and has value [0.  0.1 0.2 0.3 0.4 0.5 0.6 0.7 0.8 0.9]\n",
      "['Apple', 'Pineapple', 'Mango', 'Grapes', 'Guava']\n"
     ]
    }
   ],
   "source": [
    "# Range object\n",
    "r = range(2, 5)\n",
    "print(\"Object is of type\", type(r), \"with initial value r[0] = \", r[0], end = \"\\n\")\n",
    "\n",
    "# List object: Python has no native array data structure, instead we use a list.\n",
    "l = [10.0, 20.0, 30.0, 40.0, 50.0]\n",
    "print(\"Object is of type\", type(l), \"and has value\", l)\n",
    "print(\"l[1:4] =\", l[1:4], \" # the last element is not included\")\n",
    "\n",
    "# Tuple object (immutable, functions as a lightweight record)\n",
    "t = (1, 2, 3)\n",
    "print(\"Object is of type\", type(t), \"and has value\", t)\n",
    "\n",
    "# NumPy's array object\n",
    "import numpy as np\n",
    "a = np.arange(0.0, 1.0, 0.1)\n",
    "print(\"Object is of type\", type(a), \"and has value\", a)\n",
    "\n",
    "# List indexing\n",
    "fruits = [\"Apple\", \"Banana\", \"Mango\", \"Grapes\", \"Orange\"]\n",
    "fruits[1] = \"Pineapple\"\n",
    "fruits[-1] = \"Guava\"\n",
    "print(fruits)"
   ]
  },
  {
   "cell_type": "markdown",
   "metadata": {},
   "source": [
    "## Dictionaries"
   ]
  },
  {
   "cell_type": "code",
   "execution_count": 57,
   "metadata": {},
   "outputs": [
    {
     "name": "stdout",
     "output_type": "stream",
     "text": [
      "Type:  <class 'dict'>\n",
      "Value =  {'name': 'John Snow', 'age': 24, 'house': 'Stark', 'alias': 'The Bastard of Winterfell', 'mother': 'Lyanna Stark', 'father': 'Rhaegar Targaryen'}\n",
      "(1+1j)\n"
     ]
    }
   ],
   "source": [
    "person = {'name': 'John Snow', 'age': 24, 'house': 'Stark', 'alias': 'The Bastard of Winterfell'}\n",
    "relatives = {'mother': 'Lyanna Stark', 'father': 'Rhaegar Targaryen'}\n",
    "merged_dict = {**person, **relatives}\n",
    "print(\"Type: \", type(merged_dict))\n",
    "print(\"Value = \", merged_dict)\n",
    "\n",
    "# Passing multiple arguments as a dictionary\n",
    "def SumArgs(x, y, z):\n",
    "    return x+y+z\n",
    "vals = {'x': 1, 'y': 1j, 'z':0}\n",
    "print(SumArgs(**vals))"
   ]
  },
  {
   "cell_type": "markdown",
   "metadata": {},
   "source": [
    "## Loops, maps"
   ]
  },
  {
   "cell_type": "code",
   "execution_count": 58,
   "metadata": {},
   "outputs": [
    {
     "name": "stdout",
     "output_type": "stream",
     "text": [
      "2  3  4  5  6  7  8  9  \n",
      "l2 =  <map object at 0x000001FA073BDD30> of type <class 'map'>\n",
      "1  4  9  16  25  \n",
      "List comprehension:  [1, 4, 9, 16, 25]\n"
     ]
    }
   ],
   "source": [
    "for i in range(2,10):\n",
    "    print(i, \" \", end = \"\")\n",
    "print ()\n",
    "\n",
    "l1 = [1, 2, 3, 4, 5]\n",
    "l2 = map(lambda x: x*x, l1)\n",
    "print(\"l2 = \", l2, \"of type\", type(l2))\n",
    "for x in l2:\n",
    "    print(x, \" \", end = \"\")\n",
    "print()\n",
    "\n",
    "print(\"List comprehension: \", [x**2 for x in l1])"
   ]
  },
  {
   "cell_type": "markdown",
   "metadata": {},
   "source": [
    "## Some useful built-in IPython commands (a.k.a. magics)"
   ]
  },
  {
   "cell_type": "code",
   "execution_count": 35,
   "metadata": {
    "scrolled": false
   },
   "outputs": [
    {
     "name": "stdout",
     "output_type": "stream",
     "text": [
      " Volume in drive X is Boxcryptor\n",
      " Volume Serial Number is 1234-5678\n",
      "\n",
      " Directory of X:\\Google Drive\\Src\\Jupyter\\Tutorial\n",
      "\n",
      "28/06/2018  22:34    <DIR>          .\n",
      "28/06/2018  22:34    <DIR>          ..\n",
      "28/06/2018  21:52            27,451 Matplotlib.ipynb\n",
      "28/06/2018  22:34             5,149 PythonRefresher.ipynb\n",
      "27/06/2018  16:09            22,317 test.png\n",
      "               3 File(s)         54,917 bytes\n",
      "               2 Dir(s)  68,782,682,112 bytes free\n"
     ]
    },
    {
     "data": {
      "text/plain": [
       "'X:\\\\Google Drive\\\\Src\\\\Jupyter\\\\Tutorial'"
      ]
     },
     "execution_count": 35,
     "metadata": {},
     "output_type": "execute_result"
    }
   ],
   "source": [
    "# Print working directory and list of files it contains\n",
    "%ls\n",
    "%pwd\n",
    "\n"
   ]
  },
  {
   "cell_type": "markdown",
   "metadata": {},
   "source": [
    "## Profiling"
   ]
  },
  {
   "cell_type": "code",
   "execution_count": 46,
   "metadata": {},
   "outputs": [
    {
     "name": "stdout",
     "output_type": "stream",
     "text": [
      "25.9 ns ± 1.6 ns per loop (mean ± std. dev. of 7 runs, 10000000 loops each)\n",
      "23.3 ns ± 0.253 ns per loop (mean ± std. dev. of 7 runs, 10000000 loops each)\n"
     ]
    }
   ],
   "source": [
    "s = \"abc\"\n",
    "i = 123\n",
    "x = 123.123\n",
    "z = 123 + 123j\n",
    "%timeit '\"{} {} {} {}\".format(s, i, x, z)'\n",
    "%timeit 'f\"{s} {i} {x} {z}\")'\n",
    "# timeit.timeit() does not work\n",
    "# print(timeit.timeit('\"{} {} {} {}\".format(\"abc\", 123, 123.123, 123 + 123j)', number=1000))\n"
   ]
  },
  {
   "cell_type": "markdown",
   "metadata": {},
   "source": [
    "## Test"
   ]
  },
  {
   "cell_type": "code",
   "execution_count": 4,
   "metadata": {},
   "outputs": [
    {
     "name": "stdout",
     "output_type": "stream",
     "text": [
      "['C:\\\\ProgramData\\\\Anaconda3\\\\lib\\\\site-packages\\\\ipykernel_launcher.py', '-f', 'C:\\\\Users\\\\Régis\\\\AppData\\\\Roaming\\\\jupyter\\\\runtime\\\\kernel-805803b2-383f-4629-9af7-fa77beaeb27d.json']\n"
     ]
    }
   ],
   "source": [
    "import sys\n",
    "print(sys.argv)"
   ]
  }
 ],
 "metadata": {
  "kernelspec": {
   "display_name": "Python 3",
   "language": "python",
   "name": "python3"
  },
  "language_info": {
   "codemirror_mode": {
    "name": "ipython",
    "version": 3
   },
   "file_extension": ".py",
   "mimetype": "text/x-python",
   "name": "python",
   "nbconvert_exporter": "python",
   "pygments_lexer": "ipython3",
   "version": "3.6.6"
  }
 },
 "nbformat": 4,
 "nbformat_minor": 2
}
