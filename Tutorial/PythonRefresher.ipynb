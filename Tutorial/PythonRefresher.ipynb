{
 "cells": [
  {
   "cell_type": "markdown",
   "metadata": {},
   "source": [
    "# Python Refresher\n",
    "This notebook contains simple examples of key Python structures and functionality. Press Shift+Enter to execute a cell."
   ]
  },
  {
   "cell_type": "markdown",
   "metadata": {},
   "source": [
    "## Strings"
   ]
  },
  {
   "cell_type": "code",
   "execution_count": 1,
   "metadata": {},
   "outputs": [
    {
     "name": "stdout",
     "output_type": "stream",
     "text": [
      "a,b,c.\n"
     ]
    }
   ],
   "source": [
    "s1 = \"a\"\n",
    "s2 = \"b\"\n",
    "s3 = \"c\"\n",
    "print(s1, s2, s3, sep = \",\", end = \".\\n\")"
   ]
  },
  {
   "cell_type": "markdown",
   "metadata": {},
   "source": [
    "## Data Structures"
   ]
  },
  {
   "cell_type": "code",
   "execution_count": 2,
   "metadata": {},
   "outputs": [
    {
     "name": "stdout",
     "output_type": "stream",
     "text": [
      "<class 'range'>\n",
      "r[0] =  1\n",
      "l is of type <class 'list'> and has value [1, 2, 3, 4, 5, 6, 7, 8, 9, 10]\n",
      "l[1:4] = [2, 3, 4]  # the last element is not included\n",
      "t is of type <class 'tuple'> and has value (1, 2, 3)\n"
     ]
    }
   ],
   "source": [
    "# Range object\n",
    "r = range(1, 5)\n",
    "print(type(r))\n",
    "print(\"r[0] = \", r[0], end = \"\\n\")\n",
    "# List object\n",
    "l = list(range(1, 11))\n",
    "print(\"l is of type\", type(l), \"and has value\", l)\n",
    "print(\"l[1:4] =\", l[1:4], \" # the last element is not included\")\n",
    "# Tuple object (immutable, functions as a lightweight record)\n",
    "t = (1, 2, 3)\n",
    "print(\"t is of type\", type(t), \"and has value\", t)"
   ]
  },
  {
   "cell_type": "markdown",
   "metadata": {},
   "source": [
    "## Loops"
   ]
  },
  {
   "cell_type": "code",
   "execution_count": 3,
   "metadata": {},
   "outputs": [
    {
     "name": "stdout",
     "output_type": "stream",
     "text": [
      "2  3  4  5  6  7  8  9  "
     ]
    }
   ],
   "source": [
    "for i in range(2,10):\n",
    "    print(i, \" \", end = \"\")"
   ]
  },
  {
   "cell_type": "code",
   "execution_count": null,
   "metadata": {},
   "outputs": [],
   "source": []
  }
 ],
 "metadata": {
  "kernelspec": {
   "display_name": "Python 3",
   "language": "python",
   "name": "python3"
  },
  "language_info": {
   "codemirror_mode": {
    "name": "ipython",
    "version": 3
   },
   "file_extension": ".py",
   "mimetype": "text/x-python",
   "name": "python",
   "nbconvert_exporter": "python",
   "pygments_lexer": "ipython3",
   "version": "3.6.4"
  }
 },
 "nbformat": 4,
 "nbformat_minor": 2
}
