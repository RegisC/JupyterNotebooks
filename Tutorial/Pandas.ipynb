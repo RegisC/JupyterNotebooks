{
 "cells": [
  {
   "cell_type": "markdown",
   "metadata": {},
   "source": [
    "# Pandas Tutorial\n",
    "\n",
    "Pandas is a commonly used data manipulation library in Python, especially for tabular data."
   ]
  },
  {
   "cell_type": "markdown",
   "metadata": {},
   "source": [
    "### Set up Environment"
   ]
  },
  {
   "cell_type": "code",
   "execution_count": 44,
   "metadata": {},
   "outputs": [],
   "source": [
    "import numpy as np\n",
    "import pandas as pd\n",
    "\n",
    "df = pd.read_csv('sales.csv', index_col='month')"
   ]
  },
  {
   "cell_type": "markdown",
   "metadata": {},
   "source": [
    "### Get Basic Information"
   ]
  },
  {
   "cell_type": "code",
   "execution_count": 54,
   "metadata": {},
   "outputs": [
    {
     "name": "stdout",
     "output_type": "stream",
     "text": [
      "<class 'pandas.core.frame.DataFrame'>\n",
      "Index: 6 entries, Jan to Jun\n",
      "Data columns (total 3 columns):\n",
      "eggs    6 non-null int64\n",
      "salt    5 non-null float64\n",
      "spam    6 non-null int64\n",
      "dtypes: float64(1), int64(2)\n",
      "memory usage: 192.0+ bytes\n",
      "None \n",
      "\n",
      "columns attribute: <class 'pandas.core.indexes.base.Index'>\n",
      "Index(['eggs', 'salt', 'spam'], dtype='object') \n",
      "\n",
      "values attribute: <class 'numpy.ndarray'>\n",
      "[[ 47.  12.  17.]\n",
      " [110.  50.  31.]\n",
      " [221.  89.  72.]\n",
      " [ 77.  87.  20.]\n",
      " [132.  nan  52.]\n",
      " [205.  60.  55.]] \n",
      "\n"
     ]
    }
   ],
   "source": [
    "print(df.info(), \"\\n\")\n",
    "\n",
    "print(\"columns attribute:\", type(df.columns))\n",
    "print(df.columns, \"\\n\")\n",
    "\n",
    "print(\"values attribute:\", type(df.values))\n",
    "print(df.values, \"\\n\")"
   ]
  },
  {
   "cell_type": "markdown",
   "metadata": {},
   "source": [
    "### Using the Bracket Accessor to Select a Column"
   ]
  },
  {
   "cell_type": "code",
   "execution_count": 77,
   "metadata": {
    "scrolled": true
   },
   "outputs": [
    {
     "name": "stdout",
     "output_type": "stream",
     "text": [
      "Output type: <class 'pandas.core.series.Series'>\n",
      "Series name: eggs\n",
      "month\n",
      "Jan     47\n",
      "Feb    110\n",
      "Mar    221\n",
      "Apr     77\n",
      "May    132\n",
      "Jun    205\n",
      "Name: eggs, dtype: int64 \n",
      "\n"
     ]
    }
   ],
   "source": [
    "eggs = df['eggs']\n",
    "print(\"Output type:\", type(eggs))\n",
    "print(\"Series name:\", eggs.name)\n",
    "print(eggs, \"\\n\")"
   ]
  },
  {
   "cell_type": "markdown",
   "metadata": {},
   "source": [
    "### Accessing Items in a Series"
   ]
  },
  {
   "cell_type": "code",
   "execution_count": 68,
   "metadata": {
    "scrolled": true
   },
   "outputs": [
    {
     "name": "stdout",
     "output_type": "stream",
     "text": [
      "eggs[\"Jan\"] = 47\n",
      "eggs[\"Jul\"] = None\n",
      "eggs[\"Jul\"] = 0\n"
     ]
    }
   ],
   "source": [
    "print('eggs[\"Jan\"] =', eggs[\"Jan\"]) # A series is like a fixed-size dict\n",
    "print('eggs[\"Jul\"] =', eggs.get(\"Jul\")) # The get() method returns None if the label does not exist\n",
    "print('eggs[\"Jul\"] =', eggs.get(\"Jul\", default=0)) # It can also return a default value"
   ]
  },
  {
   "cell_type": "markdown",
   "metadata": {},
   "source": [
    "### Operations on Frames and Series"
   ]
  },
  {
   "cell_type": "code",
   "execution_count": 76,
   "metadata": {},
   "outputs": [
    {
     "name": "stdout",
     "output_type": "stream",
     "text": [
      "        eggs   salt  spam\n",
      "month                    \n",
      "Apr    154.0  174.0   NaN\n",
      "Feb    220.0  100.0   NaN\n",
      "Jan      NaN    NaN   NaN\n",
      "Jun      NaN    NaN   NaN\n",
      "Mar    442.0  178.0   NaN\n",
      "May      NaN    NaN   NaN \n",
      "\n",
      "month\n",
      "Apr    154.0\n",
      "Feb    220.0\n",
      "Jan      NaN\n",
      "Jun      NaN\n",
      "Mar    442.0\n",
      "May    264.0\n",
      "Name: eggs, dtype: float64\n"
     ]
    }
   ],
   "source": [
    "print(df[1:4] + df[['eggs', 'salt']], \"\\n\") # Data is aligned based on label\n",
    "print(eggs['Jan':'May'] + eggs[1:]) "
   ]
  },
  {
   "cell_type": "markdown",
   "metadata": {},
   "source": [
    "### Using the Bracket Accessor to Select Multiple Columns"
   ]
  },
  {
   "cell_type": "code",
   "execution_count": 58,
   "metadata": {},
   "outputs": [
    {
     "name": "stdout",
     "output_type": "stream",
     "text": [
      "Output type when multiple columns are selected: <class 'pandas.core.frame.DataFrame'> \n",
      "\n",
      "       eggs  salt\n",
      "month            \n",
      "Jan      47  12.0\n",
      "Feb     110  50.0\n",
      "Mar     221  89.0\n",
      "Apr      77  87.0\n",
      "May     132   NaN\n",
      "Jun     205  60.0\n"
     ]
    }
   ],
   "source": [
    "cols = df[['eggs', 'salt']]\n",
    "print(\"Output type when multiple columns are selected:\", type(cols), \"\\n\")\n",
    "print(cols)"
   ]
  },
  {
   "cell_type": "markdown",
   "metadata": {},
   "source": [
    "### The Bracket Accessor Returns Rows when Passed a Slice"
   ]
  },
  {
   "cell_type": "code",
   "execution_count": 31,
   "metadata": {},
   "outputs": [
    {
     "name": "stdout",
     "output_type": "stream",
     "text": [
      "Output type: <class 'pandas.core.frame.DataFrame'>\n",
      "Output data:\n",
      "        eggs  salt  spam\n",
      "month                  \n",
      "Jan      47  12.0    17\n",
      "Feb     110  50.0    31\n"
     ]
    }
   ],
   "source": [
    "rows = df[0:2]\n",
    "print(\"Output type:\", type(rows))\n",
    "print(\"Output data:\\n\", rows)"
   ]
  },
  {
   "cell_type": "markdown",
   "metadata": {},
   "source": [
    "### loc & iloc are the Preferred Accessors"
   ]
  },
  {
   "cell_type": "code",
   "execution_count": 79,
   "metadata": {},
   "outputs": [
    {
     "name": "stdout",
     "output_type": "stream",
     "text": [
      "50.0\n",
      "50.0\n"
     ]
    }
   ],
   "source": [
    "print(df.loc['Feb', 'salt'])\n",
    "print(df.iloc[1, 1])"
   ]
  }
 ],
 "metadata": {
  "kernelspec": {
   "display_name": "Python 3",
   "language": "python",
   "name": "python3"
  },
  "language_info": {
   "codemirror_mode": {
    "name": "ipython",
    "version": 3
   },
   "file_extension": ".py",
   "mimetype": "text/x-python",
   "name": "python",
   "nbconvert_exporter": "python",
   "pygments_lexer": "ipython3",
   "version": "3.6.6"
  }
 },
 "nbformat": 4,
 "nbformat_minor": 2
}
